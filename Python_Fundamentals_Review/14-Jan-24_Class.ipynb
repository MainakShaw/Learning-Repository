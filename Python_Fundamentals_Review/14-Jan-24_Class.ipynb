{
 "cells": [
  {
   "cell_type": "code",
   "execution_count": null,
   "id": "82d05dc2-6c97-4fe2-9433-d2565b1aaa87",
   "metadata": {},
   "outputs": [],
   "source": [
    "#Some string/list methods(Doubt clearing)"
   ]
  },
  {
   "cell_type": "code",
   "execution_count": 1,
   "id": "d04966c8-8cac-4fe4-9ef9-ed21d0d955a5",
   "metadata": {
    "tags": []
   },
   "outputs": [
    {
     "name": "stdout",
     "output_type": "stream",
     "text": [
      "Help on method_descriptor:\n",
      "\n",
      "isdigit(self, /)\n",
      "    Return True if the string is a digit string, False otherwise.\n",
      "    \n",
      "    A string is a digit string if all characters in the string are digits and there\n",
      "    is at least one character in the string.\n",
      "\n"
     ]
    }
   ],
   "source": [
    "help(str.isdigit)"
   ]
  },
  {
   "cell_type": "code",
   "execution_count": 2,
   "id": "2e61c38a-5b56-455f-a020-6f2956c848c7",
   "metadata": {
    "tags": []
   },
   "outputs": [
    {
     "data": {
      "text/plain": [
       "True"
      ]
     },
     "execution_count": 2,
     "metadata": {},
     "output_type": "execute_result"
    }
   ],
   "source": [
    "'100'.isdigit()"
   ]
  },
  {
   "cell_type": "code",
   "execution_count": 3,
   "id": "02efd511-bb4a-4e2d-8ddf-f6208ed1f6f9",
   "metadata": {
    "tags": []
   },
   "outputs": [
    {
     "data": {
      "text/plain": [
       "False"
      ]
     },
     "execution_count": 3,
     "metadata": {},
     "output_type": "execute_result"
    }
   ],
   "source": [
    "'100a'.isdigit()"
   ]
  },
  {
   "cell_type": "code",
   "execution_count": 4,
   "id": "35ecc2b6-9ccc-45b4-95ba-0f6af92d3b89",
   "metadata": {
    "tags": []
   },
   "outputs": [
    {
     "name": "stdout",
     "output_type": "stream",
     "text": [
      "Help on method_descriptor:\n",
      "\n",
      "isdecimal(self, /)\n",
      "    Return True if the string is a decimal string, False otherwise.\n",
      "    \n",
      "    A string is a decimal string if all characters in the string are decimal and\n",
      "    there is at least one character in the string.\n",
      "\n"
     ]
    }
   ],
   "source": [
    "help(str.isdecimal)"
   ]
  },
  {
   "cell_type": "code",
   "execution_count": 5,
   "id": "a0e0a152-0498-49d7-a501-136d49a2e9ab",
   "metadata": {
    "tags": []
   },
   "outputs": [
    {
     "name": "stdout",
     "output_type": "stream",
     "text": [
      "Help on method_descriptor:\n",
      "\n",
      "isnumeric(self, /)\n",
      "    Return True if the string is a numeric string, False otherwise.\n",
      "    \n",
      "    A string is numeric if all characters in the string are numeric and there is at\n",
      "    least one character in the string.\n",
      "\n"
     ]
    }
   ],
   "source": [
    "help(str.isnumeric)"
   ]
  },
  {
   "cell_type": "code",
   "execution_count": 8,
   "id": "e101e792-d8ce-4c69-8aa4-f90f4850d4c7",
   "metadata": {
    "tags": []
   },
   "outputs": [
    {
     "name": "stdout",
     "output_type": "stream",
     "text": [
      "Tello XYZ!\n"
     ]
    }
   ],
   "source": [
    "str1=\"Hello ABC!\"\n",
    "trans_table=str.maketrans(\"HABC\",\"TXYZ\")\n",
    "str1=str1.translate(trans_table)\n",
    "print(str1)"
   ]
  },
  {
   "cell_type": "code",
   "execution_count": 9,
   "id": "bc836cf8-fc75-45d9-a209-a9fd89093039",
   "metadata": {
    "tags": []
   },
   "outputs": [
    {
     "name": "stdout",
     "output_type": "stream",
     "text": [
      "[1, 2, 3, 4, 5]\n",
      "[1, 2, 3, 4, 5]\n"
     ]
    }
   ],
   "source": [
    "list1=[1,2,3,4]\n",
    "list2=list1\n",
    "list1.append(5)\n",
    "print(list1)\n",
    "print(list2)"
   ]
  },
  {
   "cell_type": "code",
   "execution_count": 10,
   "id": "b1fb7b8e-62ad-4557-b0ac-230a08e80f48",
   "metadata": {
    "tags": []
   },
   "outputs": [
    {
     "name": "stdout",
     "output_type": "stream",
     "text": [
      "[1, 2, 3, 4, 5]\n",
      "[1, 2, 3, 4]\n"
     ]
    }
   ],
   "source": [
    "list1=[1,2,3,4]\n",
    "list2=list1.copy()\n",
    "list1.append(5)\n",
    "print(list1)\n",
    "print(list2)"
   ]
  },
  {
   "cell_type": "markdown",
   "id": "0961cdab-1ec6-4e75-bb56-d4bfa6c0d4f0",
   "metadata": {},
   "source": [
    "## While loop"
   ]
  },
  {
   "cell_type": "code",
   "execution_count": 11,
   "id": "beb320d1-5e35-42b1-9627-e45c69a2d219",
   "metadata": {
    "tags": []
   },
   "outputs": [
    {
     "name": "stdout",
     "output_type": "stream",
     "text": [
      "20\n",
      "19\n",
      "18\n",
      "17\n",
      "16\n",
      "15\n",
      "14\n",
      "13\n",
      "12\n",
      "11\n"
     ]
    }
   ],
   "source": [
    "x=20\n",
    "while(x>10):\n",
    "    print(x)\n",
    "    x-=1"
   ]
  },
  {
   "cell_type": "code",
   "execution_count": 12,
   "id": "da201305-8d87-4940-a5f5-7038f6a22e68",
   "metadata": {
    "tags": []
   },
   "outputs": [
    {
     "name": "stdout",
     "output_type": "stream",
     "text": [
      "10\n"
     ]
    }
   ],
   "source": [
    "print(x)"
   ]
  },
  {
   "cell_type": "code",
   "execution_count": 13,
   "id": "74d0bf8b-1935-44ae-a8c0-be06d1e76664",
   "metadata": {
    "tags": []
   },
   "outputs": [
    {
     "name": "stdout",
     "output_type": "stream",
     "text": [
      "20\n",
      "19\n",
      "18\n",
      "17\n",
      "16\n"
     ]
    }
   ],
   "source": [
    "x=20\n",
    "while(x>10):\n",
    "    if(x==15):\n",
    "        break\n",
    "    print(x)\n",
    "    x-=1\n",
    "else:\n",
    "    print(\"Loop ended\")"
   ]
  },
  {
   "cell_type": "code",
   "execution_count": null,
   "id": "46e8cc9e-96d7-43b7-bed4-3dabb6e42dc2",
   "metadata": {},
   "outputs": [],
   "source": [
    "#else part only executes if the while loop condition becomes false. \n",
    "#In above example the loop breaks cause of if condition,so else block not executed."
   ]
  },
  {
   "cell_type": "code",
   "execution_count": 14,
   "id": "bf60cec1-4c29-4392-b7de-a72cb08b3f0e",
   "metadata": {
    "tags": []
   },
   "outputs": [
    {
     "name": "stdin",
     "output_type": "stream",
     "text": [
      "Enter no. of lements in list:  5\n",
      "Enter a number: 23\n",
      "Enter a number: 34\n",
      "Enter a number: 45\n",
      "Enter a number: 56\n",
      "Enter a number: 67\n"
     ]
    },
    {
     "name": "stdout",
     "output_type": "stream",
     "text": [
      "[23, 34, 45, 56, 67]\n"
     ]
    }
   ],
   "source": [
    "list1=[]\n",
    "n=int(input(\"Enter no. of lements in list: \"))\n",
    "while(n>0):\n",
    "    list1.append(int(input(\"Enter a number:\")))\n",
    "    n-=1\n",
    "print(list1)"
   ]
  },
  {
   "cell_type": "code",
   "execution_count": null,
   "id": "9a216bad-ee4a-4a38-8d9b-54fc916f9de1",
   "metadata": {},
   "outputs": [],
   "source": [
    "#use for loop when you know the no. of iterations and while otherwise."
   ]
  },
  {
   "cell_type": "code",
   "execution_count": 18,
   "id": "3a60ade9-27aa-4ca1-98a7-7b15fc034c48",
   "metadata": {
    "tags": []
   },
   "outputs": [
    {
     "data": {
      "text/plain": [
       "[]"
      ]
     },
     "execution_count": 18,
     "metadata": {},
     "output_type": "execute_result"
    }
   ],
   "source": [
    "list(range(-2)) #be careful"
   ]
  },
  {
   "cell_type": "markdown",
   "id": "7df96f20-8183-4f96-a261-3e8a195eb308",
   "metadata": {},
   "source": [
    "## Functions"
   ]
  },
  {
   "cell_type": "code",
   "execution_count": 25,
   "id": "353d5d63-2641-41af-80c0-87537d318ce3",
   "metadata": {
    "tags": []
   },
   "outputs": [],
   "source": [
    "#creating a function\n",
    "def calc_area_perimeter(a,b):\n",
    "    print(\"Area=\",(a*b))\n",
    "    print(\"Perimeter=\",(2*(a+b)))"
   ]
  },
  {
   "cell_type": "code",
   "execution_count": 27,
   "id": "481ea7ac-0914-47c3-bdda-a61b706cca03",
   "metadata": {
    "tags": []
   },
   "outputs": [
    {
     "name": "stdout",
     "output_type": "stream",
     "text": [
      "Area= 6\n",
      "Perimeter= 10\n",
      "Area= 30\n",
      "Perimeter= 22\n"
     ]
    }
   ],
   "source": [
    "#calling the function\n",
    "calc_area_perimeter(2,3)\n",
    "calc_area_perimeter(5,6)"
   ]
  },
  {
   "cell_type": "code",
   "execution_count": 28,
   "id": "65565140-feab-46eb-a6c6-49cdb50419fe",
   "metadata": {
    "tags": []
   },
   "outputs": [],
   "source": [
    "def calc_area_perimeter(a,b):\n",
    "    return ((a*b),(2*(a+b)))"
   ]
  },
  {
   "cell_type": "code",
   "execution_count": 30,
   "id": "f5318ef5-964b-45af-9f00-8f16fe0ae7a5",
   "metadata": {
    "tags": []
   },
   "outputs": [
    {
     "name": "stdout",
     "output_type": "stream",
     "text": [
      "Area= 6  Perimeter= 10\n",
      "Area= 30  Perimeter= 22\n"
     ]
    }
   ],
   "source": [
    "print(\"Area=\",calc_area_perimeter(2,3)[0],\" Perimeter=\",calc_area_perimeter(2,3)[1])\n",
    "print(\"Area=\",calc_area_perimeter(5,6)[0],\" Perimeter=\",calc_area_perimeter(5,6)[1])"
   ]
  },
  {
   "cell_type": "code",
   "execution_count": 31,
   "id": "f5c9e8fc-ccb5-4a5f-8782-8185cf1a48bc",
   "metadata": {
    "tags": []
   },
   "outputs": [],
   "source": [
    "#function names have same rules as variable names"
   ]
  },
  {
   "cell_type": "code",
   "execution_count": 33,
   "id": "48c8db81-c01c-4079-a1dd-d5b604cef8d3",
   "metadata": {
    "tags": []
   },
   "outputs": [
    {
     "name": "stdout",
     "output_type": "stream",
     "text": [
      "60\n",
      "30\n"
     ]
    }
   ],
   "source": [
    "x=30\n",
    "def add(x):\n",
    "    x=x+x\n",
    "    print(x)\n",
    "add(x)\n",
    "print(x)"
   ]
  },
  {
   "cell_type": "code",
   "execution_count": 36,
   "id": "9709a701-88dc-4a4b-93b2-243ab44bb306",
   "metadata": {
    "tags": []
   },
   "outputs": [
    {
     "ename": "TypeError",
     "evalue": "calc_area_perimeter() missing 1 required positional argument: 'b'",
     "output_type": "error",
     "traceback": [
      "\u001b[1;31m---------------------------------------------------------------------------\u001b[0m",
      "\u001b[1;31mTypeError\u001b[0m                                 Traceback (most recent call last)",
      "Cell \u001b[1;32mIn[36], line 2\u001b[0m\n\u001b[0;32m      1\u001b[0m \u001b[38;5;66;03m#errors\u001b[39;00m\n\u001b[1;32m----> 2\u001b[0m calc_area_perimeter(\u001b[38;5;241m2\u001b[39m)\n",
      "\u001b[1;31mTypeError\u001b[0m: calc_area_perimeter() missing 1 required positional argument: 'b'"
     ]
    }
   ],
   "source": [
    "#errors\n",
    "calc_area_perimeter(2)"
   ]
  },
  {
   "cell_type": "code",
   "execution_count": 37,
   "id": "84712d75-61fc-4f28-be34-9c364173e742",
   "metadata": {
    "tags": []
   },
   "outputs": [
    {
     "ename": "TypeError",
     "evalue": "calc_area_perimeter() missing 2 required positional arguments: 'a' and 'b'",
     "output_type": "error",
     "traceback": [
      "\u001b[1;31m---------------------------------------------------------------------------\u001b[0m",
      "\u001b[1;31mTypeError\u001b[0m                                 Traceback (most recent call last)",
      "Cell \u001b[1;32mIn[37], line 1\u001b[0m\n\u001b[1;32m----> 1\u001b[0m calc_area_perimeter()\n",
      "\u001b[1;31mTypeError\u001b[0m: calc_area_perimeter() missing 2 required positional arguments: 'a' and 'b'"
     ]
    }
   ],
   "source": [
    "calc_area_perimeter()"
   ]
  },
  {
   "cell_type": "code",
   "execution_count": 38,
   "id": "5db3f5cf-6173-4ebb-86e6-48994262634b",
   "metadata": {
    "tags": []
   },
   "outputs": [
    {
     "ename": "TypeError",
     "evalue": "calc_area_perimeter() takes 2 positional arguments but 3 were given",
     "output_type": "error",
     "traceback": [
      "\u001b[1;31m---------------------------------------------------------------------------\u001b[0m",
      "\u001b[1;31mTypeError\u001b[0m                                 Traceback (most recent call last)",
      "Cell \u001b[1;32mIn[38], line 1\u001b[0m\n\u001b[1;32m----> 1\u001b[0m calc_area_perimeter(\u001b[38;5;241m2\u001b[39m,\u001b[38;5;241m3\u001b[39m,\u001b[38;5;241m4\u001b[39m)\n",
      "\u001b[1;31mTypeError\u001b[0m: calc_area_perimeter() takes 2 positional arguments but 3 were given"
     ]
    }
   ],
   "source": [
    "calc_area_perimeter(2,3,4)"
   ]
  }
 ],
 "metadata": {
  "kernelspec": {
   "display_name": "Python 3 (ipykernel)",
   "language": "python",
   "name": "python3"
  },
  "language_info": {
   "codemirror_mode": {
    "name": "ipython",
    "version": 3
   },
   "file_extension": ".py",
   "mimetype": "text/x-python",
   "name": "python",
   "nbconvert_exporter": "python",
   "pygments_lexer": "ipython3",
   "version": "3.11.7"
  }
 },
 "nbformat": 4,
 "nbformat_minor": 5
}
