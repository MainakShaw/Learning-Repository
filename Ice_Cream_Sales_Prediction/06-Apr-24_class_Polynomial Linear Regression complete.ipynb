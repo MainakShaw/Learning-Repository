{
 "cells": [
  {
   "cell_type": "markdown",
   "id": "0a882602",
   "metadata": {},
   "source": [
    "# Approach one"
   ]
  },
  {
   "cell_type": "code",
   "execution_count": 1,
   "id": "7c92adbb",
   "metadata": {},
   "outputs": [],
   "source": [
    "import numpy as np\n",
    "import pandas as pd\n",
    "import matplotlib.pyplot as plt"
   ]
  },
  {
   "cell_type": "code",
   "execution_count": 2,
   "id": "af0d5c02",
   "metadata": {},
   "outputs": [],
   "source": [
    "data = pd.read_csv(\"IceCreamSales.csv\")"
   ]
  },
  {
   "cell_type": "code",
   "execution_count": 3,
   "id": "2b1b3c9f",
   "metadata": {},
   "outputs": [
    {
     "data": {
      "text/html": [
       "<div>\n",
       "<style scoped>\n",
       "    .dataframe tbody tr th:only-of-type {\n",
       "        vertical-align: middle;\n",
       "    }\n",
       "\n",
       "    .dataframe tbody tr th {\n",
       "        vertical-align: top;\n",
       "    }\n",
       "\n",
       "    .dataframe thead th {\n",
       "        text-align: right;\n",
       "    }\n",
       "</style>\n",
       "<table border=\"1\" class=\"dataframe\">\n",
       "  <thead>\n",
       "    <tr style=\"text-align: right;\">\n",
       "      <th></th>\n",
       "      <th>Unnamed: 0</th>\n",
       "      <th>Temperature</th>\n",
       "      <th>IceCreamSales</th>\n",
       "    </tr>\n",
       "  </thead>\n",
       "  <tbody>\n",
       "    <tr>\n",
       "      <th>0</th>\n",
       "      <td>0</td>\n",
       "      <td>21.952540</td>\n",
       "      <td>21200.216232</td>\n",
       "    </tr>\n",
       "    <tr>\n",
       "      <th>1</th>\n",
       "      <td>1</td>\n",
       "      <td>28.607575</td>\n",
       "      <td>46969.537759</td>\n",
       "    </tr>\n",
       "    <tr>\n",
       "      <th>2</th>\n",
       "      <td>2</td>\n",
       "      <td>24.110535</td>\n",
       "      <td>28155.054323</td>\n",
       "    </tr>\n",
       "    <tr>\n",
       "      <th>3</th>\n",
       "      <td>3</td>\n",
       "      <td>21.795327</td>\n",
       "      <td>20730.330804</td>\n",
       "    </tr>\n",
       "    <tr>\n",
       "      <th>4</th>\n",
       "      <td>4</td>\n",
       "      <td>16.946192</td>\n",
       "      <td>9907.404501</td>\n",
       "    </tr>\n",
       "  </tbody>\n",
       "</table>\n",
       "</div>"
      ],
      "text/plain": [
       "   Unnamed: 0  Temperature  IceCreamSales\n",
       "0           0    21.952540   21200.216232\n",
       "1           1    28.607575   46969.537759\n",
       "2           2    24.110535   28155.054323\n",
       "3           3    21.795327   20730.330804\n",
       "4           4    16.946192    9907.404501"
      ]
     },
     "execution_count": 3,
     "metadata": {},
     "output_type": "execute_result"
    }
   ],
   "source": [
    "data.head()"
   ]
  },
  {
   "cell_type": "code",
   "execution_count": 5,
   "id": "b0d3dca6",
   "metadata": {},
   "outputs": [],
   "source": [
    "data.drop(['Unnamed: 0'], axis = 1, inplace= True)"
   ]
  },
  {
   "cell_type": "code",
   "execution_count": 6,
   "id": "4d6ca924",
   "metadata": {},
   "outputs": [
    {
     "data": {
      "text/html": [
       "<div>\n",
       "<style scoped>\n",
       "    .dataframe tbody tr th:only-of-type {\n",
       "        vertical-align: middle;\n",
       "    }\n",
       "\n",
       "    .dataframe tbody tr th {\n",
       "        vertical-align: top;\n",
       "    }\n",
       "\n",
       "    .dataframe thead th {\n",
       "        text-align: right;\n",
       "    }\n",
       "</style>\n",
       "<table border=\"1\" class=\"dataframe\">\n",
       "  <thead>\n",
       "    <tr style=\"text-align: right;\">\n",
       "      <th></th>\n",
       "      <th>Temperature</th>\n",
       "      <th>IceCreamSales</th>\n",
       "    </tr>\n",
       "  </thead>\n",
       "  <tbody>\n",
       "    <tr>\n",
       "      <th>0</th>\n",
       "      <td>21.952540</td>\n",
       "      <td>21200.216232</td>\n",
       "    </tr>\n",
       "    <tr>\n",
       "      <th>1</th>\n",
       "      <td>28.607575</td>\n",
       "      <td>46969.537759</td>\n",
       "    </tr>\n",
       "    <tr>\n",
       "      <th>2</th>\n",
       "      <td>24.110535</td>\n",
       "      <td>28155.054323</td>\n",
       "    </tr>\n",
       "    <tr>\n",
       "      <th>3</th>\n",
       "      <td>21.795327</td>\n",
       "      <td>20730.330804</td>\n",
       "    </tr>\n",
       "    <tr>\n",
       "      <th>4</th>\n",
       "      <td>16.946192</td>\n",
       "      <td>9907.404501</td>\n",
       "    </tr>\n",
       "    <tr>\n",
       "      <th>...</th>\n",
       "      <td>...</td>\n",
       "      <td>...</td>\n",
       "    </tr>\n",
       "    <tr>\n",
       "      <th>95</th>\n",
       "      <td>7.327654</td>\n",
       "      <td>920.989509</td>\n",
       "    </tr>\n",
       "    <tr>\n",
       "      <th>96</th>\n",
       "      <td>23.460517</td>\n",
       "      <td>25884.973575</td>\n",
       "    </tr>\n",
       "    <tr>\n",
       "      <th>97</th>\n",
       "      <td>0.804302</td>\n",
       "      <td>66.563119</td>\n",
       "    </tr>\n",
       "    <tr>\n",
       "      <th>98</th>\n",
       "      <td>33.157601</td>\n",
       "      <td>72985.915190</td>\n",
       "    </tr>\n",
       "    <tr>\n",
       "      <th>99</th>\n",
       "      <td>0.187819</td>\n",
       "      <td>100.887209</td>\n",
       "    </tr>\n",
       "  </tbody>\n",
       "</table>\n",
       "<p>100 rows × 2 columns</p>\n",
       "</div>"
      ],
      "text/plain": [
       "    Temperature  IceCreamSales\n",
       "0     21.952540   21200.216232\n",
       "1     28.607575   46969.537759\n",
       "2     24.110535   28155.054323\n",
       "3     21.795327   20730.330804\n",
       "4     16.946192    9907.404501\n",
       "..          ...            ...\n",
       "95     7.327654     920.989509\n",
       "96    23.460517   25884.973575\n",
       "97     0.804302      66.563119\n",
       "98    33.157601   72985.915190\n",
       "99     0.187819     100.887209\n",
       "\n",
       "[100 rows x 2 columns]"
      ]
     },
     "execution_count": 6,
     "metadata": {},
     "output_type": "execute_result"
    }
   ],
   "source": [
    "data"
   ]
  },
  {
   "cell_type": "code",
   "execution_count": 8,
   "id": "0fdba005",
   "metadata": {},
   "outputs": [],
   "source": [
    "X = data[['Temperature']]"
   ]
  },
  {
   "cell_type": "code",
   "execution_count": 9,
   "id": "da165b9f",
   "metadata": {},
   "outputs": [],
   "source": [
    "y = data['IceCreamSales']"
   ]
  },
  {
   "cell_type": "code",
   "execution_count": 10,
   "id": "82fd4d63",
   "metadata": {},
   "outputs": [],
   "source": [
    "from sklearn.model_selection import train_test_split"
   ]
  },
  {
   "cell_type": "code",
   "execution_count": 11,
   "id": "6085837d",
   "metadata": {},
   "outputs": [],
   "source": [
    "xtrain, xtest, ytrain, ytest = train_test_split(X,y, test_size=0.2)"
   ]
  },
  {
   "cell_type": "code",
   "execution_count": 12,
   "id": "01b9cb18",
   "metadata": {},
   "outputs": [
    {
     "data": {
      "text/plain": [
       "((80, 1), (80,))"
      ]
     },
     "execution_count": 12,
     "metadata": {},
     "output_type": "execute_result"
    }
   ],
   "source": [
    "xtrain.shape,ytrain.shape"
   ]
  },
  {
   "cell_type": "code",
   "execution_count": 13,
   "id": "66ce5006",
   "metadata": {},
   "outputs": [
    {
     "data": {
      "text/plain": [
       "((20, 1), (20,))"
      ]
     },
     "execution_count": 13,
     "metadata": {},
     "output_type": "execute_result"
    }
   ],
   "source": [
    "xtest.shape, ytest.shape"
   ]
  },
  {
   "cell_type": "code",
   "execution_count": 15,
   "id": "533cfb7a",
   "metadata": {},
   "outputs": [
    {
     "data": {
      "text/plain": [
       "<matplotlib.collections.PathCollection at 0x1e516391b50>"
      ]
     },
     "execution_count": 15,
     "metadata": {},
     "output_type": "execute_result"
    },
    {
     "data": {
      "image/png": "[encoded data removed]",
      "text/plain": [
       "<Figure size 640x480 with 1 Axes>"
      ]
     },
     "metadata": {},
     "output_type": "display_data"
    }
   ],
   "source": [
    "plt.scatter(xtrain,ytrain)"
   ]
  },
  {
   "cell_type": "code",
   "execution_count": 14,
   "id": "997daa00",
   "metadata": {},
   "outputs": [],
   "source": [
    "from sklearn.linear_model import LinearRegression"
   ]
  },
  {
   "cell_type": "code",
   "execution_count": 16,
   "id": "2022613b",
   "metadata": {},
   "outputs": [
    {
     "data": {
      "text/plain": [
       "LinearRegression()"
      ]
     },
     "execution_count": 16,
     "metadata": {},
     "output_type": "execute_result"
    }
   ],
   "source": [
    "l_reg = LinearRegression()\n",
    "l_reg.fit(xtrain, ytrain)"
   ]
  },
  {
   "cell_type": "code",
   "execution_count": 17,
   "id": "ca4cc630",
   "metadata": {},
   "outputs": [],
   "source": [
    "ypred = l_reg.predict(xtest)"
   ]
  },
  {
   "cell_type": "code",
   "execution_count": 19,
   "id": "7096af93",
   "metadata": {},
   "outputs": [
    {
     "data": {
      "text/plain": [
       "[<matplotlib.lines.Line2D at 0x1e516f27ca0>]"
      ]
     },
     "execution_count": 19,
     "metadata": {},
     "output_type": "execute_result"
    },
    {
     "data": {
      "image/png": "[encoded data removed]",
      "text/plain": [
       "<Figure size 640x480 with 1 Axes>"
      ]
     },
     "metadata": {},
     "output_type": "display_data"
    }
   ],
   "source": [
    "plt.scatter(xtest,ytest)\n",
    "plt.plot(xtest, ypred, c = 'r')"
   ]
  },
  {
   "cell_type": "code",
   "execution_count": 20,
   "id": "b816041d",
   "metadata": {},
   "outputs": [
    {
     "data": {
      "text/plain": [
       "0.7452844909095606"
      ]
     },
     "execution_count": 20,
     "metadata": {},
     "output_type": "execute_result"
    }
   ],
   "source": [
    "from sklearn.metrics import r2_score\n",
    "r2_score(ypred,ytest)"
   ]
  },
  {
   "cell_type": "markdown",
   "id": "d71c94fa",
   "metadata": {},
   "source": [
    "# Transform the data then use approach one"
   ]
  },
  {
   "cell_type": "code",
   "execution_count": 21,
   "id": "9a4fba33",
   "metadata": {},
   "outputs": [],
   "source": [
    "data = pd.read_csv(\"IceCreamSales.csv\")\n",
    "data.drop(['Unnamed: 0'], axis = 1, inplace= True)\n",
    "X = data[['Temperature']]\n",
    "y = data['IceCreamSales']"
   ]
  },
  {
   "cell_type": "code",
   "execution_count": 22,
   "id": "e57a845d",
   "metadata": {},
   "outputs": [],
   "source": [
    "from sklearn.preprocessing import PolynomialFeatures"
   ]
  },
  {
   "cell_type": "code",
   "execution_count": 23,
   "id": "fcc499e3",
   "metadata": {},
   "outputs": [],
   "source": [
    "p_feature = PolynomialFeatures(degree = 2)"
   ]
  },
  {
   "cell_type": "code",
   "execution_count": 25,
   "id": "16a61c9a",
   "metadata": {},
   "outputs": [],
   "source": [
    "x_transformed = p_feature.fit_transform(X)"
   ]
  },
  {
   "cell_type": "code",
   "execution_count": 27,
   "id": "f0917744",
   "metadata": {},
   "outputs": [
    {
     "data": {
      "text/plain": [
       "array([4.81914019e+02, 8.18393328e+02, 5.81317900e+02, 4.75036293e+02,\n",
       "       2.87173422e+02, 6.67486728e+02, 3.06372108e+02, 1.27241454e+03,\n",
       "       1.48583347e+03, 2.35243837e+02, 1.00292566e+03, 4.47567738e+02,\n",
       "       5.16279397e+02, 1.37076662e+03, 8.07379450e+00, 1.21464238e+01,\n",
       "       6.54053752e-01, 1.10920929e+03, 9.68844686e+02, 1.21107382e+03,\n",
       "       1.53231018e+03, 1.02184706e+03, 3.40741123e+02, 9.74761272e+02,\n",
       "       2.23821437e+01, 6.55198262e+02, 3.28802640e+01, 1.42783898e+03,\n",
       "       4.35721073e+02, 2.75111239e+02, 1.11983475e+02, 9.59100489e+02,\n",
       "       3.32917001e+02, 5.16987447e+02, 5.64890561e-01, 6.10357772e+02,\n",
       "       5.99457878e+02, 6.08972090e+02, 1.42505670e+03, 7.43806272e+02,\n",
       "       2.06793489e+02, 3.05595086e+02, 7.78702857e+02, 5.80337189e+00,\n",
       "       7.11324565e+02, 7.19608243e+02, 7.08173152e+01, 2.65951844e+01,\n",
       "       1.59192071e+02, 2.11656840e+02, 5.20198971e+02, 3.07794060e+02,\n",
       "       1.56301255e+03, 1.66610294e+01, 6.98071988e+01, 4.16332169e+01,\n",
       "       6.82480776e+02, 1.02650617e+02, 3.47913179e+02, 9.55901920e+01,\n",
       "       4.04341256e+01, 1.94922749e+01, 6.89229648e+02, 3.05512449e+01,\n",
       "       6.18313999e+01, 2.17533202e+02, 1.07844781e+03, 1.50858524e+01,\n",
       "       1.12344267e+03, 1.47758464e+01, 1.52555694e+03, 3.51414318e+02,\n",
       "       1.52649956e+03, 5.85340964e+02, 8.74417024e+02, 2.45709290e+00,\n",
       "       1.27967645e+02, 2.31155413e+01, 1.40318427e+02, 2.25540340e+01,\n",
       "       1.61781284e+02, 2.74582126e+02, 6.58384206e+00, 7.67228218e+02,\n",
       "       5.13659533e+02, 1.12690531e+02, 4.38061641e+02, 1.41197113e+01,\n",
       "       5.30742985e+02, 1.38174628e+03, 1.62377884e+02, 7.12698584e+02,\n",
       "       2.77930825e+01, 8.20999461e+02, 1.34009419e+02, 5.36945202e+01,\n",
       "       5.50395876e+02, 6.46901462e-01, 1.09942652e+03, 3.52759947e-02])"
      ]
     },
     "execution_count": 27,
     "metadata": {},
     "output_type": "execute_result"
    }
   ],
   "source": [
    "x_transformed[:,-1]"
   ]
  },
  {
   "cell_type": "code",
   "execution_count": 29,
   "id": "bd0fc939",
   "metadata": {},
   "outputs": [
    {
     "data": {
      "text/plain": [
       "<matplotlib.collections.PathCollection at 0x1e517243d60>"
      ]
     },
     "execution_count": 29,
     "metadata": {},
     "output_type": "execute_result"
    },
    {
     "data": {
      "image/png": "[encoded data removed]",
      "text/plain": [
       "<Figure size 640x480 with 1 Axes>"
      ]
     },
     "metadata": {},
     "output_type": "display_data"
    }
   ],
   "source": [
    "plt.scatter(x_transformed[:,-1], y)"
   ]
  },
  {
   "cell_type": "code",
   "execution_count": 30,
   "id": "7fbf94a4",
   "metadata": {},
   "outputs": [
    {
     "data": {
      "text/plain": [
       "<matplotlib.collections.PathCollection at 0x1e51adaa400>"
      ]
     },
     "execution_count": 30,
     "metadata": {},
     "output_type": "execute_result"
    },
    {
     "data": {
      "image/png": "[encoded data removed]",
      "text/plain": [
       "<Figure size 640x480 with 1 Axes>"
      ]
     },
     "metadata": {},
     "output_type": "display_data"
    }
   ],
   "source": [
    "p_feature = PolynomialFeatures(degree = 3)\n",
    "x_transformed = p_feature.fit_transform(X)\n",
    "x_transformed[:,-1]\n",
    "plt.scatter(x_transformed[:,-1], y)"
   ]
  },
  {
   "cell_type": "code",
   "execution_count": 31,
   "id": "67fd7982",
   "metadata": {},
   "outputs": [
    {
     "data": {
      "text/plain": [
       "array([[1.00000000e+00, 2.19525402e+01, 4.81914019e+02, 1.05792369e+04],\n",
       "       [1.00000000e+00, 2.86075747e+01, 8.18393328e+02, 2.34122482e+04],\n",
       "       [1.00000000e+00, 2.41105350e+01, 5.81317900e+02, 1.40158856e+04],\n",
       "       [1.00000000e+00, 2.17953273e+01, 4.75036293e+02, 1.03535715e+04],\n",
       "       [1.00000000e+00, 1.69461920e+01, 2.87173422e+02, 4.86649595e+03],\n",
       "       [1.00000000e+00, 2.58357645e+01, 6.67486728e+02, 1.72450299e+04],\n",
       "       [1.00000000e+00, 1.75034885e+01, 3.06372108e+02, 5.36258065e+03],\n",
       "       [1.00000000e+00, 3.56709200e+01, 1.27241454e+03, 4.53881972e+04],\n",
       "       [1.00000000e+00, 3.85465104e+01, 1.48583347e+03, 5.72736952e+04],\n",
       "       [1.00000000e+00, 1.53376608e+01, 2.35243837e+02, 3.60809017e+03],\n",
       "       [1.00000000e+00, 3.16690015e+01, 1.00292566e+03, 3.17616542e+04],\n",
       "       [1.00000000e+00, 2.11557968e+01, 4.47567738e+02, 9.46865211e+03],\n",
       "       [1.00000000e+00, 2.27217824e+01, 5.16279397e+02, 1.17307881e+04],\n",
       "       [1.00000000e+00, 3.70238655e+01, 1.37076662e+03, 5.07510790e+04],\n",
       "       [1.00000000e+00, 2.84144233e+00, 8.07379450e+00, 2.29412214e+01],\n",
       "       [1.00000000e+00, 3.48517199e+00, 1.21464238e+01, 4.23323759e+01],\n",
       "       [1.00000000e+00, 8.08735898e-01, 6.54053752e-01, 5.28956748e-01],\n",
       "       [1.00000000e+00, 3.33047938e+01, 1.10920929e+03, 3.69419868e+04],\n",
       "       [1.00000000e+00, 3.11262700e+01, 9.68844686e+02, 3.01565213e+04],\n",
       "       [1.00000000e+00, 3.48004859e+01, 1.21107382e+03, 4.21459575e+04],\n",
       "       [1.00000000e+00, 3.91447337e+01, 1.53231018e+03, 5.99818738e+04],\n",
       "       [1.00000000e+00, 3.19663426e+01, 1.02184706e+03, 3.26647131e+04],\n",
       "       [1.00000000e+00, 1.84591745e+01, 3.40741123e+02, 6.28979984e+03],\n",
       "       [1.00000000e+00, 3.12211671e+01, 9.74761272e+02, 3.04331845e+04],\n",
       "       [1.00000000e+00, 4.73097703e+00, 2.23821437e+01, 1.05889408e+02],\n",
       "       [1.00000000e+00, 2.55968409e+01, 6.55198262e+02, 1.67710056e+04],\n",
       "       [1.00000000e+00, 5.73413150e+00, 3.28802640e+01, 1.88539758e+02],\n",
       "       [1.00000000e+00, 3.77867567e+01, 1.42783898e+03, 5.39534041e+04],\n",
       "       [1.00000000e+00, 2.08739329e+01, 4.35721073e+02, 9.09521244e+03],\n",
       "       [1.00000000e+00, 1.65864776e+01, 2.75111239e+02, 4.56312641e+03],\n",
       "       [1.00000000e+00, 1.05822245e+01, 1.11983475e+02, 1.18503427e+03],\n",
       "       [1.00000000e+00, 3.09693476e+01, 9.59100489e+02, 2.97027164e+04],\n",
       "       [1.00000000e+00, 1.82460133e+01, 3.32917001e+02, 6.07440802e+03],\n",
       "       [1.00000000e+00, 2.27373580e+01, 5.16987447e+02, 1.17549286e+04],\n",
       "       [1.00000000e+00, 7.51592017e-01, 5.64890561e-01, 4.24567236e-01],\n",
       "       [1.00000000e+00, 2.47054199e+01, 6.10357772e+02, 1.50791450e+04],\n",
       "       [1.00000000e+00, 2.44838289e+01, 5.99457878e+02, 1.46770241e+04],\n",
       "       [1.00000000e+00, 2.46773599e+01, 6.08972090e+02, 1.50278234e+04],\n",
       "       [1.00000000e+00, 3.77499231e+01, 1.42505670e+03, 5.37957808e+04],\n",
       "       [1.00000000e+00, 2.72728120e+01, 7.43806272e+02, 2.02856886e+04],\n",
       "       [1.00000000e+00, 1.43803160e+01, 2.06793489e+02, 2.97375572e+03],\n",
       "       [1.00000000e+00, 1.74812782e+01, 3.05595086e+02, 5.34219270e+03],\n",
       "       [1.00000000e+00, 2.79052478e+01, 7.78702857e+02, 2.17298962e+04],\n",
       "       [1.00000000e+00, 2.40901887e+00, 5.80337189e+00, 1.39804324e+01],\n",
       "       [1.00000000e+00, 2.66706686e+01, 7.11324565e+02, 1.89715017e+04],\n",
       "       [1.00000000e+00, 2.68255148e+01, 7.19608243e+02, 1.93038616e+04],\n",
       "       [1.00000000e+00, 8.41530244e+00, 7.08173152e+01, 5.95949126e+02],\n",
       "       [1.00000000e+00, 5.15705191e+00, 2.65951844e+01, 1.37152746e+02],\n",
       "       [1.00000000e+00, 1.26171340e+01, 1.59192071e+02, 2.00854770e+03],\n",
       "       [1.00000000e+00, 1.45484308e+01, 2.11656840e+02, 3.07927490e+03],\n",
       "       [1.00000000e+00, 2.28078708e+01, 5.20198971e+02, 1.18646309e+04],\n",
       "       [1.00000000e+00, 1.75440605e+01, 3.07794060e+02, 5.39995763e+03],\n",
       "       [1.00000000e+00, 3.95349535e+01, 1.56301255e+03, 6.17936285e+04],\n",
       "       [1.00000000e+00, 4.08179243e+00, 1.66610294e+01, 6.80068638e+01],\n",
       "       [1.00000000e+00, 8.35507024e+00, 6.98071988e+01, 5.83244049e+02],\n",
       "       [1.00000000e+00, 6.45238072e+00, 4.16332169e+01, 2.68633366e+02],\n",
       "       [1.00000000e+00, 2.61243330e+01, 6.82480776e+02, 1.78293551e+04],\n",
       "       [1.00000000e+00, 1.01316641e+01, 1.02650617e+02, 1.04002158e+03],\n",
       "       [1.00000000e+00, 1.86524309e+01, 3.47913179e+02, 6.48942654e+03],\n",
       "       [1.00000000e+00, 9.77702368e+00, 9.55901920e+01, 9.34587571e+02],\n",
       "       [1.00000000e+00, 6.35878335e+00, 4.04341256e+01, 2.57111845e+02],\n",
       "       [1.00000000e+00, 4.41500565e+00, 1.94922749e+01, 8.60585036e+01],\n",
       "       [1.00000000e+00, 2.62531836e+01, 6.89229648e+02, 1.80944725e+04],\n",
       "       [1.00000000e+00, 5.52731805e+00, 3.05512449e+01, 1.68866447e+02],\n",
       "       [1.00000000e+00, 7.86329447e+00, 6.18313999e+01, 4.86198505e+02],\n",
       "       [1.00000000e+00, 1.47490068e+01, 2.17533202e+02, 3.20839869e+03],\n",
       "       [1.00000000e+00, 3.28397292e+01, 1.07844781e+03, 3.54159341e+04],\n",
       "       [1.00000000e+00, 3.88405103e+00, 1.50858524e+01, 5.85942206e+01],\n",
       "       [1.00000000e+00, 3.35177963e+01, 1.12344267e+03, 3.76553225e+04],\n",
       "       [1.00000000e+00, 3.84393632e+00, 1.47758464e+01, 5.67974126e+01],\n",
       "       [1.00000000e+00, 3.90583786e+01, 1.52555694e+03, 5.95857805e+04],\n",
       "       [1.00000000e+00, 1.87460481e+01, 3.51414318e+02, 6.58762970e+03],\n",
       "       [1.00000000e+00, 3.90704435e+01, 1.52649956e+03, 5.96410148e+04],\n",
       "       [1.00000000e+00, 2.41938208e+01, 5.85340964e+02, 1.41616344e+04],\n",
       "       [1.00000000e+00, 2.95705432e+01, 8.74417024e+02, 2.58569864e+04],\n",
       "       [1.00000000e+00, 1.56751169e+00, 2.45709290e+00, 3.85152184e+00],\n",
       "       [1.00000000e+00, 1.13122785e+01, 1.27967645e+02, 1.44760564e+03],\n",
       "       [1.00000000e+00, 4.80786245e+00, 2.31155413e+01, 1.11136343e+02],\n",
       "       [1.00000000e+00, 1.18456079e+01, 1.40318427e+02, 1.66215706e+03],\n",
       "       [1.00000000e+00, 4.74910876e+00, 2.25540340e+01, 1.07111560e+02],\n",
       "       [1.00000000e+00, 1.27193272e+01, 1.61781284e+02, 2.05774908e+03],\n",
       "       [1.00000000e+00, 1.65705198e+01, 2.74582126e+02, 4.54996855e+03],\n",
       "       [1.00000000e+00, 2.56589985e+00, 6.58384206e+00, 1.68934794e+01],\n",
       "       [1.00000000e+00, 2.76988848e+01, 7.67228218e+02, 2.12513660e+04],\n",
       "       [1.00000000e+00, 2.26640582e+01, 5.13659533e+02, 1.16416095e+04],\n",
       "       [1.00000000e+00, 1.06155796e+01, 1.12690531e+02, 1.19627531e+03],\n",
       "       [1.00000000e+00, 2.09299221e+01, 4.38061641e+02, 9.16859603e+03],\n",
       "       [1.00000000e+00, 3.75762043e+00, 1.41197113e+01, 5.30565156e+01],\n",
       "       [1.00000000e+00, 2.30378598e+01, 5.30742985e+02, 1.22271825e+04],\n",
       "       [1.00000000e+00, 3.71718479e+01, 1.38174628e+03, 5.13620624e+04],\n",
       "       [1.00000000e+00, 1.27427581e+01, 1.62377884e+02, 2.06914210e+03],\n",
       "       [1.00000000e+00, 2.66964152e+01, 7.12698584e+02, 1.90264973e+04],\n",
       "       [1.00000000e+00, 5.27191450e+00, 2.77930825e+01, 1.46522754e+02],\n",
       "       [1.00000000e+00, 2.86530882e+01, 8.20999461e+02, 2.35241700e+04],\n",
       "       [1.00000000e+00, 1.15762437e+01, 1.34009419e+02, 1.55132569e+03],\n",
       "       [1.00000000e+00, 7.32765448e+00, 5.36945202e+01, 3.93454891e+02],\n",
       "       [1.00000000e+00, 2.34605174e+01, 5.50395876e+02, 1.29125720e+04],\n",
       "       [1.00000000e+00, 8.04301847e-01, 6.46901462e-01, 5.20304041e-01],\n",
       "       [1.00000000e+00, 3.31576012e+01, 1.09942652e+03, 3.64543459e+04],\n",
       "       [1.00000000e+00, 1.87819048e-01, 3.52759947e-02, 6.62550373e-03]])"
      ]
     },
     "execution_count": 31,
     "metadata": {},
     "output_type": "execute_result"
    }
   ],
   "source": [
    "x_transformed"
   ]
  },
  {
   "cell_type": "code",
   "execution_count": 39,
   "id": "fa19a24c",
   "metadata": {},
   "outputs": [],
   "source": [
    "X = np.array([x_transformed[:,-1]])"
   ]
  },
  {
   "cell_type": "code",
   "execution_count": 43,
   "id": "8e7984d4",
   "metadata": {},
   "outputs": [
    {
     "data": {
      "text/plain": [
       "(1, 100)"
      ]
     },
     "execution_count": 43,
     "metadata": {},
     "output_type": "execute_result"
    }
   ],
   "source": [
    "X.shape"
   ]
  },
  {
   "cell_type": "code",
   "execution_count": 44,
   "id": "1a54b2b4",
   "metadata": {},
   "outputs": [
    {
     "data": {
      "text/plain": [
       "(100, 1)"
      ]
     },
     "execution_count": 44,
     "metadata": {},
     "output_type": "execute_result"
    }
   ],
   "source": [
    "X.T.shape"
   ]
  },
  {
   "cell_type": "code",
   "execution_count": 45,
   "id": "45e930f0",
   "metadata": {},
   "outputs": [],
   "source": [
    "X =  X.T"
   ]
  },
  {
   "cell_type": "code",
   "execution_count": 46,
   "id": "5fa6324a",
   "metadata": {},
   "outputs": [],
   "source": [
    "xtrain, xtest, ytrain, ytest = train_test_split(X, y, test_size=0.2)"
   ]
  },
  {
   "cell_type": "code",
   "execution_count": 47,
   "id": "f9bd17db",
   "metadata": {},
   "outputs": [
    {
     "data": {
      "text/plain": [
       "LinearRegression()"
      ]
     },
     "execution_count": 47,
     "metadata": {},
     "output_type": "execute_result"
    }
   ],
   "source": [
    "from sklearn.linear_model import LinearRegression\n",
    "l_reg = LinearRegression()\n",
    "l_reg.fit(xtrain,ytrain)"
   ]
  },
  {
   "cell_type": "code",
   "execution_count": 48,
   "id": "3f1c5e99",
   "metadata": {},
   "outputs": [],
   "source": [
    "ypred = l_reg.predict(xtest)"
   ]
  },
  {
   "cell_type": "code",
   "execution_count": 49,
   "id": "0d3366bc",
   "metadata": {},
   "outputs": [
    {
     "data": {
      "text/plain": [
       "[<matplotlib.lines.Line2D at 0x1e51b4b26a0>]"
      ]
     },
     "execution_count": 49,
     "metadata": {},
     "output_type": "execute_result"
    },
    {
     "data": {
      "image/png": "[encoded data removed]",
      "text/plain": [
       "<Figure size 640x480 with 1 Axes>"
      ]
     },
     "metadata": {},
     "output_type": "display_data"
    }
   ],
   "source": [
    "plt.scatter(xtest,ytest)\n",
    "plt.plot(xtest, ypred, c = 'r')"
   ]
  },
  {
   "cell_type": "code",
   "execution_count": 50,
   "id": "8ef4331d",
   "metadata": {},
   "outputs": [
    {
     "data": {
      "text/plain": [
       "0.9999990298699151"
      ]
     },
     "execution_count": 50,
     "metadata": {},
     "output_type": "execute_result"
    }
   ],
   "source": [
    "from sklearn.metrics import r2_score\n",
    "r2_score(ypred,ytest)"
   ]
  },
  {
   "cell_type": "markdown",
   "id": "47992bab",
   "metadata": {},
   "source": [
    "# Approach 3rd"
   ]
  },
  {
   "cell_type": "code",
   "execution_count": 52,
   "id": "32d5d62b",
   "metadata": {},
   "outputs": [],
   "source": [
    "data = pd.read_csv(\"IceCreamSales.csv\")\n",
    "data.drop(['Unnamed: 0'], axis = 1, inplace= True)\n",
    "X = data[['Temperature']]\n",
    "y = data['IceCreamSales']"
   ]
  },
  {
   "cell_type": "code",
   "execution_count": 53,
   "id": "91f801c3",
   "metadata": {},
   "outputs": [],
   "source": [
    "p_transform = PolynomialFeatures(degree = 3)"
   ]
  },
  {
   "cell_type": "code",
   "execution_count": 54,
   "id": "e167a111",
   "metadata": {},
   "outputs": [],
   "source": [
    "x_transformed = p_transform.fit_transform(X)"
   ]
  },
  {
   "cell_type": "code",
   "execution_count": 56,
   "id": "3be4fbaa",
   "metadata": {},
   "outputs": [],
   "source": [
    "# x_transformed"
   ]
  },
  {
   "cell_type": "code",
   "execution_count": 57,
   "id": "675d91cc",
   "metadata": {},
   "outputs": [
    {
     "data": {
      "text/plain": [
       "(100, 4)"
      ]
     },
     "execution_count": 57,
     "metadata": {},
     "output_type": "execute_result"
    }
   ],
   "source": [
    "x_transformed.shape"
   ]
  },
  {
   "cell_type": "code",
   "execution_count": 58,
   "id": "8f44db5a",
   "metadata": {},
   "outputs": [],
   "source": [
    "xtrain, xtest, ytrain, ytest = train_test_split(x_transformed, y, test_size=0.2)"
   ]
  },
  {
   "cell_type": "code",
   "execution_count": 59,
   "id": "d495f816",
   "metadata": {},
   "outputs": [
    {
     "data": {
      "text/plain": [
       "LinearRegression()"
      ]
     },
     "execution_count": 59,
     "metadata": {},
     "output_type": "execute_result"
    }
   ],
   "source": [
    "from sklearn.linear_model import LinearRegression\n",
    "l_reg = LinearRegression()\n",
    "l_reg.fit(xtrain,ytrain)"
   ]
  },
  {
   "cell_type": "code",
   "execution_count": 60,
   "id": "93e9aac2",
   "metadata": {},
   "outputs": [
    {
     "data": {
      "text/plain": [
       "array([[1.00000000e+00, 3.28397292e+01, 1.07844781e+03, 3.54159341e+04],\n",
       "       [1.00000000e+00, 1.27427581e+01, 1.62377884e+02, 2.06914210e+03],\n",
       "       [1.00000000e+00, 5.27191450e+00, 2.77930825e+01, 1.46522754e+02],\n",
       "       [1.00000000e+00, 3.71718479e+01, 1.38174628e+03, 5.13620624e+04],\n",
       "       [1.00000000e+00, 2.41938208e+01, 5.85340964e+02, 1.41616344e+04],\n",
       "       [1.00000000e+00, 1.13122785e+01, 1.27967645e+02, 1.44760564e+03],\n",
       "       [1.00000000e+00, 2.40901887e+00, 5.80337189e+00, 1.39804324e+01],\n",
       "       [1.00000000e+00, 2.27217824e+01, 5.16279397e+02, 1.17307881e+04],\n",
       "       [1.00000000e+00, 2.58357645e+01, 6.67486728e+02, 1.72450299e+04],\n",
       "       [1.00000000e+00, 4.80786245e+00, 2.31155413e+01, 1.11136343e+02],\n",
       "       [1.00000000e+00, 1.75034885e+01, 3.06372108e+02, 5.36258065e+03],\n",
       "       [1.00000000e+00, 3.31576012e+01, 1.09942652e+03, 3.64543459e+04],\n",
       "       [1.00000000e+00, 1.84591745e+01, 3.40741123e+02, 6.28979984e+03],\n",
       "       [1.00000000e+00, 3.48004859e+01, 1.21107382e+03, 4.21459575e+04],\n",
       "       [1.00000000e+00, 3.12211671e+01, 9.74761272e+02, 3.04331845e+04],\n",
       "       [1.00000000e+00, 3.88405103e+00, 1.50858524e+01, 5.85942206e+01],\n",
       "       [1.00000000e+00, 3.19663426e+01, 1.02184706e+03, 3.26647131e+04],\n",
       "       [1.00000000e+00, 6.45238072e+00, 4.16332169e+01, 2.68633366e+02],\n",
       "       [1.00000000e+00, 4.08179243e+00, 1.66610294e+01, 6.80068638e+01],\n",
       "       [1.00000000e+00, 6.35878335e+00, 4.04341256e+01, 2.57111845e+02]])"
      ]
     },
     "execution_count": 60,
     "metadata": {},
     "output_type": "execute_result"
    }
   ],
   "source": [
    "xtest"
   ]
  },
  {
   "cell_type": "code",
   "execution_count": 61,
   "id": "939362d0",
   "metadata": {},
   "outputs": [
    {
     "data": {
      "text/plain": [
       "66     70886.227181\n",
       "90      4284.327132\n",
       "92       435.887039\n",
       "89    102839.971994\n",
       "73     28381.946861\n",
       "76      3051.543074\n",
       "43       194.280160\n",
       "12     23571.990046\n",
       "5      34684.854336\n",
       "77       268.276111\n",
       "6      10884.100284\n",
       "98     72985.915190\n",
       "22     12616.075436\n",
       "19     84412.014401\n",
       "23     61014.838856\n",
       "67       273.039256\n",
       "21     65362.038215\n",
       "55       671.088396\n",
       "53       237.605256\n",
       "60       539.660810\n",
       "Name: IceCreamSales, dtype: float64"
      ]
     },
     "execution_count": 61,
     "metadata": {},
     "output_type": "execute_result"
    }
   ],
   "source": [
    "ytest"
   ]
  },
  {
   "cell_type": "code",
   "execution_count": 62,
   "id": "e2c1f04e",
   "metadata": {},
   "outputs": [],
   "source": [
    "ypred = l_reg.predict(xtest)"
   ]
  },
  {
   "cell_type": "code",
   "execution_count": 63,
   "id": "31917d4b",
   "metadata": {},
   "outputs": [
    {
     "data": {
      "text/plain": [
       "0     21200.216232\n",
       "1     46969.537759\n",
       "2     28155.054323\n",
       "3     20730.330804\n",
       "4      9907.404501\n",
       "          ...     \n",
       "95      920.989509\n",
       "96    25884.973575\n",
       "97       66.563119\n",
       "98    72985.915190\n",
       "99      100.887209\n",
       "Name: IceCreamSales, Length: 100, dtype: float64"
      ]
     },
     "execution_count": 63,
     "metadata": {},
     "output_type": "execute_result"
    }
   ],
   "source": [
    "y"
   ]
  },
  {
   "cell_type": "code",
   "execution_count": 65,
   "id": "01ea7218",
   "metadata": {},
   "outputs": [
    {
     "data": {
      "text/plain": [
       "array([[1.00000000e+00, 3.28397292e+01, 1.07844781e+03, 3.54159341e+04],\n",
       "       [1.00000000e+00, 1.27427581e+01, 1.62377884e+02, 2.06914210e+03],\n",
       "       [1.00000000e+00, 5.27191450e+00, 2.77930825e+01, 1.46522754e+02],\n",
       "       [1.00000000e+00, 3.71718479e+01, 1.38174628e+03, 5.13620624e+04],\n",
       "       [1.00000000e+00, 2.41938208e+01, 5.85340964e+02, 1.41616344e+04],\n",
       "       [1.00000000e+00, 1.13122785e+01, 1.27967645e+02, 1.44760564e+03],\n",
       "       [1.00000000e+00, 2.40901887e+00, 5.80337189e+00, 1.39804324e+01],\n",
       "       [1.00000000e+00, 2.27217824e+01, 5.16279397e+02, 1.17307881e+04],\n",
       "       [1.00000000e+00, 2.58357645e+01, 6.67486728e+02, 1.72450299e+04],\n",
       "       [1.00000000e+00, 4.80786245e+00, 2.31155413e+01, 1.11136343e+02],\n",
       "       [1.00000000e+00, 1.75034885e+01, 3.06372108e+02, 5.36258065e+03],\n",
       "       [1.00000000e+00, 3.31576012e+01, 1.09942652e+03, 3.64543459e+04],\n",
       "       [1.00000000e+00, 1.84591745e+01, 3.40741123e+02, 6.28979984e+03],\n",
       "       [1.00000000e+00, 3.48004859e+01, 1.21107382e+03, 4.21459575e+04],\n",
       "       [1.00000000e+00, 3.12211671e+01, 9.74761272e+02, 3.04331845e+04],\n",
       "       [1.00000000e+00, 3.88405103e+00, 1.50858524e+01, 5.85942206e+01],\n",
       "       [1.00000000e+00, 3.19663426e+01, 1.02184706e+03, 3.26647131e+04],\n",
       "       [1.00000000e+00, 6.45238072e+00, 4.16332169e+01, 2.68633366e+02],\n",
       "       [1.00000000e+00, 4.08179243e+00, 1.66610294e+01, 6.80068638e+01],\n",
       "       [1.00000000e+00, 6.35878335e+00, 4.04341256e+01, 2.57111845e+02]])"
      ]
     },
     "execution_count": 65,
     "metadata": {},
     "output_type": "execute_result"
    }
   ],
   "source": [
    "xtest"
   ]
  },
  {
   "cell_type": "code",
   "execution_count": 80,
   "id": "9d4436c7",
   "metadata": {},
   "outputs": [],
   "source": [
    "dct = {\"xtest\":xtest[:,1], \"ytest\" : ytest, \"ypred\":ypred}"
   ]
  },
  {
   "cell_type": "code",
   "execution_count": 81,
   "id": "d11b9408",
   "metadata": {},
   "outputs": [],
   "source": [
    "output_df = pd.DataFrame(dct)"
   ]
  },
  {
   "cell_type": "code",
   "execution_count": 82,
   "id": "050ef385",
   "metadata": {},
   "outputs": [
    {
     "data": {
      "text/html": [
       "<div>\n",
       "<style scoped>\n",
       "    .dataframe tbody tr th:only-of-type {\n",
       "        vertical-align: middle;\n",
       "    }\n",
       "\n",
       "    .dataframe tbody tr th {\n",
       "        vertical-align: top;\n",
       "    }\n",
       "\n",
       "    .dataframe thead th {\n",
       "        text-align: right;\n",
       "    }\n",
       "</style>\n",
       "<table border=\"1\" class=\"dataframe\">\n",
       "  <thead>\n",
       "    <tr style=\"text-align: right;\">\n",
       "      <th></th>\n",
       "      <th>xtest</th>\n",
       "      <th>ytest</th>\n",
       "      <th>ypred</th>\n",
       "    </tr>\n",
       "  </thead>\n",
       "  <tbody>\n",
       "    <tr>\n",
       "      <th>66</th>\n",
       "      <td>32.839729</td>\n",
       "      <td>70886.227181</td>\n",
       "      <td>70937.676814</td>\n",
       "    </tr>\n",
       "    <tr>\n",
       "      <th>90</th>\n",
       "      <td>12.742758</td>\n",
       "      <td>4284.327132</td>\n",
       "      <td>4255.669906</td>\n",
       "    </tr>\n",
       "    <tr>\n",
       "      <th>92</th>\n",
       "      <td>5.271914</td>\n",
       "      <td>435.887039</td>\n",
       "      <td>398.003657</td>\n",
       "    </tr>\n",
       "    <tr>\n",
       "      <th>89</th>\n",
       "      <td>37.171848</td>\n",
       "      <td>102839.971994</td>\n",
       "      <td>102824.881363</td>\n",
       "    </tr>\n",
       "    <tr>\n",
       "      <th>73</th>\n",
       "      <td>24.193821</td>\n",
       "      <td>28381.946861</td>\n",
       "      <td>28438.748666</td>\n",
       "    </tr>\n",
       "    <tr>\n",
       "      <th>76</th>\n",
       "      <td>11.312279</td>\n",
       "      <td>3051.543074</td>\n",
       "      <td>3011.252213</td>\n",
       "    </tr>\n",
       "    <tr>\n",
       "      <th>43</th>\n",
       "      <td>2.409019</td>\n",
       "      <td>194.280160</td>\n",
       "      <td>124.142346</td>\n",
       "    </tr>\n",
       "    <tr>\n",
       "      <th>12</th>\n",
       "      <td>22.721782</td>\n",
       "      <td>23571.990046</td>\n",
       "      <td>23578.263097</td>\n",
       "    </tr>\n",
       "    <tr>\n",
       "      <th>5</th>\n",
       "      <td>25.835765</td>\n",
       "      <td>34684.854336</td>\n",
       "      <td>34603.978502</td>\n",
       "    </tr>\n",
       "    <tr>\n",
       "      <th>77</th>\n",
       "      <td>4.807862</td>\n",
       "      <td>268.276111</td>\n",
       "      <td>325.975063</td>\n",
       "    </tr>\n",
       "    <tr>\n",
       "      <th>6</th>\n",
       "      <td>17.503488</td>\n",
       "      <td>10884.100284</td>\n",
       "      <td>10844.137804</td>\n",
       "    </tr>\n",
       "    <tr>\n",
       "      <th>98</th>\n",
       "      <td>33.157601</td>\n",
       "      <td>72985.915190</td>\n",
       "      <td>73014.113852</td>\n",
       "    </tr>\n",
       "    <tr>\n",
       "      <th>22</th>\n",
       "      <td>18.459174</td>\n",
       "      <td>12616.075436</td>\n",
       "      <td>12698.430707</td>\n",
       "    </tr>\n",
       "    <tr>\n",
       "      <th>19</th>\n",
       "      <td>34.800486</td>\n",
       "      <td>84412.014401</td>\n",
       "      <td>84395.365659</td>\n",
       "    </tr>\n",
       "    <tr>\n",
       "      <th>23</th>\n",
       "      <td>31.221167</td>\n",
       "      <td>61014.838856</td>\n",
       "      <td>60974.150882</td>\n",
       "    </tr>\n",
       "    <tr>\n",
       "      <th>67</th>\n",
       "      <td>3.884051</td>\n",
       "      <td>273.039256</td>\n",
       "      <td>218.202098</td>\n",
       "    </tr>\n",
       "    <tr>\n",
       "      <th>21</th>\n",
       "      <td>31.966343</td>\n",
       "      <td>65362.038215</td>\n",
       "      <td>65436.299781</td>\n",
       "    </tr>\n",
       "    <tr>\n",
       "      <th>55</th>\n",
       "      <td>6.452381</td>\n",
       "      <td>671.088396</td>\n",
       "      <td>645.142408</td>\n",
       "    </tr>\n",
       "    <tr>\n",
       "      <th>53</th>\n",
       "      <td>4.081792</td>\n",
       "      <td>237.605256</td>\n",
       "      <td>237.624351</td>\n",
       "    </tr>\n",
       "    <tr>\n",
       "      <th>60</th>\n",
       "      <td>6.358783</td>\n",
       "      <td>539.660810</td>\n",
       "      <td>621.882269</td>\n",
       "    </tr>\n",
       "  </tbody>\n",
       "</table>\n",
       "</div>"
      ],
      "text/plain": [
       "        xtest          ytest          ypred\n",
       "66  32.839729   70886.227181   70937.676814\n",
       "90  12.742758    4284.327132    4255.669906\n",
       "92   5.271914     435.887039     398.003657\n",
       "89  37.171848  102839.971994  102824.881363\n",
       "73  24.193821   28381.946861   28438.748666\n",
       "76  11.312279    3051.543074    3011.252213\n",
       "43   2.409019     194.280160     124.142346\n",
       "12  22.721782   23571.990046   23578.263097\n",
       "5   25.835765   34684.854336   34603.978502\n",
       "77   4.807862     268.276111     325.975063\n",
       "6   17.503488   10884.100284   10844.137804\n",
       "98  33.157601   72985.915190   73014.113852\n",
       "22  18.459174   12616.075436   12698.430707\n",
       "19  34.800486   84412.014401   84395.365659\n",
       "23  31.221167   61014.838856   60974.150882\n",
       "67   3.884051     273.039256     218.202098\n",
       "21  31.966343   65362.038215   65436.299781\n",
       "55   6.452381     671.088396     645.142408\n",
       "53   4.081792     237.605256     237.624351\n",
       "60   6.358783     539.660810     621.882269"
      ]
     },
     "execution_count": 82,
     "metadata": {},
     "output_type": "execute_result"
    }
   ],
   "source": [
    "output_df"
   ]
  },
  {
   "cell_type": "code",
   "execution_count": 83,
   "id": "d73f8aa4",
   "metadata": {},
   "outputs": [],
   "source": [
    "output_df = output_df.sort_values('xtest')"
   ]
  },
  {
   "cell_type": "code",
   "execution_count": 84,
   "id": "ff38e5e0",
   "metadata": {},
   "outputs": [
    {
     "data": {
      "text/html": [
       "<div>\n",
       "<style scoped>\n",
       "    .dataframe tbody tr th:only-of-type {\n",
       "        vertical-align: middle;\n",
       "    }\n",
       "\n",
       "    .dataframe tbody tr th {\n",
       "        vertical-align: top;\n",
       "    }\n",
       "\n",
       "    .dataframe thead th {\n",
       "        text-align: right;\n",
       "    }\n",
       "</style>\n",
       "<table border=\"1\" class=\"dataframe\">\n",
       "  <thead>\n",
       "    <tr style=\"text-align: right;\">\n",
       "      <th></th>\n",
       "      <th>xtest</th>\n",
       "      <th>ytest</th>\n",
       "      <th>ypred</th>\n",
       "    </tr>\n",
       "  </thead>\n",
       "  <tbody>\n",
       "    <tr>\n",
       "      <th>43</th>\n",
       "      <td>2.409019</td>\n",
       "      <td>194.280160</td>\n",
       "      <td>124.142346</td>\n",
       "    </tr>\n",
       "    <tr>\n",
       "      <th>67</th>\n",
       "      <td>3.884051</td>\n",
       "      <td>273.039256</td>\n",
       "      <td>218.202098</td>\n",
       "    </tr>\n",
       "    <tr>\n",
       "      <th>53</th>\n",
       "      <td>4.081792</td>\n",
       "      <td>237.605256</td>\n",
       "      <td>237.624351</td>\n",
       "    </tr>\n",
       "    <tr>\n",
       "      <th>77</th>\n",
       "      <td>4.807862</td>\n",
       "      <td>268.276111</td>\n",
       "      <td>325.975063</td>\n",
       "    </tr>\n",
       "    <tr>\n",
       "      <th>92</th>\n",
       "      <td>5.271914</td>\n",
       "      <td>435.887039</td>\n",
       "      <td>398.003657</td>\n",
       "    </tr>\n",
       "    <tr>\n",
       "      <th>60</th>\n",
       "      <td>6.358783</td>\n",
       "      <td>539.660810</td>\n",
       "      <td>621.882269</td>\n",
       "    </tr>\n",
       "    <tr>\n",
       "      <th>55</th>\n",
       "      <td>6.452381</td>\n",
       "      <td>671.088396</td>\n",
       "      <td>645.142408</td>\n",
       "    </tr>\n",
       "    <tr>\n",
       "      <th>76</th>\n",
       "      <td>11.312279</td>\n",
       "      <td>3051.543074</td>\n",
       "      <td>3011.252213</td>\n",
       "    </tr>\n",
       "    <tr>\n",
       "      <th>90</th>\n",
       "      <td>12.742758</td>\n",
       "      <td>4284.327132</td>\n",
       "      <td>4255.669906</td>\n",
       "    </tr>\n",
       "    <tr>\n",
       "      <th>6</th>\n",
       "      <td>17.503488</td>\n",
       "      <td>10884.100284</td>\n",
       "      <td>10844.137804</td>\n",
       "    </tr>\n",
       "    <tr>\n",
       "      <th>22</th>\n",
       "      <td>18.459174</td>\n",
       "      <td>12616.075436</td>\n",
       "      <td>12698.430707</td>\n",
       "    </tr>\n",
       "    <tr>\n",
       "      <th>12</th>\n",
       "      <td>22.721782</td>\n",
       "      <td>23571.990046</td>\n",
       "      <td>23578.263097</td>\n",
       "    </tr>\n",
       "    <tr>\n",
       "      <th>73</th>\n",
       "      <td>24.193821</td>\n",
       "      <td>28381.946861</td>\n",
       "      <td>28438.748666</td>\n",
       "    </tr>\n",
       "    <tr>\n",
       "      <th>5</th>\n",
       "      <td>25.835765</td>\n",
       "      <td>34684.854336</td>\n",
       "      <td>34603.978502</td>\n",
       "    </tr>\n",
       "    <tr>\n",
       "      <th>23</th>\n",
       "      <td>31.221167</td>\n",
       "      <td>61014.838856</td>\n",
       "      <td>60974.150882</td>\n",
       "    </tr>\n",
       "    <tr>\n",
       "      <th>21</th>\n",
       "      <td>31.966343</td>\n",
       "      <td>65362.038215</td>\n",
       "      <td>65436.299781</td>\n",
       "    </tr>\n",
       "    <tr>\n",
       "      <th>66</th>\n",
       "      <td>32.839729</td>\n",
       "      <td>70886.227181</td>\n",
       "      <td>70937.676814</td>\n",
       "    </tr>\n",
       "    <tr>\n",
       "      <th>98</th>\n",
       "      <td>33.157601</td>\n",
       "      <td>72985.915190</td>\n",
       "      <td>73014.113852</td>\n",
       "    </tr>\n",
       "    <tr>\n",
       "      <th>19</th>\n",
       "      <td>34.800486</td>\n",
       "      <td>84412.014401</td>\n",
       "      <td>84395.365659</td>\n",
       "    </tr>\n",
       "    <tr>\n",
       "      <th>89</th>\n",
       "      <td>37.171848</td>\n",
       "      <td>102839.971994</td>\n",
       "      <td>102824.881363</td>\n",
       "    </tr>\n",
       "  </tbody>\n",
       "</table>\n",
       "</div>"
      ],
      "text/plain": [
       "        xtest          ytest          ypred\n",
       "43   2.409019     194.280160     124.142346\n",
       "67   3.884051     273.039256     218.202098\n",
       "53   4.081792     237.605256     237.624351\n",
       "77   4.807862     268.276111     325.975063\n",
       "92   5.271914     435.887039     398.003657\n",
       "60   6.358783     539.660810     621.882269\n",
       "55   6.452381     671.088396     645.142408\n",
       "76  11.312279    3051.543074    3011.252213\n",
       "90  12.742758    4284.327132    4255.669906\n",
       "6   17.503488   10884.100284   10844.137804\n",
       "22  18.459174   12616.075436   12698.430707\n",
       "12  22.721782   23571.990046   23578.263097\n",
       "73  24.193821   28381.946861   28438.748666\n",
       "5   25.835765   34684.854336   34603.978502\n",
       "23  31.221167   61014.838856   60974.150882\n",
       "21  31.966343   65362.038215   65436.299781\n",
       "66  32.839729   70886.227181   70937.676814\n",
       "98  33.157601   72985.915190   73014.113852\n",
       "19  34.800486   84412.014401   84395.365659\n",
       "89  37.171848  102839.971994  102824.881363"
      ]
     },
     "execution_count": 84,
     "metadata": {},
     "output_type": "execute_result"
    }
   ],
   "source": [
    "output_df"
   ]
  },
  {
   "cell_type": "code",
   "execution_count": 85,
   "id": "cd503783",
   "metadata": {},
   "outputs": [
    {
     "data": {
      "text/plain": [
       "<matplotlib.collections.PathCollection at 0x1e51b4c99d0>"
      ]
     },
     "execution_count": 85,
     "metadata": {},
     "output_type": "execute_result"
    },
    {
     "data": {
      "image/png": "[encoded data removed]",
      "text/plain": [
       "<Figure size 640x480 with 1 Axes>"
      ]
     },
     "metadata": {},
     "output_type": "display_data"
    }
   ],
   "source": [
    "plt.scatter(output_df['xtest'],output_df['ytest'])"
   ]
  },
  {
   "cell_type": "code",
   "execution_count": 87,
   "id": "696ee611",
   "metadata": {},
   "outputs": [
    {
     "data": {
      "text/plain": [
       "[<matplotlib.lines.Line2D at 0x1e51b770640>]"
      ]
     },
     "execution_count": 87,
     "metadata": {},
     "output_type": "execute_result"
    },
    {
     "data": {
      "image/png": "[encoded data removed]",
      "text/plain": [
       "<Figure size 640x480 with 1 Axes>"
      ]
     },
     "metadata": {},
     "output_type": "display_data"
    }
   ],
   "source": [
    "plt.scatter(output_df['xtest'],output_df['ytest'])\n",
    "plt.plot(output_df['xtest'],output_df['ypred'], c= 'r')"
   ]
  },
  {
   "cell_type": "markdown",
   "id": "21f922a2",
   "metadata": {},
   "source": [
    "### y = m1*x^0 + m2*x^1 + m3 * x^2 + m4 * x^3 + c"
   ]
  },
  {
   "cell_type": "code",
   "execution_count": 88,
   "id": "f41f8349",
   "metadata": {},
   "outputs": [
    {
     "data": {
      "text/plain": [
       "0.9999976684131928"
      ]
     },
     "execution_count": 88,
     "metadata": {},
     "output_type": "execute_result"
    }
   ],
   "source": [
    "from sklearn.metrics import r2_score\n",
    "r2_score(ypred,ytest)"
   ]
  },
  {
   "cell_type": "code",
   "execution_count": null,
   "id": "0cd3ac1c",
   "metadata": {},
   "outputs": [],
   "source": []
  }
 ],
 "metadata": {
  "kernelspec": {
   "display_name": "Python 3 (ipykernel)",
   "language": "python",
   "name": "python3"
  },
  "language_info": {
   "codemirror_mode": {
    "name": "ipython",
    "version": 3
   },
   "file_extension": ".py",
   "mimetype": "text/x-python",
   "name": "python",
   "nbconvert_exporter": "python",
   "pygments_lexer": "ipython3",
   "version": "3.11.7"
  }
 },
 "nbformat": 4,
 "nbformat_minor": 5
}
