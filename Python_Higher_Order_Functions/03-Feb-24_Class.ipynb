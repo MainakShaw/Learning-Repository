{
 "cells": [
  {
   "cell_type": "code",
   "execution_count": null,
   "id": "cc34bf76-a3c8-4321-88fb-c5bc7e48a09f",
   "metadata": {},
   "outputs": [],
   "source": [
    "#Higher order functions"
   ]
  },
  {
   "cell_type": "code",
   "execution_count": 3,
   "id": "e120351b-3be0-4e8f-9119-3c1eaae410e7",
   "metadata": {
    "tags": []
   },
   "outputs": [
    {
     "data": {
      "text/plain": [
       "function"
      ]
     },
     "execution_count": 3,
     "metadata": {},
     "output_type": "execute_result"
    }
   ],
   "source": [
    "def addition(x,y):\n",
    "    return x+y\n",
    "type(addition)"
   ]
  },
  {
   "cell_type": "code",
   "execution_count": 2,
   "id": "331bb644-2c08-4226-b495-39942bc18ba0",
   "metadata": {
    "tags": []
   },
   "outputs": [
    {
     "data": {
      "text/plain": [
       "function"
      ]
     },
     "execution_count": 2,
     "metadata": {},
     "output_type": "execute_result"
    }
   ],
   "source": [
    "def multiply(x,y):\n",
    "    return x*y\n",
    "type(multiply)"
   ]
  },
  {
   "cell_type": "code",
   "execution_count": 6,
   "id": "85039fe7-6ab8-4f72-8252-a9ae444797fd",
   "metadata": {
    "tags": []
   },
   "outputs": [
    {
     "data": {
      "text/plain": [
       "6"
      ]
     },
     "execution_count": 6,
     "metadata": {},
     "output_type": "execute_result"
    }
   ],
   "source": [
    "x_multiply=multiply\n",
    "x_multiply(2,3)"
   ]
  },
  {
   "cell_type": "code",
   "execution_count": 7,
   "id": "e41f3d8e-c642-45a7-8ec1-5c1bf135ad0c",
   "metadata": {
    "tags": []
   },
   "outputs": [
    {
     "name": "stdout",
     "output_type": "stream",
     "text": [
      "5\n",
      "6\n"
     ]
    }
   ],
   "source": [
    "def calc(func,a,b):\n",
    "    return func(a,b)\n",
    "print(calc(addition,2,3))\n",
    "print(calc(multiply,2,3))"
   ]
  },
  {
   "cell_type": "code",
   "execution_count": 8,
   "id": "0db00cc5-2a9b-473e-9c66-6b4a517871bc",
   "metadata": {
    "tags": []
   },
   "outputs": [
    {
     "name": "stdout",
     "output_type": "stream",
     "text": [
      "6 10\n"
     ]
    }
   ],
   "source": [
    "def higher_order_func(x):\n",
    "    def func(y):\n",
    "        return x*y\n",
    "    return func\n",
    "multiplier_3=higher_order_func(3)\n",
    "multiplier_5=higher_order_func(5)\n",
    "print(multiplier_3(2),multiplier_5(2))"
   ]
  },
  {
   "cell_type": "code",
   "execution_count": 9,
   "id": "7d9d26c0-74f1-4798-a95c-9a5165584f32",
   "metadata": {
    "tags": []
   },
   "outputs": [
    {
     "data": {
      "text/plain": [
       "50"
      ]
     },
     "execution_count": 9,
     "metadata": {},
     "output_type": "execute_result"
    }
   ],
   "source": [
    "higher_order_func(10)(5)"
   ]
  },
  {
   "cell_type": "code",
   "execution_count": 15,
   "id": "1f4768be-cb63-4d91-8e4d-9f6932af2013",
   "metadata": {
    "tags": []
   },
   "outputs": [
    {
     "name": "stdin",
     "output_type": "stream",
     "text": [
      "Enter Name: Mainak\n",
      "Enter Age: 24\n"
     ]
    },
    {
     "name": "stdout",
     "output_type": "stream",
     "text": [
      "\n",
      "get_name returned with value Mainak took 2.864846706390381 time units\n",
      " \n",
      "get_age returned with value 24 took 4.3356335163116455 time units\n",
      "\n"
     ]
    }
   ],
   "source": [
    "## Decorators\n",
    "import time\n",
    "\n",
    "def decorator(func):\n",
    "    def decorated():\n",
    "        start_time=time.time()\n",
    "        value=func()\n",
    "        end_time=time.time()\n",
    "        return (f\"\\n{func.__name__} returned with value {value} took {end_time-start_time} time units\\n\")\n",
    "    return decorated\n",
    "@decorator\n",
    "def get_name():\n",
    "    name=input(\"Enter Name:\")\n",
    "    return name\n",
    "@decorator\n",
    "def get_age():\n",
    "    age=int(input(\"Enter Age:\"))\n",
    "    return age\n",
    "\n",
    "print(get_name(),get_age())"
   ]
  },
  {
   "cell_type": "code",
   "execution_count": 18,
   "id": "1a868067-630b-43bc-ab45-0ed18ff441a8",
   "metadata": {
    "tags": []
   },
   "outputs": [
    {
     "name": "stdin",
     "output_type": "stream",
     "text": [
      "Enter Name: Mainak\n",
      "Enter Age: 23\n"
     ]
    },
    {
     "name": "stdout",
     "output_type": "stream",
     "text": [
      "\n",
      "get_name returned with value Mainak took 2.8296470642089844 time units\n",
      " \n",
      "get_age returned with value 23 took 4.0634825229644775 time units\n",
      "\n"
     ]
    }
   ],
   "source": [
    "## Decorators\n",
    "import time\n",
    "\n",
    "def decorator(func):\n",
    "    def decorated():\n",
    "        start_time=time.time()\n",
    "        value=func()\n",
    "        end_time=time.time()\n",
    "        return (f\"\\n{func.__name__} returned with value {value} took {end_time-start_time} time units\\n\")\n",
    "    return decorated\n",
    "\n",
    "def get_name():\n",
    "    name=input(\"Enter Name:\")\n",
    "    return name\n",
    "\n",
    "def get_age():\n",
    "    age=int(input(\"Enter Age:\"))\n",
    "    return age\n",
    "\n",
    "print(decorator(get_name)(),decorator(get_age)())"
   ]
  },
  {
   "cell_type": "code",
   "execution_count": 21,
   "id": "d21edd9d-9e85-4d1f-ad98-18dbe854a56b",
   "metadata": {
    "tags": []
   },
   "outputs": [
    {
     "name": "stdin",
     "output_type": "stream",
     "text": [
      "Enter Name: Mainak\n",
      "Enter Age: 23\n"
     ]
    },
    {
     "name": "stdout",
     "output_type": "stream",
     "text": [
      "\n",
      "get_name returned with value Mainak took 2.816256046295166 time units\n",
      " \n",
      "get_age returned with value 23 took 1.3280308246612549 time units\n",
      " \n",
      "get_sum returned with value 5 took 0.0 time units\n",
      "\n"
     ]
    }
   ],
   "source": [
    "## Decorators (arbitary args to take arbitary number of arguments)\n",
    "import time\n",
    "\n",
    "def decorator(func):\n",
    "    def decorated(*args):\n",
    "        start_time=time.time()\n",
    "        value=func(*args)\n",
    "        end_time=time.time()\n",
    "        return (f\"\\n{func.__name__} returned with value {value} took {end_time-start_time} time units\\n\")\n",
    "    return decorated\n",
    "@decorator\n",
    "def get_name():\n",
    "    name=input(\"Enter Name:\")\n",
    "    return name\n",
    "@decorator\n",
    "def get_age():\n",
    "    age=int(input(\"Enter Age:\"))\n",
    "    return age\n",
    "@decorator\n",
    "def get_sum(x,y):\n",
    "    return x+y\n",
    "\n",
    "print(get_name(),get_age(),get_sum(2,3))"
   ]
  },
  {
   "cell_type": "code",
   "execution_count": 22,
   "id": "c851f5ab-778e-466d-8760-5b4db43f2c46",
   "metadata": {
    "tags": []
   },
   "outputs": [
    {
     "data": {
      "text/plain": [
       "['__annotations__',\n",
       " '__builtins__',\n",
       " '__call__',\n",
       " '__class__',\n",
       " '__closure__',\n",
       " '__code__',\n",
       " '__defaults__',\n",
       " '__delattr__',\n",
       " '__dict__',\n",
       " '__dir__',\n",
       " '__doc__',\n",
       " '__eq__',\n",
       " '__format__',\n",
       " '__ge__',\n",
       " '__get__',\n",
       " '__getattribute__',\n",
       " '__getstate__',\n",
       " '__globals__',\n",
       " '__gt__',\n",
       " '__hash__',\n",
       " '__init__',\n",
       " '__init_subclass__',\n",
       " '__kwdefaults__',\n",
       " '__le__',\n",
       " '__lt__',\n",
       " '__module__',\n",
       " '__name__',\n",
       " '__ne__',\n",
       " '__new__',\n",
       " '__qualname__',\n",
       " '__reduce__',\n",
       " '__reduce_ex__',\n",
       " '__repr__',\n",
       " '__setattr__',\n",
       " '__sizeof__',\n",
       " '__str__',\n",
       " '__subclasshook__']"
      ]
     },
     "execution_count": 22,
     "metadata": {},
     "output_type": "execute_result"
    }
   ],
   "source": [
    "#to get all predefined attributes\n",
    "dir(get_sum)"
   ]
  },
  {
   "cell_type": "markdown",
   "id": "bb7f4a5b-9fe6-496f-804f-e345eb66dcf1",
   "metadata": {},
   "source": [
    "## Polymorphism"
   ]
  },
  {
   "cell_type": "code",
   "execution_count": 25,
   "id": "70f3177a-ca85-4d04-bf82-8b24314814af",
   "metadata": {
    "tags": []
   },
   "outputs": [],
   "source": [
    "#For different types of values passed to the same function name gives differnt outputs"
   ]
  },
  {
   "cell_type": "code",
   "execution_count": 27,
   "id": "7ffb9148-27d7-4b47-ad4a-fdbc3835eb00",
   "metadata": {
    "tags": []
   },
   "outputs": [],
   "source": [
    "#Two main types of polymorphism:-\n",
    "#1) overridng\n",
    "#2) overloading"
   ]
  },
  {
   "cell_type": "code",
   "execution_count": 29,
   "id": "254746e7-190d-4a92-87e3-dd6ca40fae71",
   "metadata": {
    "tags": []
   },
   "outputs": [
    {
     "name": "stdout",
     "output_type": "stream",
     "text": [
      "New Delhi\n",
      "Washington\n"
     ]
    }
   ],
   "source": [
    "#overriding\n",
    "class India:\n",
    "    def capital(self):\n",
    "        print(\"New Delhi\")\n",
    "class USA:\n",
    "    def capital(self):\n",
    "        print(\"Washington\")\n",
    "i=India()\n",
    "u=USA()\n",
    "i.capital()\n",
    "u.capital()"
   ]
  },
  {
   "cell_type": "code",
   "execution_count": 32,
   "id": "9292edfd-c569-41fc-8b31-b0ea3b2e7bb8",
   "metadata": {
    "tags": []
   },
   "outputs": [
    {
     "name": "stdout",
     "output_type": "stream",
     "text": [
      "Quack!\n",
      "Hoot!\n",
      "Bird Noise!\n"
     ]
    }
   ],
   "source": [
    "#Overriding in Inheritance\n",
    "class Bird:\n",
    "    def say(self):\n",
    "        print(\"Bird Noise!\")\n",
    "class Goose(Bird):\n",
    "    def say(self):\n",
    "        print(\"Quack!\")\n",
    "class Owl(Bird):\n",
    "    def say(self):\n",
    "        print(\"Hoot!\")\n",
    "obj1=Goose()\n",
    "obj1.say()\n",
    "obj2=Owl()\n",
    "obj2.say()\n",
    "obj3=Bird()\n",
    "obj3.say()"
   ]
  },
  {
   "cell_type": "code",
   "execution_count": 33,
   "id": "e07435ab-2fc9-46cb-a28f-ede673dfb4ee",
   "metadata": {
    "tags": []
   },
   "outputs": [],
   "source": [
    "#overloading\n",
    "#function accepts different types of inputs, may give different outputs may not give different outputs"
   ]
  },
  {
   "cell_type": "code",
   "execution_count": 41,
   "id": "fa9d3c35-c086-42f7-9718-fba81bdaedb2",
   "metadata": {
    "tags": []
   },
   "outputs": [],
   "source": [
    "def do_iterable(iterable):\n",
    "    #iterable can be list,string or dict\n",
    "    if (type(iterable)==list or type(iterable)==str):\n",
    "        for x in iterable:\n",
    "            print(x)\n",
    "    else:\n",
    "        for k,v in iterable.items():\n",
    "            print(k,v)"
   ]
  },
  {
   "cell_type": "code",
   "execution_count": 42,
   "id": "a22db615-eeea-44af-a39e-18dafbe713d4",
   "metadata": {
    "tags": []
   },
   "outputs": [
    {
     "name": "stdout",
     "output_type": "stream",
     "text": [
      "1 2\n",
      "2 3\n",
      "4 5\n"
     ]
    }
   ],
   "source": [
    "do_iterable({1:2,2:3,4:5})"
   ]
  },
  {
   "cell_type": "code",
   "execution_count": 43,
   "id": "470f06ca-57f6-48a8-91dc-ed115133d9b4",
   "metadata": {
    "tags": []
   },
   "outputs": [
    {
     "name": "stdout",
     "output_type": "stream",
     "text": [
      "A\n",
      "B\n",
      "C\n",
      "D\n",
      "E\n"
     ]
    }
   ],
   "source": [
    "do_iterable(\"ABCDE\")"
   ]
  },
  {
   "cell_type": "code",
   "execution_count": 44,
   "id": "8d9f744f-859a-4186-95dc-bd9f6d60bbe0",
   "metadata": {
    "tags": []
   },
   "outputs": [
    {
     "name": "stdout",
     "output_type": "stream",
     "text": [
      "1\n",
      "2\n",
      "3\n",
      "45\n",
      "6\n"
     ]
    }
   ],
   "source": [
    "do_iterable([1,2,3,45,6])"
   ]
  },
  {
   "cell_type": "markdown",
   "id": "316fade4-5c64-4f4d-9887-9a9d9d8eb209",
   "metadata": {},
   "source": [
    "## Encapsulation or Access Modification"
   ]
  },
  {
   "cell_type": "code",
   "execution_count": 50,
   "id": "920cea3d-3ca2-4f24-83af-111a8b60bbfb",
   "metadata": {
    "tags": []
   },
   "outputs": [],
   "source": [
    "class Bank_Account:\n",
    "    def __init__(self,name,acc_no,balance):\n",
    "        self.balance=balance\n",
    "        self.name=name\n",
    "        self.acc_no=acc_no"
   ]
  },
  {
   "cell_type": "code",
   "execution_count": 51,
   "id": "ce460b84-d6ac-4410-a77c-14befe8d42ed",
   "metadata": {
    "tags": []
   },
   "outputs": [],
   "source": [
    "b1=Bank_Account(\"Mainak\",1234567890,1200.0)"
   ]
  },
  {
   "cell_type": "code",
   "execution_count": 52,
   "id": "3936f71b-f332-4e5a-9ab4-7b41f4860017",
   "metadata": {
    "tags": []
   },
   "outputs": [
    {
     "data": {
      "text/plain": [
       "'Mainak'"
      ]
     },
     "execution_count": 52,
     "metadata": {},
     "output_type": "execute_result"
    }
   ],
   "source": [
    "b1.name"
   ]
  },
  {
   "cell_type": "code",
   "execution_count": 47,
   "id": "9ded7351-bdbb-4253-a248-c18b2679f2d4",
   "metadata": {
    "tags": []
   },
   "outputs": [],
   "source": [
    "#Types of access modifiers:-\n",
    "#1) Public\n",
    "#2) Protected\n",
    "#3) Public"
   ]
  },
  {
   "cell_type": "code",
   "execution_count": 64,
   "id": "faf8daa3-fc47-48c9-80a0-5aa5f3f0d358",
   "metadata": {
    "tags": []
   },
   "outputs": [],
   "source": [
    "#Private access - can only be used within class(not even child classes can access them)\n",
    "class Bank_Account:\n",
    "    def __init__(self,name,acc_no,balance):\n",
    "        self.__balance=balance\n",
    "        self.__name=name\n",
    "        self.__acc_no=acc_no\n",
    "    def show_balance(self):\n",
    "        print(self.__balance)"
   ]
  },
  {
   "cell_type": "code",
   "execution_count": 61,
   "id": "45061cbe-909d-4bd5-8b64-1fb6ea3f2417",
   "metadata": {
    "tags": []
   },
   "outputs": [],
   "source": [
    "b1=Bank_Account(\"Mainak\",1234567890,1200.0)"
   ]
  },
  {
   "cell_type": "code",
   "execution_count": 62,
   "id": "4860fb21-eef8-4d86-b755-d32383d98159",
   "metadata": {
    "tags": []
   },
   "outputs": [
    {
     "ename": "AttributeError",
     "evalue": "'Bank_Account' object has no attribute '__balance'",
     "output_type": "error",
     "traceback": [
      "\u001b[1;31m---------------------------------------------------------------------------\u001b[0m",
      "\u001b[1;31mAttributeError\u001b[0m                            Traceback (most recent call last)",
      "Cell \u001b[1;32mIn[62], line 1\u001b[0m\n\u001b[1;32m----> 1\u001b[0m b1\u001b[38;5;241m.\u001b[39m__balance\n",
      "\u001b[1;31mAttributeError\u001b[0m: 'Bank_Account' object has no attribute '__balance'"
     ]
    }
   ],
   "source": [
    "b1.__balance"
   ]
  },
  {
   "cell_type": "code",
   "execution_count": 63,
   "id": "e18e902d-2d70-4291-88f1-3404e2b8bcb7",
   "metadata": {
    "tags": []
   },
   "outputs": [
    {
     "name": "stdout",
     "output_type": "stream",
     "text": [
      "1200.0\n"
     ]
    }
   ],
   "source": [
    "b1.show_balance()"
   ]
  },
  {
   "cell_type": "code",
   "execution_count": 72,
   "id": "eee8beeb-8dc0-4688-96f0-75d0cc3f0bcf",
   "metadata": {
    "tags": []
   },
   "outputs": [],
   "source": [
    "class Bank_Account:\n",
    "    def __init__(self,name,acc_no,balance):\n",
    "        self._balance=balance\n",
    "        self._name=name\n",
    "        self._acc_no=acc_no\n",
    "    def _show_balance(self):\n",
    "        print(self._balance)\n",
    "class Demat_Account(Bank_Account):\n",
    "    def __init__(self,name,acc_no,balance):\n",
    "        super().__init__(name,acc_no,balance)\n",
    "    def show_info(self):\n",
    "        self._show_balance()"
   ]
  },
  {
   "cell_type": "code",
   "execution_count": 73,
   "id": "2535a73f-77ef-489b-ab3b-d8d8425e5894",
   "metadata": {
    "tags": []
   },
   "outputs": [
    {
     "name": "stdout",
     "output_type": "stream",
     "text": [
      "1200.5\n"
     ]
    }
   ],
   "source": [
    "d1=Demat_Account(\"Mainak\",12345,1200.5)\n",
    "d1.show_info()"
   ]
  },
  {
   "cell_type": "code",
   "execution_count": 75,
   "id": "982b0b4c-95fe-45ab-892b-5cd87ad1b122",
   "metadata": {
    "tags": []
   },
   "outputs": [
    {
     "name": "stdout",
     "output_type": "stream",
     "text": [
      "1200.5\n"
     ]
    }
   ],
   "source": [
    "d1._show_balance()"
   ]
  },
  {
   "cell_type": "code",
   "execution_count": 77,
   "id": "a5ae651d-c10e-483b-a5b3-ee668b731fce",
   "metadata": {
    "tags": []
   },
   "outputs": [],
   "source": [
    "d1._balance=300.0"
   ]
  },
  {
   "cell_type": "code",
   "execution_count": 78,
   "id": "9cc0b940-5a0a-461a-a65e-3de7f2720045",
   "metadata": {
    "tags": []
   },
   "outputs": [
    {
     "name": "stdout",
     "output_type": "stream",
     "text": [
      "300.0\n",
      "300.0\n"
     ]
    }
   ],
   "source": [
    "d1._show_balance()\n",
    "d1.show_info()"
   ]
  },
  {
   "cell_type": "code",
   "execution_count": 79,
   "id": "c6c14e4d-e745-4c66-8158-344c9f11fe2e",
   "metadata": {
    "tags": []
   },
   "outputs": [],
   "source": [
    "#these things are convention"
   ]
  },
  {
   "cell_type": "code",
   "execution_count": 88,
   "id": "dcead53d-0616-4b3d-8e7c-40cdb2e57644",
   "metadata": {
    "tags": []
   },
   "outputs": [],
   "source": [
    "class Bank_Account:\n",
    "    def __init__(self,name,acc_no,balance):\n",
    "        self.__balance=balance\n",
    "        self.__name=name\n",
    "        self.__acc_no=acc_no\n",
    "    def __showBalance(self):\n",
    "        print(self.__balance)"
   ]
  },
  {
   "cell_type": "code",
   "execution_count": 89,
   "id": "1d12d3f3-4500-4afa-bfc8-169208ce8308",
   "metadata": {
    "tags": []
   },
   "outputs": [],
   "source": [
    "b1=Bank_Account(\"Mainak\",12345,1200.5)"
   ]
  },
  {
   "cell_type": "code",
   "execution_count": 90,
   "id": "f586e426-7cbe-46b8-b072-e795457c7b4b",
   "metadata": {
    "tags": []
   },
   "outputs": [
    {
     "name": "stdout",
     "output_type": "stream",
     "text": [
      "1200.5\n"
     ]
    }
   ],
   "source": [
    "b1._Bank_Account__showBalance()"
   ]
  }
 ],
 "metadata": {
  "kernelspec": {
   "display_name": "Python 3 (ipykernel)",
   "language": "python",
   "name": "python3"
  },
  "language_info": {
   "codemirror_mode": {
    "name": "ipython",
    "version": 3
   },
   "file_extension": ".py",
   "mimetype": "text/x-python",
   "name": "python",
   "nbconvert_exporter": "python",
   "pygments_lexer": "ipython3",
   "version": "3.11.7"
  }
 },
 "nbformat": 4,
 "nbformat_minor": 5
}
