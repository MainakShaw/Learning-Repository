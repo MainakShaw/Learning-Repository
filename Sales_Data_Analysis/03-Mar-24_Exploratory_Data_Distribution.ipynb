{
 "cells": [
  {
   "cell_type": "code",
   "execution_count": 1,
   "id": "8c472bdb",
   "metadata": {
    "id": "8c472bdb",
    "tags": []
   },
   "outputs": [],
   "source": [
    "import pandas as pd\n",
    "import numpy as np\n",
    "import matplotlib.pyplot as plt"
   ]
  },
  {
   "cell_type": "code",
   "execution_count": 2,
   "id": "6d8e4d22",
   "metadata": {
    "id": "6d8e4d22",
    "tags": []
   },
   "outputs": [],
   "source": [
    "data = pd.read_csv(\"sales_data.csv\")"
   ]
  },
  {
   "cell_type": "code",
   "execution_count": 3,
   "id": "410ff376",
   "metadata": {
    "colab": {
     "base_uri": "https://localhost:8080/",
     "height": 206
    },
    "id": "410ff376",
    "outputId": "2bc5fe51-9cac-4669-ea40-04a973212c9d",
    "tags": []
   },
   "outputs": [
    {
     "data": {
      "text/html": [
       "<div>\n",
       "<style scoped>\n",
       "    .dataframe tbody tr th:only-of-type {\n",
       "        vertical-align: middle;\n",
       "    }\n",
       "\n",
       "    .dataframe tbody tr th {\n",
       "        vertical-align: top;\n",
       "    }\n",
       "\n",
       "    .dataframe thead th {\n",
       "        text-align: right;\n",
       "    }\n",
       "</style>\n",
       "<table border=\"1\" class=\"dataframe\">\n",
       "  <thead>\n",
       "    <tr style=\"text-align: right;\">\n",
       "      <th></th>\n",
       "      <th>Unnamed: 0</th>\n",
       "      <th>saller_id</th>\n",
       "      <th>customer_id</th>\n",
       "      <th>product_id</th>\n",
       "      <th>quantity</th>\n",
       "      <th>price</th>\n",
       "      <th>date</th>\n",
       "    </tr>\n",
       "  </thead>\n",
       "  <tbody>\n",
       "    <tr>\n",
       "      <th>0</th>\n",
       "      <td>0</td>\n",
       "      <td>21</td>\n",
       "      <td>359</td>\n",
       "      <td>5</td>\n",
       "      <td>8</td>\n",
       "      <td>29</td>\n",
       "      <td>2022-03-14</td>\n",
       "    </tr>\n",
       "    <tr>\n",
       "      <th>1</th>\n",
       "      <td>1</td>\n",
       "      <td>18</td>\n",
       "      <td>424</td>\n",
       "      <td>15</td>\n",
       "      <td>4</td>\n",
       "      <td>60</td>\n",
       "      <td>2022-05-28</td>\n",
       "    </tr>\n",
       "    <tr>\n",
       "      <th>2</th>\n",
       "      <td>2</td>\n",
       "      <td>14</td>\n",
       "      <td>473</td>\n",
       "      <td>9</td>\n",
       "      <td>9</td>\n",
       "      <td>73</td>\n",
       "      <td>2022-09-19</td>\n",
       "    </tr>\n",
       "    <tr>\n",
       "      <th>3</th>\n",
       "      <td>3</td>\n",
       "      <td>9</td>\n",
       "      <td>720</td>\n",
       "      <td>9</td>\n",
       "      <td>3</td>\n",
       "      <td>89</td>\n",
       "      <td>2022-12-31</td>\n",
       "    </tr>\n",
       "    <tr>\n",
       "      <th>4</th>\n",
       "      <td>4</td>\n",
       "      <td>7</td>\n",
       "      <td>31</td>\n",
       "      <td>8</td>\n",
       "      <td>1</td>\n",
       "      <td>26</td>\n",
       "      <td>2022-06-28</td>\n",
       "    </tr>\n",
       "  </tbody>\n",
       "</table>\n",
       "</div>"
      ],
      "text/plain": [
       "   Unnamed: 0  saller_id  customer_id  product_id  quantity  price        date\n",
       "0           0         21          359           5         8     29  2022-03-14\n",
       "1           1         18          424          15         4     60  2022-05-28\n",
       "2           2         14          473           9         9     73  2022-09-19\n",
       "3           3          9          720           9         3     89  2022-12-31\n",
       "4           4          7           31           8         1     26  2022-06-28"
      ]
     },
     "execution_count": 3,
     "metadata": {},
     "output_type": "execute_result"
    }
   ],
   "source": [
    "data.head()"
   ]
  },
  {
   "cell_type": "code",
   "execution_count": 4,
   "id": "6e60b653",
   "metadata": {
    "id": "6e60b653",
    "tags": []
   },
   "outputs": [],
   "source": [
    "data.drop('Unnamed: 0', axis = 1, inplace = True)"
   ]
  },
  {
   "cell_type": "code",
   "execution_count": 5,
   "id": "b39ab4d5",
   "metadata": {
    "colab": {
     "base_uri": "https://localhost:8080/",
     "height": 423
    },
    "id": "b39ab4d5",
    "outputId": "2b8b02e0-910a-45b7-d240-2a0fb1cd359f",
    "tags": []
   },
   "outputs": [
    {
     "data": {
      "text/html": [
       "<div>\n",
       "<style scoped>\n",
       "    .dataframe tbody tr th:only-of-type {\n",
       "        vertical-align: middle;\n",
       "    }\n",
       "\n",
       "    .dataframe tbody tr th {\n",
       "        vertical-align: top;\n",
       "    }\n",
       "\n",
       "    .dataframe thead th {\n",
       "        text-align: right;\n",
       "    }\n",
       "</style>\n",
       "<table border=\"1\" class=\"dataframe\">\n",
       "  <thead>\n",
       "    <tr style=\"text-align: right;\">\n",
       "      <th></th>\n",
       "      <th>saller_id</th>\n",
       "      <th>customer_id</th>\n",
       "      <th>product_id</th>\n",
       "      <th>quantity</th>\n",
       "      <th>price</th>\n",
       "      <th>date</th>\n",
       "    </tr>\n",
       "  </thead>\n",
       "  <tbody>\n",
       "    <tr>\n",
       "      <th>0</th>\n",
       "      <td>21</td>\n",
       "      <td>359</td>\n",
       "      <td>5</td>\n",
       "      <td>8</td>\n",
       "      <td>29</td>\n",
       "      <td>2022-03-14</td>\n",
       "    </tr>\n",
       "    <tr>\n",
       "      <th>1</th>\n",
       "      <td>18</td>\n",
       "      <td>424</td>\n",
       "      <td>15</td>\n",
       "      <td>4</td>\n",
       "      <td>60</td>\n",
       "      <td>2022-05-28</td>\n",
       "    </tr>\n",
       "    <tr>\n",
       "      <th>2</th>\n",
       "      <td>14</td>\n",
       "      <td>473</td>\n",
       "      <td>9</td>\n",
       "      <td>9</td>\n",
       "      <td>73</td>\n",
       "      <td>2022-09-19</td>\n",
       "    </tr>\n",
       "    <tr>\n",
       "      <th>3</th>\n",
       "      <td>9</td>\n",
       "      <td>720</td>\n",
       "      <td>9</td>\n",
       "      <td>3</td>\n",
       "      <td>89</td>\n",
       "      <td>2022-12-31</td>\n",
       "    </tr>\n",
       "    <tr>\n",
       "      <th>4</th>\n",
       "      <td>7</td>\n",
       "      <td>31</td>\n",
       "      <td>8</td>\n",
       "      <td>1</td>\n",
       "      <td>26</td>\n",
       "      <td>2022-06-28</td>\n",
       "    </tr>\n",
       "    <tr>\n",
       "      <th>...</th>\n",
       "      <td>...</td>\n",
       "      <td>...</td>\n",
       "      <td>...</td>\n",
       "      <td>...</td>\n",
       "      <td>...</td>\n",
       "      <td>...</td>\n",
       "    </tr>\n",
       "    <tr>\n",
       "      <th>195</th>\n",
       "      <td>29</td>\n",
       "      <td>891</td>\n",
       "      <td>13</td>\n",
       "      <td>8</td>\n",
       "      <td>12</td>\n",
       "      <td>2022-01-10</td>\n",
       "    </tr>\n",
       "    <tr>\n",
       "      <th>196</th>\n",
       "      <td>16</td>\n",
       "      <td>616</td>\n",
       "      <td>19</td>\n",
       "      <td>9</td>\n",
       "      <td>54</td>\n",
       "      <td>2022-02-16</td>\n",
       "    </tr>\n",
       "    <tr>\n",
       "      <th>197</th>\n",
       "      <td>20</td>\n",
       "      <td>318</td>\n",
       "      <td>4</td>\n",
       "      <td>7</td>\n",
       "      <td>26</td>\n",
       "      <td>2022-11-11</td>\n",
       "    </tr>\n",
       "    <tr>\n",
       "      <th>198</th>\n",
       "      <td>5</td>\n",
       "      <td>447</td>\n",
       "      <td>7</td>\n",
       "      <td>6</td>\n",
       "      <td>88</td>\n",
       "      <td>2022-07-24</td>\n",
       "    </tr>\n",
       "    <tr>\n",
       "      <th>199</th>\n",
       "      <td>7</td>\n",
       "      <td>733</td>\n",
       "      <td>15</td>\n",
       "      <td>3</td>\n",
       "      <td>39</td>\n",
       "      <td>2022-12-23</td>\n",
       "    </tr>\n",
       "  </tbody>\n",
       "</table>\n",
       "<p>200 rows × 6 columns</p>\n",
       "</div>"
      ],
      "text/plain": [
       "     saller_id  customer_id  product_id  quantity  price        date\n",
       "0           21          359           5         8     29  2022-03-14\n",
       "1           18          424          15         4     60  2022-05-28\n",
       "2           14          473           9         9     73  2022-09-19\n",
       "3            9          720           9         3     89  2022-12-31\n",
       "4            7           31           8         1     26  2022-06-28\n",
       "..         ...          ...         ...       ...    ...         ...\n",
       "195         29          891          13         8     12  2022-01-10\n",
       "196         16          616          19         9     54  2022-02-16\n",
       "197         20          318           4         7     26  2022-11-11\n",
       "198          5          447           7         6     88  2022-07-24\n",
       "199          7          733          15         3     39  2022-12-23\n",
       "\n",
       "[200 rows x 6 columns]"
      ]
     },
     "execution_count": 5,
     "metadata": {},
     "output_type": "execute_result"
    }
   ],
   "source": [
    "data"
   ]
  },
  {
   "cell_type": "markdown",
   "id": "1d27df5d",
   "metadata": {
    "id": "1d27df5d"
   },
   "source": [
    "# sales per quarter [Bar Plot]"
   ]
  },
  {
   "cell_type": "code",
   "execution_count": 6,
   "id": "af0b21f4",
   "metadata": {
    "id": "af0b21f4",
    "tags": []
   },
   "outputs": [],
   "source": [
    "# quarter Information"
   ]
  },
  {
   "cell_type": "code",
   "execution_count": 7,
   "id": "c3ec9dc8",
   "metadata": {
    "id": "c3ec9dc8",
    "tags": []
   },
   "outputs": [],
   "source": [
    "quarter_info = data[['price','date']]"
   ]
  },
  {
   "cell_type": "code",
   "execution_count": 8,
   "id": "b01a794f",
   "metadata": {
    "colab": {
     "base_uri": "https://localhost:8080/",
     "height": 206
    },
    "id": "b01a794f",
    "outputId": "31dc9455-c1b3-4ad8-eb9c-b965b3892374",
    "tags": []
   },
   "outputs": [
    {
     "data": {
      "text/html": [
       "<div>\n",
       "<style scoped>\n",
       "    .dataframe tbody tr th:only-of-type {\n",
       "        vertical-align: middle;\n",
       "    }\n",
       "\n",
       "    .dataframe tbody tr th {\n",
       "        vertical-align: top;\n",
       "    }\n",
       "\n",
       "    .dataframe thead th {\n",
       "        text-align: right;\n",
       "    }\n",
       "</style>\n",
       "<table border=\"1\" class=\"dataframe\">\n",
       "  <thead>\n",
       "    <tr style=\"text-align: right;\">\n",
       "      <th></th>\n",
       "      <th>price</th>\n",
       "      <th>date</th>\n",
       "    </tr>\n",
       "  </thead>\n",
       "  <tbody>\n",
       "    <tr>\n",
       "      <th>0</th>\n",
       "      <td>29</td>\n",
       "      <td>2022-03-14</td>\n",
       "    </tr>\n",
       "    <tr>\n",
       "      <th>1</th>\n",
       "      <td>60</td>\n",
       "      <td>2022-05-28</td>\n",
       "    </tr>\n",
       "    <tr>\n",
       "      <th>2</th>\n",
       "      <td>73</td>\n",
       "      <td>2022-09-19</td>\n",
       "    </tr>\n",
       "    <tr>\n",
       "      <th>3</th>\n",
       "      <td>89</td>\n",
       "      <td>2022-12-31</td>\n",
       "    </tr>\n",
       "    <tr>\n",
       "      <th>4</th>\n",
       "      <td>26</td>\n",
       "      <td>2022-06-28</td>\n",
       "    </tr>\n",
       "  </tbody>\n",
       "</table>\n",
       "</div>"
      ],
      "text/plain": [
       "   price        date\n",
       "0     29  2022-03-14\n",
       "1     60  2022-05-28\n",
       "2     73  2022-09-19\n",
       "3     89  2022-12-31\n",
       "4     26  2022-06-28"
      ]
     },
     "execution_count": 8,
     "metadata": {},
     "output_type": "execute_result"
    }
   ],
   "source": [
    "quarter_info[:5]"
   ]
  },
  {
   "cell_type": "code",
   "execution_count": null,
   "id": "3f9e4be8",
   "metadata": {
    "colab": {
     "base_uri": "https://localhost:8080/",
     "height": 36
    },
    "id": "3f9e4be8",
    "outputId": "fc18db83-959f-48b2-c494-4caae8d75d3f"
   },
   "outputs": [
    {
     "data": {
      "application/vnd.google.colaboratory.intrinsic+json": {
       "type": "string"
      },
      "text/plain": [
       "'2022-03-14'"
      ]
     },
     "execution_count": 9,
     "metadata": {},
     "output_type": "execute_result"
    }
   ],
   "source": [
    "quarter_info.date.iloc[0]"
   ]
  },
  {
   "cell_type": "code",
   "execution_count": 9,
   "id": "df9fb952",
   "metadata": {
    "colab": {
     "base_uri": "https://localhost:8080/"
    },
    "id": "df9fb952",
    "outputId": "a687dda6-3993-40c5-945b-00c3abb2c5f6",
    "tags": []
   },
   "outputs": [
    {
     "data": {
      "text/plain": [
       "str"
      ]
     },
     "execution_count": 9,
     "metadata": {},
     "output_type": "execute_result"
    }
   ],
   "source": [
    "type(quarter_info.date.iloc[0])"
   ]
  },
  {
   "cell_type": "code",
   "execution_count": 10,
   "id": "11ad7d98",
   "metadata": {
    "colab": {
     "base_uri": "https://localhost:8080/"
    },
    "id": "11ad7d98",
    "outputId": "76a1560c-7940-4793-9909-45aceabee5b9",
    "tags": []
   },
   "outputs": [
    {
     "name": "stderr",
     "output_type": "stream",
     "text": [
      "C:\\Users\\RAJA\\AppData\\Local\\Temp\\ipykernel_9488\\3649251007.py:1: SettingWithCopyWarning: \n",
      "A value is trying to be set on a copy of a slice from a DataFrame.\n",
      "Try using .loc[row_indexer,col_indexer] = value instead\n",
      "\n",
      "See the caveats in the documentation: https://pandas.pydata.org/pandas-docs/stable/user_guide/indexing.html#returning-a-view-versus-a-copy\n",
      "  quarter_info[\"date\"] = pd.to_datetime(quarter_info[\"date\"])\n"
     ]
    }
   ],
   "source": [
    "quarter_info[\"date\"] = pd.to_datetime(quarter_info[\"date\"])"
   ]
  },
  {
   "cell_type": "code",
   "execution_count": 11,
   "id": "94ace164",
   "metadata": {
    "colab": {
     "base_uri": "https://localhost:8080/"
    },
    "id": "94ace164",
    "outputId": "86ffb36d-5b25-4ae4-b934-38a26334d1b7",
    "tags": []
   },
   "outputs": [
    {
     "data": {
      "text/plain": [
       "pandas._libs.tslibs.timestamps.Timestamp"
      ]
     },
     "execution_count": 11,
     "metadata": {},
     "output_type": "execute_result"
    }
   ],
   "source": [
    "type(quarter_info.date.iloc[0])"
   ]
  },
  {
   "cell_type": "code",
   "execution_count": 12,
   "id": "d696c652",
   "metadata": {
    "colab": {
     "base_uri": "https://localhost:8080/",
     "height": 423
    },
    "id": "d696c652",
    "outputId": "6ee4bd0f-91f2-4bfc-8def-da1bd5017b14",
    "tags": []
   },
   "outputs": [
    {
     "data": {
      "text/html": [
       "<div>\n",
       "<style scoped>\n",
       "    .dataframe tbody tr th:only-of-type {\n",
       "        vertical-align: middle;\n",
       "    }\n",
       "\n",
       "    .dataframe tbody tr th {\n",
       "        vertical-align: top;\n",
       "    }\n",
       "\n",
       "    .dataframe thead th {\n",
       "        text-align: right;\n",
       "    }\n",
       "</style>\n",
       "<table border=\"1\" class=\"dataframe\">\n",
       "  <thead>\n",
       "    <tr style=\"text-align: right;\">\n",
       "      <th></th>\n",
       "      <th>price</th>\n",
       "      <th>date</th>\n",
       "    </tr>\n",
       "  </thead>\n",
       "  <tbody>\n",
       "    <tr>\n",
       "      <th>0</th>\n",
       "      <td>29</td>\n",
       "      <td>2022-03-14</td>\n",
       "    </tr>\n",
       "    <tr>\n",
       "      <th>1</th>\n",
       "      <td>60</td>\n",
       "      <td>2022-05-28</td>\n",
       "    </tr>\n",
       "    <tr>\n",
       "      <th>2</th>\n",
       "      <td>73</td>\n",
       "      <td>2022-09-19</td>\n",
       "    </tr>\n",
       "    <tr>\n",
       "      <th>3</th>\n",
       "      <td>89</td>\n",
       "      <td>2022-12-31</td>\n",
       "    </tr>\n",
       "    <tr>\n",
       "      <th>4</th>\n",
       "      <td>26</td>\n",
       "      <td>2022-06-28</td>\n",
       "    </tr>\n",
       "    <tr>\n",
       "      <th>...</th>\n",
       "      <td>...</td>\n",
       "      <td>...</td>\n",
       "    </tr>\n",
       "    <tr>\n",
       "      <th>195</th>\n",
       "      <td>12</td>\n",
       "      <td>2022-01-10</td>\n",
       "    </tr>\n",
       "    <tr>\n",
       "      <th>196</th>\n",
       "      <td>54</td>\n",
       "      <td>2022-02-16</td>\n",
       "    </tr>\n",
       "    <tr>\n",
       "      <th>197</th>\n",
       "      <td>26</td>\n",
       "      <td>2022-11-11</td>\n",
       "    </tr>\n",
       "    <tr>\n",
       "      <th>198</th>\n",
       "      <td>88</td>\n",
       "      <td>2022-07-24</td>\n",
       "    </tr>\n",
       "    <tr>\n",
       "      <th>199</th>\n",
       "      <td>39</td>\n",
       "      <td>2022-12-23</td>\n",
       "    </tr>\n",
       "  </tbody>\n",
       "</table>\n",
       "<p>200 rows × 2 columns</p>\n",
       "</div>"
      ],
      "text/plain": [
       "     price       date\n",
       "0       29 2022-03-14\n",
       "1       60 2022-05-28\n",
       "2       73 2022-09-19\n",
       "3       89 2022-12-31\n",
       "4       26 2022-06-28\n",
       "..     ...        ...\n",
       "195     12 2022-01-10\n",
       "196     54 2022-02-16\n",
       "197     26 2022-11-11\n",
       "198     88 2022-07-24\n",
       "199     39 2022-12-23\n",
       "\n",
       "[200 rows x 2 columns]"
      ]
     },
     "execution_count": 12,
     "metadata": {},
     "output_type": "execute_result"
    }
   ],
   "source": [
    "quarter_info"
   ]
  },
  {
   "cell_type": "code",
   "execution_count": 15,
   "id": "d4239dbe",
   "metadata": {
    "collapsed": true,
    "id": "d4239dbe",
    "jupyter": {
     "outputs_hidden": true
    },
    "tags": []
   },
   "outputs": [
    {
     "name": "stdout",
     "output_type": "stream",
     "text": [
      "Help on DatetimeProperties in module pandas.core.indexes.accessors object:\n",
      "\n",
      "class DatetimeProperties(Properties)\n",
      " |  DatetimeProperties(data: 'Series', orig) -> 'None'\n",
      " |  \n",
      " |  Accessor object for datetimelike properties of the Series values.\n",
      " |  \n",
      " |  Examples\n",
      " |  --------\n",
      " |  >>> seconds_series = pd.Series(pd.date_range(\"2000-01-01\", periods=3, freq=\"s\"))\n",
      " |  >>> seconds_series\n",
      " |  0   2000-01-01 00:00:00\n",
      " |  1   2000-01-01 00:00:01\n",
      " |  2   2000-01-01 00:00:02\n",
      " |  dtype: datetime64[ns]\n",
      " |  >>> seconds_series.dt.second\n",
      " |  0    0\n",
      " |  1    1\n",
      " |  2    2\n",
      " |  dtype: int32\n",
      " |  \n",
      " |  >>> hours_series = pd.Series(pd.date_range(\"2000-01-01\", periods=3, freq=\"h\"))\n",
      " |  >>> hours_series\n",
      " |  0   2000-01-01 00:00:00\n",
      " |  1   2000-01-01 01:00:00\n",
      " |  2   2000-01-01 02:00:00\n",
      " |  dtype: datetime64[ns]\n",
      " |  >>> hours_series.dt.hour\n",
      " |  0    0\n",
      " |  1    1\n",
      " |  2    2\n",
      " |  dtype: int32\n",
      " |  \n",
      " |  >>> quarters_series = pd.Series(pd.date_range(\"2000-01-01\", periods=3, freq=\"q\"))\n",
      " |  >>> quarters_series\n",
      " |  0   2000-03-31\n",
      " |  1   2000-06-30\n",
      " |  2   2000-09-30\n",
      " |  dtype: datetime64[ns]\n",
      " |  >>> quarters_series.dt.quarter\n",
      " |  0    1\n",
      " |  1    2\n",
      " |  2    3\n",
      " |  dtype: int32\n",
      " |  \n",
      " |  Returns a Series indexed like the original Series.\n",
      " |  Raises TypeError if the Series does not contain datetimelike values.\n",
      " |  \n",
      " |  Method resolution order:\n",
      " |      DatetimeProperties\n",
      " |      Properties\n",
      " |      pandas.core.accessor.PandasDelegate\n",
      " |      pandas.core.base.PandasObject\n",
      " |      pandas.core.accessor.DirNamesMixin\n",
      " |      pandas.core.base.NoNewAttributesMixin\n",
      " |      builtins.object\n",
      " |  \n",
      " |  Methods defined here:\n",
      " |  \n",
      " |  as_unit(self, *args, **kwargs)\n",
      " |  \n",
      " |  ceil(self, *args, **kwargs)\n",
      " |      Perform ceil operation on the data to the specified `freq`.\n",
      " |      \n",
      " |      Parameters\n",
      " |      ----------\n",
      " |      freq : str or Offset\n",
      " |          The frequency level to ceil the index to. Must be a fixed\n",
      " |          frequency like 'S' (second) not 'ME' (month end). See\n",
      " |          :ref:`frequency aliases <timeseries.offset_aliases>` for\n",
      " |          a list of possible `freq` values.\n",
      " |      ambiguous : 'infer', bool-ndarray, 'NaT', default 'raise'\n",
      " |          Only relevant for DatetimeIndex:\n",
      " |      \n",
      " |          - 'infer' will attempt to infer fall dst-transition hours based on\n",
      " |            order\n",
      " |          - bool-ndarray where True signifies a DST time, False designates\n",
      " |            a non-DST time (note that this flag is only applicable for\n",
      " |            ambiguous times)\n",
      " |          - 'NaT' will return NaT where there are ambiguous times\n",
      " |          - 'raise' will raise an AmbiguousTimeError if there are ambiguous\n",
      " |            times.\n",
      " |      \n",
      " |      nonexistent : 'shift_forward', 'shift_backward', 'NaT', timedelta, default 'raise'\n",
      " |          A nonexistent time does not exist in a particular timezone\n",
      " |          where clocks moved forward due to DST.\n",
      " |      \n",
      " |          - 'shift_forward' will shift the nonexistent time forward to the\n",
      " |            closest existing time\n",
      " |          - 'shift_backward' will shift the nonexistent time backward to the\n",
      " |            closest existing time\n",
      " |          - 'NaT' will return NaT where there are nonexistent times\n",
      " |          - timedelta objects will shift nonexistent times by the timedelta\n",
      " |          - 'raise' will raise an NonExistentTimeError if there are\n",
      " |            nonexistent times.\n",
      " |      \n",
      " |      Returns\n",
      " |      -------\n",
      " |      DatetimeIndex, TimedeltaIndex, or Series\n",
      " |          Index of the same type for a DatetimeIndex or TimedeltaIndex,\n",
      " |          or a Series with the same index for a Series.\n",
      " |      \n",
      " |      Raises\n",
      " |      ------\n",
      " |      ValueError if the `freq` cannot be converted.\n",
      " |      \n",
      " |      Notes\n",
      " |      -----\n",
      " |      If the timestamps have a timezone, ceiling will take place relative to the\n",
      " |      local (\"wall\") time and re-localized to the same timezone. When ceiling\n",
      " |      near daylight savings time, use ``nonexistent`` and ``ambiguous`` to\n",
      " |      control the re-localization behavior.\n",
      " |      \n",
      " |      Examples\n",
      " |      --------\n",
      " |      **DatetimeIndex**\n",
      " |      \n",
      " |      >>> rng = pd.date_range('1/1/2018 11:59:00', periods=3, freq='min')\n",
      " |      >>> rng\n",
      " |      DatetimeIndex(['2018-01-01 11:59:00', '2018-01-01 12:00:00',\n",
      " |                     '2018-01-01 12:01:00'],\n",
      " |                    dtype='datetime64[ns]', freq='T')\n",
      " |      >>> rng.ceil('H')\n",
      " |      DatetimeIndex(['2018-01-01 12:00:00', '2018-01-01 12:00:00',\n",
      " |                     '2018-01-01 13:00:00'],\n",
      " |                    dtype='datetime64[ns]', freq=None)\n",
      " |      \n",
      " |      **Series**\n",
      " |      \n",
      " |      >>> pd.Series(rng).dt.ceil(\"H\")\n",
      " |      0   2018-01-01 12:00:00\n",
      " |      1   2018-01-01 12:00:00\n",
      " |      2   2018-01-01 13:00:00\n",
      " |      dtype: datetime64[ns]\n",
      " |      \n",
      " |      When rounding near a daylight savings time transition, use ``ambiguous`` or\n",
      " |      ``nonexistent`` to control how the timestamp should be re-localized.\n",
      " |      \n",
      " |      >>> rng_tz = pd.DatetimeIndex([\"2021-10-31 01:30:00\"], tz=\"Europe/Amsterdam\")\n",
      " |      \n",
      " |      >>> rng_tz.ceil(\"H\", ambiguous=False)\n",
      " |      DatetimeIndex(['2021-10-31 02:00:00+01:00'],\n",
      " |                    dtype='datetime64[ns, Europe/Amsterdam]', freq=None)\n",
      " |      \n",
      " |      >>> rng_tz.ceil(\"H\", ambiguous=True)\n",
      " |      DatetimeIndex(['2021-10-31 02:00:00+02:00'],\n",
      " |                    dtype='datetime64[ns, Europe/Amsterdam]', freq=None)\n",
      " |  \n",
      " |  day_name(self, *args, **kwargs)\n",
      " |      Return the day names with specified locale.\n",
      " |      \n",
      " |      Parameters\n",
      " |      ----------\n",
      " |      locale : str, optional\n",
      " |          Locale determining the language in which to return the day name.\n",
      " |          Default is English locale (``'en_US.utf8'``). Use the command\n",
      " |          ``locale -a`` on your terminal on Unix systems to find your locale\n",
      " |          language code.\n",
      " |      \n",
      " |      Returns\n",
      " |      -------\n",
      " |      Series or Index\n",
      " |          Series or Index of day names.\n",
      " |      \n",
      " |      Examples\n",
      " |      --------\n",
      " |      >>> s = pd.Series(pd.date_range(start='2018-01-01', freq='D', periods=3))\n",
      " |      >>> s\n",
      " |      0   2018-01-01\n",
      " |      1   2018-01-02\n",
      " |      2   2018-01-03\n",
      " |      dtype: datetime64[ns]\n",
      " |      >>> s.dt.day_name()\n",
      " |      0       Monday\n",
      " |      1      Tuesday\n",
      " |      2    Wednesday\n",
      " |      dtype: object\n",
      " |      \n",
      " |      >>> idx = pd.date_range(start='2018-01-01', freq='D', periods=3)\n",
      " |      >>> idx\n",
      " |      DatetimeIndex(['2018-01-01', '2018-01-02', '2018-01-03'],\n",
      " |                    dtype='datetime64[ns]', freq='D')\n",
      " |      >>> idx.day_name()\n",
      " |      Index(['Monday', 'Tuesday', 'Wednesday'], dtype='object')\n",
      " |      \n",
      " |      Using the ``locale`` parameter you can set a different locale language,\n",
      " |      for example: ``idx.day_name(locale='pt_BR.utf8')`` will return day\n",
      " |      names in Brazilian Portuguese language.\n",
      " |      \n",
      " |      >>> idx = pd.date_range(start='2018-01-01', freq='D', periods=3)\n",
      " |      >>> idx\n",
      " |      DatetimeIndex(['2018-01-01', '2018-01-02', '2018-01-03'],\n",
      " |                    dtype='datetime64[ns]', freq='D')\n",
      " |      >>> idx.day_name(locale='pt_BR.utf8') # doctest: +SKIP\n",
      " |      Index(['Segunda', 'Terça', 'Quarta'], dtype='object')\n",
      " |  \n",
      " |  floor(self, *args, **kwargs)\n",
      " |      Perform floor operation on the data to the specified `freq`.\n",
      " |      \n",
      " |      Parameters\n",
      " |      ----------\n",
      " |      freq : str or Offset\n",
      " |          The frequency level to floor the index to. Must be a fixed\n",
      " |          frequency like 'S' (second) not 'ME' (month end). See\n",
      " |          :ref:`frequency aliases <timeseries.offset_aliases>` for\n",
      " |          a list of possible `freq` values.\n",
      " |      ambiguous : 'infer', bool-ndarray, 'NaT', default 'raise'\n",
      " |          Only relevant for DatetimeIndex:\n",
      " |      \n",
      " |          - 'infer' will attempt to infer fall dst-transition hours based on\n",
      " |            order\n",
      " |          - bool-ndarray where True signifies a DST time, False designates\n",
      " |            a non-DST time (note that this flag is only applicable for\n",
      " |            ambiguous times)\n",
      " |          - 'NaT' will return NaT where there are ambiguous times\n",
      " |          - 'raise' will raise an AmbiguousTimeError if there are ambiguous\n",
      " |            times.\n",
      " |      \n",
      " |      nonexistent : 'shift_forward', 'shift_backward', 'NaT', timedelta, default 'raise'\n",
      " |          A nonexistent time does not exist in a particular timezone\n",
      " |          where clocks moved forward due to DST.\n",
      " |      \n",
      " |          - 'shift_forward' will shift the nonexistent time forward to the\n",
      " |            closest existing time\n",
      " |          - 'shift_backward' will shift the nonexistent time backward to the\n",
      " |            closest existing time\n",
      " |          - 'NaT' will return NaT where there are nonexistent times\n",
      " |          - timedelta objects will shift nonexistent times by the timedelta\n",
      " |          - 'raise' will raise an NonExistentTimeError if there are\n",
      " |            nonexistent times.\n",
      " |      \n",
      " |      Returns\n",
      " |      -------\n",
      " |      DatetimeIndex, TimedeltaIndex, or Series\n",
      " |          Index of the same type for a DatetimeIndex or TimedeltaIndex,\n",
      " |          or a Series with the same index for a Series.\n",
      " |      \n",
      " |      Raises\n",
      " |      ------\n",
      " |      ValueError if the `freq` cannot be converted.\n",
      " |      \n",
      " |      Notes\n",
      " |      -----\n",
      " |      If the timestamps have a timezone, flooring will take place relative to the\n",
      " |      local (\"wall\") time and re-localized to the same timezone. When flooring\n",
      " |      near daylight savings time, use ``nonexistent`` and ``ambiguous`` to\n",
      " |      control the re-localization behavior.\n",
      " |      \n",
      " |      Examples\n",
      " |      --------\n",
      " |      **DatetimeIndex**\n",
      " |      \n",
      " |      >>> rng = pd.date_range('1/1/2018 11:59:00', periods=3, freq='min')\n",
      " |      >>> rng\n",
      " |      DatetimeIndex(['2018-01-01 11:59:00', '2018-01-01 12:00:00',\n",
      " |                     '2018-01-01 12:01:00'],\n",
      " |                    dtype='datetime64[ns]', freq='T')\n",
      " |      >>> rng.floor('H')\n",
      " |      DatetimeIndex(['2018-01-01 11:00:00', '2018-01-01 12:00:00',\n",
      " |                     '2018-01-01 12:00:00'],\n",
      " |                    dtype='datetime64[ns]', freq=None)\n",
      " |      \n",
      " |      **Series**\n",
      " |      \n",
      " |      >>> pd.Series(rng).dt.floor(\"H\")\n",
      " |      0   2018-01-01 11:00:00\n",
      " |      1   2018-01-01 12:00:00\n",
      " |      2   2018-01-01 12:00:00\n",
      " |      dtype: datetime64[ns]\n",
      " |      \n",
      " |      When rounding near a daylight savings time transition, use ``ambiguous`` or\n",
      " |      ``nonexistent`` to control how the timestamp should be re-localized.\n",
      " |      \n",
      " |      >>> rng_tz = pd.DatetimeIndex([\"2021-10-31 03:30:00\"], tz=\"Europe/Amsterdam\")\n",
      " |      \n",
      " |      >>> rng_tz.floor(\"2H\", ambiguous=False)\n",
      " |      DatetimeIndex(['2021-10-31 02:00:00+01:00'],\n",
      " |                   dtype='datetime64[ns, Europe/Amsterdam]', freq=None)\n",
      " |      \n",
      " |      >>> rng_tz.floor(\"2H\", ambiguous=True)\n",
      " |      DatetimeIndex(['2021-10-31 02:00:00+02:00'],\n",
      " |                    dtype='datetime64[ns, Europe/Amsterdam]', freq=None)\n",
      " |  \n",
      " |  isocalendar(self) -> 'DataFrame'\n",
      " |      Calculate year, week, and day according to the ISO 8601 standard.\n",
      " |      \n",
      " |      .. versionadded:: 1.1.0\n",
      " |      \n",
      " |      Returns\n",
      " |      -------\n",
      " |      DataFrame\n",
      " |          With columns year, week and day.\n",
      " |      \n",
      " |      See Also\n",
      " |      --------\n",
      " |      Timestamp.isocalendar : Function return a 3-tuple containing ISO year,\n",
      " |          week number, and weekday for the given Timestamp object.\n",
      " |      datetime.date.isocalendar : Return a named tuple object with\n",
      " |          three components: year, week and weekday.\n",
      " |      \n",
      " |      Examples\n",
      " |      --------\n",
      " |      >>> ser = pd.to_datetime(pd.Series([\"2010-01-01\", pd.NaT]))\n",
      " |      >>> ser.dt.isocalendar()\n",
      " |         year  week  day\n",
      " |      0  2009    53     5\n",
      " |      1  <NA>  <NA>  <NA>\n",
      " |      >>> ser.dt.isocalendar().week\n",
      " |      0      53\n",
      " |      1    <NA>\n",
      " |      Name: week, dtype: UInt32\n",
      " |  \n",
      " |  month_name(self, *args, **kwargs)\n",
      " |      Return the month names with specified locale.\n",
      " |      \n",
      " |      Parameters\n",
      " |      ----------\n",
      " |      locale : str, optional\n",
      " |          Locale determining the language in which to return the month name.\n",
      " |          Default is English locale (``'en_US.utf8'``). Use the command\n",
      " |          ``locale -a`` on your terminal on Unix systems to find your locale\n",
      " |          language code.\n",
      " |      \n",
      " |      Returns\n",
      " |      -------\n",
      " |      Series or Index\n",
      " |          Series or Index of month names.\n",
      " |      \n",
      " |      Examples\n",
      " |      --------\n",
      " |      >>> s = pd.Series(pd.date_range(start='2018-01', freq='M', periods=3))\n",
      " |      >>> s\n",
      " |      0   2018-01-31\n",
      " |      1   2018-02-28\n",
      " |      2   2018-03-31\n",
      " |      dtype: datetime64[ns]\n",
      " |      >>> s.dt.month_name()\n",
      " |      0     January\n",
      " |      1    February\n",
      " |      2       March\n",
      " |      dtype: object\n",
      " |      \n",
      " |      >>> idx = pd.date_range(start='2018-01', freq='M', periods=3)\n",
      " |      >>> idx\n",
      " |      DatetimeIndex(['2018-01-31', '2018-02-28', '2018-03-31'],\n",
      " |                    dtype='datetime64[ns]', freq='M')\n",
      " |      >>> idx.month_name()\n",
      " |      Index(['January', 'February', 'March'], dtype='object')\n",
      " |      \n",
      " |      Using the ``locale`` parameter you can set a different locale language,\n",
      " |      for example: ``idx.month_name(locale='pt_BR.utf8')`` will return month\n",
      " |      names in Brazilian Portuguese language.\n",
      " |      \n",
      " |      >>> idx = pd.date_range(start='2018-01', freq='M', periods=3)\n",
      " |      >>> idx\n",
      " |      DatetimeIndex(['2018-01-31', '2018-02-28', '2018-03-31'],\n",
      " |                    dtype='datetime64[ns]', freq='M')\n",
      " |      >>> idx.month_name(locale='pt_BR.utf8') # doctest: +SKIP\n",
      " |      Index(['Janeiro', 'Fevereiro', 'Março'], dtype='object')\n",
      " |  \n",
      " |  normalize(self, *args, **kwargs)\n",
      " |      Convert times to midnight.\n",
      " |      \n",
      " |      The time component of the date-time is converted to midnight i.e.\n",
      " |      00:00:00. This is useful in cases, when the time does not matter.\n",
      " |      Length is unaltered. The timezones are unaffected.\n",
      " |      \n",
      " |      This method is available on Series with datetime values under\n",
      " |      the ``.dt`` accessor, and directly on Datetime Array/Index.\n",
      " |      \n",
      " |      Returns\n",
      " |      -------\n",
      " |      DatetimeArray, DatetimeIndex or Series\n",
      " |          The same type as the original data. Series will have the same\n",
      " |          name and index. DatetimeIndex will have the same name.\n",
      " |      \n",
      " |      See Also\n",
      " |      --------\n",
      " |      floor : Floor the datetimes to the specified freq.\n",
      " |      ceil : Ceil the datetimes to the specified freq.\n",
      " |      round : Round the datetimes to the specified freq.\n",
      " |      \n",
      " |      Examples\n",
      " |      --------\n",
      " |      >>> idx = pd.date_range(start='2014-08-01 10:00', freq='H',\n",
      " |      ...                     periods=3, tz='Asia/Calcutta')\n",
      " |      >>> idx\n",
      " |      DatetimeIndex(['2014-08-01 10:00:00+05:30',\n",
      " |                     '2014-08-01 11:00:00+05:30',\n",
      " |                     '2014-08-01 12:00:00+05:30'],\n",
      " |                      dtype='datetime64[ns, Asia/Calcutta]', freq='H')\n",
      " |      >>> idx.normalize()\n",
      " |      DatetimeIndex(['2014-08-01 00:00:00+05:30',\n",
      " |                     '2014-08-01 00:00:00+05:30',\n",
      " |                     '2014-08-01 00:00:00+05:30'],\n",
      " |                     dtype='datetime64[ns, Asia/Calcutta]', freq=None)\n",
      " |  \n",
      " |  round(self, *args, **kwargs)\n",
      " |      Perform round operation on the data to the specified `freq`.\n",
      " |      \n",
      " |      Parameters\n",
      " |      ----------\n",
      " |      freq : str or Offset\n",
      " |          The frequency level to round the index to. Must be a fixed\n",
      " |          frequency like 'S' (second) not 'ME' (month end). See\n",
      " |          :ref:`frequency aliases <timeseries.offset_aliases>` for\n",
      " |          a list of possible `freq` values.\n",
      " |      ambiguous : 'infer', bool-ndarray, 'NaT', default 'raise'\n",
      " |          Only relevant for DatetimeIndex:\n",
      " |      \n",
      " |          - 'infer' will attempt to infer fall dst-transition hours based on\n",
      " |            order\n",
      " |          - bool-ndarray where True signifies a DST time, False designates\n",
      " |            a non-DST time (note that this flag is only applicable for\n",
      " |            ambiguous times)\n",
      " |          - 'NaT' will return NaT where there are ambiguous times\n",
      " |          - 'raise' will raise an AmbiguousTimeError if there are ambiguous\n",
      " |            times.\n",
      " |      \n",
      " |      nonexistent : 'shift_forward', 'shift_backward', 'NaT', timedelta, default 'raise'\n",
      " |          A nonexistent time does not exist in a particular timezone\n",
      " |          where clocks moved forward due to DST.\n",
      " |      \n",
      " |          - 'shift_forward' will shift the nonexistent time forward to the\n",
      " |            closest existing time\n",
      " |          - 'shift_backward' will shift the nonexistent time backward to the\n",
      " |            closest existing time\n",
      " |          - 'NaT' will return NaT where there are nonexistent times\n",
      " |          - timedelta objects will shift nonexistent times by the timedelta\n",
      " |          - 'raise' will raise an NonExistentTimeError if there are\n",
      " |            nonexistent times.\n",
      " |      \n",
      " |      Returns\n",
      " |      -------\n",
      " |      DatetimeIndex, TimedeltaIndex, or Series\n",
      " |          Index of the same type for a DatetimeIndex or TimedeltaIndex,\n",
      " |          or a Series with the same index for a Series.\n",
      " |      \n",
      " |      Raises\n",
      " |      ------\n",
      " |      ValueError if the `freq` cannot be converted.\n",
      " |      \n",
      " |      Notes\n",
      " |      -----\n",
      " |      If the timestamps have a timezone, rounding will take place relative to the\n",
      " |      local (\"wall\") time and re-localized to the same timezone. When rounding\n",
      " |      near daylight savings time, use ``nonexistent`` and ``ambiguous`` to\n",
      " |      control the re-localization behavior.\n",
      " |      \n",
      " |      Examples\n",
      " |      --------\n",
      " |      **DatetimeIndex**\n",
      " |      \n",
      " |      >>> rng = pd.date_range('1/1/2018 11:59:00', periods=3, freq='min')\n",
      " |      >>> rng\n",
      " |      DatetimeIndex(['2018-01-01 11:59:00', '2018-01-01 12:00:00',\n",
      " |                     '2018-01-01 12:01:00'],\n",
      " |                    dtype='datetime64[ns]', freq='T')\n",
      " |      >>> rng.round('H')\n",
      " |      DatetimeIndex(['2018-01-01 12:00:00', '2018-01-01 12:00:00',\n",
      " |                     '2018-01-01 12:00:00'],\n",
      " |                    dtype='datetime64[ns]', freq=None)\n",
      " |      \n",
      " |      **Series**\n",
      " |      \n",
      " |      >>> pd.Series(rng).dt.round(\"H\")\n",
      " |      0   2018-01-01 12:00:00\n",
      " |      1   2018-01-01 12:00:00\n",
      " |      2   2018-01-01 12:00:00\n",
      " |      dtype: datetime64[ns]\n",
      " |      \n",
      " |      When rounding near a daylight savings time transition, use ``ambiguous`` or\n",
      " |      ``nonexistent`` to control how the timestamp should be re-localized.\n",
      " |      \n",
      " |      >>> rng_tz = pd.DatetimeIndex([\"2021-10-31 03:30:00\"], tz=\"Europe/Amsterdam\")\n",
      " |      \n",
      " |      >>> rng_tz.floor(\"2H\", ambiguous=False)\n",
      " |      DatetimeIndex(['2021-10-31 02:00:00+01:00'],\n",
      " |                    dtype='datetime64[ns, Europe/Amsterdam]', freq=None)\n",
      " |      \n",
      " |      >>> rng_tz.floor(\"2H\", ambiguous=True)\n",
      " |      DatetimeIndex(['2021-10-31 02:00:00+02:00'],\n",
      " |                    dtype='datetime64[ns, Europe/Amsterdam]', freq=None)\n",
      " |  \n",
      " |  strftime(self, *args, **kwargs)\n",
      " |      Convert to Index using specified date_format.\n",
      " |      \n",
      " |      Return an Index of formatted strings specified by date_format, which\n",
      " |      supports the same string format as the python standard library. Details\n",
      " |      of the string format can be found in `python string format\n",
      " |      doc <https://docs.python.org/3/library/datetime.html#strftime-and-strptime-behavior>`__.\n",
      " |      \n",
      " |      Formats supported by the C `strftime` API but not by the python string format\n",
      " |      doc (such as `\"%R\"`, `\"%r\"`) are not officially supported and should be\n",
      " |      preferably replaced with their supported equivalents (such as `\"%H:%M\"`,\n",
      " |      `\"%I:%M:%S %p\"`).\n",
      " |      \n",
      " |      Note that `PeriodIndex` support additional directives, detailed in\n",
      " |      `Period.strftime`.\n",
      " |      \n",
      " |      Parameters\n",
      " |      ----------\n",
      " |      date_format : str\n",
      " |          Date format string (e.g. \"%Y-%m-%d\").\n",
      " |      \n",
      " |      Returns\n",
      " |      -------\n",
      " |      ndarray[object]\n",
      " |          NumPy ndarray of formatted strings.\n",
      " |      \n",
      " |      See Also\n",
      " |      --------\n",
      " |      to_datetime : Convert the given argument to datetime.\n",
      " |      DatetimeIndex.normalize : Return DatetimeIndex with times to midnight.\n",
      " |      DatetimeIndex.round : Round the DatetimeIndex to the specified freq.\n",
      " |      DatetimeIndex.floor : Floor the DatetimeIndex to the specified freq.\n",
      " |      Timestamp.strftime : Format a single Timestamp.\n",
      " |      Period.strftime : Format a single Period.\n",
      " |      \n",
      " |      Examples\n",
      " |      --------\n",
      " |      >>> rng = pd.date_range(pd.Timestamp(\"2018-03-10 09:00\"),\n",
      " |      ...                     periods=3, freq='s')\n",
      " |      >>> rng.strftime('%B %d, %Y, %r')\n",
      " |      Index(['March 10, 2018, 09:00:00 AM', 'March 10, 2018, 09:00:01 AM',\n",
      " |             'March 10, 2018, 09:00:02 AM'],\n",
      " |            dtype='object')\n",
      " |  \n",
      " |  to_period(self, *args, **kwargs)\n",
      " |      Cast to PeriodArray/Index at a particular frequency.\n",
      " |      \n",
      " |      Converts DatetimeArray/Index to PeriodArray/Index.\n",
      " |      \n",
      " |      Parameters\n",
      " |      ----------\n",
      " |      freq : str or Offset, optional\n",
      " |          One of pandas' :ref:`offset strings <timeseries.offset_aliases>`\n",
      " |          or an Offset object. Will be inferred by default.\n",
      " |      \n",
      " |      Returns\n",
      " |      -------\n",
      " |      PeriodArray/Index\n",
      " |      \n",
      " |      Raises\n",
      " |      ------\n",
      " |      ValueError\n",
      " |          When converting a DatetimeArray/Index with non-regular values,\n",
      " |          so that a frequency cannot be inferred.\n",
      " |      \n",
      " |      See Also\n",
      " |      --------\n",
      " |      PeriodIndex: Immutable ndarray holding ordinal values.\n",
      " |      DatetimeIndex.to_pydatetime: Return DatetimeIndex as object.\n",
      " |      \n",
      " |      Examples\n",
      " |      --------\n",
      " |      >>> df = pd.DataFrame({\"y\": [1, 2, 3]},\n",
      " |      ...                   index=pd.to_datetime([\"2000-03-31 00:00:00\",\n",
      " |      ...                                         \"2000-05-31 00:00:00\",\n",
      " |      ...                                         \"2000-08-31 00:00:00\"]))\n",
      " |      >>> df.index.to_period(\"M\")\n",
      " |      PeriodIndex(['2000-03', '2000-05', '2000-08'],\n",
      " |                  dtype='period[M]')\n",
      " |      \n",
      " |      Infer the daily frequency\n",
      " |      \n",
      " |      >>> idx = pd.date_range(\"2017-01-01\", periods=2)\n",
      " |      >>> idx.to_period()\n",
      " |      PeriodIndex(['2017-01-01', '2017-01-02'],\n",
      " |                  dtype='period[D]')\n",
      " |  \n",
      " |  to_pydatetime(self) -> 'np.ndarray'\n",
      " |      Return the data as an array of :class:`datetime.datetime` objects.\n",
      " |      \n",
      " |      Timezone information is retained if present.\n",
      " |      \n",
      " |      .. warning::\n",
      " |      \n",
      " |         Python's datetime uses microsecond resolution, which is lower than\n",
      " |         pandas (nanosecond). The values are truncated.\n",
      " |      \n",
      " |      Returns\n",
      " |      -------\n",
      " |      numpy.ndarray\n",
      " |          Object dtype array containing native Python datetime objects.\n",
      " |      \n",
      " |      See Also\n",
      " |      --------\n",
      " |      datetime.datetime : Standard library value for a datetime.\n",
      " |      \n",
      " |      Examples\n",
      " |      --------\n",
      " |      >>> s = pd.Series(pd.date_range('20180310', periods=2))\n",
      " |      >>> s\n",
      " |      0   2018-03-10\n",
      " |      1   2018-03-11\n",
      " |      dtype: datetime64[ns]\n",
      " |      \n",
      " |      >>> s.dt.to_pydatetime()\n",
      " |      array([datetime.datetime(2018, 3, 10, 0, 0),\n",
      " |             datetime.datetime(2018, 3, 11, 0, 0)], dtype=object)\n",
      " |      \n",
      " |      pandas' nanosecond precision is truncated to microseconds.\n",
      " |      \n",
      " |      >>> s = pd.Series(pd.date_range('20180310', periods=2, freq='ns'))\n",
      " |      >>> s\n",
      " |      0   2018-03-10 00:00:00.000000000\n",
      " |      1   2018-03-10 00:00:00.000000001\n",
      " |      dtype: datetime64[ns]\n",
      " |      \n",
      " |      >>> s.dt.to_pydatetime()\n",
      " |      array([datetime.datetime(2018, 3, 10, 0, 0),\n",
      " |             datetime.datetime(2018, 3, 10, 0, 0)], dtype=object)\n",
      " |  \n",
      " |  tz_convert(self, *args, **kwargs)\n",
      " |      Convert tz-aware Datetime Array/Index from one time zone to another.\n",
      " |      \n",
      " |      Parameters\n",
      " |      ----------\n",
      " |      tz : str, pytz.timezone, dateutil.tz.tzfile, datetime.tzinfo or None\n",
      " |          Time zone for time. Corresponding timestamps would be converted\n",
      " |          to this time zone of the Datetime Array/Index. A `tz` of None will\n",
      " |          convert to UTC and remove the timezone information.\n",
      " |      \n",
      " |      Returns\n",
      " |      -------\n",
      " |      Array or Index\n",
      " |      \n",
      " |      Raises\n",
      " |      ------\n",
      " |      TypeError\n",
      " |          If Datetime Array/Index is tz-naive.\n",
      " |      \n",
      " |      See Also\n",
      " |      --------\n",
      " |      DatetimeIndex.tz : A timezone that has a variable offset from UTC.\n",
      " |      DatetimeIndex.tz_localize : Localize tz-naive DatetimeIndex to a\n",
      " |          given time zone, or remove timezone from a tz-aware DatetimeIndex.\n",
      " |      \n",
      " |      Examples\n",
      " |      --------\n",
      " |      With the `tz` parameter, we can change the DatetimeIndex\n",
      " |      to other time zones:\n",
      " |      \n",
      " |      >>> dti = pd.date_range(start='2014-08-01 09:00',\n",
      " |      ...                     freq='H', periods=3, tz='Europe/Berlin')\n",
      " |      \n",
      " |      >>> dti\n",
      " |      DatetimeIndex(['2014-08-01 09:00:00+02:00',\n",
      " |                     '2014-08-01 10:00:00+02:00',\n",
      " |                     '2014-08-01 11:00:00+02:00'],\n",
      " |                    dtype='datetime64[ns, Europe/Berlin]', freq='H')\n",
      " |      \n",
      " |      >>> dti.tz_convert('US/Central')\n",
      " |      DatetimeIndex(['2014-08-01 02:00:00-05:00',\n",
      " |                     '2014-08-01 03:00:00-05:00',\n",
      " |                     '2014-08-01 04:00:00-05:00'],\n",
      " |                    dtype='datetime64[ns, US/Central]', freq='H')\n",
      " |      \n",
      " |      With the ``tz=None``, we can remove the timezone (after converting\n",
      " |      to UTC if necessary):\n",
      " |      \n",
      " |      >>> dti = pd.date_range(start='2014-08-01 09:00', freq='H',\n",
      " |      ...                     periods=3, tz='Europe/Berlin')\n",
      " |      \n",
      " |      >>> dti\n",
      " |      DatetimeIndex(['2014-08-01 09:00:00+02:00',\n",
      " |                     '2014-08-01 10:00:00+02:00',\n",
      " |                     '2014-08-01 11:00:00+02:00'],\n",
      " |                      dtype='datetime64[ns, Europe/Berlin]', freq='H')\n",
      " |      \n",
      " |      >>> dti.tz_convert(None)\n",
      " |      DatetimeIndex(['2014-08-01 07:00:00',\n",
      " |                     '2014-08-01 08:00:00',\n",
      " |                     '2014-08-01 09:00:00'],\n",
      " |                      dtype='datetime64[ns]', freq='H')\n",
      " |  \n",
      " |  tz_localize(self, *args, **kwargs)\n",
      " |      Localize tz-naive Datetime Array/Index to tz-aware Datetime Array/Index.\n",
      " |      \n",
      " |      This method takes a time zone (tz) naive Datetime Array/Index object\n",
      " |      and makes this time zone aware. It does not move the time to another\n",
      " |      time zone.\n",
      " |      \n",
      " |      This method can also be used to do the inverse -- to create a time\n",
      " |      zone unaware object from an aware object. To that end, pass `tz=None`.\n",
      " |      \n",
      " |      Parameters\n",
      " |      ----------\n",
      " |      tz : str, pytz.timezone, dateutil.tz.tzfile, datetime.tzinfo or None\n",
      " |          Time zone to convert timestamps to. Passing ``None`` will\n",
      " |          remove the time zone information preserving local time.\n",
      " |      ambiguous : 'infer', 'NaT', bool array, default 'raise'\n",
      " |          When clocks moved backward due to DST, ambiguous times may arise.\n",
      " |          For example in Central European Time (UTC+01), when going from\n",
      " |          03:00 DST to 02:00 non-DST, 02:30:00 local time occurs both at\n",
      " |          00:30:00 UTC and at 01:30:00 UTC. In such a situation, the\n",
      " |          `ambiguous` parameter dictates how ambiguous times should be\n",
      " |          handled.\n",
      " |      \n",
      " |          - 'infer' will attempt to infer fall dst-transition hours based on\n",
      " |            order\n",
      " |          - bool-ndarray where True signifies a DST time, False signifies a\n",
      " |            non-DST time (note that this flag is only applicable for\n",
      " |            ambiguous times)\n",
      " |          - 'NaT' will return NaT where there are ambiguous times\n",
      " |          - 'raise' will raise an AmbiguousTimeError if there are ambiguous\n",
      " |            times.\n",
      " |      \n",
      " |      nonexistent : 'shift_forward', 'shift_backward, 'NaT', timedelta, default 'raise'\n",
      " |          A nonexistent time does not exist in a particular timezone\n",
      " |          where clocks moved forward due to DST.\n",
      " |      \n",
      " |          - 'shift_forward' will shift the nonexistent time forward to the\n",
      " |            closest existing time\n",
      " |          - 'shift_backward' will shift the nonexistent time backward to the\n",
      " |            closest existing time\n",
      " |          - 'NaT' will return NaT where there are nonexistent times\n",
      " |          - timedelta objects will shift nonexistent times by the timedelta\n",
      " |          - 'raise' will raise an NonExistentTimeError if there are\n",
      " |            nonexistent times.\n",
      " |      \n",
      " |      Returns\n",
      " |      -------\n",
      " |      Same type as self\n",
      " |          Array/Index converted to the specified time zone.\n",
      " |      \n",
      " |      Raises\n",
      " |      ------\n",
      " |      TypeError\n",
      " |          If the Datetime Array/Index is tz-aware and tz is not None.\n",
      " |      \n",
      " |      See Also\n",
      " |      --------\n",
      " |      DatetimeIndex.tz_convert : Convert tz-aware DatetimeIndex from\n",
      " |          one time zone to another.\n",
      " |      \n",
      " |      Examples\n",
      " |      --------\n",
      " |      >>> tz_naive = pd.date_range('2018-03-01 09:00', periods=3)\n",
      " |      >>> tz_naive\n",
      " |      DatetimeIndex(['2018-03-01 09:00:00', '2018-03-02 09:00:00',\n",
      " |                     '2018-03-03 09:00:00'],\n",
      " |                    dtype='datetime64[ns]', freq='D')\n",
      " |      \n",
      " |      Localize DatetimeIndex in US/Eastern time zone:\n",
      " |      \n",
      " |      >>> tz_aware = tz_naive.tz_localize(tz='US/Eastern')\n",
      " |      >>> tz_aware\n",
      " |      DatetimeIndex(['2018-03-01 09:00:00-05:00',\n",
      " |                     '2018-03-02 09:00:00-05:00',\n",
      " |                     '2018-03-03 09:00:00-05:00'],\n",
      " |                    dtype='datetime64[ns, US/Eastern]', freq=None)\n",
      " |      \n",
      " |      With the ``tz=None``, we can remove the time zone information\n",
      " |      while keeping the local time (not converted to UTC):\n",
      " |      \n",
      " |      >>> tz_aware.tz_localize(None)\n",
      " |      DatetimeIndex(['2018-03-01 09:00:00', '2018-03-02 09:00:00',\n",
      " |                     '2018-03-03 09:00:00'],\n",
      " |                    dtype='datetime64[ns]', freq=None)\n",
      " |      \n",
      " |      Be careful with DST changes. When there is sequential data, pandas can\n",
      " |      infer the DST time:\n",
      " |      \n",
      " |      >>> s = pd.to_datetime(pd.Series(['2018-10-28 01:30:00',\n",
      " |      ...                               '2018-10-28 02:00:00',\n",
      " |      ...                               '2018-10-28 02:30:00',\n",
      " |      ...                               '2018-10-28 02:00:00',\n",
      " |      ...                               '2018-10-28 02:30:00',\n",
      " |      ...                               '2018-10-28 03:00:00',\n",
      " |      ...                               '2018-10-28 03:30:00']))\n",
      " |      >>> s.dt.tz_localize('CET', ambiguous='infer')\n",
      " |      0   2018-10-28 01:30:00+02:00\n",
      " |      1   2018-10-28 02:00:00+02:00\n",
      " |      2   2018-10-28 02:30:00+02:00\n",
      " |      3   2018-10-28 02:00:00+01:00\n",
      " |      4   2018-10-28 02:30:00+01:00\n",
      " |      5   2018-10-28 03:00:00+01:00\n",
      " |      6   2018-10-28 03:30:00+01:00\n",
      " |      dtype: datetime64[ns, CET]\n",
      " |      \n",
      " |      In some cases, inferring the DST is impossible. In such cases, you can\n",
      " |      pass an ndarray to the ambiguous parameter to set the DST explicitly\n",
      " |      \n",
      " |      >>> s = pd.to_datetime(pd.Series(['2018-10-28 01:20:00',\n",
      " |      ...                               '2018-10-28 02:36:00',\n",
      " |      ...                               '2018-10-28 03:46:00']))\n",
      " |      >>> s.dt.tz_localize('CET', ambiguous=np.array([True, True, False]))\n",
      " |      0   2018-10-28 01:20:00+02:00\n",
      " |      1   2018-10-28 02:36:00+02:00\n",
      " |      2   2018-10-28 03:46:00+01:00\n",
      " |      dtype: datetime64[ns, CET]\n",
      " |      \n",
      " |      If the DST transition causes nonexistent times, you can shift these\n",
      " |      dates forward or backwards with a timedelta object or `'shift_forward'`\n",
      " |      or `'shift_backwards'`.\n",
      " |      \n",
      " |      >>> s = pd.to_datetime(pd.Series(['2015-03-29 02:30:00',\n",
      " |      ...                               '2015-03-29 03:30:00']))\n",
      " |      >>> s.dt.tz_localize('Europe/Warsaw', nonexistent='shift_forward')\n",
      " |      0   2015-03-29 03:00:00+02:00\n",
      " |      1   2015-03-29 03:30:00+02:00\n",
      " |      dtype: datetime64[ns, Europe/Warsaw]\n",
      " |      \n",
      " |      >>> s.dt.tz_localize('Europe/Warsaw', nonexistent='shift_backward')\n",
      " |      0   2015-03-29 01:59:59.999999999+01:00\n",
      " |      1   2015-03-29 03:30:00+02:00\n",
      " |      dtype: datetime64[ns, Europe/Warsaw]\n",
      " |      \n",
      " |      >>> s.dt.tz_localize('Europe/Warsaw', nonexistent=pd.Timedelta('1H'))\n",
      " |      0   2015-03-29 03:30:00+02:00\n",
      " |      1   2015-03-29 03:30:00+02:00\n",
      " |      dtype: datetime64[ns, Europe/Warsaw]\n",
      " |  \n",
      " |  ----------------------------------------------------------------------\n",
      " |  Readonly properties defined here:\n",
      " |  \n",
      " |  freq\n",
      " |  \n",
      " |  ----------------------------------------------------------------------\n",
      " |  Data descriptors defined here:\n",
      " |  \n",
      " |  date\n",
      " |      Returns numpy array of python :class:`datetime.date` objects.\n",
      " |      \n",
      " |      Namely, the date part of Timestamps without time and\n",
      " |      timezone information.\n",
      " |  \n",
      " |  day\n",
      " |      The day of the datetime.\n",
      " |      \n",
      " |      Examples\n",
      " |      --------\n",
      " |      >>> datetime_series = pd.Series(\n",
      " |      ...     pd.date_range(\"2000-01-01\", periods=3, freq=\"D\")\n",
      " |      ... )\n",
      " |      >>> datetime_series\n",
      " |      0   2000-01-01\n",
      " |      1   2000-01-02\n",
      " |      2   2000-01-03\n",
      " |      dtype: datetime64[ns]\n",
      " |      >>> datetime_series.dt.day\n",
      " |      0    1\n",
      " |      1    2\n",
      " |      2    3\n",
      " |      dtype: int32\n",
      " |  \n",
      " |  day_of_week\n",
      " |      The day of the week with Monday=0, Sunday=6.\n",
      " |      \n",
      " |      Return the day of the week. It is assumed the week starts on\n",
      " |      Monday, which is denoted by 0 and ends on Sunday which is denoted\n",
      " |      by 6. This method is available on both Series with datetime\n",
      " |      values (using the `dt` accessor) or DatetimeIndex.\n",
      " |      \n",
      " |      Returns\n",
      " |      -------\n",
      " |      Series or Index\n",
      " |          Containing integers indicating the day number.\n",
      " |      \n",
      " |      See Also\n",
      " |      --------\n",
      " |      Series.dt.dayofweek : Alias.\n",
      " |      Series.dt.weekday : Alias.\n",
      " |      Series.dt.day_name : Returns the name of the day of the week.\n",
      " |      \n",
      " |      Examples\n",
      " |      --------\n",
      " |      >>> s = pd.date_range('2016-12-31', '2017-01-08', freq='D').to_series()\n",
      " |      >>> s.dt.dayofweek\n",
      " |      2016-12-31    5\n",
      " |      2017-01-01    6\n",
      " |      2017-01-02    0\n",
      " |      2017-01-03    1\n",
      " |      2017-01-04    2\n",
      " |      2017-01-05    3\n",
      " |      2017-01-06    4\n",
      " |      2017-01-07    5\n",
      " |      2017-01-08    6\n",
      " |      Freq: D, dtype: int32\n",
      " |  \n",
      " |  day_of_year\n",
      " |      The ordinal day of the year.\n",
      " |  \n",
      " |  dayofweek\n",
      " |      The day of the week with Monday=0, Sunday=6.\n",
      " |      \n",
      " |      Return the day of the week. It is assumed the week starts on\n",
      " |      Monday, which is denoted by 0 and ends on Sunday which is denoted\n",
      " |      by 6. This method is available on both Series with datetime\n",
      " |      values (using the `dt` accessor) or DatetimeIndex.\n",
      " |      \n",
      " |      Returns\n",
      " |      -------\n",
      " |      Series or Index\n",
      " |          Containing integers indicating the day number.\n",
      " |      \n",
      " |      See Also\n",
      " |      --------\n",
      " |      Series.dt.dayofweek : Alias.\n",
      " |      Series.dt.weekday : Alias.\n",
      " |      Series.dt.day_name : Returns the name of the day of the week.\n",
      " |      \n",
      " |      Examples\n",
      " |      --------\n",
      " |      >>> s = pd.date_range('2016-12-31', '2017-01-08', freq='D').to_series()\n",
      " |      >>> s.dt.dayofweek\n",
      " |      2016-12-31    5\n",
      " |      2017-01-01    6\n",
      " |      2017-01-02    0\n",
      " |      2017-01-03    1\n",
      " |      2017-01-04    2\n",
      " |      2017-01-05    3\n",
      " |      2017-01-06    4\n",
      " |      2017-01-07    5\n",
      " |      2017-01-08    6\n",
      " |      Freq: D, dtype: int32\n",
      " |  \n",
      " |  dayofyear\n",
      " |      The ordinal day of the year.\n",
      " |  \n",
      " |  days_in_month\n",
      " |      The number of days in the month.\n",
      " |  \n",
      " |  daysinmonth\n",
      " |      The number of days in the month.\n",
      " |  \n",
      " |  hour\n",
      " |      The hours of the datetime.\n",
      " |      \n",
      " |      Examples\n",
      " |      --------\n",
      " |      >>> datetime_series = pd.Series(\n",
      " |      ...     pd.date_range(\"2000-01-01\", periods=3, freq=\"h\")\n",
      " |      ... )\n",
      " |      >>> datetime_series\n",
      " |      0   2000-01-01 00:00:00\n",
      " |      1   2000-01-01 01:00:00\n",
      " |      2   2000-01-01 02:00:00\n",
      " |      dtype: datetime64[ns]\n",
      " |      >>> datetime_series.dt.hour\n",
      " |      0    0\n",
      " |      1    1\n",
      " |      2    2\n",
      " |      dtype: int32\n",
      " |  \n",
      " |  is_leap_year\n",
      " |      Boolean indicator if the date belongs to a leap year.\n",
      " |      \n",
      " |      A leap year is a year, which has 366 days (instead of 365) including\n",
      " |      29th of February as an intercalary day.\n",
      " |      Leap years are years which are multiples of four with the exception\n",
      " |      of years divisible by 100 but not by 400.\n",
      " |      \n",
      " |      Returns\n",
      " |      -------\n",
      " |      Series or ndarray\n",
      " |           Booleans indicating if dates belong to a leap year.\n",
      " |      \n",
      " |      Examples\n",
      " |      --------\n",
      " |      This method is available on Series with datetime values under\n",
      " |      the ``.dt`` accessor, and directly on DatetimeIndex.\n",
      " |      \n",
      " |      >>> idx = pd.date_range(\"2012-01-01\", \"2015-01-01\", freq=\"Y\")\n",
      " |      >>> idx\n",
      " |      DatetimeIndex(['2012-12-31', '2013-12-31', '2014-12-31'],\n",
      " |                    dtype='datetime64[ns]', freq='A-DEC')\n",
      " |      >>> idx.is_leap_year\n",
      " |      array([ True, False, False])\n",
      " |      \n",
      " |      >>> dates_series = pd.Series(idx)\n",
      " |      >>> dates_series\n",
      " |      0   2012-12-31\n",
      " |      1   2013-12-31\n",
      " |      2   2014-12-31\n",
      " |      dtype: datetime64[ns]\n",
      " |      >>> dates_series.dt.is_leap_year\n",
      " |      0     True\n",
      " |      1    False\n",
      " |      2    False\n",
      " |      dtype: bool\n",
      " |  \n",
      " |  is_month_end\n",
      " |      Indicates whether the date is the last day of the month.\n",
      " |      \n",
      " |      Returns\n",
      " |      -------\n",
      " |      Series or array\n",
      " |          For Series, returns a Series with boolean values.\n",
      " |          For DatetimeIndex, returns a boolean array.\n",
      " |      \n",
      " |      See Also\n",
      " |      --------\n",
      " |      is_month_start : Return a boolean indicating whether the date\n",
      " |          is the first day of the month.\n",
      " |      is_month_end : Return a boolean indicating whether the date\n",
      " |          is the last day of the month.\n",
      " |      \n",
      " |      Examples\n",
      " |      --------\n",
      " |      This method is available on Series with datetime values under\n",
      " |      the ``.dt`` accessor, and directly on DatetimeIndex.\n",
      " |      \n",
      " |      >>> s = pd.Series(pd.date_range(\"2018-02-27\", periods=3))\n",
      " |      >>> s\n",
      " |      0   2018-02-27\n",
      " |      1   2018-02-28\n",
      " |      2   2018-03-01\n",
      " |      dtype: datetime64[ns]\n",
      " |      >>> s.dt.is_month_start\n",
      " |      0    False\n",
      " |      1    False\n",
      " |      2    True\n",
      " |      dtype: bool\n",
      " |      >>> s.dt.is_month_end\n",
      " |      0    False\n",
      " |      1    True\n",
      " |      2    False\n",
      " |      dtype: bool\n",
      " |      \n",
      " |      >>> idx = pd.date_range(\"2018-02-27\", periods=3)\n",
      " |      >>> idx.is_month_start\n",
      " |      array([False, False, True])\n",
      " |      >>> idx.is_month_end\n",
      " |      array([False, True, False])\n",
      " |  \n",
      " |  is_month_start\n",
      " |      Indicates whether the date is the first day of the month.\n",
      " |      \n",
      " |      Returns\n",
      " |      -------\n",
      " |      Series or array\n",
      " |          For Series, returns a Series with boolean values.\n",
      " |          For DatetimeIndex, returns a boolean array.\n",
      " |      \n",
      " |      See Also\n",
      " |      --------\n",
      " |      is_month_start : Return a boolean indicating whether the date\n",
      " |          is the first day of the month.\n",
      " |      is_month_end : Return a boolean indicating whether the date\n",
      " |          is the last day of the month.\n",
      " |      \n",
      " |      Examples\n",
      " |      --------\n",
      " |      This method is available on Series with datetime values under\n",
      " |      the ``.dt`` accessor, and directly on DatetimeIndex.\n",
      " |      \n",
      " |      >>> s = pd.Series(pd.date_range(\"2018-02-27\", periods=3))\n",
      " |      >>> s\n",
      " |      0   2018-02-27\n",
      " |      1   2018-02-28\n",
      " |      2   2018-03-01\n",
      " |      dtype: datetime64[ns]\n",
      " |      >>> s.dt.is_month_start\n",
      " |      0    False\n",
      " |      1    False\n",
      " |      2    True\n",
      " |      dtype: bool\n",
      " |      >>> s.dt.is_month_end\n",
      " |      0    False\n",
      " |      1    True\n",
      " |      2    False\n",
      " |      dtype: bool\n",
      " |      \n",
      " |      >>> idx = pd.date_range(\"2018-02-27\", periods=3)\n",
      " |      >>> idx.is_month_start\n",
      " |      array([False, False, True])\n",
      " |      >>> idx.is_month_end\n",
      " |      array([False, True, False])\n",
      " |  \n",
      " |  is_quarter_end\n",
      " |      Indicator for whether the date is the last day of a quarter.\n",
      " |      \n",
      " |      Returns\n",
      " |      -------\n",
      " |      is_quarter_end : Series or DatetimeIndex\n",
      " |          The same type as the original data with boolean values. Series will\n",
      " |          have the same name and index. DatetimeIndex will have the same\n",
      " |          name.\n",
      " |      \n",
      " |      See Also\n",
      " |      --------\n",
      " |      quarter : Return the quarter of the date.\n",
      " |      is_quarter_start : Similar property indicating the quarter start.\n",
      " |      \n",
      " |      Examples\n",
      " |      --------\n",
      " |      This method is available on Series with datetime values under\n",
      " |      the ``.dt`` accessor, and directly on DatetimeIndex.\n",
      " |      \n",
      " |      >>> df = pd.DataFrame({'dates': pd.date_range(\"2017-03-30\",\n",
      " |      ...                    periods=4)})\n",
      " |      >>> df.assign(quarter=df.dates.dt.quarter,\n",
      " |      ...           is_quarter_end=df.dates.dt.is_quarter_end)\n",
      " |             dates  quarter    is_quarter_end\n",
      " |      0 2017-03-30        1             False\n",
      " |      1 2017-03-31        1              True\n",
      " |      2 2017-04-01        2             False\n",
      " |      3 2017-04-02        2             False\n",
      " |      \n",
      " |      >>> idx = pd.date_range('2017-03-30', periods=4)\n",
      " |      >>> idx\n",
      " |      DatetimeIndex(['2017-03-30', '2017-03-31', '2017-04-01', '2017-04-02'],\n",
      " |                    dtype='datetime64[ns]', freq='D')\n",
      " |      \n",
      " |      >>> idx.is_quarter_end\n",
      " |      array([False,  True, False, False])\n",
      " |  \n",
      " |  is_quarter_start\n",
      " |      Indicator for whether the date is the first day of a quarter.\n",
      " |      \n",
      " |      Returns\n",
      " |      -------\n",
      " |      is_quarter_start : Series or DatetimeIndex\n",
      " |          The same type as the original data with boolean values. Series will\n",
      " |          have the same name and index. DatetimeIndex will have the same\n",
      " |          name.\n",
      " |      \n",
      " |      See Also\n",
      " |      --------\n",
      " |      quarter : Return the quarter of the date.\n",
      " |      is_quarter_end : Similar property for indicating the quarter end.\n",
      " |      \n",
      " |      Examples\n",
      " |      --------\n",
      " |      This method is available on Series with datetime values under\n",
      " |      the ``.dt`` accessor, and directly on DatetimeIndex.\n",
      " |      \n",
      " |      >>> df = pd.DataFrame({'dates': pd.date_range(\"2017-03-30\",\n",
      " |      ...                   periods=4)})\n",
      " |      >>> df.assign(quarter=df.dates.dt.quarter,\n",
      " |      ...           is_quarter_start=df.dates.dt.is_quarter_start)\n",
      " |             dates  quarter  is_quarter_start\n",
      " |      0 2017-03-30        1             False\n",
      " |      1 2017-03-31        1             False\n",
      " |      2 2017-04-01        2              True\n",
      " |      3 2017-04-02        2             False\n",
      " |      \n",
      " |      >>> idx = pd.date_range('2017-03-30', periods=4)\n",
      " |      >>> idx\n",
      " |      DatetimeIndex(['2017-03-30', '2017-03-31', '2017-04-01', '2017-04-02'],\n",
      " |                    dtype='datetime64[ns]', freq='D')\n",
      " |      \n",
      " |      >>> idx.is_quarter_start\n",
      " |      array([False, False,  True, False])\n",
      " |  \n",
      " |  is_year_end\n",
      " |      Indicate whether the date is the last day of the year.\n",
      " |      \n",
      " |      Returns\n",
      " |      -------\n",
      " |      Series or DatetimeIndex\n",
      " |          The same type as the original data with boolean values. Series will\n",
      " |          have the same name and index. DatetimeIndex will have the same\n",
      " |          name.\n",
      " |      \n",
      " |      See Also\n",
      " |      --------\n",
      " |      is_year_start : Similar property indicating the start of the year.\n",
      " |      \n",
      " |      Examples\n",
      " |      --------\n",
      " |      This method is available on Series with datetime values under\n",
      " |      the ``.dt`` accessor, and directly on DatetimeIndex.\n",
      " |      \n",
      " |      >>> dates = pd.Series(pd.date_range(\"2017-12-30\", periods=3))\n",
      " |      >>> dates\n",
      " |      0   2017-12-30\n",
      " |      1   2017-12-31\n",
      " |      2   2018-01-01\n",
      " |      dtype: datetime64[ns]\n",
      " |      \n",
      " |      >>> dates.dt.is_year_end\n",
      " |      0    False\n",
      " |      1     True\n",
      " |      2    False\n",
      " |      dtype: bool\n",
      " |      \n",
      " |      >>> idx = pd.date_range(\"2017-12-30\", periods=3)\n",
      " |      >>> idx\n",
      " |      DatetimeIndex(['2017-12-30', '2017-12-31', '2018-01-01'],\n",
      " |                    dtype='datetime64[ns]', freq='D')\n",
      " |      \n",
      " |      >>> idx.is_year_end\n",
      " |      array([False,  True, False])\n",
      " |  \n",
      " |  is_year_start\n",
      " |      Indicate whether the date is the first day of a year.\n",
      " |      \n",
      " |      Returns\n",
      " |      -------\n",
      " |      Series or DatetimeIndex\n",
      " |          The same type as the original data with boolean values. Series will\n",
      " |          have the same name and index. DatetimeIndex will have the same\n",
      " |          name.\n",
      " |      \n",
      " |      See Also\n",
      " |      --------\n",
      " |      is_year_end : Similar property indicating the last day of the year.\n",
      " |      \n",
      " |      Examples\n",
      " |      --------\n",
      " |      This method is available on Series with datetime values under\n",
      " |      the ``.dt`` accessor, and directly on DatetimeIndex.\n",
      " |      \n",
      " |      >>> dates = pd.Series(pd.date_range(\"2017-12-30\", periods=3))\n",
      " |      >>> dates\n",
      " |      0   2017-12-30\n",
      " |      1   2017-12-31\n",
      " |      2   2018-01-01\n",
      " |      dtype: datetime64[ns]\n",
      " |      \n",
      " |      >>> dates.dt.is_year_start\n",
      " |      0    False\n",
      " |      1    False\n",
      " |      2    True\n",
      " |      dtype: bool\n",
      " |      \n",
      " |      >>> idx = pd.date_range(\"2017-12-30\", periods=3)\n",
      " |      >>> idx\n",
      " |      DatetimeIndex(['2017-12-30', '2017-12-31', '2018-01-01'],\n",
      " |                    dtype='datetime64[ns]', freq='D')\n",
      " |      \n",
      " |      >>> idx.is_year_start\n",
      " |      array([False, False,  True])\n",
      " |  \n",
      " |  microsecond\n",
      " |      The microseconds of the datetime.\n",
      " |      \n",
      " |      Examples\n",
      " |      --------\n",
      " |      >>> datetime_series = pd.Series(\n",
      " |      ...     pd.date_range(\"2000-01-01\", periods=3, freq=\"us\")\n",
      " |      ... )\n",
      " |      >>> datetime_series\n",
      " |      0   2000-01-01 00:00:00.000000\n",
      " |      1   2000-01-01 00:00:00.000001\n",
      " |      2   2000-01-01 00:00:00.000002\n",
      " |      dtype: datetime64[ns]\n",
      " |      >>> datetime_series.dt.microsecond\n",
      " |      0       0\n",
      " |      1       1\n",
      " |      2       2\n",
      " |      dtype: int32\n",
      " |  \n",
      " |  minute\n",
      " |      The minutes of the datetime.\n",
      " |      \n",
      " |      Examples\n",
      " |      --------\n",
      " |      >>> datetime_series = pd.Series(\n",
      " |      ...     pd.date_range(\"2000-01-01\", periods=3, freq=\"T\")\n",
      " |      ... )\n",
      " |      >>> datetime_series\n",
      " |      0   2000-01-01 00:00:00\n",
      " |      1   2000-01-01 00:01:00\n",
      " |      2   2000-01-01 00:02:00\n",
      " |      dtype: datetime64[ns]\n",
      " |      >>> datetime_series.dt.minute\n",
      " |      0    0\n",
      " |      1    1\n",
      " |      2    2\n",
      " |      dtype: int32\n",
      " |  \n",
      " |  month\n",
      " |      The month as January=1, December=12.\n",
      " |      \n",
      " |      Examples\n",
      " |      --------\n",
      " |      >>> datetime_series = pd.Series(\n",
      " |      ...     pd.date_range(\"2000-01-01\", periods=3, freq=\"M\")\n",
      " |      ... )\n",
      " |      >>> datetime_series\n",
      " |      0   2000-01-31\n",
      " |      1   2000-02-29\n",
      " |      2   2000-03-31\n",
      " |      dtype: datetime64[ns]\n",
      " |      >>> datetime_series.dt.month\n",
      " |      0    1\n",
      " |      1    2\n",
      " |      2    3\n",
      " |      dtype: int32\n",
      " |  \n",
      " |  nanosecond\n",
      " |      The nanoseconds of the datetime.\n",
      " |      \n",
      " |      Examples\n",
      " |      --------\n",
      " |      >>> datetime_series = pd.Series(\n",
      " |      ...     pd.date_range(\"2000-01-01\", periods=3, freq=\"ns\")\n",
      " |      ... )\n",
      " |      >>> datetime_series\n",
      " |      0   2000-01-01 00:00:00.000000000\n",
      " |      1   2000-01-01 00:00:00.000000001\n",
      " |      2   2000-01-01 00:00:00.000000002\n",
      " |      dtype: datetime64[ns]\n",
      " |      >>> datetime_series.dt.nanosecond\n",
      " |      0       0\n",
      " |      1       1\n",
      " |      2       2\n",
      " |      dtype: int32\n",
      " |  \n",
      " |  quarter\n",
      " |      The quarter of the date.\n",
      " |  \n",
      " |  second\n",
      " |      The seconds of the datetime.\n",
      " |      \n",
      " |      Examples\n",
      " |      --------\n",
      " |      >>> datetime_series = pd.Series(\n",
      " |      ...     pd.date_range(\"2000-01-01\", periods=3, freq=\"s\")\n",
      " |      ... )\n",
      " |      >>> datetime_series\n",
      " |      0   2000-01-01 00:00:00\n",
      " |      1   2000-01-01 00:00:01\n",
      " |      2   2000-01-01 00:00:02\n",
      " |      dtype: datetime64[ns]\n",
      " |      >>> datetime_series.dt.second\n",
      " |      0    0\n",
      " |      1    1\n",
      " |      2    2\n",
      " |      dtype: int32\n",
      " |  \n",
      " |  time\n",
      " |      Returns numpy array of :class:`datetime.time` objects.\n",
      " |      \n",
      " |      The time part of the Timestamps.\n",
      " |  \n",
      " |  timetz\n",
      " |      Returns numpy array of :class:`datetime.time` objects with timezones.\n",
      " |      \n",
      " |      The time part of the Timestamps.\n",
      " |  \n",
      " |  tz\n",
      " |      Return the timezone.\n",
      " |      \n",
      " |      Returns\n",
      " |      -------\n",
      " |      datetime.tzinfo, pytz.tzinfo.BaseTZInfo, dateutil.tz.tz.tzfile, or None\n",
      " |          Returns None when the array is tz-naive.\n",
      " |  \n",
      " |  unit\n",
      " |  \n",
      " |  weekday\n",
      " |      The day of the week with Monday=0, Sunday=6.\n",
      " |      \n",
      " |      Return the day of the week. It is assumed the week starts on\n",
      " |      Monday, which is denoted by 0 and ends on Sunday which is denoted\n",
      " |      by 6. This method is available on both Series with datetime\n",
      " |      values (using the `dt` accessor) or DatetimeIndex.\n",
      " |      \n",
      " |      Returns\n",
      " |      -------\n",
      " |      Series or Index\n",
      " |          Containing integers indicating the day number.\n",
      " |      \n",
      " |      See Also\n",
      " |      --------\n",
      " |      Series.dt.dayofweek : Alias.\n",
      " |      Series.dt.weekday : Alias.\n",
      " |      Series.dt.day_name : Returns the name of the day of the week.\n",
      " |      \n",
      " |      Examples\n",
      " |      --------\n",
      " |      >>> s = pd.date_range('2016-12-31', '2017-01-08', freq='D').to_series()\n",
      " |      >>> s.dt.dayofweek\n",
      " |      2016-12-31    5\n",
      " |      2017-01-01    6\n",
      " |      2017-01-02    0\n",
      " |      2017-01-03    1\n",
      " |      2017-01-04    2\n",
      " |      2017-01-05    3\n",
      " |      2017-01-06    4\n",
      " |      2017-01-07    5\n",
      " |      2017-01-08    6\n",
      " |      Freq: D, dtype: int32\n",
      " |  \n",
      " |  year\n",
      " |      The year of the datetime.\n",
      " |      \n",
      " |      Examples\n",
      " |      --------\n",
      " |      >>> datetime_series = pd.Series(\n",
      " |      ...     pd.date_range(\"2000-01-01\", periods=3, freq=\"Y\")\n",
      " |      ... )\n",
      " |      >>> datetime_series\n",
      " |      0   2000-12-31\n",
      " |      1   2001-12-31\n",
      " |      2   2002-12-31\n",
      " |      dtype: datetime64[ns]\n",
      " |      >>> datetime_series.dt.year\n",
      " |      0    2000\n",
      " |      1    2001\n",
      " |      2    2002\n",
      " |      dtype: int32\n",
      " |  \n",
      " |  ----------------------------------------------------------------------\n",
      " |  Data and other attributes defined here:\n",
      " |  \n",
      " |  __annotations__ = {}\n",
      " |  \n",
      " |  ----------------------------------------------------------------------\n",
      " |  Methods inherited from Properties:\n",
      " |  \n",
      " |  __init__(self, data: 'Series', orig) -> 'None'\n",
      " |      Initialize self.  See help(type(self)) for accurate signature.\n",
      " |  \n",
      " |  ----------------------------------------------------------------------\n",
      " |  Data descriptors inherited from pandas.core.accessor.PandasDelegate:\n",
      " |  \n",
      " |  __dict__\n",
      " |      dictionary for instance variables (if defined)\n",
      " |  \n",
      " |  __weakref__\n",
      " |      list of weak references to the object (if defined)\n",
      " |  \n",
      " |  ----------------------------------------------------------------------\n",
      " |  Methods inherited from pandas.core.base.PandasObject:\n",
      " |  \n",
      " |  __repr__(self) -> 'str'\n",
      " |      Return a string representation for a particular object.\n",
      " |  \n",
      " |  __sizeof__(self) -> 'int'\n",
      " |      Generates the total memory usage for an object that returns\n",
      " |      either a value or Series of values\n",
      " |  \n",
      " |  ----------------------------------------------------------------------\n",
      " |  Methods inherited from pandas.core.accessor.DirNamesMixin:\n",
      " |  \n",
      " |  __dir__(self) -> 'list[str]'\n",
      " |      Provide method name lookup and completion.\n",
      " |      \n",
      " |      Notes\n",
      " |      -----\n",
      " |      Only provide 'public' methods.\n",
      " |  \n",
      " |  ----------------------------------------------------------------------\n",
      " |  Methods inherited from pandas.core.base.NoNewAttributesMixin:\n",
      " |  \n",
      " |  __setattr__(self, key: 'str', value) -> 'None'\n",
      " |      Implement setattr(self, name, value).\n",
      "\n"
     ]
    }
   ],
   "source": [
    "help(quarter_info['date'].dt)"
   ]
  },
  {
   "cell_type": "code",
   "execution_count": null,
   "id": "293bef77",
   "metadata": {
    "colab": {
     "base_uri": "https://localhost:8080/"
    },
    "id": "293bef77",
    "outputId": "1e2906e4-f472-4329-f827-aaff76bdeb22"
   },
   "outputs": [
    {
     "name": "stderr",
     "output_type": "stream",
     "text": [
      "<ipython-input-15-80bbc4d850fd>:1: SettingWithCopyWarning: \n",
      "A value is trying to be set on a copy of a slice from a DataFrame.\n",
      "Try using .loc[row_indexer,col_indexer] = value instead\n",
      "\n",
      "See the caveats in the documentation: https://pandas.pydata.org/pandas-docs/stable/user_guide/indexing.html#returning-a-view-versus-a-copy\n",
      "  quarter_info['quarter_CY'] = quarter_info['date'].dt.quarter\n"
     ]
    }
   ],
   "source": [
    "quarter_info['quarter_CY'] = quarter_info['date'].dt.quarter"
   ]
  },
  {
   "cell_type": "code",
   "execution_count": 18,
   "id": "9b19820b",
   "metadata": {
    "colab": {
     "base_uri": "https://localhost:8080/",
     "height": 423
    },
    "id": "9b19820b",
    "outputId": "d0d3441e-92be-4cdf-a982-921f9dd9bedf",
    "tags": []
   },
   "outputs": [
    {
     "data": {
      "text/html": [
       "<div>\n",
       "<style scoped>\n",
       "    .dataframe tbody tr th:only-of-type {\n",
       "        vertical-align: middle;\n",
       "    }\n",
       "\n",
       "    .dataframe tbody tr th {\n",
       "        vertical-align: top;\n",
       "    }\n",
       "\n",
       "    .dataframe thead th {\n",
       "        text-align: right;\n",
       "    }\n",
       "</style>\n",
       "<table border=\"1\" class=\"dataframe\">\n",
       "  <thead>\n",
       "    <tr style=\"text-align: right;\">\n",
       "      <th></th>\n",
       "      <th>price</th>\n",
       "      <th>date</th>\n",
       "      <th>quarter_FY</th>\n",
       "    </tr>\n",
       "  </thead>\n",
       "  <tbody>\n",
       "    <tr>\n",
       "      <th>0</th>\n",
       "      <td>29</td>\n",
       "      <td>2022-03-14</td>\n",
       "      <td>4</td>\n",
       "    </tr>\n",
       "    <tr>\n",
       "      <th>1</th>\n",
       "      <td>60</td>\n",
       "      <td>2022-05-28</td>\n",
       "      <td>1</td>\n",
       "    </tr>\n",
       "    <tr>\n",
       "      <th>2</th>\n",
       "      <td>73</td>\n",
       "      <td>2022-09-19</td>\n",
       "      <td>2</td>\n",
       "    </tr>\n",
       "    <tr>\n",
       "      <th>3</th>\n",
       "      <td>89</td>\n",
       "      <td>2022-12-31</td>\n",
       "      <td>3</td>\n",
       "    </tr>\n",
       "    <tr>\n",
       "      <th>4</th>\n",
       "      <td>26</td>\n",
       "      <td>2022-06-28</td>\n",
       "      <td>1</td>\n",
       "    </tr>\n",
       "    <tr>\n",
       "      <th>...</th>\n",
       "      <td>...</td>\n",
       "      <td>...</td>\n",
       "      <td>...</td>\n",
       "    </tr>\n",
       "    <tr>\n",
       "      <th>195</th>\n",
       "      <td>12</td>\n",
       "      <td>2022-01-10</td>\n",
       "      <td>4</td>\n",
       "    </tr>\n",
       "    <tr>\n",
       "      <th>196</th>\n",
       "      <td>54</td>\n",
       "      <td>2022-02-16</td>\n",
       "      <td>4</td>\n",
       "    </tr>\n",
       "    <tr>\n",
       "      <th>197</th>\n",
       "      <td>26</td>\n",
       "      <td>2022-11-11</td>\n",
       "      <td>3</td>\n",
       "    </tr>\n",
       "    <tr>\n",
       "      <th>198</th>\n",
       "      <td>88</td>\n",
       "      <td>2022-07-24</td>\n",
       "      <td>2</td>\n",
       "    </tr>\n",
       "    <tr>\n",
       "      <th>199</th>\n",
       "      <td>39</td>\n",
       "      <td>2022-12-23</td>\n",
       "      <td>3</td>\n",
       "    </tr>\n",
       "  </tbody>\n",
       "</table>\n",
       "<p>200 rows × 3 columns</p>\n",
       "</div>"
      ],
      "text/plain": [
       "     price       date  quarter_FY\n",
       "0       29 2022-03-14           4\n",
       "1       60 2022-05-28           1\n",
       "2       73 2022-09-19           2\n",
       "3       89 2022-12-31           3\n",
       "4       26 2022-06-28           1\n",
       "..     ...        ...         ...\n",
       "195     12 2022-01-10           4\n",
       "196     54 2022-02-16           4\n",
       "197     26 2022-11-11           3\n",
       "198     88 2022-07-24           2\n",
       "199     39 2022-12-23           3\n",
       "\n",
       "[200 rows x 3 columns]"
      ]
     },
     "execution_count": 18,
     "metadata": {},
     "output_type": "execute_result"
    }
   ],
   "source": [
    "quarter_info"
   ]
  },
  {
   "cell_type": "code",
   "execution_count": 16,
   "id": "8f4fbb89",
   "metadata": {
    "colab": {
     "base_uri": "https://localhost:8080/"
    },
    "id": "8f4fbb89",
    "outputId": "c5055e62-3774-44c7-baab-2cd64009a2cf",
    "tags": []
   },
   "outputs": [
    {
     "name": "stderr",
     "output_type": "stream",
     "text": [
      "C:\\Users\\RAJA\\AppData\\Local\\Temp\\ipykernel_9488\\127550228.py:12: SettingWithCopyWarning: \n",
      "A value is trying to be set on a copy of a slice from a DataFrame.\n",
      "Try using .loc[row_indexer,col_indexer] = value instead\n",
      "\n",
      "See the caveats in the documentation: https://pandas.pydata.org/pandas-docs/stable/user_guide/indexing.html#returning-a-view-versus-a-copy\n",
      "  quarter_info['quarter_FY'] = quarter_info['date'].apply(custom_quarter)\n"
     ]
    }
   ],
   "source": [
    "# Define a custom function to calculate quarters starting from April\n",
    "def custom_quarter(date):\n",
    "    if date.month in [4, 5, 6]:\n",
    "        return 1\n",
    "    elif date.month in [7, 8, 9]:\n",
    "        return 2\n",
    "    elif date.month in [10, 11, 12]:\n",
    "        return 3\n",
    "    else:\n",
    "        return 4\n",
    "# Apply the custom quarter function to the 'date' column\n",
    "quarter_info['quarter_FY'] = quarter_info['date'].apply(custom_quarter)\n"
   ]
  },
  {
   "cell_type": "code",
   "execution_count": 17,
   "id": "689bf8e7",
   "metadata": {
    "colab": {
     "base_uri": "https://localhost:8080/",
     "height": 423
    },
    "id": "689bf8e7",
    "outputId": "95c62940-42af-4fde-9df1-54ec560e742d",
    "tags": []
   },
   "outputs": [
    {
     "data": {
      "text/html": [
       "<div>\n",
       "<style scoped>\n",
       "    .dataframe tbody tr th:only-of-type {\n",
       "        vertical-align: middle;\n",
       "    }\n",
       "\n",
       "    .dataframe tbody tr th {\n",
       "        vertical-align: top;\n",
       "    }\n",
       "\n",
       "    .dataframe thead th {\n",
       "        text-align: right;\n",
       "    }\n",
       "</style>\n",
       "<table border=\"1\" class=\"dataframe\">\n",
       "  <thead>\n",
       "    <tr style=\"text-align: right;\">\n",
       "      <th></th>\n",
       "      <th>price</th>\n",
       "      <th>date</th>\n",
       "      <th>quarter_FY</th>\n",
       "    </tr>\n",
       "  </thead>\n",
       "  <tbody>\n",
       "    <tr>\n",
       "      <th>0</th>\n",
       "      <td>29</td>\n",
       "      <td>2022-03-14</td>\n",
       "      <td>4</td>\n",
       "    </tr>\n",
       "    <tr>\n",
       "      <th>1</th>\n",
       "      <td>60</td>\n",
       "      <td>2022-05-28</td>\n",
       "      <td>1</td>\n",
       "    </tr>\n",
       "    <tr>\n",
       "      <th>2</th>\n",
       "      <td>73</td>\n",
       "      <td>2022-09-19</td>\n",
       "      <td>2</td>\n",
       "    </tr>\n",
       "    <tr>\n",
       "      <th>3</th>\n",
       "      <td>89</td>\n",
       "      <td>2022-12-31</td>\n",
       "      <td>3</td>\n",
       "    </tr>\n",
       "    <tr>\n",
       "      <th>4</th>\n",
       "      <td>26</td>\n",
       "      <td>2022-06-28</td>\n",
       "      <td>1</td>\n",
       "    </tr>\n",
       "    <tr>\n",
       "      <th>...</th>\n",
       "      <td>...</td>\n",
       "      <td>...</td>\n",
       "      <td>...</td>\n",
       "    </tr>\n",
       "    <tr>\n",
       "      <th>195</th>\n",
       "      <td>12</td>\n",
       "      <td>2022-01-10</td>\n",
       "      <td>4</td>\n",
       "    </tr>\n",
       "    <tr>\n",
       "      <th>196</th>\n",
       "      <td>54</td>\n",
       "      <td>2022-02-16</td>\n",
       "      <td>4</td>\n",
       "    </tr>\n",
       "    <tr>\n",
       "      <th>197</th>\n",
       "      <td>26</td>\n",
       "      <td>2022-11-11</td>\n",
       "      <td>3</td>\n",
       "    </tr>\n",
       "    <tr>\n",
       "      <th>198</th>\n",
       "      <td>88</td>\n",
       "      <td>2022-07-24</td>\n",
       "      <td>2</td>\n",
       "    </tr>\n",
       "    <tr>\n",
       "      <th>199</th>\n",
       "      <td>39</td>\n",
       "      <td>2022-12-23</td>\n",
       "      <td>3</td>\n",
       "    </tr>\n",
       "  </tbody>\n",
       "</table>\n",
       "<p>200 rows × 3 columns</p>\n",
       "</div>"
      ],
      "text/plain": [
       "     price       date  quarter_FY\n",
       "0       29 2022-03-14           4\n",
       "1       60 2022-05-28           1\n",
       "2       73 2022-09-19           2\n",
       "3       89 2022-12-31           3\n",
       "4       26 2022-06-28           1\n",
       "..     ...        ...         ...\n",
       "195     12 2022-01-10           4\n",
       "196     54 2022-02-16           4\n",
       "197     26 2022-11-11           3\n",
       "198     88 2022-07-24           2\n",
       "199     39 2022-12-23           3\n",
       "\n",
       "[200 rows x 3 columns]"
      ]
     },
     "execution_count": 17,
     "metadata": {},
     "output_type": "execute_result"
    }
   ],
   "source": [
    "quarter_info"
   ]
  },
  {
   "cell_type": "code",
   "execution_count": 19,
   "id": "25b42cc8",
   "metadata": {
    "id": "25b42cc8",
    "tags": []
   },
   "outputs": [],
   "source": [
    "import seaborn as sns\n",
    "\n",
    "def sales_per_quarter(data,which_year):\n",
    "    info = data.groupby(which_year)[\"price\"].size()\n",
    "    sns.barplot(x = info.index, y = info.values, palette=\"pastel\")\n",
    "    plt.xlabel(\"Analysis based on \"+which_year)\n",
    "    plt.ylabel(\"Sales\")\n",
    "    plt.title(\"Sales per \"+which_year)"
   ]
  },
  {
   "cell_type": "code",
   "execution_count": null,
   "id": "9b64dd28",
   "metadata": {
    "colab": {
     "base_uri": "https://localhost:8080/",
     "height": 559
    },
    "id": "9b64dd28",
    "outputId": "4f7bcc10-db7b-4250-d453-546c7084e40e"
   },
   "outputs": [
    {
     "name": "stderr",
     "output_type": "stream",
     "text": [
      "<ipython-input-26-c48525dd01f1>:5: FutureWarning: \n",
      "\n",
      "Passing `palette` without assigning `hue` is deprecated and will be removed in v0.14.0. Assign the `x` variable to `hue` and set `legend=False` for the same effect.\n",
      "\n",
      "  sns.barplot(x = info.index, y = info.values, palette=\"pastel\")\n"
     ]
    },
    {
     "data": {
      "image/png": "[encoded data removed]",
      "text/plain": [
       "<Figure size 640x480 with 1 Axes>"
      ]
     },
     "metadata": {},
     "output_type": "display_data"
    }
   ],
   "source": [
    "sales_per_quarter(quarter_info, \"quarter_CY\")"
   ]
  },
  {
   "cell_type": "code",
   "execution_count": null,
   "id": "380aff34",
   "metadata": {
    "colab": {
     "base_uri": "https://localhost:8080/",
     "height": 559
    },
    "id": "380aff34",
    "outputId": "1ef5a903-79f4-4769-8284-3e7a2cd609e7"
   },
   "outputs": [
    {
     "name": "stderr",
     "output_type": "stream",
     "text": [
      "<ipython-input-26-c48525dd01f1>:5: FutureWarning: \n",
      "\n",
      "Passing `palette` without assigning `hue` is deprecated and will be removed in v0.14.0. Assign the `x` variable to `hue` and set `legend=False` for the same effect.\n",
      "\n",
      "  sns.barplot(x = info.index, y = info.values, palette=\"pastel\")\n"
     ]
    },
    {
     "data": {
      "image/png": "[encoded data removed]",
      "text/plain": [
       "<Figure size 640x480 with 1 Axes>"
      ]
     },
     "metadata": {},
     "output_type": "display_data"
    }
   ],
   "source": [
    "sales_per_quarter(quarter_info, \"quarter_FY\")"
   ]
  },
  {
   "cell_type": "code",
   "execution_count": null,
   "id": "1fe8a423",
   "metadata": {
    "id": "1fe8a423"
   },
   "outputs": [],
   "source": []
  },
  {
   "cell_type": "markdown",
   "id": "89xn3YcEhIt-",
   "metadata": {
    "id": "89xn3YcEhIt-"
   },
   "source": [
    "# Histogram for data distribution"
   ]
  },
  {
   "cell_type": "code",
   "execution_count": 20,
   "id": "Ju-qgqgLhLgK",
   "metadata": {
    "colab": {
     "base_uri": "https://localhost:8080/"
    },
    "id": "Ju-qgqgLhLgK",
    "outputId": "fed72dbd-d5ee-42d1-c145-eebfb9262c36",
    "tags": []
   },
   "outputs": [
    {
     "data": {
      "text/plain": [
       "0      29\n",
       "1      60\n",
       "2      73\n",
       "3      89\n",
       "4      26\n",
       "       ..\n",
       "195    12\n",
       "196    54\n",
       "197    26\n",
       "198    88\n",
       "199    39\n",
       "Name: price, Length: 200, dtype: int64"
      ]
     },
     "execution_count": 20,
     "metadata": {},
     "output_type": "execute_result"
    }
   ],
   "source": [
    "data['price']"
   ]
  },
  {
   "cell_type": "code",
   "execution_count": 21,
   "id": "t9s-k-vChOUn",
   "metadata": {
    "colab": {
     "base_uri": "https://localhost:8080/",
     "height": 466
    },
    "id": "t9s-k-vChOUn",
    "outputId": "8ee6fc75-49a7-4cb6-acd9-54a5d7c75b9e",
    "tags": []
   },
   "outputs": [
    {
     "data": {
      "text/plain": [
       "<Axes: xlabel='price', ylabel='Count'>"
      ]
     },
     "execution_count": 21,
     "metadata": {},
     "output_type": "execute_result"
    },
    {
     "data": {
      "image/png": "[encoded data removed]",
      "text/plain": [
       "<Figure size 640x480 with 1 Axes>"
      ]
     },
     "metadata": {},
     "output_type": "display_data"
    }
   ],
   "source": [
    "sns.histplot(data['price'])"
   ]
  },
  {
   "cell_type": "code",
   "execution_count": 22,
   "id": "AxeKHw8-hkGU",
   "metadata": {
    "colab": {
     "base_uri": "https://localhost:8080/",
     "height": 466
    },
    "id": "AxeKHw8-hkGU",
    "outputId": "082398da-22b4-4817-d55f-e8ef64fbf9f6",
    "tags": []
   },
   "outputs": [
    {
     "data": {
      "text/plain": [
       "<Axes: xlabel='price', ylabel='Count'>"
      ]
     },
     "execution_count": 22,
     "metadata": {},
     "output_type": "execute_result"
    },
    {
     "data": {
      "image/png": "[encoded data removed]",
      "text/plain": [
       "<Figure size 640x480 with 1 Axes>"
      ]
     },
     "metadata": {},
     "output_type": "display_data"
    }
   ],
   "source": [
    "sns.histplot(data['price'], kde = True)"
   ]
  },
  {
   "cell_type": "code",
   "execution_count": null,
   "id": "4Bqr_DeChvUH",
   "metadata": {
    "id": "4Bqr_DeChvUH"
   },
   "outputs": [],
   "source": []
  },
  {
   "cell_type": "markdown",
   "id": "KL6i8J3Tia5g",
   "metadata": {
    "id": "KL6i8J3Tia5g"
   },
   "source": [
    "# Box plot"
   ]
  },
  {
   "cell_type": "code",
   "execution_count": 24,
   "id": "swFBVvU5ic0y",
   "metadata": {
    "id": "swFBVvU5ic0y",
    "tags": []
   },
   "outputs": [],
   "source": [
    "quantity = data[['quantity']]"
   ]
  },
  {
   "cell_type": "code",
   "execution_count": 25,
   "id": "lHvLoVwhl7KX",
   "metadata": {
    "colab": {
     "base_uri": "https://localhost:8080/",
     "height": 447
    },
    "id": "lHvLoVwhl7KX",
    "outputId": "e12a1798-1745-47ce-8559-fa83140ab7f7",
    "tags": []
   },
   "outputs": [
    {
     "data": {
      "text/plain": [
       "<Axes: >"
      ]
     },
     "execution_count": 25,
     "metadata": {},
     "output_type": "execute_result"
    },
    {
     "data": {
      "image/png": "[encoded data removed]",
      "text/plain": [
       "<Figure size 640x480 with 1 Axes>"
      ]
     },
     "metadata": {},
     "output_type": "display_data"
    }
   ],
   "source": [
    "sns.boxplot(quantity[['quantity']])"
   ]
  },
  {
   "cell_type": "code",
   "execution_count": 26,
   "id": "Cf0b88GVl_cW",
   "metadata": {
    "colab": {
     "base_uri": "https://localhost:8080/"
    },
    "id": "Cf0b88GVl_cW",
    "outputId": "fa519908-059d-4ec0-b8b4-01eb4210e061",
    "tags": []
   },
   "outputs": [
    {
     "name": "stderr",
     "output_type": "stream",
     "text": [
      "C:\\Users\\RAJA\\AppData\\Local\\Temp\\ipykernel_9488\\2721641871.py:1: SettingWithCopyWarning: \n",
      "A value is trying to be set on a copy of a slice from a DataFrame.\n",
      "Try using .loc[row_indexer,col_indexer] = value instead\n",
      "\n",
      "See the caveats in the documentation: https://pandas.pydata.org/pandas-docs/stable/user_guide/indexing.html#returning-a-view-versus-a-copy\n",
      "  quantity['quantity_data_with_outlier'] = quantity['quantity']\n"
     ]
    }
   ],
   "source": [
    "quantity['quantity_data_with_outlier'] = quantity['quantity']"
   ]
  },
  {
   "cell_type": "code",
   "execution_count": 27,
   "id": "6KFNRMS9mPYD",
   "metadata": {
    "colab": {
     "base_uri": "https://localhost:8080/",
     "height": 423
    },
    "id": "6KFNRMS9mPYD",
    "outputId": "971f3b06-cef9-4c62-a1ee-81d189bd70ef",
    "tags": []
   },
   "outputs": [
    {
     "data": {
      "text/html": [
       "<div>\n",
       "<style scoped>\n",
       "    .dataframe tbody tr th:only-of-type {\n",
       "        vertical-align: middle;\n",
       "    }\n",
       "\n",
       "    .dataframe tbody tr th {\n",
       "        vertical-align: top;\n",
       "    }\n",
       "\n",
       "    .dataframe thead th {\n",
       "        text-align: right;\n",
       "    }\n",
       "</style>\n",
       "<table border=\"1\" class=\"dataframe\">\n",
       "  <thead>\n",
       "    <tr style=\"text-align: right;\">\n",
       "      <th></th>\n",
       "      <th>quantity</th>\n",
       "      <th>quantity_data_with_outlier</th>\n",
       "    </tr>\n",
       "  </thead>\n",
       "  <tbody>\n",
       "    <tr>\n",
       "      <th>0</th>\n",
       "      <td>8</td>\n",
       "      <td>8</td>\n",
       "    </tr>\n",
       "    <tr>\n",
       "      <th>1</th>\n",
       "      <td>4</td>\n",
       "      <td>4</td>\n",
       "    </tr>\n",
       "    <tr>\n",
       "      <th>2</th>\n",
       "      <td>9</td>\n",
       "      <td>9</td>\n",
       "    </tr>\n",
       "    <tr>\n",
       "      <th>3</th>\n",
       "      <td>3</td>\n",
       "      <td>3</td>\n",
       "    </tr>\n",
       "    <tr>\n",
       "      <th>4</th>\n",
       "      <td>1</td>\n",
       "      <td>1</td>\n",
       "    </tr>\n",
       "    <tr>\n",
       "      <th>...</th>\n",
       "      <td>...</td>\n",
       "      <td>...</td>\n",
       "    </tr>\n",
       "    <tr>\n",
       "      <th>195</th>\n",
       "      <td>8</td>\n",
       "      <td>8</td>\n",
       "    </tr>\n",
       "    <tr>\n",
       "      <th>196</th>\n",
       "      <td>9</td>\n",
       "      <td>9</td>\n",
       "    </tr>\n",
       "    <tr>\n",
       "      <th>197</th>\n",
       "      <td>7</td>\n",
       "      <td>7</td>\n",
       "    </tr>\n",
       "    <tr>\n",
       "      <th>198</th>\n",
       "      <td>6</td>\n",
       "      <td>6</td>\n",
       "    </tr>\n",
       "    <tr>\n",
       "      <th>199</th>\n",
       "      <td>3</td>\n",
       "      <td>3</td>\n",
       "    </tr>\n",
       "  </tbody>\n",
       "</table>\n",
       "<p>200 rows × 2 columns</p>\n",
       "</div>"
      ],
      "text/plain": [
       "     quantity  quantity_data_with_outlier\n",
       "0           8                           8\n",
       "1           4                           4\n",
       "2           9                           9\n",
       "3           3                           3\n",
       "4           1                           1\n",
       "..        ...                         ...\n",
       "195         8                           8\n",
       "196         9                           9\n",
       "197         7                           7\n",
       "198         6                           6\n",
       "199         3                           3\n",
       "\n",
       "[200 rows x 2 columns]"
      ]
     },
     "execution_count": 27,
     "metadata": {},
     "output_type": "execute_result"
    }
   ],
   "source": [
    "quantity"
   ]
  },
  {
   "cell_type": "code",
   "execution_count": 29,
   "id": "0tsx-PksmQy4",
   "metadata": {
    "colab": {
     "base_uri": "https://localhost:8080/"
    },
    "id": "0tsx-PksmQy4",
    "outputId": "62693eab-37c4-41bc-d9e8-c82164ed73a2",
    "tags": []
   },
   "outputs": [
    {
     "name": "stderr",
     "output_type": "stream",
     "text": [
      "C:\\Users\\RAJA\\AppData\\Local\\Temp\\ipykernel_9488\\3979189445.py:1: SettingWithCopyWarning: \n",
      "A value is trying to be set on a copy of a slice from a DataFrame\n",
      "\n",
      "See the caveats in the documentation: https://pandas.pydata.org/pandas-docs/stable/user_guide/indexing.html#returning-a-view-versus-a-copy\n",
      "  quantity.quantity_data_with_outlier.iloc[4] = 25\n"
     ]
    }
   ],
   "source": [
    "quantity.quantity_data_with_outlier.iloc[4] = 25"
   ]
  },
  {
   "cell_type": "code",
   "execution_count": 30,
   "id": "ZH_2-gRqmcwj",
   "metadata": {
    "colab": {
     "base_uri": "https://localhost:8080/",
     "height": 423
    },
    "id": "ZH_2-gRqmcwj",
    "outputId": "abaf862d-7919-4a5d-c6c6-3e8ef665c098",
    "tags": []
   },
   "outputs": [
    {
     "data": {
      "text/html": [
       "<div>\n",
       "<style scoped>\n",
       "    .dataframe tbody tr th:only-of-type {\n",
       "        vertical-align: middle;\n",
       "    }\n",
       "\n",
       "    .dataframe tbody tr th {\n",
       "        vertical-align: top;\n",
       "    }\n",
       "\n",
       "    .dataframe thead th {\n",
       "        text-align: right;\n",
       "    }\n",
       "</style>\n",
       "<table border=\"1\" class=\"dataframe\">\n",
       "  <thead>\n",
       "    <tr style=\"text-align: right;\">\n",
       "      <th></th>\n",
       "      <th>quantity</th>\n",
       "      <th>quantity_data_with_outlier</th>\n",
       "    </tr>\n",
       "  </thead>\n",
       "  <tbody>\n",
       "    <tr>\n",
       "      <th>0</th>\n",
       "      <td>8</td>\n",
       "      <td>8</td>\n",
       "    </tr>\n",
       "    <tr>\n",
       "      <th>1</th>\n",
       "      <td>4</td>\n",
       "      <td>4</td>\n",
       "    </tr>\n",
       "    <tr>\n",
       "      <th>2</th>\n",
       "      <td>9</td>\n",
       "      <td>9</td>\n",
       "    </tr>\n",
       "    <tr>\n",
       "      <th>3</th>\n",
       "      <td>3</td>\n",
       "      <td>3</td>\n",
       "    </tr>\n",
       "    <tr>\n",
       "      <th>4</th>\n",
       "      <td>1</td>\n",
       "      <td>25</td>\n",
       "    </tr>\n",
       "    <tr>\n",
       "      <th>...</th>\n",
       "      <td>...</td>\n",
       "      <td>...</td>\n",
       "    </tr>\n",
       "    <tr>\n",
       "      <th>195</th>\n",
       "      <td>8</td>\n",
       "      <td>8</td>\n",
       "    </tr>\n",
       "    <tr>\n",
       "      <th>196</th>\n",
       "      <td>9</td>\n",
       "      <td>9</td>\n",
       "    </tr>\n",
       "    <tr>\n",
       "      <th>197</th>\n",
       "      <td>7</td>\n",
       "      <td>7</td>\n",
       "    </tr>\n",
       "    <tr>\n",
       "      <th>198</th>\n",
       "      <td>6</td>\n",
       "      <td>6</td>\n",
       "    </tr>\n",
       "    <tr>\n",
       "      <th>199</th>\n",
       "      <td>3</td>\n",
       "      <td>3</td>\n",
       "    </tr>\n",
       "  </tbody>\n",
       "</table>\n",
       "<p>200 rows × 2 columns</p>\n",
       "</div>"
      ],
      "text/plain": [
       "     quantity  quantity_data_with_outlier\n",
       "0           8                           8\n",
       "1           4                           4\n",
       "2           9                           9\n",
       "3           3                           3\n",
       "4           1                          25\n",
       "..        ...                         ...\n",
       "195         8                           8\n",
       "196         9                           9\n",
       "197         7                           7\n",
       "198         6                           6\n",
       "199         3                           3\n",
       "\n",
       "[200 rows x 2 columns]"
      ]
     },
     "execution_count": 30,
     "metadata": {},
     "output_type": "execute_result"
    }
   ],
   "source": [
    "quantity"
   ]
  },
  {
   "cell_type": "code",
   "execution_count": 31,
   "id": "aIJOqdyKmeQx",
   "metadata": {
    "colab": {
     "base_uri": "https://localhost:8080/",
     "height": 447
    },
    "id": "aIJOqdyKmeQx",
    "outputId": "1562518a-c13f-422c-b456-55bc2c073d01",
    "tags": []
   },
   "outputs": [
    {
     "data": {
      "text/plain": [
       "<Axes: >"
      ]
     },
     "execution_count": 31,
     "metadata": {},
     "output_type": "execute_result"
    },
    {
     "data": {
      "image/png": "[encoded data removed]",
      "text/plain": [
       "<Figure size 640x480 with 1 Axes>"
      ]
     },
     "metadata": {},
     "output_type": "display_data"
    }
   ],
   "source": [
    "sns.boxplot(quantity[['quantity_data_with_outlier']])"
   ]
  },
  {
   "cell_type": "code",
   "execution_count": 32,
   "id": "5b-m2zpOmkaG",
   "metadata": {
    "id": "5b-m2zpOmkaG",
    "tags": []
   },
   "outputs": [],
   "source": [
    "# column => boxplot ==> data point/ data points outside of the boxplot premises i should conclude that in my data column outlier is persent"
   ]
  },
  {
   "cell_type": "markdown",
   "id": "dF5LBgwyou5p",
   "metadata": {
    "id": "dF5LBgwyou5p"
   },
   "source": [
    "# product sales"
   ]
  },
  {
   "cell_type": "code",
   "execution_count": 33,
   "id": "AxRT5M_pow4B",
   "metadata": {
    "colab": {
     "base_uri": "https://localhost:8080/",
     "height": 423
    },
    "id": "AxRT5M_pow4B",
    "outputId": "a9ae7af3-c04d-4455-b88e-4e1d4cc1da1d",
    "tags": []
   },
   "outputs": [
    {
     "data": {
      "text/html": [
       "<div>\n",
       "<style scoped>\n",
       "    .dataframe tbody tr th:only-of-type {\n",
       "        vertical-align: middle;\n",
       "    }\n",
       "\n",
       "    .dataframe tbody tr th {\n",
       "        vertical-align: top;\n",
       "    }\n",
       "\n",
       "    .dataframe thead th {\n",
       "        text-align: right;\n",
       "    }\n",
       "</style>\n",
       "<table border=\"1\" class=\"dataframe\">\n",
       "  <thead>\n",
       "    <tr style=\"text-align: right;\">\n",
       "      <th></th>\n",
       "      <th>saller_id</th>\n",
       "      <th>customer_id</th>\n",
       "      <th>product_id</th>\n",
       "      <th>quantity</th>\n",
       "      <th>price</th>\n",
       "      <th>date</th>\n",
       "    </tr>\n",
       "  </thead>\n",
       "  <tbody>\n",
       "    <tr>\n",
       "      <th>0</th>\n",
       "      <td>21</td>\n",
       "      <td>359</td>\n",
       "      <td>5</td>\n",
       "      <td>8</td>\n",
       "      <td>29</td>\n",
       "      <td>2022-03-14</td>\n",
       "    </tr>\n",
       "    <tr>\n",
       "      <th>1</th>\n",
       "      <td>18</td>\n",
       "      <td>424</td>\n",
       "      <td>15</td>\n",
       "      <td>4</td>\n",
       "      <td>60</td>\n",
       "      <td>2022-05-28</td>\n",
       "    </tr>\n",
       "    <tr>\n",
       "      <th>2</th>\n",
       "      <td>14</td>\n",
       "      <td>473</td>\n",
       "      <td>9</td>\n",
       "      <td>9</td>\n",
       "      <td>73</td>\n",
       "      <td>2022-09-19</td>\n",
       "    </tr>\n",
       "    <tr>\n",
       "      <th>3</th>\n",
       "      <td>9</td>\n",
       "      <td>720</td>\n",
       "      <td>9</td>\n",
       "      <td>3</td>\n",
       "      <td>89</td>\n",
       "      <td>2022-12-31</td>\n",
       "    </tr>\n",
       "    <tr>\n",
       "      <th>4</th>\n",
       "      <td>7</td>\n",
       "      <td>31</td>\n",
       "      <td>8</td>\n",
       "      <td>1</td>\n",
       "      <td>26</td>\n",
       "      <td>2022-06-28</td>\n",
       "    </tr>\n",
       "    <tr>\n",
       "      <th>...</th>\n",
       "      <td>...</td>\n",
       "      <td>...</td>\n",
       "      <td>...</td>\n",
       "      <td>...</td>\n",
       "      <td>...</td>\n",
       "      <td>...</td>\n",
       "    </tr>\n",
       "    <tr>\n",
       "      <th>195</th>\n",
       "      <td>29</td>\n",
       "      <td>891</td>\n",
       "      <td>13</td>\n",
       "      <td>8</td>\n",
       "      <td>12</td>\n",
       "      <td>2022-01-10</td>\n",
       "    </tr>\n",
       "    <tr>\n",
       "      <th>196</th>\n",
       "      <td>16</td>\n",
       "      <td>616</td>\n",
       "      <td>19</td>\n",
       "      <td>9</td>\n",
       "      <td>54</td>\n",
       "      <td>2022-02-16</td>\n",
       "    </tr>\n",
       "    <tr>\n",
       "      <th>197</th>\n",
       "      <td>20</td>\n",
       "      <td>318</td>\n",
       "      <td>4</td>\n",
       "      <td>7</td>\n",
       "      <td>26</td>\n",
       "      <td>2022-11-11</td>\n",
       "    </tr>\n",
       "    <tr>\n",
       "      <th>198</th>\n",
       "      <td>5</td>\n",
       "      <td>447</td>\n",
       "      <td>7</td>\n",
       "      <td>6</td>\n",
       "      <td>88</td>\n",
       "      <td>2022-07-24</td>\n",
       "    </tr>\n",
       "    <tr>\n",
       "      <th>199</th>\n",
       "      <td>7</td>\n",
       "      <td>733</td>\n",
       "      <td>15</td>\n",
       "      <td>3</td>\n",
       "      <td>39</td>\n",
       "      <td>2022-12-23</td>\n",
       "    </tr>\n",
       "  </tbody>\n",
       "</table>\n",
       "<p>200 rows × 6 columns</p>\n",
       "</div>"
      ],
      "text/plain": [
       "     saller_id  customer_id  product_id  quantity  price        date\n",
       "0           21          359           5         8     29  2022-03-14\n",
       "1           18          424          15         4     60  2022-05-28\n",
       "2           14          473           9         9     73  2022-09-19\n",
       "3            9          720           9         3     89  2022-12-31\n",
       "4            7           31           8         1     26  2022-06-28\n",
       "..         ...          ...         ...       ...    ...         ...\n",
       "195         29          891          13         8     12  2022-01-10\n",
       "196         16          616          19         9     54  2022-02-16\n",
       "197         20          318           4         7     26  2022-11-11\n",
       "198          5          447           7         6     88  2022-07-24\n",
       "199          7          733          15         3     39  2022-12-23\n",
       "\n",
       "[200 rows x 6 columns]"
      ]
     },
     "execution_count": 33,
     "metadata": {},
     "output_type": "execute_result"
    }
   ],
   "source": [
    "data"
   ]
  },
  {
   "cell_type": "code",
   "execution_count": 34,
   "id": "6aSqvYTNoxTV",
   "metadata": {
    "id": "6aSqvYTNoxTV",
    "tags": []
   },
   "outputs": [],
   "source": [
    "product_sales = data.groupby('product_id')['quantity'].sum()"
   ]
  },
  {
   "cell_type": "code",
   "execution_count": 37,
   "id": "XC3nOEUZo-dK",
   "metadata": {
    "colab": {
     "base_uri": "https://localhost:8080/"
    },
    "id": "XC3nOEUZo-dK",
    "outputId": "103566ca-e42a-4da7-b141-06e7efa12da4",
    "tags": []
   },
   "outputs": [
    {
     "data": {
      "text/plain": [
       "product_id\n",
       "1     61\n",
       "2     64\n",
       "3     32\n",
       "4     98\n",
       "5     70\n",
       "6     51\n",
       "7     61\n",
       "8     50\n",
       "9     84\n",
       "10    65\n",
       "11    21\n",
       "12    38\n",
       "13    49\n",
       "14    47\n",
       "15    75\n",
       "16    38\n",
       "17    51\n",
       "18    43\n",
       "19    36\n",
       "Name: quantity, dtype: int64"
      ]
     },
     "execution_count": 37,
     "metadata": {},
     "output_type": "execute_result"
    }
   ],
   "source": [
    "product_sales"
   ]
  },
  {
   "cell_type": "code",
   "execution_count": 38,
   "id": "-tI326D5o_1t",
   "metadata": {
    "colab": {
     "base_uri": "https://localhost:8080/"
    },
    "id": "-tI326D5o_1t",
    "outputId": "889dcb3a-31b8-4663-f184-dc561de1fd2a",
    "tags": []
   },
   "outputs": [
    {
     "data": {
      "text/plain": [
       "product_id\n",
       "11    21\n",
       "3     32\n",
       "19    36\n",
       "16    38\n",
       "12    38\n",
       "18    43\n",
       "14    47\n",
       "13    49\n",
       "8     50\n",
       "17    51\n",
       "6     51\n",
       "1     61\n",
       "7     61\n",
       "2     64\n",
       "10    65\n",
       "5     70\n",
       "15    75\n",
       "9     84\n",
       "4     98\n",
       "Name: quantity, dtype: int64"
      ]
     },
     "execution_count": 38,
     "metadata": {},
     "output_type": "execute_result"
    }
   ],
   "source": [
    "product_sales.sort_values(ascending=True)"
   ]
  },
  {
   "cell_type": "code",
   "execution_count": 39,
   "id": "qhRffHNspFAD",
   "metadata": {
    "id": "qhRffHNspFAD",
    "tags": []
   },
   "outputs": [],
   "source": [
    "product_sales = product_sales.sort_values(ascending=True)"
   ]
  },
  {
   "cell_type": "code",
   "execution_count": 40,
   "id": "SAIaj-ZHpJUY",
   "metadata": {
    "colab": {
     "base_uri": "https://localhost:8080/",
     "height": 554
    },
    "id": "SAIaj-ZHpJUY",
    "outputId": "398a860e-cece-4e73-f879-886871424529",
    "tags": []
   },
   "outputs": [
    {
     "data": {
      "text/plain": [
       "<Axes: xlabel='product_id'>"
      ]
     },
     "execution_count": 40,
     "metadata": {},
     "output_type": "execute_result"
    },
    {
     "data": {
      "image/png": "[encoded data removed]",
      "text/plain": [
       "<Figure size 640x480 with 1 Axes>"
      ]
     },
     "metadata": {},
     "output_type": "display_data"
    }
   ],
   "source": [
    "sns.barplot(x = product_sales.index, y = product_sales.values, palette = \"pastel\")"
   ]
  },
  {
   "cell_type": "code",
   "execution_count": 41,
   "id": "VIonduf0pVWQ",
   "metadata": {
    "colab": {
     "base_uri": "https://localhost:8080/",
     "height": 576
    },
    "id": "VIonduf0pVWQ",
    "outputId": "a6842d3f-bc7e-464d-c912-fe7284ded7af",
    "tags": []
   },
   "outputs": [
    {
     "data": {
      "text/plain": [
       "Text(0.5, 1.0, 'Product sales')"
      ]
     },
     "execution_count": 41,
     "metadata": {},
     "output_type": "execute_result"
    },
    {
     "data": {
      "image/png": "[encoded data removed]",
      "text/plain": [
       "<Figure size 640x480 with 1 Axes>"
      ]
     },
     "metadata": {},
     "output_type": "display_data"
    }
   ],
   "source": [
    "sns.barplot(x = product_sales.index, y = product_sales.values, palette = \"pastel\")\n",
    "plt.ylabel(\"count\")\n",
    "plt.title(\"Product sales\")"
   ]
  },
  {
   "cell_type": "code",
   "execution_count": null,
   "id": "DmnKvvs1qeXM",
   "metadata": {
    "id": "DmnKvvs1qeXM"
   },
   "outputs": [],
   "source": [
    "#"
   ]
  },
  {
   "cell_type": "markdown",
   "id": "BCdXwIKmqfji",
   "metadata": {
    "id": "BCdXwIKmqfji"
   },
   "source": [
    "# Pie Chart"
   ]
  },
  {
   "cell_type": "code",
   "execution_count": 42,
   "id": "i-ghzCVKprz2",
   "metadata": {
    "colab": {
     "base_uri": "https://localhost:8080/",
     "height": 423
    },
    "id": "i-ghzCVKprz2",
    "outputId": "58cb5c4e-26d0-4dd8-e252-fef4de53466b",
    "tags": []
   },
   "outputs": [
    {
     "data": {
      "text/html": [
       "<div>\n",
       "<style scoped>\n",
       "    .dataframe tbody tr th:only-of-type {\n",
       "        vertical-align: middle;\n",
       "    }\n",
       "\n",
       "    .dataframe tbody tr th {\n",
       "        vertical-align: top;\n",
       "    }\n",
       "\n",
       "    .dataframe thead th {\n",
       "        text-align: right;\n",
       "    }\n",
       "</style>\n",
       "<table border=\"1\" class=\"dataframe\">\n",
       "  <thead>\n",
       "    <tr style=\"text-align: right;\">\n",
       "      <th></th>\n",
       "      <th>saller_id</th>\n",
       "      <th>customer_id</th>\n",
       "      <th>product_id</th>\n",
       "      <th>quantity</th>\n",
       "      <th>price</th>\n",
       "      <th>date</th>\n",
       "    </tr>\n",
       "  </thead>\n",
       "  <tbody>\n",
       "    <tr>\n",
       "      <th>0</th>\n",
       "      <td>21</td>\n",
       "      <td>359</td>\n",
       "      <td>5</td>\n",
       "      <td>8</td>\n",
       "      <td>29</td>\n",
       "      <td>2022-03-14</td>\n",
       "    </tr>\n",
       "    <tr>\n",
       "      <th>1</th>\n",
       "      <td>18</td>\n",
       "      <td>424</td>\n",
       "      <td>15</td>\n",
       "      <td>4</td>\n",
       "      <td>60</td>\n",
       "      <td>2022-05-28</td>\n",
       "    </tr>\n",
       "    <tr>\n",
       "      <th>2</th>\n",
       "      <td>14</td>\n",
       "      <td>473</td>\n",
       "      <td>9</td>\n",
       "      <td>9</td>\n",
       "      <td>73</td>\n",
       "      <td>2022-09-19</td>\n",
       "    </tr>\n",
       "    <tr>\n",
       "      <th>3</th>\n",
       "      <td>9</td>\n",
       "      <td>720</td>\n",
       "      <td>9</td>\n",
       "      <td>3</td>\n",
       "      <td>89</td>\n",
       "      <td>2022-12-31</td>\n",
       "    </tr>\n",
       "    <tr>\n",
       "      <th>4</th>\n",
       "      <td>7</td>\n",
       "      <td>31</td>\n",
       "      <td>8</td>\n",
       "      <td>1</td>\n",
       "      <td>26</td>\n",
       "      <td>2022-06-28</td>\n",
       "    </tr>\n",
       "    <tr>\n",
       "      <th>...</th>\n",
       "      <td>...</td>\n",
       "      <td>...</td>\n",
       "      <td>...</td>\n",
       "      <td>...</td>\n",
       "      <td>...</td>\n",
       "      <td>...</td>\n",
       "    </tr>\n",
       "    <tr>\n",
       "      <th>195</th>\n",
       "      <td>29</td>\n",
       "      <td>891</td>\n",
       "      <td>13</td>\n",
       "      <td>8</td>\n",
       "      <td>12</td>\n",
       "      <td>2022-01-10</td>\n",
       "    </tr>\n",
       "    <tr>\n",
       "      <th>196</th>\n",
       "      <td>16</td>\n",
       "      <td>616</td>\n",
       "      <td>19</td>\n",
       "      <td>9</td>\n",
       "      <td>54</td>\n",
       "      <td>2022-02-16</td>\n",
       "    </tr>\n",
       "    <tr>\n",
       "      <th>197</th>\n",
       "      <td>20</td>\n",
       "      <td>318</td>\n",
       "      <td>4</td>\n",
       "      <td>7</td>\n",
       "      <td>26</td>\n",
       "      <td>2022-11-11</td>\n",
       "    </tr>\n",
       "    <tr>\n",
       "      <th>198</th>\n",
       "      <td>5</td>\n",
       "      <td>447</td>\n",
       "      <td>7</td>\n",
       "      <td>6</td>\n",
       "      <td>88</td>\n",
       "      <td>2022-07-24</td>\n",
       "    </tr>\n",
       "    <tr>\n",
       "      <th>199</th>\n",
       "      <td>7</td>\n",
       "      <td>733</td>\n",
       "      <td>15</td>\n",
       "      <td>3</td>\n",
       "      <td>39</td>\n",
       "      <td>2022-12-23</td>\n",
       "    </tr>\n",
       "  </tbody>\n",
       "</table>\n",
       "<p>200 rows × 6 columns</p>\n",
       "</div>"
      ],
      "text/plain": [
       "     saller_id  customer_id  product_id  quantity  price        date\n",
       "0           21          359           5         8     29  2022-03-14\n",
       "1           18          424          15         4     60  2022-05-28\n",
       "2           14          473           9         9     73  2022-09-19\n",
       "3            9          720           9         3     89  2022-12-31\n",
       "4            7           31           8         1     26  2022-06-28\n",
       "..         ...          ...         ...       ...    ...         ...\n",
       "195         29          891          13         8     12  2022-01-10\n",
       "196         16          616          19         9     54  2022-02-16\n",
       "197         20          318           4         7     26  2022-11-11\n",
       "198          5          447           7         6     88  2022-07-24\n",
       "199          7          733          15         3     39  2022-12-23\n",
       "\n",
       "[200 rows x 6 columns]"
      ]
     },
     "execution_count": 42,
     "metadata": {},
     "output_type": "execute_result"
    }
   ],
   "source": [
    "data"
   ]
  },
  {
   "cell_type": "code",
   "execution_count": 43,
   "id": "6H0tzbzVqixm",
   "metadata": {
    "colab": {
     "base_uri": "https://localhost:8080/"
    },
    "id": "6H0tzbzVqixm",
    "outputId": "00b5557a-0db0-4997-a30c-b936e340361f",
    "tags": []
   },
   "outputs": [
    {
     "data": {
      "text/plain": [
       "product_id\n",
       "15    15\n",
       "2     14\n",
       "9     14\n",
       "4     14\n",
       "1     13\n",
       "10    13\n",
       "5     12\n",
       "17    11\n",
       "7     11\n",
       "13    10\n",
       "14    10\n",
       "6      9\n",
       "18     9\n",
       "8      9\n",
       "3      8\n",
       "12     8\n",
       "16     7\n",
       "19     7\n",
       "11     6\n",
       "Name: count, dtype: int64"
      ]
     },
     "execution_count": 43,
     "metadata": {},
     "output_type": "execute_result"
    }
   ],
   "source": [
    "data['product_id'].value_counts()"
   ]
  },
  {
   "cell_type": "code",
   "execution_count": 44,
   "id": "VGWX1msqqyB_",
   "metadata": {
    "id": "VGWX1msqqyB_",
    "tags": []
   },
   "outputs": [],
   "source": [
    "product_counts = data['product_id'].value_counts()"
   ]
  },
  {
   "cell_type": "code",
   "execution_count": 50,
   "id": "5N0-mZiIq5b_",
   "metadata": {
    "colab": {
     "base_uri": "https://localhost:8080/"
    },
    "id": "5N0-mZiIq5b_",
    "outputId": "c28eba5d-66d4-4121-8e36-00f9505165ad",
    "tags": []
   },
   "outputs": [
    {
     "data": {
      "text/plain": [
       "15"
      ]
     },
     "execution_count": 50,
     "metadata": {},
     "output_type": "execute_result"
    }
   ],
   "source": [
    "product_counts.index[0]"
   ]
  },
  {
   "cell_type": "code",
   "execution_count": 46,
   "id": "7oTufkierCUF",
   "metadata": {
    "colab": {
     "base_uri": "https://localhost:8080/"
    },
    "id": "7oTufkierCUF",
    "outputId": "d6e048a0-cbf0-44c5-c2be-9178b550d521",
    "tags": []
   },
   "outputs": [
    {
     "data": {
      "text/plain": [
       "11"
      ]
     },
     "execution_count": 46,
     "metadata": {},
     "output_type": "execute_result"
    }
   ],
   "source": [
    "product_counts.index[-1]"
   ]
  },
  {
   "cell_type": "code",
   "execution_count": 51,
   "id": "kLopaxonrJXP",
   "metadata": {
    "id": "kLopaxonrJXP",
    "tags": []
   },
   "outputs": [],
   "source": [
    "product_counts = product_counts.sort_values()"
   ]
  },
  {
   "cell_type": "code",
   "execution_count": 52,
   "id": "5ZZ1mR2-rjS-",
   "metadata": {
    "colab": {
     "base_uri": "https://localhost:8080/"
    },
    "id": "5ZZ1mR2-rjS-",
    "outputId": "41578d86-2a63-4be8-88d9-1ed3b535e77c",
    "tags": []
   },
   "outputs": [
    {
     "data": {
      "text/plain": [
       "product_id\n",
       "11     6\n",
       "16     7\n",
       "19     7\n",
       "12     8\n",
       "3      8\n",
       "8      9\n",
       "18     9\n",
       "6      9\n",
       "14    10\n",
       "13    10\n",
       "17    11\n",
       "7     11\n",
       "5     12\n",
       "10    13\n",
       "1     13\n",
       "4     14\n",
       "9     14\n",
       "2     14\n",
       "15    15\n",
       "Name: count, dtype: int64"
      ]
     },
     "execution_count": 52,
     "metadata": {},
     "output_type": "execute_result"
    }
   ],
   "source": [
    "product_counts"
   ]
  },
  {
   "cell_type": "code",
   "execution_count": 53,
   "id": "ucRP-7v-rkU_",
   "metadata": {
    "colab": {
     "base_uri": "https://localhost:8080/",
     "height": 406
    },
    "id": "ucRP-7v-rkU_",
    "outputId": "58aa610c-45a1-499f-e05d-164e19ed0bc4",
    "tags": []
   },
   "outputs": [
    {
     "data": {
      "image/png": "[encoded data removed]",
      "text/plain": [
       "<Figure size 640x480 with 1 Axes>"
      ]
     },
     "metadata": {},
     "output_type": "display_data"
    }
   ],
   "source": [
    "plt.pie(product_counts.values, labels = product_counts.index)\n",
    "\n",
    "plt.show()"
   ]
  },
  {
   "cell_type": "code",
   "execution_count": 58,
   "id": "dd29bcd5-4ecd-41ec-a798-8571fd015e64",
   "metadata": {
    "tags": []
   },
   "outputs": [
    {
     "data": {
      "text/plain": [
       "pandas.core.series.Series"
      ]
     },
     "execution_count": 58,
     "metadata": {},
     "output_type": "execute_result"
    }
   ],
   "source": [
    "type(product_counts)"
   ]
  },
  {
   "cell_type": "code",
   "execution_count": 54,
   "id": "JZokFoWmryjM",
   "metadata": {
    "id": "JZokFoWmryjM",
    "tags": []
   },
   "outputs": [],
   "source": [
    "explode = np.zeros(len(product_counts))"
   ]
  },
  {
   "cell_type": "code",
   "execution_count": 55,
   "id": "hmnbeCNSsKSi",
   "metadata": {
    "colab": {
     "base_uri": "https://localhost:8080/"
    },
    "id": "hmnbeCNSsKSi",
    "outputId": "8381d821-cfdb-44e8-c6b4-1d7fdb9edff9",
    "tags": []
   },
   "outputs": [
    {
     "data": {
      "text/plain": [
       "array([0., 0., 0., 0., 0., 0., 0., 0., 0., 0., 0., 0., 0., 0., 0., 0., 0.,\n",
       "       0., 0.])"
      ]
     },
     "execution_count": 55,
     "metadata": {},
     "output_type": "execute_result"
    }
   ],
   "source": [
    "explode"
   ]
  },
  {
   "cell_type": "code",
   "execution_count": 56,
   "id": "mSN8KF61sLOB",
   "metadata": {
    "id": "mSN8KF61sLOB",
    "tags": []
   },
   "outputs": [],
   "source": [
    "explode[-1] = 0.2\n",
    "explode[0] = 0.2"
   ]
  },
  {
   "cell_type": "code",
   "execution_count": 57,
   "id": "ZAchWU6dsZyh",
   "metadata": {
    "colab": {
     "base_uri": "https://localhost:8080/"
    },
    "id": "ZAchWU6dsZyh",
    "outputId": "17665616-a28a-4888-ab6e-406d5500963f",
    "tags": []
   },
   "outputs": [
    {
     "data": {
      "text/plain": [
       "array([0.2, 0. , 0. , 0. , 0. , 0. , 0. , 0. , 0. , 0. , 0. , 0. , 0. ,\n",
       "       0. , 0. , 0. , 0. , 0. , 0.2])"
      ]
     },
     "execution_count": 57,
     "metadata": {},
     "output_type": "execute_result"
    }
   ],
   "source": [
    "explode"
   ]
  },
  {
   "cell_type": "code",
   "execution_count": 59,
   "id": "I1ch8Op5sSzk",
   "metadata": {
    "colab": {
     "base_uri": "https://localhost:8080/",
     "height": 653
    },
    "id": "I1ch8Op5sSzk",
    "outputId": "b183b92c-ad82-4cbf-a06a-e6711e479ea3",
    "tags": []
   },
   "outputs": [
    {
     "data": {
      "image/png": "[encoded data removed]",
      "text/plain": [
       "<Figure size 1200x800 with 1 Axes>"
      ]
     },
     "metadata": {},
     "output_type": "display_data"
    }
   ],
   "source": [
    "plt.figure(figsize=(12,8))\n",
    "plt.pie(product_counts.values, labels = product_counts.index, explode = explode, autopct='%1.1f%%')\n",
    "plt.show()"
   ]
  },
  {
   "cell_type": "code",
   "execution_count": 60,
   "id": "pGlJ4O_zsWY1",
   "metadata": {
    "id": "pGlJ4O_zsWY1",
    "tags": []
   },
   "outputs": [],
   "source": [
    "def pie_chart(data, explode_index):\n",
    "  plt.figure(figsize=(12,8))\n",
    "  explode = np.zeros(len(product_counts))\n",
    "  for i in explode_index:\n",
    "    explode[i] = 0.2\n",
    "  plt.pie(data.values, labels = data.index, explode = explode, autopct='%1.1f%%')\n",
    "  plt.show()"
   ]
  },
  {
   "cell_type": "code",
   "execution_count": 61,
   "id": "HZxne00lt91A",
   "metadata": {
    "colab": {
     "base_uri": "https://localhost:8080/"
    },
    "id": "HZxne00lt91A",
    "outputId": "04b63cc3-d4fb-4cde-ab7c-b991749fae0e",
    "tags": []
   },
   "outputs": [
    {
     "data": {
      "text/plain": [
       "product_id\n",
       "11     6\n",
       "16     7\n",
       "19     7\n",
       "12     8\n",
       "3      8\n",
       "8      9\n",
       "18     9\n",
       "6      9\n",
       "14    10\n",
       "13    10\n",
       "17    11\n",
       "7     11\n",
       "5     12\n",
       "10    13\n",
       "1     13\n",
       "4     14\n",
       "9     14\n",
       "2     14\n",
       "15    15\n",
       "Name: count, dtype: int64"
      ]
     },
     "execution_count": 61,
     "metadata": {},
     "output_type": "execute_result"
    }
   ],
   "source": [
    "product_counts"
   ]
  },
  {
   "cell_type": "code",
   "execution_count": 62,
   "id": "bplt1riXuvQY",
   "metadata": {
    "colab": {
     "base_uri": "https://localhost:8080/"
    },
    "id": "bplt1riXuvQY",
    "outputId": "f123a6cf-e1a3-4a8c-dfba-68d376de2f72",
    "tags": []
   },
   "outputs": [
    {
     "data": {
      "text/plain": [
       "{11: 0,\n",
       " 16: 1,\n",
       " 19: 2,\n",
       " 12: 3,\n",
       " 3: 4,\n",
       " 8: 5,\n",
       " 18: 6,\n",
       " 6: 7,\n",
       " 14: 8,\n",
       " 13: 9,\n",
       " 17: 10,\n",
       " 7: 11,\n",
       " 5: 12,\n",
       " 10: 13,\n",
       " 1: 14,\n",
       " 4: 15,\n",
       " 9: 16,\n",
       " 2: 17,\n",
       " 15: 18}"
      ]
     },
     "execution_count": 62,
     "metadata": {},
     "output_type": "execute_result"
    }
   ],
   "source": [
    "index_dct = {}\n",
    "for index,value in enumerate(product_counts.index):\n",
    "  index_dct[value] = index\n",
    "index_dct"
   ]
  },
  {
   "cell_type": "code",
   "execution_count": 63,
   "id": "f6yoKvfzuAYH",
   "metadata": {
    "colab": {
     "base_uri": "https://localhost:8080/",
     "height": 653
    },
    "id": "f6yoKvfzuAYH",
    "outputId": "eb376a89-2787-49ab-9b43-eadc9aca7f0e",
    "tags": []
   },
   "outputs": [
    {
     "data": {
      "image/png": "[encoded data removed]",
      "text/plain": [
       "<Figure size 1200x800 with 1 Axes>"
      ]
     },
     "metadata": {},
     "output_type": "display_data"
    }
   ],
   "source": [
    "pie_chart(product_counts, [index_dct[11],index_dct[15]])"
   ]
  },
  {
   "cell_type": "code",
   "execution_count": null,
   "id": "eOVsdEYauW2e",
   "metadata": {
    "id": "eOVsdEYauW2e"
   },
   "outputs": [],
   "source": []
  },
  {
   "cell_type": "markdown",
   "id": "oUJXgrnPzC6I",
   "metadata": {
    "id": "oUJXgrnPzC6I"
   },
   "source": [
    "# Heat map"
   ]
  },
  {
   "cell_type": "code",
   "execution_count": 64,
   "id": "m7tAW6wCzRZM",
   "metadata": {
    "colab": {
     "base_uri": "https://localhost:8080/"
    },
    "id": "m7tAW6wCzRZM",
    "outputId": "1061c265-ba20-409b-b9e7-d0034959a9cf",
    "tags": []
   },
   "outputs": [
    {
     "data": {
      "text/plain": [
       "Index(['saller_id', 'customer_id', 'product_id', 'quantity', 'price', 'date'], dtype='object')"
      ]
     },
     "execution_count": 64,
     "metadata": {},
     "output_type": "execute_result"
    }
   ],
   "source": [
    "data.columns"
   ]
  },
  {
   "cell_type": "code",
   "execution_count": null,
   "id": "5_MXZLRPzRcF",
   "metadata": {
    "id": "5_MXZLRPzRcF"
   },
   "outputs": [],
   "source": []
  },
  {
   "cell_type": "code",
   "execution_count": 65,
   "id": "94y9JvszzMo8",
   "metadata": {
    "id": "94y9JvszzMo8",
    "tags": []
   },
   "outputs": [],
   "source": [
    "corr_check = data[['saller_id', 'customer_id', 'product_id', 'quantity', 'price']]\n"
   ]
  },
  {
   "cell_type": "code",
   "execution_count": 66,
   "id": "WnqAIAo3zXAI",
   "metadata": {
    "id": "WnqAIAo3zXAI",
    "tags": []
   },
   "outputs": [],
   "source": [
    "corr_mat = corr_check.corr()"
   ]
  },
  {
   "cell_type": "code",
   "execution_count": 67,
   "id": "sCgwvFgIzZb9",
   "metadata": {
    "colab": {
     "base_uri": "https://localhost:8080/",
     "height": 206
    },
    "id": "sCgwvFgIzZb9",
    "outputId": "baf2c5a4-f49d-4677-9807-7c7b7f60e7d4",
    "tags": []
   },
   "outputs": [
    {
     "data": {
      "text/html": [
       "<div>\n",
       "<style scoped>\n",
       "    .dataframe tbody tr th:only-of-type {\n",
       "        vertical-align: middle;\n",
       "    }\n",
       "\n",
       "    .dataframe tbody tr th {\n",
       "        vertical-align: top;\n",
       "    }\n",
       "\n",
       "    .dataframe thead th {\n",
       "        text-align: right;\n",
       "    }\n",
       "</style>\n",
       "<table border=\"1\" class=\"dataframe\">\n",
       "  <thead>\n",
       "    <tr style=\"text-align: right;\">\n",
       "      <th></th>\n",
       "      <th>saller_id</th>\n",
       "      <th>customer_id</th>\n",
       "      <th>product_id</th>\n",
       "      <th>quantity</th>\n",
       "      <th>price</th>\n",
       "    </tr>\n",
       "  </thead>\n",
       "  <tbody>\n",
       "    <tr>\n",
       "      <th>saller_id</th>\n",
       "      <td>1.000000</td>\n",
       "      <td>0.096124</td>\n",
       "      <td>0.007238</td>\n",
       "      <td>-0.053361</td>\n",
       "      <td>-0.007741</td>\n",
       "    </tr>\n",
       "    <tr>\n",
       "      <th>customer_id</th>\n",
       "      <td>0.096124</td>\n",
       "      <td>1.000000</td>\n",
       "      <td>-0.120518</td>\n",
       "      <td>-0.082780</td>\n",
       "      <td>0.107364</td>\n",
       "    </tr>\n",
       "    <tr>\n",
       "      <th>product_id</th>\n",
       "      <td>0.007238</td>\n",
       "      <td>-0.120518</td>\n",
       "      <td>1.000000</td>\n",
       "      <td>-0.061924</td>\n",
       "      <td>-0.020068</td>\n",
       "    </tr>\n",
       "    <tr>\n",
       "      <th>quantity</th>\n",
       "      <td>-0.053361</td>\n",
       "      <td>-0.082780</td>\n",
       "      <td>-0.061924</td>\n",
       "      <td>1.000000</td>\n",
       "      <td>-0.137357</td>\n",
       "    </tr>\n",
       "    <tr>\n",
       "      <th>price</th>\n",
       "      <td>-0.007741</td>\n",
       "      <td>0.107364</td>\n",
       "      <td>-0.020068</td>\n",
       "      <td>-0.137357</td>\n",
       "      <td>1.000000</td>\n",
       "    </tr>\n",
       "  </tbody>\n",
       "</table>\n",
       "</div>"
      ],
      "text/plain": [
       "             saller_id  customer_id  product_id  quantity     price\n",
       "saller_id     1.000000     0.096124    0.007238 -0.053361 -0.007741\n",
       "customer_id   0.096124     1.000000   -0.120518 -0.082780  0.107364\n",
       "product_id    0.007238    -0.120518    1.000000 -0.061924 -0.020068\n",
       "quantity     -0.053361    -0.082780   -0.061924  1.000000 -0.137357\n",
       "price        -0.007741     0.107364   -0.020068 -0.137357  1.000000"
      ]
     },
     "execution_count": 67,
     "metadata": {},
     "output_type": "execute_result"
    }
   ],
   "source": [
    "corr_mat"
   ]
  },
  {
   "cell_type": "code",
   "execution_count": 68,
   "id": "6LncmI0QzamT",
   "metadata": {
    "colab": {
     "base_uri": "https://localhost:8080/",
     "height": 452
    },
    "id": "6LncmI0QzamT",
    "outputId": "7d6d7659-db1d-4b38-8bee-12a86204dffc",
    "tags": []
   },
   "outputs": [
    {
     "data": {
      "text/plain": [
       "<Axes: >"
      ]
     },
     "execution_count": 68,
     "metadata": {},
     "output_type": "execute_result"
    },
    {
     "data": {
      "image/png": "[encoded data removed]",
      "text/plain": [
       "<Figure size 640x480 with 2 Axes>"
      ]
     },
     "metadata": {},
     "output_type": "display_data"
    }
   ],
   "source": [
    "sns.heatmap(corr_mat, annot = True)"
   ]
  },
  {
   "cell_type": "code",
   "execution_count": null,
   "id": "0Gy7F-lPzn6T",
   "metadata": {
    "id": "0Gy7F-lPzn6T"
   },
   "outputs": [],
   "source": []
  },
  {
   "cell_type": "markdown",
   "id": "ww3VpfYVzzr1",
   "metadata": {
    "id": "ww3VpfYVzzr1"
   },
   "source": [
    "# word cloud"
   ]
  },
  {
   "cell_type": "code",
   "execution_count": 69,
   "id": "bd5fuIaEzzOi",
   "metadata": {
    "id": "bd5fuIaEzzOi",
    "tags": []
   },
   "outputs": [],
   "source": [
    "text_data = \"Hello my name is Ajay and i will be your mentor for Data science , machine learning and deep learning\""
   ]
  },
  {
   "cell_type": "code",
   "execution_count": 71,
   "id": "kKfpYvQF0GnG",
   "metadata": {
    "id": "kKfpYvQF0GnG",
    "tags": []
   },
   "outputs": [],
   "source": [
    "from wordcloud import WordCloud"
   ]
  },
  {
   "cell_type": "code",
   "execution_count": 72,
   "id": "7WZYuR7J0qc7",
   "metadata": {
    "colab": {
     "base_uri": "https://localhost:8080/"
    },
    "collapsed": true,
    "id": "7WZYuR7J0qc7",
    "jupyter": {
     "outputs_hidden": true
    },
    "outputId": "42f049b9-2c98-4be0-b7de-609a8a3eac27",
    "tags": []
   },
   "outputs": [
    {
     "name": "stdout",
     "output_type": "stream",
     "text": [
      "Help on class WordCloud in module wordcloud.wordcloud:\n",
      "\n",
      "class WordCloud(builtins.object)\n",
      " |  WordCloud(font_path=None, width=400, height=200, margin=2, ranks_only=None, prefer_horizontal=0.9, mask=None, scale=1, color_func=None, max_words=200, min_font_size=4, stopwords=None, random_state=None, background_color='black', max_font_size=None, font_step=1, mode='RGB', relative_scaling='auto', regexp=None, collocations=True, colormap=None, normalize_plurals=True, contour_width=0, contour_color='black', repeat=False, include_numbers=False, min_word_length=0, collocation_threshold=30)\n",
      " |  \n",
      " |  Word cloud object for generating and drawing.\n",
      " |  \n",
      " |  Parameters\n",
      " |  ----------\n",
      " |  font_path : string\n",
      " |      Font path to the font that will be used (OTF or TTF).\n",
      " |      Defaults to DroidSansMono path on a Linux machine. If you are on\n",
      " |      another OS or don't have this font, you need to adjust this path.\n",
      " |  \n",
      " |  width : int (default=400)\n",
      " |      Width of the canvas.\n",
      " |  \n",
      " |  height : int (default=200)\n",
      " |      Height of the canvas.\n",
      " |  \n",
      " |  prefer_horizontal : float (default=0.90)\n",
      " |      The ratio of times to try horizontal fitting as opposed to vertical.\n",
      " |      If prefer_horizontal < 1, the algorithm will try rotating the word\n",
      " |      if it doesn't fit. (There is currently no built-in way to get only\n",
      " |      vertical words.)\n",
      " |  \n",
      " |  mask : nd-array or None (default=None)\n",
      " |      If not None, gives a binary mask on where to draw words. If mask is not\n",
      " |      None, width and height will be ignored and the shape of mask will be\n",
      " |      used instead. All white (#FF or #FFFFFF) entries will be considerd\n",
      " |      \"masked out\" while other entries will be free to draw on. [This\n",
      " |      changed in the most recent version!]\n",
      " |  \n",
      " |  contour_width: float (default=0)\n",
      " |      If mask is not None and contour_width > 0, draw the mask contour.\n",
      " |  \n",
      " |  contour_color: color value (default=\"black\")\n",
      " |      Mask contour color.\n",
      " |  \n",
      " |  scale : float (default=1)\n",
      " |      Scaling between computation and drawing. For large word-cloud images,\n",
      " |      using scale instead of larger canvas size is significantly faster, but\n",
      " |      might lead to a coarser fit for the words.\n",
      " |  \n",
      " |  min_font_size : int (default=4)\n",
      " |      Smallest font size to use. Will stop when there is no more room in this\n",
      " |      size.\n",
      " |  \n",
      " |  font_step : int (default=1)\n",
      " |      Step size for the font. font_step > 1 might speed up computation but\n",
      " |      give a worse fit.\n",
      " |  \n",
      " |  max_words : number (default=200)\n",
      " |      The maximum number of words.\n",
      " |  \n",
      " |  stopwords : set of strings or None\n",
      " |      The words that will be eliminated. If None, the build-in STOPWORDS\n",
      " |      list will be used. Ignored if using generate_from_frequencies.\n",
      " |  \n",
      " |  background_color : color value (default=\"black\")\n",
      " |      Background color for the word cloud image.\n",
      " |  \n",
      " |  max_font_size : int or None (default=None)\n",
      " |      Maximum font size for the largest word. If None, height of the image is\n",
      " |      used.\n",
      " |  \n",
      " |  mode : string (default=\"RGB\")\n",
      " |      Transparent background will be generated when mode is \"RGBA\" and\n",
      " |      background_color is None.\n",
      " |  \n",
      " |  relative_scaling : float (default='auto')\n",
      " |      Importance of relative word frequencies for font-size.  With\n",
      " |      relative_scaling=0, only word-ranks are considered.  With\n",
      " |      relative_scaling=1, a word that is twice as frequent will have twice\n",
      " |      the size.  If you want to consider the word frequencies and not only\n",
      " |      their rank, relative_scaling around .5 often looks good.\n",
      " |      If 'auto' it will be set to 0.5 unless repeat is true, in which\n",
      " |      case it will be set to 0.\n",
      " |  \n",
      " |      .. versionchanged: 2.0\n",
      " |          Default is now 'auto'.\n",
      " |  \n",
      " |  color_func : callable, default=None\n",
      " |      Callable with parameters word, font_size, position, orientation,\n",
      " |      font_path, random_state that returns a PIL color for each word.\n",
      " |      Overwrites \"colormap\".\n",
      " |      See colormap for specifying a matplotlib colormap instead.\n",
      " |      To create a word cloud with a single color, use\n",
      " |      ``color_func=lambda *args, **kwargs: \"white\"``.\n",
      " |      The single color can also be specified using RGB code. For example\n",
      " |      ``color_func=lambda *args, **kwargs: (255,0,0)`` sets color to red.\n",
      " |  \n",
      " |  regexp : string or None (optional)\n",
      " |      Regular expression to split the input text into tokens in process_text.\n",
      " |      If None is specified, ``r\"\\w[\\w']+\"`` is used. Ignored if using\n",
      " |      generate_from_frequencies.\n",
      " |  \n",
      " |  collocations : bool, default=True\n",
      " |      Whether to include collocations (bigrams) of two words. Ignored if using\n",
      " |      generate_from_frequencies.\n",
      " |  \n",
      " |  \n",
      " |      .. versionadded: 2.0\n",
      " |  \n",
      " |  colormap : string or matplotlib colormap, default=\"viridis\"\n",
      " |      Matplotlib colormap to randomly draw colors from for each word.\n",
      " |      Ignored if \"color_func\" is specified.\n",
      " |  \n",
      " |      .. versionadded: 2.0\n",
      " |  \n",
      " |  normalize_plurals : bool, default=True\n",
      " |      Whether to remove trailing 's' from words. If True and a word\n",
      " |      appears with and without a trailing 's', the one with trailing 's'\n",
      " |      is removed and its counts are added to the version without\n",
      " |      trailing 's' -- unless the word ends with 'ss'. Ignored if using\n",
      " |      generate_from_frequencies.\n",
      " |  \n",
      " |  repeat : bool, default=False\n",
      " |      Whether to repeat words and phrases until max_words or min_font_size\n",
      " |      is reached.\n",
      " |  \n",
      " |  include_numbers : bool, default=False\n",
      " |      Whether to include numbers as phrases or not.\n",
      " |  \n",
      " |  min_word_length : int, default=0\n",
      " |      Minimum number of letters a word must have to be included.\n",
      " |  \n",
      " |  collocation_threshold: int, default=30\n",
      " |      Bigrams must have a Dunning likelihood collocation score greater than this\n",
      " |      parameter to be counted as bigrams. Default of 30 is arbitrary.\n",
      " |  \n",
      " |      See Manning, C.D., Manning, C.D. and Schütze, H., 1999. Foundations of\n",
      " |      Statistical Natural Language Processing. MIT press, p. 162\n",
      " |      https://nlp.stanford.edu/fsnlp/promo/colloc.pdf#page=22\n",
      " |  \n",
      " |  Attributes\n",
      " |  ----------\n",
      " |  ``words_`` : dict of string to float\n",
      " |      Word tokens with associated frequency.\n",
      " |  \n",
      " |      .. versionchanged: 2.0\n",
      " |          ``words_`` is now a dictionary\n",
      " |  \n",
      " |  ``layout_`` : list of tuples ((string, float), int, (int, int), int, color))\n",
      " |      Encodes the fitted word cloud. For each word, it encodes the string,\n",
      " |      normalized frequency, font size, position, orientation, and color.\n",
      " |      The frequencies are normalized by the most commonly occurring word.\n",
      " |      The color is in the format of 'rgb(R, G, B).'\n",
      " |  \n",
      " |  Notes\n",
      " |  -----\n",
      " |  Larger canvases make the code significantly slower. If you need a\n",
      " |  large word cloud, try a lower canvas size, and set the scale parameter.\n",
      " |  \n",
      " |  The algorithm might give more weight to the ranking of the words\n",
      " |  than their actual frequencies, depending on the ``max_font_size`` and the\n",
      " |  scaling heuristic.\n",
      " |  \n",
      " |  Methods defined here:\n",
      " |  \n",
      " |  __array__(self)\n",
      " |      Convert to numpy array.\n",
      " |      \n",
      " |      Returns\n",
      " |      -------\n",
      " |      image : nd-array size (width, height, 3)\n",
      " |          Word cloud image as numpy matrix.\n",
      " |  \n",
      " |  __init__(self, font_path=None, width=400, height=200, margin=2, ranks_only=None, prefer_horizontal=0.9, mask=None, scale=1, color_func=None, max_words=200, min_font_size=4, stopwords=None, random_state=None, background_color='black', max_font_size=None, font_step=1, mode='RGB', relative_scaling='auto', regexp=None, collocations=True, colormap=None, normalize_plurals=True, contour_width=0, contour_color='black', repeat=False, include_numbers=False, min_word_length=0, collocation_threshold=30)\n",
      " |      Initialize self.  See help(type(self)) for accurate signature.\n",
      " |  \n",
      " |  fit_words(self, frequencies)\n",
      " |      Create a word_cloud from words and frequencies.\n",
      " |      \n",
      " |      Alias to generate_from_frequencies.\n",
      " |      \n",
      " |      Parameters\n",
      " |      ----------\n",
      " |      frequencies : dict from string to float\n",
      " |          A contains words and associated frequency.\n",
      " |      \n",
      " |      Returns\n",
      " |      -------\n",
      " |      self\n",
      " |  \n",
      " |  generate(self, text)\n",
      " |      Generate wordcloud from text.\n",
      " |      \n",
      " |      The input \"text\" is expected to be a natural text. If you pass a sorted\n",
      " |      list of words, words will appear in your output twice. To remove this\n",
      " |      duplication, set ``collocations=False``.\n",
      " |      \n",
      " |      Alias to generate_from_text.\n",
      " |      \n",
      " |      Calls process_text and generate_from_frequencies.\n",
      " |      \n",
      " |      Returns\n",
      " |      -------\n",
      " |      self\n",
      " |  \n",
      " |  generate_from_frequencies(self, frequencies, max_font_size=None)\n",
      " |      Create a word_cloud from words and frequencies.\n",
      " |      \n",
      " |      Parameters\n",
      " |      ----------\n",
      " |      frequencies : dict from string to float\n",
      " |          A contains words and associated frequency.\n",
      " |      \n",
      " |      max_font_size : int\n",
      " |          Use this font-size instead of self.max_font_size\n",
      " |      \n",
      " |      Returns\n",
      " |      -------\n",
      " |      self\n",
      " |  \n",
      " |  generate_from_text(self, text)\n",
      " |      Generate wordcloud from text.\n",
      " |      \n",
      " |      The input \"text\" is expected to be a natural text. If you pass a sorted\n",
      " |      list of words, words will appear in your output twice. To remove this\n",
      " |      duplication, set ``collocations=False``.\n",
      " |      \n",
      " |      Calls process_text and generate_from_frequencies.\n",
      " |      \n",
      " |      ..versionchanged:: 1.2.2\n",
      " |          Argument of generate_from_frequencies() is not return of\n",
      " |          process_text() any more.\n",
      " |      \n",
      " |      Returns\n",
      " |      -------\n",
      " |      self\n",
      " |  \n",
      " |  process_text(self, text)\n",
      " |      Splits a long text into words, eliminates the stopwords.\n",
      " |      \n",
      " |      Parameters\n",
      " |      ----------\n",
      " |      text : string\n",
      " |          The text to be processed.\n",
      " |      \n",
      " |      Returns\n",
      " |      -------\n",
      " |      words : dict (string, int)\n",
      " |          Word tokens with associated frequency.\n",
      " |      \n",
      " |      ..versionchanged:: 1.2.2\n",
      " |          Changed return type from list of tuples to dict.\n",
      " |      \n",
      " |      Notes\n",
      " |      -----\n",
      " |      There are better ways to do word tokenization, but I don't want to\n",
      " |      include all those things.\n",
      " |  \n",
      " |  recolor(self, random_state=None, color_func=None, colormap=None)\n",
      " |      Recolor existing layout.\n",
      " |      \n",
      " |      Applying a new coloring is much faster than generating the whole\n",
      " |      wordcloud.\n",
      " |      \n",
      " |      Parameters\n",
      " |      ----------\n",
      " |      random_state : RandomState, int, or None, default=None\n",
      " |          If not None, a fixed random state is used. If an int is given, this\n",
      " |          is used as seed for a random.Random state.\n",
      " |      \n",
      " |      color_func : function or None, default=None\n",
      " |          Function to generate new color from word count, font size, position\n",
      " |          and orientation.  If None, self.color_func is used.\n",
      " |      \n",
      " |      colormap : string or matplotlib colormap, default=None\n",
      " |          Use this colormap to generate new colors. Ignored if color_func\n",
      " |          is specified. If None, self.color_func (or self.color_map) is used.\n",
      " |      \n",
      " |      Returns\n",
      " |      -------\n",
      " |      self\n",
      " |  \n",
      " |  to_array(self)\n",
      " |      Convert to numpy array.\n",
      " |      \n",
      " |      Returns\n",
      " |      -------\n",
      " |      image : nd-array size (width, height, 3)\n",
      " |          Word cloud image as numpy matrix.\n",
      " |  \n",
      " |  to_file(self, filename)\n",
      " |      Export to image file.\n",
      " |      \n",
      " |      Parameters\n",
      " |      ----------\n",
      " |      filename : string\n",
      " |          Location to write to.\n",
      " |      \n",
      " |      Returns\n",
      " |      -------\n",
      " |      self\n",
      " |  \n",
      " |  to_image(self)\n",
      " |  \n",
      " |  to_svg(self, embed_font=False, optimize_embedded_font=True, embed_image=False)\n",
      " |      Export to SVG.\n",
      " |      \n",
      " |      Font is assumed to be available to the SVG reader. Otherwise, text\n",
      " |      coordinates may produce artifacts when rendered with replacement font.\n",
      " |      It is also possible to include a subset of the original font in WOFF\n",
      " |      format using ``embed_font`` (requires `fontTools`).\n",
      " |      \n",
      " |      Note that some renderers do not handle glyphs the same way, and may\n",
      " |      differ from ``to_image`` result. In particular, Complex Text Layout may\n",
      " |      not be supported. In this typesetting, the shape or positioning of a\n",
      " |      grapheme depends on its relation to other graphemes.\n",
      " |      \n",
      " |      Pillow, since version 4.2.0, supports CTL using ``libraqm``. However,\n",
      " |      due to dependencies, this feature is not always enabled. Hence, the\n",
      " |      same rendering differences may appear in ``to_image``. As this\n",
      " |      rasterized output is used to compute the layout, this also affects the\n",
      " |      layout generation. Use ``PIL.features.check`` to test availability of\n",
      " |      ``raqm``.\n",
      " |      \n",
      " |      Consistant rendering is therefore expected if both Pillow and the SVG\n",
      " |      renderer have the same support of CTL.\n",
      " |      \n",
      " |      Contour drawing is not supported.\n",
      " |      \n",
      " |      Parameters\n",
      " |      ----------\n",
      " |      embed_font : bool, default=False\n",
      " |          Whether to include font inside resulting SVG file.\n",
      " |      \n",
      " |      optimize_embedded_font : bool, default=True\n",
      " |          Whether to be aggressive when embedding a font, to reduce size. In\n",
      " |          particular, hinting tables are dropped, which may introduce slight\n",
      " |          changes to character shapes (w.r.t. `to_image` baseline).\n",
      " |      \n",
      " |      embed_image : bool, default=False\n",
      " |          Whether to include rasterized image inside resulting SVG file.\n",
      " |          Useful for debugging.\n",
      " |      \n",
      " |      Returns\n",
      " |      -------\n",
      " |      content : string\n",
      " |          Word cloud image as SVG string\n",
      " |  \n",
      " |  ----------------------------------------------------------------------\n",
      " |  Data descriptors defined here:\n",
      " |  \n",
      " |  __dict__\n",
      " |      dictionary for instance variables (if defined)\n",
      " |  \n",
      " |  __weakref__\n",
      " |      list of weak references to the object (if defined)\n",
      "\n"
     ]
    }
   ],
   "source": [
    "help(WordCloud)"
   ]
  },
  {
   "cell_type": "code",
   "execution_count": 73,
   "id": "TdVqKCt60NKl",
   "metadata": {
    "id": "TdVqKCt60NKl",
    "tags": []
   },
   "outputs": [],
   "source": [
    "wc = WordCloud(width = 800, height = 600, background_color=\"white\").generate(text_data)"
   ]
  },
  {
   "cell_type": "code",
   "execution_count": 74,
   "id": "E74m8VXr0b4I",
   "metadata": {
    "colab": {
     "base_uri": "https://localhost:8080/",
     "height": 423
    },
    "id": "E74m8VXr0b4I",
    "outputId": "e59c80ae-be33-4d58-d5f0-72b6095392b0",
    "tags": []
   },
   "outputs": [
    {
     "data": {
      "text/plain": [
       "(-0.5, 799.5, 599.5, -0.5)"
      ]
     },
     "execution_count": 74,
     "metadata": {},
     "output_type": "execute_result"
    },
    {
     "data": {
      "image/png": "[encoded data removed]",
      "text/plain": [
       "<Figure size 640x480 with 1 Axes>"
      ]
     },
     "metadata": {},
     "output_type": "display_data"
    }
   ],
   "source": [
    "plt.imshow(wc)\n",
    "plt.axis(\"off\")"
   ]
  },
  {
   "cell_type": "code",
   "execution_count": null,
   "id": "6TQo5YiT1JwO",
   "metadata": {
    "id": "6TQo5YiT1JwO"
   },
   "outputs": [],
   "source": []
  },
  {
   "cell_type": "markdown",
   "id": "6ePBWDrP1f30",
   "metadata": {
    "id": "6ePBWDrP1f30"
   },
   "source": [
    "# DATA DISTRIBUTION (HISTOGRAM)"
   ]
  },
  {
   "cell_type": "code",
   "execution_count": 75,
   "id": "un95qWAh1ji-",
   "metadata": {
    "colab": {
     "base_uri": "https://localhost:8080/",
     "height": 423
    },
    "id": "un95qWAh1ji-",
    "outputId": "3ae76918-d0ca-4945-e459-c52d96b4e793",
    "tags": []
   },
   "outputs": [
    {
     "data": {
      "text/html": [
       "<div>\n",
       "<style scoped>\n",
       "    .dataframe tbody tr th:only-of-type {\n",
       "        vertical-align: middle;\n",
       "    }\n",
       "\n",
       "    .dataframe tbody tr th {\n",
       "        vertical-align: top;\n",
       "    }\n",
       "\n",
       "    .dataframe thead th {\n",
       "        text-align: right;\n",
       "    }\n",
       "</style>\n",
       "<table border=\"1\" class=\"dataframe\">\n",
       "  <thead>\n",
       "    <tr style=\"text-align: right;\">\n",
       "      <th></th>\n",
       "      <th>saller_id</th>\n",
       "      <th>customer_id</th>\n",
       "      <th>product_id</th>\n",
       "      <th>quantity</th>\n",
       "      <th>price</th>\n",
       "      <th>date</th>\n",
       "    </tr>\n",
       "  </thead>\n",
       "  <tbody>\n",
       "    <tr>\n",
       "      <th>0</th>\n",
       "      <td>21</td>\n",
       "      <td>359</td>\n",
       "      <td>5</td>\n",
       "      <td>8</td>\n",
       "      <td>29</td>\n",
       "      <td>2022-03-14</td>\n",
       "    </tr>\n",
       "    <tr>\n",
       "      <th>1</th>\n",
       "      <td>18</td>\n",
       "      <td>424</td>\n",
       "      <td>15</td>\n",
       "      <td>4</td>\n",
       "      <td>60</td>\n",
       "      <td>2022-05-28</td>\n",
       "    </tr>\n",
       "    <tr>\n",
       "      <th>2</th>\n",
       "      <td>14</td>\n",
       "      <td>473</td>\n",
       "      <td>9</td>\n",
       "      <td>9</td>\n",
       "      <td>73</td>\n",
       "      <td>2022-09-19</td>\n",
       "    </tr>\n",
       "    <tr>\n",
       "      <th>3</th>\n",
       "      <td>9</td>\n",
       "      <td>720</td>\n",
       "      <td>9</td>\n",
       "      <td>3</td>\n",
       "      <td>89</td>\n",
       "      <td>2022-12-31</td>\n",
       "    </tr>\n",
       "    <tr>\n",
       "      <th>4</th>\n",
       "      <td>7</td>\n",
       "      <td>31</td>\n",
       "      <td>8</td>\n",
       "      <td>1</td>\n",
       "      <td>26</td>\n",
       "      <td>2022-06-28</td>\n",
       "    </tr>\n",
       "    <tr>\n",
       "      <th>...</th>\n",
       "      <td>...</td>\n",
       "      <td>...</td>\n",
       "      <td>...</td>\n",
       "      <td>...</td>\n",
       "      <td>...</td>\n",
       "      <td>...</td>\n",
       "    </tr>\n",
       "    <tr>\n",
       "      <th>195</th>\n",
       "      <td>29</td>\n",
       "      <td>891</td>\n",
       "      <td>13</td>\n",
       "      <td>8</td>\n",
       "      <td>12</td>\n",
       "      <td>2022-01-10</td>\n",
       "    </tr>\n",
       "    <tr>\n",
       "      <th>196</th>\n",
       "      <td>16</td>\n",
       "      <td>616</td>\n",
       "      <td>19</td>\n",
       "      <td>9</td>\n",
       "      <td>54</td>\n",
       "      <td>2022-02-16</td>\n",
       "    </tr>\n",
       "    <tr>\n",
       "      <th>197</th>\n",
       "      <td>20</td>\n",
       "      <td>318</td>\n",
       "      <td>4</td>\n",
       "      <td>7</td>\n",
       "      <td>26</td>\n",
       "      <td>2022-11-11</td>\n",
       "    </tr>\n",
       "    <tr>\n",
       "      <th>198</th>\n",
       "      <td>5</td>\n",
       "      <td>447</td>\n",
       "      <td>7</td>\n",
       "      <td>6</td>\n",
       "      <td>88</td>\n",
       "      <td>2022-07-24</td>\n",
       "    </tr>\n",
       "    <tr>\n",
       "      <th>199</th>\n",
       "      <td>7</td>\n",
       "      <td>733</td>\n",
       "      <td>15</td>\n",
       "      <td>3</td>\n",
       "      <td>39</td>\n",
       "      <td>2022-12-23</td>\n",
       "    </tr>\n",
       "  </tbody>\n",
       "</table>\n",
       "<p>200 rows × 6 columns</p>\n",
       "</div>"
      ],
      "text/plain": [
       "     saller_id  customer_id  product_id  quantity  price        date\n",
       "0           21          359           5         8     29  2022-03-14\n",
       "1           18          424          15         4     60  2022-05-28\n",
       "2           14          473           9         9     73  2022-09-19\n",
       "3            9          720           9         3     89  2022-12-31\n",
       "4            7           31           8         1     26  2022-06-28\n",
       "..         ...          ...         ...       ...    ...         ...\n",
       "195         29          891          13         8     12  2022-01-10\n",
       "196         16          616          19         9     54  2022-02-16\n",
       "197         20          318           4         7     26  2022-11-11\n",
       "198          5          447           7         6     88  2022-07-24\n",
       "199          7          733          15         3     39  2022-12-23\n",
       "\n",
       "[200 rows x 6 columns]"
      ]
     },
     "execution_count": 75,
     "metadata": {},
     "output_type": "execute_result"
    }
   ],
   "source": [
    "data"
   ]
  },
  {
   "cell_type": "code",
   "execution_count": 76,
   "id": "pn8hyNuR1kJ1",
   "metadata": {
    "id": "pn8hyNuR1kJ1",
    "tags": []
   },
   "outputs": [],
   "source": [
    "revenue = data['quantity'] * data['price']"
   ]
  },
  {
   "cell_type": "code",
   "execution_count": 77,
   "id": "GUntpHHZ10cm",
   "metadata": {
    "id": "GUntpHHZ10cm",
    "tags": []
   },
   "outputs": [],
   "source": [
    "df_revenue = pd.DataFrame(data = revenue, columns = [\"Revenue\"])"
   ]
  },
  {
   "cell_type": "code",
   "execution_count": 78,
   "id": "tMUfmCuW12HE",
   "metadata": {
    "colab": {
     "base_uri": "https://localhost:8080/",
     "height": 423
    },
    "id": "tMUfmCuW12HE",
    "outputId": "8d3ce292-d932-4d04-bf7e-d98f40f2655a",
    "tags": []
   },
   "outputs": [
    {
     "data": {
      "text/html": [
       "<div>\n",
       "<style scoped>\n",
       "    .dataframe tbody tr th:only-of-type {\n",
       "        vertical-align: middle;\n",
       "    }\n",
       "\n",
       "    .dataframe tbody tr th {\n",
       "        vertical-align: top;\n",
       "    }\n",
       "\n",
       "    .dataframe thead th {\n",
       "        text-align: right;\n",
       "    }\n",
       "</style>\n",
       "<table border=\"1\" class=\"dataframe\">\n",
       "  <thead>\n",
       "    <tr style=\"text-align: right;\">\n",
       "      <th></th>\n",
       "      <th>Revenue</th>\n",
       "    </tr>\n",
       "  </thead>\n",
       "  <tbody>\n",
       "    <tr>\n",
       "      <th>0</th>\n",
       "      <td>232</td>\n",
       "    </tr>\n",
       "    <tr>\n",
       "      <th>1</th>\n",
       "      <td>240</td>\n",
       "    </tr>\n",
       "    <tr>\n",
       "      <th>2</th>\n",
       "      <td>657</td>\n",
       "    </tr>\n",
       "    <tr>\n",
       "      <th>3</th>\n",
       "      <td>267</td>\n",
       "    </tr>\n",
       "    <tr>\n",
       "      <th>4</th>\n",
       "      <td>26</td>\n",
       "    </tr>\n",
       "    <tr>\n",
       "      <th>...</th>\n",
       "      <td>...</td>\n",
       "    </tr>\n",
       "    <tr>\n",
       "      <th>195</th>\n",
       "      <td>96</td>\n",
       "    </tr>\n",
       "    <tr>\n",
       "      <th>196</th>\n",
       "      <td>486</td>\n",
       "    </tr>\n",
       "    <tr>\n",
       "      <th>197</th>\n",
       "      <td>182</td>\n",
       "    </tr>\n",
       "    <tr>\n",
       "      <th>198</th>\n",
       "      <td>528</td>\n",
       "    </tr>\n",
       "    <tr>\n",
       "      <th>199</th>\n",
       "      <td>117</td>\n",
       "    </tr>\n",
       "  </tbody>\n",
       "</table>\n",
       "<p>200 rows × 1 columns</p>\n",
       "</div>"
      ],
      "text/plain": [
       "     Revenue\n",
       "0        232\n",
       "1        240\n",
       "2        657\n",
       "3        267\n",
       "4         26\n",
       "..       ...\n",
       "195       96\n",
       "196      486\n",
       "197      182\n",
       "198      528\n",
       "199      117\n",
       "\n",
       "[200 rows x 1 columns]"
      ]
     },
     "execution_count": 78,
     "metadata": {},
     "output_type": "execute_result"
    }
   ],
   "source": [
    "df_revenue"
   ]
  },
  {
   "cell_type": "code",
   "execution_count": 79,
   "id": "88KewpBJ2E_K",
   "metadata": {
    "colab": {
     "base_uri": "https://localhost:8080/",
     "height": 466
    },
    "id": "88KewpBJ2E_K",
    "outputId": "9c18d776-1469-47d2-c3ae-bf51f594922a",
    "tags": []
   },
   "outputs": [
    {
     "data": {
      "text/plain": [
       "<Axes: xlabel='Revenue', ylabel='Count'>"
      ]
     },
     "execution_count": 79,
     "metadata": {},
     "output_type": "execute_result"
    },
    {
     "data": {
      "image/png": "[encoded data removed]",
      "text/plain": [
       "<Figure size 640x480 with 1 Axes>"
      ]
     },
     "metadata": {},
     "output_type": "display_data"
    }
   ],
   "source": [
    "sns.histplot(df_revenue.Revenue, kde = True)"
   ]
  },
  {
   "cell_type": "code",
   "execution_count": 80,
   "id": "KtxHYLn72bwv",
   "metadata": {
    "id": "KtxHYLn72bwv",
    "tags": []
   },
   "outputs": [],
   "source": [
    "# transformation of right skewed to nearly normal distributed data using boxcox transformation"
   ]
  },
  {
   "cell_type": "code",
   "execution_count": 82,
   "id": "_4TD-3UQ4XdV",
   "metadata": {
    "colab": {
     "base_uri": "https://localhost:8080/"
    },
    "id": "_4TD-3UQ4XdV",
    "outputId": "96aa3f8c-cc79-4c67-bc6a-8275d47ceb2a",
    "tags": []
   },
   "outputs": [],
   "source": [
    "from scipy import stats"
   ]
  },
  {
   "cell_type": "code",
   "execution_count": 83,
   "id": "eTlcCP_s2oNZ",
   "metadata": {
    "collapsed": true,
    "id": "eTlcCP_s2oNZ",
    "jupyter": {
     "outputs_hidden": true
    },
    "tags": []
   },
   "outputs": [
    {
     "name": "stdout",
     "output_type": "stream",
     "text": [
      "Help on function boxcox in module scipy.stats._morestats:\n",
      "\n",
      "boxcox(x, lmbda=None, alpha=None, optimizer=None)\n",
      "    Return a dataset transformed by a Box-Cox power transformation.\n",
      "    \n",
      "    Parameters\n",
      "    ----------\n",
      "    x : ndarray\n",
      "        Input array to be transformed.\n",
      "    \n",
      "        If `lmbda` is not None, this is an alias of\n",
      "        `scipy.special.boxcox`.\n",
      "        Returns nan if ``x < 0``; returns -inf if ``x == 0 and lmbda < 0``.\n",
      "    \n",
      "        If `lmbda` is None, array must be positive, 1-dimensional, and\n",
      "        non-constant.\n",
      "    \n",
      "    lmbda : scalar, optional\n",
      "        If `lmbda` is None (default), find the value of `lmbda` that maximizes\n",
      "        the log-likelihood function and return it as the second output\n",
      "        argument.\n",
      "    \n",
      "        If `lmbda` is not None, do the transformation for that value.\n",
      "    \n",
      "    alpha : float, optional\n",
      "        If `lmbda` is None and `alpha` is not None (default), return the\n",
      "        ``100 * (1-alpha)%`` confidence  interval for `lmbda` as the third\n",
      "        output argument. Must be between 0.0 and 1.0.\n",
      "    \n",
      "        If `lmbda` is not None, `alpha` is ignored.\n",
      "    optimizer : callable, optional\n",
      "        If `lmbda` is None, `optimizer` is the scalar optimizer used to find\n",
      "        the value of `lmbda` that minimizes the negative log-likelihood\n",
      "        function. `optimizer` is a callable that accepts one argument:\n",
      "    \n",
      "        fun : callable\n",
      "            The objective function, which evaluates the negative\n",
      "            log-likelihood function at a provided value of `lmbda`\n",
      "    \n",
      "        and returns an object, such as an instance of\n",
      "        `scipy.optimize.OptimizeResult`, which holds the optimal value of\n",
      "        `lmbda` in an attribute `x`.\n",
      "    \n",
      "        See the example in `boxcox_normmax` or the documentation of\n",
      "        `scipy.optimize.minimize_scalar` for more information.\n",
      "    \n",
      "        If `lmbda` is not None, `optimizer` is ignored.\n",
      "    \n",
      "    Returns\n",
      "    -------\n",
      "    boxcox : ndarray\n",
      "        Box-Cox power transformed array.\n",
      "    maxlog : float, optional\n",
      "        If the `lmbda` parameter is None, the second returned argument is\n",
      "        the `lmbda` that maximizes the log-likelihood function.\n",
      "    (min_ci, max_ci) : tuple of float, optional\n",
      "        If `lmbda` parameter is None and `alpha` is not None, this returned\n",
      "        tuple of floats represents the minimum and maximum confidence limits\n",
      "        given `alpha`.\n",
      "    \n",
      "    See Also\n",
      "    --------\n",
      "    probplot, boxcox_normplot, boxcox_normmax, boxcox_llf\n",
      "    \n",
      "    Notes\n",
      "    -----\n",
      "    The Box-Cox transform is given by::\n",
      "    \n",
      "        y = (x**lmbda - 1) / lmbda,  for lmbda != 0\n",
      "            log(x),                  for lmbda = 0\n",
      "    \n",
      "    `boxcox` requires the input data to be positive.  Sometimes a Box-Cox\n",
      "    transformation provides a shift parameter to achieve this; `boxcox` does\n",
      "    not.  Such a shift parameter is equivalent to adding a positive constant to\n",
      "    `x` before calling `boxcox`.\n",
      "    \n",
      "    The confidence limits returned when `alpha` is provided give the interval\n",
      "    where:\n",
      "    \n",
      "    .. math::\n",
      "    \n",
      "        llf(\\hat{\\lambda}) - llf(\\lambda) < \\frac{1}{2}\\chi^2(1 - \\alpha, 1),\n",
      "    \n",
      "    with ``llf`` the log-likelihood function and :math:`\\chi^2` the chi-squared\n",
      "    function.\n",
      "    \n",
      "    References\n",
      "    ----------\n",
      "    G.E.P. Box and D.R. Cox, \"An Analysis of Transformations\", Journal of the\n",
      "    Royal Statistical Society B, 26, 211-252 (1964).\n",
      "    \n",
      "    Examples\n",
      "    --------\n",
      "    >>> from scipy import stats\n",
      "    >>> import matplotlib.pyplot as plt\n",
      "    \n",
      "    We generate some random variates from a non-normal distribution and make a\n",
      "    probability plot for it, to show it is non-normal in the tails:\n",
      "    \n",
      "    >>> fig = plt.figure()\n",
      "    >>> ax1 = fig.add_subplot(211)\n",
      "    >>> x = stats.loggamma.rvs(5, size=500) + 5\n",
      "    >>> prob = stats.probplot(x, dist=stats.norm, plot=ax1)\n",
      "    >>> ax1.set_xlabel('')\n",
      "    >>> ax1.set_title('Probplot against normal distribution')\n",
      "    \n",
      "    We now use `boxcox` to transform the data so it's closest to normal:\n",
      "    \n",
      "    >>> ax2 = fig.add_subplot(212)\n",
      "    >>> xt, _ = stats.boxcox(x)\n",
      "    >>> prob = stats.probplot(xt, dist=stats.norm, plot=ax2)\n",
      "    >>> ax2.set_title('Probplot after Box-Cox transformation')\n",
      "    \n",
      "    >>> plt.show()\n",
      "\n"
     ]
    }
   ],
   "source": [
    "help(stats.boxcox)"
   ]
  },
  {
   "cell_type": "code",
   "execution_count": 84,
   "id": "f6TVOf3a2vHf",
   "metadata": {
    "id": "f6TVOf3a2vHf",
    "tags": []
   },
   "outputs": [],
   "source": [
    "df_revenue[\"transformed_revenue\"], _ = stats.boxcox(df_revenue['Revenue'])"
   ]
  },
  {
   "cell_type": "code",
   "execution_count": 85,
   "id": "8Iz4lXm93B2n",
   "metadata": {
    "colab": {
     "base_uri": "https://localhost:8080/",
     "height": 423
    },
    "id": "8Iz4lXm93B2n",
    "outputId": "fc7d97bf-3858-414b-da47-1248652099f3",
    "tags": []
   },
   "outputs": [
    {
     "data": {
      "text/html": [
       "<div>\n",
       "<style scoped>\n",
       "    .dataframe tbody tr th:only-of-type {\n",
       "        vertical-align: middle;\n",
       "    }\n",
       "\n",
       "    .dataframe tbody tr th {\n",
       "        vertical-align: top;\n",
       "    }\n",
       "\n",
       "    .dataframe thead th {\n",
       "        text-align: right;\n",
       "    }\n",
       "</style>\n",
       "<table border=\"1\" class=\"dataframe\">\n",
       "  <thead>\n",
       "    <tr style=\"text-align: right;\">\n",
       "      <th></th>\n",
       "      <th>Revenue</th>\n",
       "      <th>transformed_revenue</th>\n",
       "    </tr>\n",
       "  </thead>\n",
       "  <tbody>\n",
       "    <tr>\n",
       "      <th>0</th>\n",
       "      <td>232</td>\n",
       "      <td>14.313128</td>\n",
       "    </tr>\n",
       "    <tr>\n",
       "      <th>1</th>\n",
       "      <td>240</td>\n",
       "      <td>14.499253</td>\n",
       "    </tr>\n",
       "    <tr>\n",
       "      <th>2</th>\n",
       "      <td>657</td>\n",
       "      <td>21.028523</td>\n",
       "    </tr>\n",
       "    <tr>\n",
       "      <th>3</th>\n",
       "      <td>267</td>\n",
       "      <td>15.097538</td>\n",
       "    </tr>\n",
       "    <tr>\n",
       "      <th>4</th>\n",
       "      <td>26</td>\n",
       "      <td>5.649110</td>\n",
       "    </tr>\n",
       "    <tr>\n",
       "      <th>...</th>\n",
       "      <td>...</td>\n",
       "      <td>...</td>\n",
       "    </tr>\n",
       "    <tr>\n",
       "      <th>195</th>\n",
       "      <td>96</td>\n",
       "      <td>10.100107</td>\n",
       "    </tr>\n",
       "    <tr>\n",
       "      <th>196</th>\n",
       "      <td>486</td>\n",
       "      <td>18.854821</td>\n",
       "    </tr>\n",
       "    <tr>\n",
       "      <th>197</th>\n",
       "      <td>182</td>\n",
       "      <td>13.036434</td>\n",
       "    </tr>\n",
       "    <tr>\n",
       "      <th>198</th>\n",
       "      <td>528</td>\n",
       "      <td>19.432246</td>\n",
       "    </tr>\n",
       "    <tr>\n",
       "      <th>199</th>\n",
       "      <td>117</td>\n",
       "      <td>10.946525</td>\n",
       "    </tr>\n",
       "  </tbody>\n",
       "</table>\n",
       "<p>200 rows × 2 columns</p>\n",
       "</div>"
      ],
      "text/plain": [
       "     Revenue  transformed_revenue\n",
       "0        232            14.313128\n",
       "1        240            14.499253\n",
       "2        657            21.028523\n",
       "3        267            15.097538\n",
       "4         26             5.649110\n",
       "..       ...                  ...\n",
       "195       96            10.100107\n",
       "196      486            18.854821\n",
       "197      182            13.036434\n",
       "198      528            19.432246\n",
       "199      117            10.946525\n",
       "\n",
       "[200 rows x 2 columns]"
      ]
     },
     "execution_count": 85,
     "metadata": {},
     "output_type": "execute_result"
    }
   ],
   "source": [
    "df_revenue"
   ]
  },
  {
   "cell_type": "code",
   "execution_count": 86,
   "id": "5BLL6BQb3IPi",
   "metadata": {
    "colab": {
     "base_uri": "https://localhost:8080/",
     "height": 467
    },
    "id": "5BLL6BQb3IPi",
    "outputId": "4069e2e8-0dbc-4fd7-9036-7f2d58d77a90",
    "tags": []
   },
   "outputs": [
    {
     "data": {
      "text/plain": [
       "<Axes: xlabel='transformed_revenue', ylabel='Count'>"
      ]
     },
     "execution_count": 86,
     "metadata": {},
     "output_type": "execute_result"
    },
    {
     "data": {
      "image/png": "[encoded data removed]",
      "text/plain": [
       "<Figure size 640x480 with 1 Axes>"
      ]
     },
     "metadata": {},
     "output_type": "display_data"
    }
   ],
   "source": [
    "sns.histplot(df_revenue.transformed_revenue, kde = True)"
   ]
  },
  {
   "cell_type": "code",
   "execution_count": null,
   "id": "nR63TFsk3UU6",
   "metadata": {
    "id": "nR63TFsk3UU6"
   },
   "outputs": [],
   "source": []
  }
 ],
 "metadata": {
  "colab": {
   "collapsed_sections": [
    "1d27df5d"
   ],
   "provenance": []
  },
  "kernelspec": {
   "display_name": "Python 3 (ipykernel)",
   "language": "python",
   "name": "python3"
  },
  "language_info": {
   "codemirror_mode": {
    "name": "ipython",
    "version": 3
   },
   "file_extension": ".py",
   "mimetype": "text/x-python",
   "name": "python",
   "nbconvert_exporter": "python",
   "pygments_lexer": "ipython3",
   "version": "3.11.7"
  }
 },
 "nbformat": 4,
 "nbformat_minor": 5
}
