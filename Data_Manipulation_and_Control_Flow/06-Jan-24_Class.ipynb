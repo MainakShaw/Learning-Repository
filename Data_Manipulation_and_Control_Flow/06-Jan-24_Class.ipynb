{
 "cells": [
  {
   "cell_type": "code",
   "execution_count": 11,
   "id": "7ff9b300-eb5b-4fec-9750-37f94b9fca53",
   "metadata": {
    "tags": []
   },
   "outputs": [
    {
     "name": "stdout",
     "output_type": "stream",
     "text": [
      "{1, 2, 3, 4, 5} {1, 2, 3, 4}\n"
     ]
    }
   ],
   "source": [
    "set1={1,2,3,4}\n",
    "set2=set1.copy()#shallow copy\n",
    "set1.add(5)\n",
    "print(set1,set2)"
   ]
  },
  {
   "cell_type": "code",
   "execution_count": 13,
   "id": "f9cee212-1030-4f94-b12c-5f64d0b4dd31",
   "metadata": {
    "tags": []
   },
   "outputs": [
    {
     "name": "stdout",
     "output_type": "stream",
     "text": [
      "{1, 2, 3, 4, 5, 6} {1, 2, 3, 4, 5, 6}\n"
     ]
    }
   ],
   "source": [
    "set3=set1#deep copy\n",
    "set1.add(6)\n",
    "print(set1,set3)"
   ]
  },
  {
   "cell_type": "markdown",
   "id": "22b9b993-33a8-4c1c-9268-937ee4f3f8c7",
   "metadata": {},
   "source": [
    "## Dictionary"
   ]
  },
  {
   "cell_type": "code",
   "execution_count": 15,
   "id": "9a8bc277-121b-44eb-b4e4-6a953102b0ba",
   "metadata": {
    "tags": []
   },
   "outputs": [],
   "source": [
    "dct_user_1={\"id\":101,\"name\":\"Mainak\",\"email\":\"mainakshaw58@gmail.com\"}"
   ]
  },
  {
   "cell_type": "code",
   "execution_count": 17,
   "id": "919e3295-d356-47e4-a8a4-32734b75a3be",
   "metadata": {
    "tags": []
   },
   "outputs": [
    {
     "name": "stdout",
     "output_type": "stream",
     "text": [
      "101\n",
      "Mainak\n",
      "mainakshaw58@gmail.com\n"
     ]
    }
   ],
   "source": [
    "#Data stored in key value pairs\n",
    "print(dct_user_1[\"id\"])\n",
    "print(dct_user_1[\"name\"])\n",
    "print(dct_user_1[\"email\"])"
   ]
  },
  {
   "cell_type": "code",
   "execution_count": 19,
   "id": "b56489ff-782a-4ed6-82d9-2dc313b48040",
   "metadata": {
    "tags": []
   },
   "outputs": [
    {
     "name": "stdout",
     "output_type": "stream",
     "text": [
      "{'id': 101, 'name': 'Mainak', 'email': 'mainakshaw58@gmail.com'}\n"
     ]
    }
   ],
   "source": [
    "print(dct_user_1)"
   ]
  },
  {
   "cell_type": "code",
   "execution_count": 21,
   "id": "4bfe331c-43f3-4775-a5a3-b36a13034909",
   "metadata": {
    "tags": []
   },
   "outputs": [
    {
     "name": "stdout",
     "output_type": "stream",
     "text": [
      "<class 'dict'>\n"
     ]
    }
   ],
   "source": [
    "print(type(dct_user_1))"
   ]
  },
  {
   "cell_type": "code",
   "execution_count": 23,
   "id": "57a60cb2-a274-4895-a7d0-31e39cc3e903",
   "metadata": {
    "tags": []
   },
   "outputs": [],
   "source": [
    "#Ordered,vales changeable and duplicate keys not allowed in dictionary"
   ]
  },
  {
   "cell_type": "code",
   "execution_count": 26,
   "id": "0024ffa3-3231-4280-a4b7-5fd45f2538d1",
   "metadata": {
    "tags": []
   },
   "outputs": [
    {
     "name": "stdout",
     "output_type": "stream",
     "text": [
      "{'name': 'Mainak', 'id': 23, 'address': 'Bangalore'}\n"
     ]
    }
   ],
   "source": [
    "student1={\"name\":\"Mainak\",\"id\":23,\"address\":\"Kolkata\"}\n",
    "student1[\"address\"]=\"Bangalore\"\n",
    "print(student1)"
   ]
  },
  {
   "cell_type": "code",
   "execution_count": 27,
   "id": "b209f597-3b00-4239-ba1b-568a70d78df0",
   "metadata": {
    "tags": []
   },
   "outputs": [
    {
     "data": {
      "text/plain": [
       "['__class__',\n",
       " '__class_getitem__',\n",
       " '__contains__',\n",
       " '__delattr__',\n",
       " '__delitem__',\n",
       " '__dir__',\n",
       " '__doc__',\n",
       " '__eq__',\n",
       " '__format__',\n",
       " '__ge__',\n",
       " '__getattribute__',\n",
       " '__getitem__',\n",
       " '__getstate__',\n",
       " '__gt__',\n",
       " '__hash__',\n",
       " '__init__',\n",
       " '__init_subclass__',\n",
       " '__ior__',\n",
       " '__iter__',\n",
       " '__le__',\n",
       " '__len__',\n",
       " '__lt__',\n",
       " '__ne__',\n",
       " '__new__',\n",
       " '__or__',\n",
       " '__reduce__',\n",
       " '__reduce_ex__',\n",
       " '__repr__',\n",
       " '__reversed__',\n",
       " '__ror__',\n",
       " '__setattr__',\n",
       " '__setitem__',\n",
       " '__sizeof__',\n",
       " '__str__',\n",
       " '__subclasshook__',\n",
       " 'clear',\n",
       " 'copy',\n",
       " 'fromkeys',\n",
       " 'get',\n",
       " 'items',\n",
       " 'keys',\n",
       " 'pop',\n",
       " 'popitem',\n",
       " 'setdefault',\n",
       " 'update',\n",
       " 'values']"
      ]
     },
     "execution_count": 27,
     "metadata": {},
     "output_type": "execute_result"
    }
   ],
   "source": [
    "dir(type(student1))"
   ]
  },
  {
   "cell_type": "code",
   "execution_count": 28,
   "id": "65d051cd-6f1d-4902-9e14-9858951794c9",
   "metadata": {
    "tags": []
   },
   "outputs": [
    {
     "name": "stdout",
     "output_type": "stream",
     "text": [
      "{'name': 'Mainak', 'id': 23, 'address': 'Bangalore', 'mobile': 8583992628}\n"
     ]
    }
   ],
   "source": [
    "#adding new pair\n",
    "student1[\"mobile\"]=8583992628\n",
    "print(student1)"
   ]
  },
  {
   "cell_type": "code",
   "execution_count": 30,
   "id": "fd92997a-c408-4118-8706-531c13e5822e",
   "metadata": {
    "tags": []
   },
   "outputs": [
    {
     "name": "stdout",
     "output_type": "stream",
     "text": [
      "{'name': 'Mainak', 'id': 10, 'address': 'Bangalore', 'mobile': 8583992628, 'age': '45'}\n"
     ]
    }
   ],
   "source": [
    "#update function(can be used to update in multiple values)\n",
    "student1.update({\"age\":\"45\",\"id\":10})\n",
    "print(student1)"
   ]
  },
  {
   "cell_type": "code",
   "execution_count": 33,
   "id": "03cf2256-65f8-47f3-941f-73a2bbf8699f",
   "metadata": {
    "tags": []
   },
   "outputs": [
    {
     "name": "stdout",
     "output_type": "stream",
     "text": [
      "{'name': 'Kohinoor', 'id': 23, 'address': 'Kolkata'}\n"
     ]
    }
   ],
   "source": [
    "#no duplicate keys allowed\n",
    "student1={\"name\":\"Mainak\",\"id\":23,\"address\":\"Kolkata\",\"name\":\"Kohinoor\"}\n",
    "print(student1) #latest value for \"name\" provided"
   ]
  },
  {
   "cell_type": "code",
   "execution_count": 38,
   "id": "f01404fa-2cca-479a-b535-8f4dd08b50c9",
   "metadata": {
    "tags": []
   },
   "outputs": [
    {
     "name": "stdout",
     "output_type": "stream",
     "text": [
      "{(1, 2): 'hello'}\n"
     ]
    }
   ],
   "source": [
    "## HW:-Take all possible datatypes as keys\n",
    "dct_1={(1,2):\"hello\"} #\n",
    "print(dct_1)"
   ]
  },
  {
   "cell_type": "code",
   "execution_count": 37,
   "id": "c12bf434-df3c-4fa2-8efb-34a06d555ec3",
   "metadata": {
    "tags": []
   },
   "outputs": [
    {
     "ename": "TypeError",
     "evalue": "unhashable type: 'list'",
     "output_type": "error",
     "traceback": [
      "\u001b[1;31m---------------------------------------------------------------------------\u001b[0m",
      "\u001b[1;31mTypeError\u001b[0m                                 Traceback (most recent call last)",
      "Cell \u001b[1;32mIn[37], line 1\u001b[0m\n\u001b[1;32m----> 1\u001b[0m dct1\u001b[38;5;241m=\u001b[39m{[\u001b[38;5;241m1\u001b[39m,\u001b[38;5;241m2\u001b[39m]:\u001b[38;5;124m\"\u001b[39m\u001b[38;5;124mhello\u001b[39m\u001b[38;5;124m\"\u001b[39m}\n",
      "\u001b[1;31mTypeError\u001b[0m: unhashable type: 'list'"
     ]
    }
   ],
   "source": [
    "dct1={[1,2]:\"hello\"}"
   ]
  },
  {
   "cell_type": "code",
   "execution_count": 44,
   "id": "38a0f283-22ce-45a5-bdd9-86f85d6c2e00",
   "metadata": {
    "tags": []
   },
   "outputs": [
    {
     "name": "stdout",
     "output_type": "stream",
     "text": [
      "dict_keys(['name', 'id', 'address']) <class 'builtin_function_or_method'>\n",
      "dict_values(['Mainak', 23, 'Kolkata']) <class 'builtin_function_or_method'>\n",
      "dict_items([('name', 'Mainak'), ('id', 23), ('address', 'Kolkata')]) <class 'builtin_function_or_method'>\n"
     ]
    }
   ],
   "source": [
    "student1={\"name\":\"Mainak\",\"id\":23,\"address\":\"Kolkata\"}\n",
    "print(student1.keys(),type(student1.keys))\n",
    "print(student1.values(),type(student1.values))\n",
    "print(student1.items(),type(student1.items))"
   ]
  },
  {
   "cell_type": "code",
   "execution_count": 46,
   "id": "0a494159-1ed4-4c24-afa1-650b7ef8dbc7",
   "metadata": {
    "tags": []
   },
   "outputs": [
    {
     "name": "stdout",
     "output_type": "stream",
     "text": [
      "{'name': 'Mainak', 'roll': 34, 'address': 'kolkata'}\n"
     ]
    }
   ],
   "source": [
    "student=dict([[\"name\",\"Mainak\"],[\"roll\",34],[\"address\",\"kolkata\"]])\n",
    "print(student)"
   ]
  },
  {
   "cell_type": "code",
   "execution_count": 47,
   "id": "26f61c55-6c38-4504-992a-bfadf6b3bcac",
   "metadata": {
    "tags": []
   },
   "outputs": [
    {
     "name": "stdout",
     "output_type": "stream",
     "text": [
      "{'name': 'Mainak', 'roll': 34, 'address': 'kolkata'}\n"
     ]
    }
   ],
   "source": [
    "student=dict(((\"name\",\"Mainak\"),(\"roll\",34),(\"address\",\"kolkata\")))\n",
    "print(student)"
   ]
  },
  {
   "cell_type": "code",
   "execution_count": 48,
   "id": "8c7df898-2c7a-404d-8a0a-ac080f2f0e40",
   "metadata": {
    "tags": []
   },
   "outputs": [
    {
     "name": "stdout",
     "output_type": "stream",
     "text": [
      "{'name': 'Mainak', 'roll': 34}\n"
     ]
    }
   ],
   "source": [
    "#del keyword (also used to delete elements in lists)\n",
    "del student[\"address\"]\n",
    "print(student)"
   ]
  },
  {
   "cell_type": "code",
   "execution_count": 50,
   "id": "cdc73ac0-bed3-41a0-b8d7-ac0af1ad34e7",
   "metadata": {
    "tags": []
   },
   "outputs": [
    {
     "name": "stdout",
     "output_type": "stream",
     "text": [
      "34\n",
      "{'name': 'Mainak', 'address': 'kolkata'}\n"
     ]
    }
   ],
   "source": [
    "#pop() function\n",
    "student=dict(((\"name\",\"Mainak\"),(\"roll\",34),(\"address\",\"kolkata\")))\n",
    "print(student.pop(\"roll\"))\n",
    "print(student)"
   ]
  },
  {
   "cell_type": "markdown",
   "id": "1140220e-25a9-497a-ae83-db2b64009330",
   "metadata": {},
   "source": [
    "## Conditional Statements"
   ]
  },
  {
   "cell_type": "code",
   "execution_count": 53,
   "id": "fa768352-d0a7-4a4c-8943-0a584b30e7e6",
   "metadata": {
    "tags": []
   },
   "outputs": [
    {
     "name": "stdin",
     "output_type": "stream",
     "text": [
      "Enter the value of 'a':  15\n"
     ]
    },
    {
     "name": "stdout",
     "output_type": "stream",
     "text": [
      "15 is odd.\n"
     ]
    }
   ],
   "source": [
    "a=int(input(\"Enter the value of 'a': \"))\n",
    "if(a%2==0):\n",
    "    print(f\"{a} is even.\")\n",
    "else:\n",
    "    print(f\"{a} is odd.\")"
   ]
  },
  {
   "cell_type": "code",
   "execution_count": 58,
   "id": "e59ed21c-0bf9-4571-a749-a7e9ea5d4095",
   "metadata": {
    "tags": []
   },
   "outputs": [
    {
     "name": "stdin",
     "output_type": "stream",
     "text": [
      "Enter the value of 'a':  6\n"
     ]
    },
    {
     "name": "stdout",
     "output_type": "stream",
     "text": [
      "6.0 is greater than 5.\n"
     ]
    }
   ],
   "source": [
    "a=float(input(\"Enter the value of 'a': \"))\n",
    "if(a>5):\n",
    "    print(f\"{a} is greater than 5.\")\n",
    "elif(a<5):\n",
    "    print(f\"{a} is less than 5.\")\n",
    "else:\n",
    "    print(f\"{a} is equal to 5.\")"
   ]
  },
  {
   "cell_type": "code",
   "execution_count": 59,
   "id": "e9c208b3-e13a-459e-b6f9-dc42ad0704e1",
   "metadata": {
    "tags": []
   },
   "outputs": [
    {
     "name": "stdout",
     "output_type": "stream",
     "text": [
      "True\n"
     ]
    }
   ],
   "source": [
    "a=4\n",
    "b=4\n",
    "print(a==b)#equality operator"
   ]
  },
  {
   "cell_type": "code",
   "execution_count": null,
   "id": "f33108a1-7ca1-4c6b-aa44-d10b28151fb8",
   "metadata": {},
   "outputs": [],
   "source": [
    "#comparison operators <,>,<=,>=,!=,=="
   ]
  },
  {
   "cell_type": "code",
   "execution_count": 60,
   "id": "f94d8d12-df46-4c57-be2a-1c632b18d9c9",
   "metadata": {
    "tags": []
   },
   "outputs": [
    {
     "name": "stdout",
     "output_type": "stream",
     "text": [
      "False\n",
      "True\n"
     ]
    }
   ],
   "source": [
    "a=4\n",
    "b=4\n",
    "c=5\n",
    "print(a!=b)#not equality operator\n",
    "print(a!=c)#not equality operator"
   ]
  },
  {
   "cell_type": "code",
   "execution_count": 62,
   "id": "43d89fb3-1847-4652-95b7-a1f8335cd3e5",
   "metadata": {
    "tags": []
   },
   "outputs": [],
   "source": [
    "#Watch indentation gaps in if-else statements (to create blocks of code)"
   ]
  },
  {
   "cell_type": "code",
   "execution_count": 63,
   "id": "b01078b0-08bb-420f-aefc-a53b0e24c1fe",
   "metadata": {
    "tags": []
   },
   "outputs": [],
   "source": [
    "#and and or operator for multiple conditions in the same if block"
   ]
  },
  {
   "cell_type": "code",
   "execution_count": 64,
   "id": "e5e2346b-bb41-44f9-809d-50e1a96516a5",
   "metadata": {
    "tags": []
   },
   "outputs": [
    {
     "name": "stdout",
     "output_type": "stream",
     "text": [
      "5\n"
     ]
    }
   ],
   "source": [
    "a=3\n",
    "b=4\n",
    "c=5\n",
    "if(a>=b and a>=c):\n",
    "    print(a)\n",
    "elif(b>=a and b>= c):\n",
    "    print(b)\n",
    "else:\n",
    "    print(c)"
   ]
  },
  {
   "cell_type": "code",
   "execution_count": 65,
   "id": "761419c4-3814-4b29-af61-93593ee65d77",
   "metadata": {
    "tags": []
   },
   "outputs": [
    {
     "name": "stdout",
     "output_type": "stream",
     "text": [
      "True\n",
      "False\n",
      "False\n",
      "False\n"
     ]
    }
   ],
   "source": [
    "print(True and True)\n",
    "print(True and False)\n",
    "print(False and True)\n",
    "print(False and False)"
   ]
  },
  {
   "cell_type": "code",
   "execution_count": 66,
   "id": "fefad364-cbb0-48a9-a6e8-2498090ce1b1",
   "metadata": {
    "tags": []
   },
   "outputs": [
    {
     "name": "stdout",
     "output_type": "stream",
     "text": [
      "True\n",
      "True\n",
      "True\n",
      "False\n"
     ]
    }
   ],
   "source": [
    "print(True or True)\n",
    "print(True or False)\n",
    "print(False or True)\n",
    "print(False or False)"
   ]
  },
  {
   "cell_type": "code",
   "execution_count": 67,
   "id": "70ed11c0-bca4-42fb-b014-02149727d1e1",
   "metadata": {
    "tags": []
   },
   "outputs": [
    {
     "name": "stdout",
     "output_type": "stream",
     "text": [
      "False\n",
      "True\n"
     ]
    }
   ],
   "source": [
    "print(not True)\n",
    "print(not False)"
   ]
  },
  {
   "cell_type": "code",
   "execution_count": 68,
   "id": "173f4c52-c00c-431a-b081-b37986392f12",
   "metadata": {},
   "outputs": [
    {
     "ename": "KeyError",
     "evalue": "2",
     "output_type": "error",
     "traceback": [
      "\u001b[1;31m---------------------------------------------------------------------------\u001b[0m",
      "\u001b[1;31mKeyError\u001b[0m                                  Traceback (most recent call last)",
      "Cell \u001b[1;32mIn[68], line 2\u001b[0m\n\u001b[0;32m      1\u001b[0m dict1\u001b[38;5;241m=\u001b[39m{\u001b[38;5;124m\"\u001b[39m\u001b[38;5;124m1\u001b[39m\u001b[38;5;124m\"\u001b[39m:\u001b[38;5;241m2\u001b[39m}\n\u001b[1;32m----> 2\u001b[0m dict1[\u001b[38;5;241m2\u001b[39m]\n",
      "\u001b[1;31mKeyError\u001b[0m: 2"
     ]
    }
   ],
   "source": [
    "dict1={\"1\":2}\n",
    "dict1[2]"
   ]
  }
 ],
 "metadata": {
  "kernelspec": {
   "display_name": "Python 3 (ipykernel)",
   "language": "python",
   "name": "python3"
  },
  "language_info": {
   "codemirror_mode": {
    "name": "ipython",
    "version": 3
   },
   "file_extension": ".py",
   "mimetype": "text/x-python",
   "name": "python",
   "nbconvert_exporter": "python",
   "pygments_lexer": "ipython3",
   "version": "3.11.7"
  }
 },
 "nbformat": 4,
 "nbformat_minor": 5
}
