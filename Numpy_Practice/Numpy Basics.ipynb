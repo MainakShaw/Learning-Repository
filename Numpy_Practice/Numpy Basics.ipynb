{
 "cells": [
  {
   "cell_type": "markdown",
   "id": "d0ea138d-65f3-4ca0-9ddb-1e568da63116",
   "metadata": {
    "tags": []
   },
   "source": [
    "## Numpy"
   ]
  },
  {
   "cell_type": "code",
   "execution_count": 1,
   "id": "25f2af01-4481-47f4-b262-23f9fcd578fd",
   "metadata": {
    "tags": []
   },
   "outputs": [],
   "source": [
    "import numpy as np"
   ]
  },
  {
   "cell_type": "markdown",
   "id": "dd034926-90d6-4419-a3cb-062afb8fba1b",
   "metadata": {},
   "source": [
    "## The Basics:-"
   ]
  },
  {
   "cell_type": "code",
   "execution_count": 5,
   "id": "dfa7bb82-8716-471a-8058-613fa912dfd8",
   "metadata": {
    "tags": []
   },
   "outputs": [
    {
     "name": "stdout",
     "output_type": "stream",
     "text": [
      "[1 2 3 4]\n"
     ]
    }
   ],
   "source": [
    "arr1=np.array([1,2,3,4])\n",
    "print(arr1)"
   ]
  },
  {
   "cell_type": "code",
   "execution_count": 13,
   "id": "58dccfb3-c165-413f-a4e9-4295b4b2c2e3",
   "metadata": {
    "tags": []
   },
   "outputs": [
    {
     "name": "stdout",
     "output_type": "stream",
     "text": [
      "[[10.  11.  12. ]\n",
      " [11.5 12.5 13.5]]\n"
     ]
    }
   ],
   "source": [
    "arr2=np.array([[10.0,11.0,12.0],[11.5,12.5,13.5]])\n",
    "print(arr2)"
   ]
  },
  {
   "cell_type": "code",
   "execution_count": 14,
   "id": "e990591b-d63a-4a16-bf88-cb963c1e8aa9",
   "metadata": {
    "tags": []
   },
   "outputs": [
    {
     "name": "stdout",
     "output_type": "stream",
     "text": [
      "1\n",
      "2\n"
     ]
    }
   ],
   "source": [
    "#Getting the dimesnsions of an array\n",
    "print(arr1.ndim)\n",
    "print(arr2.ndim) "
   ]
  },
  {
   "cell_type": "code",
   "execution_count": 17,
   "id": "705c72e6-eddd-4c32-9ee5-8f4d43aca90a",
   "metadata": {
    "tags": []
   },
   "outputs": [
    {
     "name": "stdout",
     "output_type": "stream",
     "text": [
      "(4,) <class 'tuple'>\n",
      "(2, 3) <class 'tuple'>\n"
     ]
    }
   ],
   "source": [
    "#Getting the shape of an array\n",
    "print(arr1.shape,type(arr1.shape))\n",
    "print(arr2.shape,type(arr2.shape))"
   ]
  },
  {
   "cell_type": "code",
   "execution_count": 20,
   "id": "de92492c-5847-42c6-a5ac-a5e1b5ef67ca",
   "metadata": {
    "tags": []
   },
   "outputs": [
    {
     "name": "stdout",
     "output_type": "stream",
     "text": [
      "int32\n",
      "float64\n"
     ]
    }
   ],
   "source": [
    "#Get datatype of array elements\n",
    "print(arr1.dtype)\n",
    "print(arr2.dtype)"
   ]
  },
  {
   "cell_type": "code",
   "execution_count": 22,
   "id": "87bd9717-fda2-4c69-82f6-20feb4bccc6a",
   "metadata": {
    "tags": []
   },
   "outputs": [
    {
     "name": "stdout",
     "output_type": "stream",
     "text": [
      "[1 2 3 4] int16\n"
     ]
    }
   ],
   "source": [
    "#Specifying the datatype when creating arrays\n",
    "arr3=np.array([1,2,3,4],'int16')\n",
    "print(arr3,arr3.dtype)"
   ]
  },
  {
   "cell_type": "code",
   "execution_count": 24,
   "id": "b142f3b1-3c1e-4b22-bf01-15c210807610",
   "metadata": {
    "tags": []
   },
   "outputs": [
    {
     "name": "stdout",
     "output_type": "stream",
     "text": [
      "4\n",
      "8\n",
      "2\n"
     ]
    }
   ],
   "source": [
    "#Getting the number of bytes of each item in an array\n",
    "print(arr1.itemsize)\n",
    "print(arr2.itemsize)\n",
    "print(arr3.itemsize)"
   ]
  },
  {
   "cell_type": "code",
   "execution_count": 29,
   "id": "88787710-d6b0-4565-b8d7-47ead280062f",
   "metadata": {
    "tags": []
   },
   "outputs": [
    {
     "name": "stdout",
     "output_type": "stream",
     "text": [
      "16\n",
      "16\n",
      "48\n",
      "48\n",
      "8\n",
      "8\n"
     ]
    }
   ],
   "source": [
    "#get total no. of bytes in an array\n",
    "print(arr1.itemsize*arr1.size) #arr.size is for the no. of items in an array\n",
    "print(arr1.nbytes)\n",
    "print(arr2.itemsize*arr2.size) \n",
    "print(arr2.nbytes)\n",
    "print(arr3.itemsize*arr3.size) \n",
    "print(arr3.nbytes)"
   ]
  },
  {
   "cell_type": "markdown",
   "id": "8d1dc58c-46af-4d94-8d35-9316385bbf92",
   "metadata": {},
   "source": [
    "## Accessing/Changing specific elements,rows,columns,etc. :-"
   ]
  },
  {
   "cell_type": "code",
   "execution_count": 15,
   "id": "3bee24e8-1662-4a4c-a8b2-871e3a8000bb",
   "metadata": {},
   "outputs": [
    {
     "name": "stdout",
     "output_type": "stream",
     "text": [
      "[[ 1  2  3  4  5  6  7]\n",
      " [ 8  9 10 11 12 13 14]]\n"
     ]
    }
   ],
   "source": [
    "a1=np.array([[1,2,3,4,5,6,7],[8,9,10,11,12,13,14]])\n",
    "print(a1)"
   ]
  },
  {
   "cell_type": "code",
   "execution_count": 5,
   "id": "e8acfb7c-f939-4a93-86ec-c4a09bc9e01b",
   "metadata": {},
   "outputs": [
    {
     "data": {
      "text/plain": [
       "(2, 7)"
      ]
     },
     "execution_count": 5,
     "metadata": {},
     "output_type": "execute_result"
    }
   ],
   "source": [
    "a1.shape"
   ]
  },
  {
   "cell_type": "code",
   "execution_count": 10,
   "id": "2a26224c-f651-4e75-b34c-5e6de5802e49",
   "metadata": {},
   "outputs": [
    {
     "name": "stdout",
     "output_type": "stream",
     "text": [
      "13\n",
      "13\n",
      "13\n"
     ]
    }
   ],
   "source": [
    "#accessing elements [r] [c]:-\n",
    "print(a1[1][5])\n",
    "print(a1[1,5])\n",
    "print(a1[-1,-2]) # negative indexing works here as well"
   ]
  },
  {
   "cell_type": "code",
   "execution_count": 13,
   "id": "ee780844-715a-4005-bff3-1ddc1d36b51e",
   "metadata": {
    "tags": []
   },
   "outputs": [
    {
     "name": "stdout",
     "output_type": "stream",
     "text": [
      "[1 2 3 4 5 6 7]\n",
      "[1 2 3 4 5 6 7]\n"
     ]
    }
   ],
   "source": [
    "#accessing an entire row:-\n",
    "print(a1[0])\n",
    "print(a1[0,:])"
   ]
  },
  {
   "cell_type": "code",
   "execution_count": 16,
   "id": "a66e917f-f649-4e03-adf2-c115bec2d087",
   "metadata": {
    "tags": []
   },
   "outputs": [
    {
     "name": "stdout",
     "output_type": "stream",
     "text": [
      "[1 8]\n",
      "[ 7 14]\n"
     ]
    }
   ],
   "source": [
    "#getting a specific column:-\n",
    "print(a1[:,0])\n",
    "print(a1[:,6])"
   ]
  },
  {
   "cell_type": "code",
   "execution_count": 23,
   "id": "d45d247b-75de-486b-a04b-1b97dfa25d3b",
   "metadata": {
    "tags": []
   },
   "outputs": [
    {
     "name": "stdout",
     "output_type": "stream",
     "text": [
      "[ 8 10 12 14]\n",
      "[ 8 10 12 14]\n",
      "[14 13 12 11 10  9  8]\n"
     ]
    }
   ],
   "source": [
    "#Getting a little more fancy [startindex:endindex:stepsize]\n",
    "print(a1[1,0:8:2])\n",
    "print(a1[1,::2])\n",
    "print(a1[1,::-1])"
   ]
  },
  {
   "cell_type": "code",
   "execution_count": 24,
   "id": "6c31c14b-0290-4424-bec3-ac45a7e351d1",
   "metadata": {
    "tags": []
   },
   "outputs": [
    {
     "name": "stdout",
     "output_type": "stream",
     "text": [
      "[[ 1  2  3  4  5  6  7]\n",
      " [ 8  9 10 11 12 20 14]]\n"
     ]
    }
   ],
   "source": [
    "a1[1,5]=20\n",
    "print(a1)"
   ]
  },
  {
   "cell_type": "code",
   "execution_count": 25,
   "id": "16310054-ad80-4430-8e44-3d8d67c82e01",
   "metadata": {
    "tags": []
   },
   "outputs": [
    {
     "name": "stdout",
     "output_type": "stream",
     "text": [
      "[[ 1  2  3  4  5  6  7]\n",
      " [ 8  9 10 11 12 13 14]]\n"
     ]
    }
   ],
   "source": [
    "a1[1,5]=13\n",
    "print(a1)"
   ]
  },
  {
   "cell_type": "code",
   "execution_count": 29,
   "id": "47dfc500-b493-45fc-a5c8-bcf3cde1e12e",
   "metadata": {
    "tags": []
   },
   "outputs": [
    {
     "name": "stdout",
     "output_type": "stream",
     "text": [
      "[[ 1  2 15  4  5  6  7]\n",
      " [ 8  9 15 11 12 13 14]]\n",
      "[[ 1  2 -1  4  5  6  7]\n",
      " [ 8  9 -2 11 12 13 14]]\n"
     ]
    }
   ],
   "source": [
    "# Changing the values of an entire column:-\n",
    "a1[:,2]=15 # with just one value\n",
    "print(a1)\n",
    "a1[:,2]=[-1,-2] # with multiple values in the same shape(same shape is necessary)\n",
    "print(a1)"
   ]
  },
  {
   "cell_type": "markdown",
   "id": "cfef900a-6bb9-4437-8f65-19e4cf1da34d",
   "metadata": {
    "tags": []
   },
   "source": [
    "#### 3D Array Example"
   ]
  },
  {
   "cell_type": "code",
   "execution_count": 33,
   "id": "69c02cde-20b9-40d0-9877-4f4d9e02f358",
   "metadata": {
    "tags": []
   },
   "outputs": [
    {
     "name": "stdout",
     "output_type": "stream",
     "text": [
      "[[[1 2]\n",
      "  [2 3]]\n",
      "\n",
      " [[3 4]\n",
      "  [5 6]]\n",
      "\n",
      " [[7 8]\n",
      "  [8 9]]]\n",
      "(3, 2, 2)\n"
     ]
    }
   ],
   "source": [
    "arr1=np.array([[[1,2],[2,3]],[[3,4],[5,6]],[[7,8],[8,9]]])\n",
    "print(arr1)\n",
    "print(arr1.shape)"
   ]
  },
  {
   "cell_type": "code",
   "execution_count": 36,
   "id": "186786b5-8ae1-454e-812c-7d220c09abc5",
   "metadata": {
    "tags": []
   },
   "outputs": [
    {
     "name": "stdout",
     "output_type": "stream",
     "text": [
      "5\n",
      "[[2 3]\n",
      " [5 6]\n",
      " [8 9]]\n"
     ]
    }
   ],
   "source": [
    "#accessing an element here:- (Work outside in)\n",
    "print(arr1[1,1,0])\n",
    "print(arr1[:,1,:])"
   ]
  },
  {
   "cell_type": "code",
   "execution_count": 39,
   "id": "3c6d6d87-c1dd-4c75-8e55-f6f29ead79e2",
   "metadata": {
    "tags": []
   },
   "outputs": [
    {
     "name": "stdout",
     "output_type": "stream",
     "text": [
      "[[[ 1  2]\n",
      "  [-2 -3]]\n",
      "\n",
      " [[ 3  4]\n",
      "  [-5 -6]]\n",
      "\n",
      " [[ 7  8]\n",
      "  [-8 -9]]]\n"
     ]
    }
   ],
   "source": [
    "#replacing in a 3D array\n",
    "arr1[:,1,:]=np.array([[-2,-3],[-5,-6],[-8,-9]]) #dimensions should be same\n",
    "print(arr1)"
   ]
  },
  {
   "cell_type": "markdown",
   "id": "0f82922f-3eaf-4be0-9581-cc15ceb151eb",
   "metadata": {
    "tags": []
   },
   "source": [
    "## Initializing Different Types of Arrays:-"
   ]
  },
  {
   "cell_type": "code",
   "execution_count": 48,
   "id": "c9a31d19-7495-4608-b537-ca50001cc0d1",
   "metadata": {
    "tags": []
   },
   "outputs": [
    {
     "name": "stdout",
     "output_type": "stream",
     "text": [
      "[[[0. 0. 0.]\n",
      "  [0. 0. 0.]]\n",
      "\n",
      " [[0. 0. 0.]\n",
      "  [0. 0. 0.]]\n",
      "\n",
      " [[0. 0. 0.]\n",
      "  [0. 0. 0.]]]\n",
      "\n",
      "[[[0 0 0]\n",
      "  [0 0 0]]\n",
      "\n",
      " [[0 0 0]\n",
      "  [0 0 0]]\n",
      "\n",
      " [[0 0 0]\n",
      "  [0 0 0]]]\n"
     ]
    }
   ],
   "source": [
    "# All zeros matrix\n",
    "arr=np.zeros((3,2,3))\n",
    "print(arr)\n",
    "print()\n",
    "arr=np.zeros((3,2,3),\"int32\")\n",
    "print(arr)"
   ]
  },
  {
   "cell_type": "code",
   "execution_count": 51,
   "id": "f32def0a-e148-40e6-80d0-699984ccba09",
   "metadata": {
    "tags": []
   },
   "outputs": [
    {
     "name": "stdout",
     "output_type": "stream",
     "text": [
      "[[1 1 1]\n",
      " [1 1 1]\n",
      " [1 1 1]]\n"
     ]
    }
   ],
   "source": [
    "# All ones matrix\n",
    "arr=np.ones((3,3),dtype=\"int16\")\n",
    "print(arr)"
   ]
  },
  {
   "cell_type": "code",
   "execution_count": 53,
   "id": "209db136-4ec3-478d-8ece-c48b41560128",
   "metadata": {
    "tags": []
   },
   "outputs": [
    {
     "name": "stdout",
     "output_type": "stream",
     "text": [
      "[[100 100]\n",
      " [100 100]]\n"
     ]
    }
   ],
   "source": [
    "# Initializing using any other number:\n",
    "arr=np.full((2,2),100)\n",
    "print(arr)"
   ]
  },
  {
   "cell_type": "code",
   "execution_count": 57,
   "id": "1adc2481-21b8-431d-addc-a5b538bf3e9c",
   "metadata": {
    "tags": []
   },
   "outputs": [
    {
     "name": "stdout",
     "output_type": "stream",
     "text": [
      "[[[1 2]\n",
      "  [2 3]]\n",
      "\n",
      " [[3 4]\n",
      "  [5 6]]\n",
      "\n",
      " [[7 8]\n",
      "  [8 9]]]\n",
      "\n",
      " [[[10 10]\n",
      "  [10 10]]\n",
      "\n",
      " [[10 10]\n",
      "  [10 10]]\n",
      "\n",
      " [[10 10]\n",
      "  [10 10]]]\n",
      "\n",
      " [[[10 10]\n",
      "  [10 10]]\n",
      "\n",
      " [[10 10]\n",
      "  [10 10]]\n",
      "\n",
      " [[10 10]\n",
      "  [10 10]]]\n"
     ]
    }
   ],
   "source": [
    "#Initializing using any other number(full-like):-\n",
    "arr1=np.array([[[1,2],[2,3]],[[3,4],[5,6]],[[7,8],[8,9]]])\n",
    "print(arr1)\n",
    "arr=np.full(arr1.shape,10)\n",
    "print(\"\\n\",arr)\n",
    "arr=np.full_like(arr1,10)\n",
    "print(\"\\n\",arr)"
   ]
  },
  {
   "cell_type": "code",
   "execution_count": 67,
   "id": "8ec0b5f6-7d46-4237-86dd-0eb73c1b5912",
   "metadata": {
    "tags": []
   },
   "outputs": [
    {
     "name": "stdout",
     "output_type": "stream",
     "text": [
      "[[0.55494806 0.09790759 0.98131974]\n",
      " [0.74255894 0.06038219 0.10800408]\n",
      " [0.05533472 0.90566406 0.68880741]\n",
      " [0.57088274 0.11221692 0.49668349]]\n"
     ]
    }
   ],
   "source": [
    "#Initializing array with Random Decimal Numbers\n",
    "x=np.random.rand(4,3)\n",
    "print(x)"
   ]
  },
  {
   "cell_type": "code",
   "execution_count": 77,
   "id": "077a3d23-073a-4a9b-8f43-8bc11dbe0b78",
   "metadata": {
    "tags": []
   },
   "outputs": [
    {
     "name": "stdout",
     "output_type": "stream",
     "text": [
      "(3, 2, 2)\n",
      "[[[0.78960372 0.55348312]\n",
      "  [0.27387193 0.27411115]]\n",
      "\n",
      " [[0.84741623 0.1156743 ]\n",
      "  [0.6113571  0.45916845]]\n",
      "\n",
      " [[0.45143022 0.4436421 ]\n",
      "  [0.79229192 0.54287361]]]\n"
     ]
    }
   ],
   "source": [
    "#Initializing array with Random Decimal Numbers using another array's shape\n",
    "x=np.random.random_sample(arr.shape)\n",
    "print(arr.shape)\n",
    "print(x)"
   ]
  },
  {
   "cell_type": "code",
   "execution_count": 81,
   "id": "7e3b7612-8d3c-4395-8f08-c355f428e4c0",
   "metadata": {
    "tags": []
   },
   "outputs": [
    {
     "name": "stdout",
     "output_type": "stream",
     "text": [
      "[[1 6 6 4 5 1]\n",
      " [6 6 5 6 1 6]\n",
      " [5 3 4 4 3 2]]\n",
      "[[ 4  7  4  9 10  3]\n",
      " [ 3 11  9 10  8 10]\n",
      " [11  7  5  9  9  7]]\n"
     ]
    }
   ],
   "source": [
    "#Using Random Integers to initialize\n",
    "x=np.random.randint(7,size=(3,6))\n",
    "print(x)\n",
    "x=np.random.randint(3,12,size=(3,6))\n",
    "print(x)"
   ]
  },
  {
   "cell_type": "code",
   "execution_count": 85,
   "id": "95fa16a5-933b-4ae2-ba3c-6b2eb4d17213",
   "metadata": {
    "tags": []
   },
   "outputs": [
    {
     "name": "stdout",
     "output_type": "stream",
     "text": [
      "[[1 0 0]\n",
      " [0 1 0]\n",
      " [0 0 1]]\n",
      "[[1. 0. 0. 0. 0. 0.]\n",
      " [0. 1. 0. 0. 0. 0.]\n",
      " [0. 0. 1. 0. 0. 0.]\n",
      " [0. 0. 0. 1. 0. 0.]\n",
      " [0. 0. 0. 0. 1. 0.]\n",
      " [0. 0. 0. 0. 0. 1.]]\n"
     ]
    }
   ],
   "source": [
    "#Identity Matrix - takes only one parameter cause identity matrices are square matrixes\n",
    "x=np.identity(3,\"int32\")\n",
    "print(x)\n",
    "x=np.identity(6)\n",
    "print(x)"
   ]
  },
  {
   "cell_type": "code",
   "execution_count": 93,
   "id": "5fc2e0bc-377a-4856-9e43-e4625988ae8c",
   "metadata": {
    "tags": []
   },
   "outputs": [
    {
     "name": "stdout",
     "output_type": "stream",
     "text": [
      "[[1 2 3 4]\n",
      " [1 2 3 4]\n",
      " [1 2 3 4]\n",
      " [1 2 3 4]\n",
      " [1 2 3 4]]\n"
     ]
    }
   ],
   "source": [
    "#Repeating arrays\n",
    "x=np.repeat([[1,2,3,4]],5,axis=0)\n",
    "print(x)"
   ]
  },
  {
   "cell_type": "code",
   "execution_count": 94,
   "id": "6e7d8e1f-e3ec-464f-ab89-17b86610ded3",
   "metadata": {
    "tags": []
   },
   "outputs": [],
   "source": [
    "# Initialize an array like this using whatever we have learned:-\n",
    "# [[1 1 1 1 1 ]\n",
    "#  [1 0 0 0 1 ]\n",
    "#  [1 0 9 0 1 ]\n",
    "#  [1 0 0 0 1 ]\n",
    "#  [1 1 1 1 1 ]]"
   ]
  },
  {
   "cell_type": "code",
   "execution_count": 103,
   "id": "f833fc60-8213-4a58-9dae-b36bafed6227",
   "metadata": {
    "tags": []
   },
   "outputs": [
    {
     "name": "stdout",
     "output_type": "stream",
     "text": [
      "[[1 1 1 1 1]\n",
      " [1 0 0 0 1]\n",
      " [1 0 9 0 1]\n",
      " [1 0 0 0 1]\n",
      " [1 1 1 1 1]]\n"
     ]
    }
   ],
   "source": [
    "arr=np.ones((5,5),\"int32\")\n",
    "arr[1:4,1:4]=0\n",
    "arr[2,2]=9\n",
    "print(arr)"
   ]
  },
  {
   "cell_type": "code",
   "execution_count": 105,
   "id": "7c7bd0e4-3788-464b-9379-b2013efd6780",
   "metadata": {
    "tags": []
   },
   "outputs": [
    {
     "name": "stdout",
     "output_type": "stream",
     "text": [
      "[[1 1 1 1 1]\n",
      " [1 0 0 0 1]\n",
      " [1 0 9 0 1]\n",
      " [1 0 0 0 1]\n",
      " [1 1 1 1 1]]\n"
     ]
    }
   ],
   "source": [
    "arr=np.ones((5,5),\"int32\")\n",
    "arr[1:4,1:4]=np.zeros((3,3),\"int32\")\n",
    "arr[2,2]=9\n",
    "print(arr)"
   ]
  },
  {
   "cell_type": "markdown",
   "id": "3b2372b3-7570-4005-b5d1-aff9300ba5ae",
   "metadata": {},
   "source": [
    "### Be careful when copying arrays!!!"
   ]
  },
  {
   "cell_type": "code",
   "execution_count": 111,
   "id": "782a5a63-c04b-4ceb-8fb4-3c945c903b6b",
   "metadata": {
    "tags": []
   },
   "outputs": [
    {
     "name": "stdout",
     "output_type": "stream",
     "text": [
      "[1 2 3 4]\n",
      "[25  2  3  4]\n",
      "[1 2 3 4]\n"
     ]
    }
   ],
   "source": [
    "a=np.array([1,2,3,4])\n",
    "b=a.copy()\n",
    "print(b)\n",
    "b[0]=25\n",
    "print(b)\n",
    "print(a)"
   ]
  },
  {
   "cell_type": "markdown",
   "id": "70c9f208-b3e9-40dd-ba25-f07504223c45",
   "metadata": {},
   "source": [
    "# Mathematics"
   ]
  },
  {
   "cell_type": "code",
   "execution_count": 115,
   "id": "6db497c6-1fd4-408f-8831-7878825f0c5b",
   "metadata": {
    "tags": []
   },
   "outputs": [
    {
     "name": "stdout",
     "output_type": "stream",
     "text": [
      "[3 4 5 6]\n",
      "[-1  0  1  2]\n",
      "[2 4 6 8]\n",
      "[0.5 1.  1.5 2. ]\n"
     ]
    }
   ],
   "source": [
    "a=np.array([1,2,3,4])\n",
    "print(a+2) #Element wise addition\n",
    "print(a-2) #Element wise subtraction\n",
    "print(a*2) #Element wise multiplication\n",
    "print(a/2) #Element wise division"
   ]
  },
  {
   "cell_type": "code",
   "execution_count": 116,
   "id": "6fac4e0d-ea82-43dc-8769-868b1fdd0151",
   "metadata": {
    "tags": []
   },
   "outputs": [
    {
     "name": "stdout",
     "output_type": "stream",
     "text": [
      "[2 2 4 4]\n"
     ]
    }
   ],
   "source": [
    "b=np.array([1,0,1,0])\n",
    "print(a+b)"
   ]
  },
  {
   "cell_type": "code",
   "execution_count": 118,
   "id": "0c4b87de-ffd3-4c47-b663-3accc545e076",
   "metadata": {
    "tags": []
   },
   "outputs": [
    {
     "name": "stdout",
     "output_type": "stream",
     "text": [
      "[ 1  4  9 16]\n"
     ]
    }
   ],
   "source": [
    "print(a**2)"
   ]
  },
  {
   "cell_type": "code",
   "execution_count": 124,
   "id": "3a5af54a-d7b3-4e88-b9db-e20c4eb3bb10",
   "metadata": {
    "tags": []
   },
   "outputs": [
    {
     "name": "stdout",
     "output_type": "stream",
     "text": [
      "[ 0.84147098  0.90929743  0.14112001 -0.7568025 ]\n",
      "[ 0.54030231 -0.41614684 -0.9899925  -0.65364362]\n",
      "[ 1.55740772 -2.18503986 -0.14254654  1.15782128]\n"
     ]
    }
   ],
   "source": [
    "#trignometric functions:-\n",
    "a=np.array([1,2,3,4])\n",
    "print(np.sin(a))\n",
    "print(np.cos(a))\n",
    "print(np.tan(a))"
   ]
  },
  {
   "cell_type": "code",
   "execution_count": 126,
   "id": "d8bb493a-47bf-433a-acca-65929fcb63b8",
   "metadata": {
    "tags": []
   },
   "outputs": [],
   "source": [
    "# For a lot more (https://docs.scipy.org/doc/numpy/reference/routines.math.html)"
   ]
  },
  {
   "cell_type": "markdown",
   "id": "6a22a07d-fff3-4879-9181-62196549d145",
   "metadata": {},
   "source": [
    "### Linear Algebra"
   ]
  },
  {
   "cell_type": "code",
   "execution_count": 138,
   "id": "c45008c2-cfcc-4b1c-b69e-c6bb2e622660",
   "metadata": {
    "tags": []
   },
   "outputs": [
    {
     "name": "stdout",
     "output_type": "stream",
     "text": [
      "[[2 2 2]\n",
      " [2 2 2]] \n",
      "    x\n",
      " [[3 3]\n",
      " [3 3]\n",
      " [3 3]]\n",
      "\n",
      " [[18 18]\n",
      " [18 18]]\n"
     ]
    }
   ],
   "source": [
    "a=np.full((2,3),2)\n",
    "b=np.full((3,2),3)\n",
    "print(a,\"\\n    x\\n\",b)\n",
    "print(\"\\n\",np.matmul(a,b)) #matrix multiplication"
   ]
  },
  {
   "cell_type": "code",
   "execution_count": 143,
   "id": "02b08d4e-b20b-41bb-9d9e-ade570dc5ed4",
   "metadata": {
    "tags": []
   },
   "outputs": [
    {
     "name": "stdout",
     "output_type": "stream",
     "text": [
      "[[1 0 0]\n",
      " [0 1 0]\n",
      " [0 0 1]]\n",
      "1.0\n"
     ]
    }
   ],
   "source": [
    "c=np.identity(3,\"int32\")\n",
    "print(c)\n",
    "print(np.linalg.det(c)) #Finding the determinant"
   ]
  },
  {
   "cell_type": "code",
   "execution_count": 144,
   "id": "be4f7515-29a0-4fc1-aaa0-38bec2951710",
   "metadata": {
    "tags": []
   },
   "outputs": [],
   "source": [
    "## Reference docs (https://docs.scipy.org/doc/numpy/reference/routines.linalg.html)\n",
    "\n",
    "# Determinant\n",
    "# Trace\n",
    "# Singular Vector Decomposition\n",
    "# Eigenvalues\n",
    "# Matrix Norm\n",
    "# Inverse\n",
    "# Etc..."
   ]
  },
  {
   "cell_type": "markdown",
   "id": "9af83f31-4919-40bc-ad8b-7f49ac222666",
   "metadata": {},
   "source": [
    "### Statistics"
   ]
  },
  {
   "cell_type": "code",
   "execution_count": 152,
   "id": "288659c1-7a99-43f7-8520-07563cd0f14f",
   "metadata": {
    "tags": []
   },
   "outputs": [],
   "source": [
    "x=np.array([[1,2,3,4,0],[-45,67,33,12,6]])"
   ]
  },
  {
   "cell_type": "code",
   "execution_count": 153,
   "id": "9035e696-1824-4334-861e-89e3b6b67d82",
   "metadata": {
    "tags": []
   },
   "outputs": [
    {
     "name": "stdout",
     "output_type": "stream",
     "text": [
      "-45\n",
      "67\n"
     ]
    }
   ],
   "source": [
    "print(np.min(x))\n",
    "print(np.max(x))"
   ]
  },
  {
   "cell_type": "code",
   "execution_count": 155,
   "id": "abbebb56-f2e2-4a35-833f-36c7a0dec026",
   "metadata": {
    "tags": []
   },
   "outputs": [
    {
     "name": "stdout",
     "output_type": "stream",
     "text": [
      "[-45   2   3   4   0]\n",
      "[  0 -45]\n",
      "[ 1 67 33 12  6]\n",
      "[ 4 67]\n"
     ]
    }
   ],
   "source": [
    "print(np.min(x,axis=0))\n",
    "print(np.min(x,axis=1))\n",
    "print(np.max(x,axis=0))\n",
    "print(np.max(x,axis=1))"
   ]
  },
  {
   "cell_type": "code",
   "execution_count": 158,
   "id": "b5c161bd-cada-4d06-984c-a836862a3109",
   "metadata": {
    "tags": []
   },
   "outputs": [
    {
     "name": "stdout",
     "output_type": "stream",
     "text": [
      "83\n",
      "[-44  69  36  16   6]\n",
      "[10 73]\n"
     ]
    }
   ],
   "source": [
    "print(np.sum(x,axis=None))\n",
    "print(np.sum(x,axis=0))\n",
    "print(np.sum(x,axis=1))"
   ]
  },
  {
   "cell_type": "markdown",
   "id": "37f242da-c185-4543-ac92-72ab127b17e6",
   "metadata": {
    "tags": []
   },
   "source": [
    "### Reorganizing arrays:-"
   ]
  },
  {
   "cell_type": "code",
   "execution_count": 162,
   "id": "323188f1-f4a4-41b2-afd4-4e0c94473029",
   "metadata": {
    "tags": []
   },
   "outputs": [
    {
     "name": "stdout",
     "output_type": "stream",
     "text": [
      "[[1 2 3 4]\n",
      " [5 6 7 8]] (2, 4)\n"
     ]
    }
   ],
   "source": [
    "x=np.array([[1,2,3,4],[5,6,7,8]])\n",
    "print(x,x.shape)"
   ]
  },
  {
   "cell_type": "code",
   "execution_count": 164,
   "id": "b39ccdf8-e4c2-4ef7-a836-dca83c691de4",
   "metadata": {
    "tags": []
   },
   "outputs": [
    {
     "name": "stdout",
     "output_type": "stream",
     "text": [
      "[[1]\n",
      " [2]\n",
      " [3]\n",
      " [4]\n",
      " [5]\n",
      " [6]\n",
      " [7]\n",
      " [8]]\n",
      "[[1 2 3 4 5 6 7 8]]\n",
      "[[1 2]\n",
      " [3 4]\n",
      " [5 6]\n",
      " [7 8]]\n",
      "[[[1 2]\n",
      "  [3 4]]\n",
      "\n",
      " [[5 6]\n",
      "  [7 8]]]\n"
     ]
    }
   ],
   "source": [
    "print(x.reshape((8,1)))\n",
    "print(x.reshape((1,8)))\n",
    "print(x.reshape((4,2)))\n",
    "print(x.reshape((2,2,2)))"
   ]
  },
  {
   "cell_type": "code",
   "execution_count": 169,
   "id": "d30fbfa8-4f92-40f1-86e8-b211b259250f",
   "metadata": {
    "tags": []
   },
   "outputs": [],
   "source": [
    "## Vertically & Horizontally Stacking Vectors"
   ]
  },
  {
   "cell_type": "code",
   "execution_count": 170,
   "id": "116e35d7-8d9f-42e3-aed2-0fdd83d2bd20",
   "metadata": {
    "tags": []
   },
   "outputs": [
    {
     "name": "stdout",
     "output_type": "stream",
     "text": [
      "[[1 2 3 4]\n",
      " [5 6 7 8]\n",
      " [1 2 3 4]\n",
      " [5 6 7 8]]\n",
      "[1 2 3 4 5 6 7 8 1 2 3 4 5 6 7 8]\n"
     ]
    }
   ],
   "source": [
    "a=np.array([1,2,3,4])\n",
    "b=np.array([5,6,7,8])\n",
    "x=np.vstack((a,b,a,b))\n",
    "print(x)\n",
    "x=np.hstack((a,b,a,b))\n",
    "print(x)"
   ]
  },
  {
   "cell_type": "code",
   "execution_count": 173,
   "id": "9b891472-0e9a-42d8-b9a6-b488f07ea56b",
   "metadata": {
    "tags": []
   },
   "outputs": [
    {
     "name": "stdout",
     "output_type": "stream",
     "text": [
      "[[0. 0. 0. 0. 0. 1. 1.]\n",
      " [0. 0. 0. 0. 0. 1. 1.]]\n"
     ]
    }
   ],
   "source": [
    "a=np.zeros((2,5))\n",
    "b=np.ones((2,2))\n",
    "print(np.hstack((a,b)))"
   ]
  },
  {
   "cell_type": "code",
   "execution_count": 175,
   "id": "37e19d6c-e01c-4c44-b403-a2d821c08b56",
   "metadata": {
    "tags": []
   },
   "outputs": [
    {
     "name": "stdout",
     "output_type": "stream",
     "text": [
      "[[0. 0. 0. 0. 0.]\n",
      " [0. 0. 0. 0. 0.]\n",
      " [1. 1. 1. 1. 1.]\n",
      " [1. 1. 1. 1. 1.]\n",
      " [1. 1. 1. 1. 1.]]\n"
     ]
    }
   ],
   "source": [
    "a=np.zeros((2,5))\n",
    "b=np.ones((3,5))\n",
    "print(np.vstack((a,b)))"
   ]
  },
  {
   "cell_type": "markdown",
   "id": "7dec8b91-cd3f-4348-ba05-2eb9a5334ad0",
   "metadata": {
    "tags": []
   },
   "source": [
    "### Miscellaneous"
   ]
  },
  {
   "cell_type": "markdown",
   "id": "997a0328-d821-49a2-8601-d45add2357f1",
   "metadata": {},
   "source": [
    "#### Load Data from File"
   ]
  },
  {
   "cell_type": "code",
   "execution_count": 184,
   "id": "49cbc0aa-9d59-400e-8ea4-f1cbca2eab84",
   "metadata": {
    "tags": []
   },
   "outputs": [
    {
     "name": "stdout",
     "output_type": "stream",
     "text": [
      "[[  1  13  21  11 196  75   4   3  34   6   7   8   0   1   2   3   4   5]\n",
      " [  3  42  12  33 766  75   4  55   6   4   3   4   5   6   7   0  11  12]\n",
      " [  1  22  33  11 999  11   2   1  78   0   1   2   9   8   7   1  76  88]]\n",
      "\n",
      "[[  1.  13.  21.  11. 196.  75.   4.   3.  34.   6.   7.   8.   0.   1.\n",
      "    2.   3.   4.   5.]\n",
      " [  3.  42.  12.  33. 766.  75.   4.  55.   6.   4.   3.   4.   5.   6.\n",
      "    7.   0.  11.  12.]\n",
      " [  1.  22.  33.  11. 999.  11.   2.   1.  78.   0.   1.   2.   9.   8.\n",
      "    7.   1.  76.  88.]]\n"
     ]
    }
   ],
   "source": [
    "x=np.genfromtxt(\"data.txt\",delimiter=\",\",dtype=\"int32\")\n",
    "print(x)\n",
    "print()\n",
    "print(x.astype(\"float64\"))"
   ]
  },
  {
   "cell_type": "markdown",
   "id": "7e1828d8-722e-4e41-83a0-554cf20db963",
   "metadata": {},
   "source": [
    "#### Advanced Indexing"
   ]
  },
  {
   "cell_type": "code",
   "execution_count": 188,
   "id": "c1382cc7-d8de-46b7-90af-1c3bbc711871",
   "metadata": {
    "tags": []
   },
   "outputs": [
    {
     "name": "stdout",
     "output_type": "stream",
     "text": [
      "[[False False False False  True  True False False False False False False\n",
      "  False False False False False False]\n",
      " [False False False False  True  True False  True False False False False\n",
      "  False False False False False False]\n",
      " [False False False False  True False False False  True False False False\n",
      "  False False False False  True  True]]\n"
     ]
    }
   ],
   "source": [
    "print(x>50)"
   ]
  },
  {
   "cell_type": "code",
   "execution_count": 189,
   "id": "068a4a7a-35b0-4e7a-91d9-1002bd1a15e1",
   "metadata": {
    "tags": []
   },
   "outputs": [
    {
     "name": "stdout",
     "output_type": "stream",
     "text": [
      "[196  75 766  75  55 999  78  76  88]\n"
     ]
    }
   ],
   "source": [
    "print(x[x>50])"
   ]
  },
  {
   "cell_type": "code",
   "execution_count": 191,
   "id": "1a918370-8105-4ce4-bb22-ce104ea6b6ec",
   "metadata": {
    "tags": []
   },
   "outputs": [
    {
     "name": "stdout",
     "output_type": "stream",
     "text": [
      "[2 6 9]\n"
     ]
    }
   ],
   "source": [
    "### You can index with a list in Numpy\n",
    "arr=np.array([1,2,3,4,5,6,7,8,9,10])\n",
    "print(arr[[1,5,8]])"
   ]
  },
  {
   "cell_type": "code",
   "execution_count": 197,
   "id": "f9b7f88e-207f-4309-a054-c92c654f19d3",
   "metadata": {
    "tags": []
   },
   "outputs": [
    {
     "name": "stdout",
     "output_type": "stream",
     "text": [
      "[[  1  13  21  11 196  75   4   3  34   6   7   8   0   1   2   3   4   5]\n",
      " [  3  42  12  33 766  75   4  55   6   4   3   4   5   6   7   0  11  12]\n",
      " [  1  22  33  11 999  11   2   1  78   0   1   2   9   8   7   1  76  88]]\n",
      "[False False False False  True  True False  True  True False False False\n",
      " False False False False  True  True]\n",
      "[ True  True  True]\n"
     ]
    }
   ],
   "source": [
    "print(x)\n",
    "print(np.any(x>50,axis=0))\n",
    "print(np.any(x>50,axis=1))"
   ]
  },
  {
   "cell_type": "code",
   "execution_count": 200,
   "id": "cda2b4dd-7c65-4354-a690-da1319c0a44e",
   "metadata": {
    "tags": []
   },
   "outputs": [
    {
     "name": "stdout",
     "output_type": "stream",
     "text": [
      "[False False False False  True False False False False False False False\n",
      " False False False False False False]\n",
      "[False False False]\n"
     ]
    }
   ],
   "source": [
    "print(np.all(x>50,axis=0))\n",
    "print(np.all(x>50,axis=1))"
   ]
  },
  {
   "cell_type": "code",
   "execution_count": 201,
   "id": "a6988e17-1856-4588-8468-667f981abfd9",
   "metadata": {
    "tags": []
   },
   "outputs": [
    {
     "data": {
      "text/plain": [
       "array([[False, False, False, False, False,  True, False, False, False,\n",
       "        False, False, False, False, False, False, False, False, False],\n",
       "       [False, False, False, False, False,  True, False,  True, False,\n",
       "        False, False, False, False, False, False, False, False, False],\n",
       "       [False, False, False, False, False, False, False, False,  True,\n",
       "        False, False, False, False, False, False, False,  True,  True]])"
      ]
     },
     "execution_count": 201,
     "metadata": {},
     "output_type": "execute_result"
    }
   ],
   "source": [
    "((x>50)&(x<100))"
   ]
  },
  {
   "cell_type": "code",
   "execution_count": 202,
   "id": "49868dd5-3687-4b7b-952e-a26d81fd8b3d",
   "metadata": {
    "tags": []
   },
   "outputs": [
    {
     "data": {
      "text/plain": [
       "array([[ True,  True,  True,  True,  True, False,  True,  True,  True,\n",
       "         True,  True,  True,  True,  True,  True,  True,  True,  True],\n",
       "       [ True,  True,  True,  True,  True, False,  True, False,  True,\n",
       "         True,  True,  True,  True,  True,  True,  True,  True,  True],\n",
       "       [ True,  True,  True,  True,  True,  True,  True,  True, False,\n",
       "         True,  True,  True,  True,  True,  True,  True, False, False]])"
      ]
     },
     "execution_count": 202,
     "metadata": {},
     "output_type": "execute_result"
    }
   ],
   "source": [
    "(~((x>50)&(x<100)))"
   ]
  },
  {
   "cell_type": "code",
   "execution_count": 233,
   "id": "628f87a3-49fa-4646-8f4b-035d8072a114",
   "metadata": {
    "tags": []
   },
   "outputs": [
    {
     "name": "stdout",
     "output_type": "stream",
     "text": [
      "[[ 1  2  3  4  5]\n",
      " [ 6  7  8  9 10]\n",
      " [11 12 13 14 15]\n",
      " [16 17 18 19 20]\n",
      " [21 22 23 24 25]\n",
      " [26 27 28 29 30]]\n",
      "\n",
      "[[11 12]\n",
      " [16 17]]\n",
      "\n",
      "[ 2  8 14 20]\n",
      "\n",
      "[ 2  8 14 20]\n",
      "\n",
      "[[ 4  5]\n",
      " [24 25]\n",
      " [29 30]]\n",
      "\n",
      "[[ 4  5]\n",
      " [24 25]\n",
      " [29 30]]\n"
     ]
    }
   ],
   "source": [
    "#Some short quiz:-\n",
    "matrix=np.array([list(range(1,31))]).reshape((6,5))\n",
    "print(matrix)\n",
    "print()\n",
    "print(matrix[2:4,0:2])\n",
    "print()\n",
    "print(matrix[0:4,1:5].diagonal())\n",
    "print()\n",
    "print(matrix[[0,1,2,3],[1,2,3,4]])\n",
    "print()\n",
    "print(matrix[[0,0,4,4,5,5],[3,4,3,4,3,4]].reshape((3,2)))\n",
    "print()\n",
    "print(matrix[[0,4,5],3:5])"
   ]
  }
 ],
 "metadata": {
  "kernelspec": {
   "display_name": "Python 3 (ipykernel)",
   "language": "python",
   "name": "python3"
  },
  "language_info": {
   "codemirror_mode": {
    "name": "ipython",
    "version": 3
   },
   "file_extension": ".py",
   "mimetype": "text/x-python",
   "name": "python",
   "nbconvert_exporter": "python",
   "pygments_lexer": "ipython3",
   "version": "3.11.7"
  }
 },
 "nbformat": 4,
 "nbformat_minor": 5
}
