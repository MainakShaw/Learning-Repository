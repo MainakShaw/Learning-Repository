{
 "cells": [
  {
   "cell_type": "markdown",
   "metadata": {
    "id": "nQKc8X22WwE3"
   },
   "source": [
    "# Spacy"
   ]
  },
  {
   "cell_type": "code",
   "execution_count": 16,
   "metadata": {
    "id": "p16py9DhWzCb"
   },
   "outputs": [],
   "source": [
    "import spacy"
   ]
  },
  {
   "cell_type": "code",
   "execution_count": 17,
   "metadata": {
    "id": "pwjOB1tPXKwQ"
   },
   "outputs": [],
   "source": [
    "# works on DEEP NEURAL NETWORKS MODELS"
   ]
  },
  {
   "cell_type": "code",
   "execution_count": 18,
   "metadata": {
    "id": "eLmbLWp0Xk1y"
   },
   "outputs": [],
   "source": [
    "nlp = spacy.load(\"en_core_web_sm\") # load model"
   ]
  },
  {
   "cell_type": "code",
   "execution_count": 19,
   "metadata": {
    "id": "vW2lwvd9Xylf"
   },
   "outputs": [],
   "source": [
    "text = \"Taj Mahal is very beautiful.\""
   ]
  },
  {
   "cell_type": "code",
   "execution_count": 23,
   "metadata": {
    "colab": {
     "base_uri": "https://localhost:8080/"
    },
    "id": "6-0mk_PNYQFs",
    "outputId": "0b83e3dc-f156-482e-ec53-0aa614661d44"
   },
   "outputs": [
    {
     "data": {
      "text/plain": [
       "str"
      ]
     },
     "execution_count": 23,
     "metadata": {},
     "output_type": "execute_result"
    }
   ],
   "source": [
    "type(text)"
   ]
  },
  {
   "cell_type": "code",
   "execution_count": 20,
   "metadata": {
    "colab": {
     "base_uri": "https://localhost:8080/"
    },
    "id": "JO0Cjq0MX8rr",
    "outputId": "ffbda520-ef19-4c9f-b3d6-86a91e1dc0b5"
   },
   "outputs": [
    {
     "data": {
      "text/plain": [
       "Taj Mahal is very beautiful."
      ]
     },
     "execution_count": 20,
     "metadata": {},
     "output_type": "execute_result"
    }
   ],
   "source": [
    "nlp(text)"
   ]
  },
  {
   "cell_type": "code",
   "execution_count": 21,
   "metadata": {
    "id": "XY1KRLGtYIJ1"
   },
   "outputs": [],
   "source": [
    "doc = nlp(text)"
   ]
  },
  {
   "cell_type": "code",
   "execution_count": 22,
   "metadata": {
    "colab": {
     "base_uri": "https://localhost:8080/"
    },
    "id": "KVm-HKpgYLSU",
    "outputId": "8e5e80fe-c146-4df1-dce7-f757b644765a"
   },
   "outputs": [
    {
     "data": {
      "text/plain": [
       "Taj Mahal is very beautiful."
      ]
     },
     "execution_count": 22,
     "metadata": {},
     "output_type": "execute_result"
    }
   ],
   "source": [
    "doc"
   ]
  },
  {
   "cell_type": "code",
   "execution_count": 24,
   "metadata": {
    "colab": {
     "base_uri": "https://localhost:8080/"
    },
    "id": "HxV7XciOYNb6",
    "outputId": "ab434864-7f2e-46cb-be02-6adb66aece5d"
   },
   "outputs": [
    {
     "data": {
      "text/plain": [
       "spacy.tokens.doc.Doc"
      ]
     },
     "execution_count": 24,
     "metadata": {},
     "output_type": "execute_result"
    }
   ],
   "source": [
    "type(doc)"
   ]
  },
  {
   "cell_type": "code",
   "execution_count": 25,
   "metadata": {
    "id": "0TZ1GoyJYT1z"
   },
   "outputs": [],
   "source": [
    "# tokenization"
   ]
  },
  {
   "cell_type": "code",
   "execution_count": 27,
   "metadata": {
    "colab": {
     "base_uri": "https://localhost:8080/"
    },
    "id": "w7-XZ-lGYgiw",
    "outputId": "86b98f55-9201-4f92-d5ce-b4ef8b0a950a"
   },
   "outputs": [
    {
     "data": {
      "text/plain": [
       "[Taj, Mahal, is, very, beautiful, .]"
      ]
     },
     "execution_count": 27,
     "metadata": {},
     "output_type": "execute_result"
    }
   ],
   "source": [
    "tokenized_text = []\n",
    "\n",
    "for token in doc:\n",
    "  tokenized_text.append(token)\n",
    "\n",
    "tokenized_text"
   ]
  },
  {
   "cell_type": "code",
   "execution_count": 29,
   "metadata": {
    "colab": {
     "base_uri": "https://localhost:8080/"
    },
    "id": "54cncMS6YsLs",
    "outputId": "c4990c14-b286-463c-d2c5-25525611098a"
   },
   "outputs": [
    {
     "data": {
      "text/plain": [
       "False"
      ]
     },
     "execution_count": 29,
     "metadata": {},
     "output_type": "execute_result"
    }
   ],
   "source": [
    "tokenized_text[0].is_stop"
   ]
  },
  {
   "cell_type": "code",
   "execution_count": 30,
   "metadata": {
    "colab": {
     "base_uri": "https://localhost:8080/"
    },
    "id": "2iuvWu9BY91Q",
    "outputId": "d291501a-6c7a-4112-86e3-aa97faa435cc"
   },
   "outputs": [
    {
     "data": {
      "text/plain": [
       "True"
      ]
     },
     "execution_count": 30,
     "metadata": {},
     "output_type": "execute_result"
    }
   ],
   "source": [
    "tokenized_text[2].is_stop"
   ]
  },
  {
   "cell_type": "code",
   "execution_count": 31,
   "metadata": {
    "id": "ruLoBxz8ZDrS"
   },
   "outputs": [],
   "source": [
    "clean_text = []\n",
    "for token in tokenized_text:\n",
    "  if token.is_stop != True:\n",
    "    clean_text.append(token)"
   ]
  },
  {
   "cell_type": "code",
   "execution_count": 32,
   "metadata": {
    "colab": {
     "base_uri": "https://localhost:8080/"
    },
    "id": "fFQIl7cJZTxk",
    "outputId": "08adf681-bcf6-4e4e-ab54-f70a0438d22a"
   },
   "outputs": [
    {
     "data": {
      "text/plain": [
       "[Taj, Mahal, beautiful, .]"
      ]
     },
     "execution_count": 32,
     "metadata": {},
     "output_type": "execute_result"
    }
   ],
   "source": [
    "clean_text"
   ]
  },
  {
   "cell_type": "code",
   "execution_count": 33,
   "metadata": {
    "id": "df4fopUHZViZ"
   },
   "outputs": [],
   "source": [
    "text = \"programmer programming program rocks\""
   ]
  },
  {
   "cell_type": "code",
   "execution_count": 34,
   "metadata": {
    "id": "pn5Bs61qZyS8"
   },
   "outputs": [],
   "source": [
    "text_upgrade = nlp(text)"
   ]
  },
  {
   "cell_type": "code",
   "execution_count": 35,
   "metadata": {
    "colab": {
     "base_uri": "https://localhost:8080/"
    },
    "id": "V6HM8ICtZ1ZB",
    "outputId": "203001a1-5686-4dac-b5a5-e56fdedd4854"
   },
   "outputs": [
    {
     "data": {
      "text/plain": [
       "programmer programming program rocks"
      ]
     },
     "execution_count": 35,
     "metadata": {},
     "output_type": "execute_result"
    }
   ],
   "source": [
    "text_upgrade"
   ]
  },
  {
   "cell_type": "code",
   "execution_count": 36,
   "metadata": {
    "colab": {
     "base_uri": "https://localhost:8080/"
    },
    "id": "xagn9chiZ2d4",
    "outputId": "e2b3be47-ea15-4cf6-e1ae-8ef488934146"
   },
   "outputs": [
    {
     "name": "stdout",
     "output_type": "stream",
     "text": [
      "word is programmer, lemmatized format is programmer\n",
      "word is programming, lemmatized format is programming\n",
      "word is program, lemmatized format is program\n",
      "word is rocks, lemmatized format is rock\n"
     ]
    }
   ],
   "source": [
    "for token in text_upgrade:\n",
    "  print(f\"word is {token.text}, lemmatized format is {token.lemma_}\")"
   ]
  },
  {
   "cell_type": "code",
   "execution_count": 39,
   "metadata": {
    "colab": {
     "base_uri": "https://localhost:8080/"
    },
    "id": "jk7ELMz2a7-U",
    "outputId": "d74ed7f9-dfd3-4c1d-c56c-c780c4168c97"
   },
   "outputs": [
    {
     "name": "stdout",
     "output_type": "stream",
     "text": [
      "word is taj and posTag is PROPN\n",
      "word is mahal and posTag is PROPN\n",
      "word is is and posTag is AUX\n",
      "word is very and posTag is ADV\n",
      "word is beautiful and posTag is ADJ\n",
      "word is . and posTag is PUNCT\n"
     ]
    }
   ],
   "source": [
    "text = \"taj mahal is very beautiful.\"\n",
    "\n",
    "doc = nlp(text)\n",
    "\n",
    "for token in doc:\n",
    "  print(f\"word is {token} and posTag is {token.pos_}\")"
   ]
  },
  {
   "cell_type": "code",
   "execution_count": 40,
   "metadata": {
    "id": "n0TCuqk2bLaY"
   },
   "outputs": [],
   "source": [
    "# NER : Named Entity Recognition"
   ]
  },
  {
   "cell_type": "code",
   "execution_count": 41,
   "metadata": {
    "id": "LcrynX0kbLc-"
   },
   "outputs": [],
   "source": [
    "text = \"President Putin is looking at buying North Korea's rocket unit for $1 Billion\""
   ]
  },
  {
   "cell_type": "code",
   "execution_count": 43,
   "metadata": {
    "id": "axd55sBFbLgO"
   },
   "outputs": [],
   "source": [
    "doc = nlp(text)"
   ]
  },
  {
   "cell_type": "code",
   "execution_count": 44,
   "metadata": {
    "colab": {
     "base_uri": "https://localhost:8080/"
    },
    "id": "EuNQOvxwb_v5",
    "outputId": "0f9cdab2-76bc-4a7b-88fa-7bb124beaf6b"
   },
   "outputs": [
    {
     "data": {
      "text/plain": [
       "President Putin is looking at buying North Korea's rocket unit for $1 Billion"
      ]
     },
     "execution_count": 44,
     "metadata": {},
     "output_type": "execute_result"
    }
   ],
   "source": [
    "doc"
   ]
  },
  {
   "cell_type": "code",
   "execution_count": 45,
   "metadata": {
    "colab": {
     "base_uri": "https://localhost:8080/"
    },
    "id": "Rfc2XCfqb_zd",
    "outputId": "9c838e4d-611f-49f5-ae41-065ff1383cf8"
   },
   "outputs": [
    {
     "name": "stdout",
     "output_type": "stream",
     "text": [
      "word is Putin and its label is PERSON\n",
      "word is North Korea's and its label is GPE\n",
      "word is $1 Billion and its label is MONEY\n"
     ]
    }
   ],
   "source": [
    "for token in doc.ents:\n",
    "  print(f\"word is {token} and its label is {token.label_}\")"
   ]
  },
  {
   "cell_type": "code",
   "execution_count": 50,
   "metadata": {
    "id": "MNijLBlpb_3O"
   },
   "outputs": [],
   "source": [
    "text1 = \"i am eating mangoes\"\n",
    "text2 = \"i went to usa by aeroplane\"\n",
    "text3 = \"i love eating banana\""
   ]
  },
  {
   "cell_type": "code",
   "execution_count": 51,
   "metadata": {
    "id": "T2T0T-jib_7d"
   },
   "outputs": [],
   "source": [
    "doc1 = nlp(text1)\n",
    "doc2 = nlp(text2)\n",
    "doc3 = nlp(text3)"
   ]
  },
  {
   "cell_type": "code",
   "execution_count": 53,
   "metadata": {
    "colab": {
     "base_uri": "https://localhost:8080/"
    },
    "id": "K4jaKwwzb_-d",
    "outputId": "30da0dd9-5939-4c4e-8f89-ba585803727e"
   },
   "outputs": [
    {
     "name": "stderr",
     "output_type": "stream",
     "text": [
      "<ipython-input-53-d3bf01ccd94a>:1: UserWarning: [W007] The model you're using has no word vectors loaded, so the result of the Doc.similarity method will be based on the tagger, parser and NER, which may not give useful similarity judgements. This may happen if you're using one of the small models, e.g. `en_core_web_sm`, which don't ship with word vectors and only use context-sensitive tensors. You can always add your own word vectors, or use one of the larger models instead if available.\n",
      "  doc1.similarity(doc2)\n"
     ]
    },
    {
     "data": {
      "text/plain": [
       "0.167940790787311"
      ]
     },
     "execution_count": 53,
     "metadata": {},
     "output_type": "execute_result"
    }
   ],
   "source": [
    "doc1.similarity(doc2)"
   ]
  },
  {
   "cell_type": "code",
   "execution_count": 54,
   "metadata": {
    "colab": {
     "base_uri": "https://localhost:8080/"
    },
    "id": "oX0N7DwwfcJa",
    "outputId": "a881f11e-5eb2-4a38-839d-f0b0461fe0b3"
   },
   "outputs": [
    {
     "name": "stderr",
     "output_type": "stream",
     "text": [
      "<ipython-input-54-8870258cc452>:1: UserWarning: [W007] The model you're using has no word vectors loaded, so the result of the Doc.similarity method will be based on the tagger, parser and NER, which may not give useful similarity judgements. This may happen if you're using one of the small models, e.g. `en_core_web_sm`, which don't ship with word vectors and only use context-sensitive tensors. You can always add your own word vectors, or use one of the larger models instead if available.\n",
      "  doc1.similarity(doc3)\n"
     ]
    },
    {
     "data": {
      "text/plain": [
       "0.631361812681096"
      ]
     },
     "execution_count": 54,
     "metadata": {},
     "output_type": "execute_result"
    }
   ],
   "source": [
    "doc1.similarity(doc3)"
   ]
  },
  {
   "cell_type": "code",
   "execution_count": 55,
   "metadata": {
    "id": "JQ9H3oggfh9f"
   },
   "outputs": [],
   "source": []
  },
  {
   "cell_type": "code",
   "execution_count": 56,
   "metadata": {
    "colab": {
     "base_uri": "https://localhost:8080/"
    },
    "id": "aD70tzUXfiA5",
    "outputId": "2ebeefd5-a118-448f-cfb4-a181670da0dc"
   },
   "outputs": [
    {
     "name": "stdout",
     "output_type": "stream",
     "text": [
      "Collecting vaderSentiment\n",
      "  Downloading vaderSentiment-3.3.2-py2.py3-none-any.whl (125 kB)\n",
      "\u001b[2K     \u001b[90m━━━━━━━━━━━━━━━━━━━━━━━━━━━━━━━━━━━━━━━━\u001b[0m \u001b[32m126.0/126.0 kB\u001b[0m \u001b[31m2.8 MB/s\u001b[0m eta \u001b[36m0:00:00\u001b[0m00:01\u001b[0m\n",
      "\u001b[?25hRequirement already satisfied: requests in /usr/local/lib/python3.10/dist-packages (from vaderSentiment) (2.31.0)\n",
      "Requirement already satisfied: charset-normalizer<4,>=2 in /usr/local/lib/python3.10/dist-packages (from requests->vaderSentiment) (3.3.2)\n",
      "Requirement already satisfied: idna<4,>=2.5 in /usr/local/lib/python3.10/dist-packages (from requests->vaderSentiment) (3.6)\n",
      "Requirement already satisfied: urllib3<3,>=1.21.1 in /usr/local/lib/python3.10/dist-packages (from requests->vaderSentiment) (2.0.7)\n",
      "Requirement already satisfied: certifi>=2017.4.17 in /usr/local/lib/python3.10/dist-packages (from requests->vaderSentiment) (2024.2.2)\n",
      "Installing collected packages: vaderSentiment\n",
      "Successfully installed vaderSentiment-3.3.2\n"
     ]
    }
   ],
   "source": [
    "!pip install vaderSentiment"
   ]
  },
  {
   "cell_type": "code",
   "execution_count": 57,
   "metadata": {
    "id": "sgcEL_1kfiFI"
   },
   "outputs": [],
   "source": [
    "text = \"this product was worst extreme bad quality\""
   ]
  },
  {
   "cell_type": "code",
   "execution_count": 58,
   "metadata": {
    "id": "-MewvY3yfiuM"
   },
   "outputs": [],
   "source": [
    "from vaderSentiment.vaderSentiment import SentimentIntensityAnalyzer"
   ]
  },
  {
   "cell_type": "code",
   "execution_count": 59,
   "metadata": {
    "id": "U4fCMWrDfixa"
   },
   "outputs": [],
   "source": [
    "analyzer = SentimentIntensityAnalyzer()"
   ]
  },
  {
   "cell_type": "code",
   "execution_count": 60,
   "metadata": {
    "colab": {
     "base_uri": "https://localhost:8080/"
    },
    "id": "IPMOvhwVfi09",
    "outputId": "c76ef5cf-9c90-4584-a0be-b3d4f4bc03c7"
   },
   "outputs": [
    {
     "data": {
      "text/plain": [
       "{'neg': 0.612, 'neu': 0.388, 'pos': 0.0, 'compound': -0.8357}"
      ]
     },
     "execution_count": 60,
     "metadata": {},
     "output_type": "execute_result"
    }
   ],
   "source": [
    "analyzer.polarity_scores(text)"
   ]
  },
  {
   "cell_type": "code",
   "execution_count": 61,
   "metadata": {
    "colab": {
     "base_uri": "https://localhost:8080/"
    },
    "id": "KaF6zb67fi4y",
    "outputId": "171b570e-f7cf-40ec-88e0-35dc0dc9bcee"
   },
   "outputs": [
    {
     "data": {
      "text/plain": [
       "{'neg': 0.0, 'neu': 0.403, 'pos': 0.597, 'compound': 0.8122}"
      ]
     },
     "execution_count": 61,
     "metadata": {},
     "output_type": "execute_result"
    }
   ],
   "source": [
    "text = \"this product was best extreme good quality\"\n",
    "analyzer.polarity_scores(text)"
   ]
  },
  {
   "cell_type": "code",
   "execution_count": 62,
   "metadata": {
    "colab": {
     "base_uri": "https://localhost:8080/"
    },
    "id": "ZdGwheh7gbRP",
    "outputId": "468e4c8f-e391-4f99-ebef-6df3465e8554"
   },
   "outputs": [
    {
     "data": {
      "text/plain": [
       "{'neg': 0.384, 'neu': 0.357, 'pos': 0.259, 'compound': -0.34}"
      ]
     },
     "execution_count": 62,
     "metadata": {},
     "output_type": "execute_result"
    }
   ],
   "source": [
    "text = \"this product was horrifyingly good quality\"\n",
    "analyzer.polarity_scores(text)"
   ]
  }
 ],
 "metadata": {
  "colab": {
   "collapsed_sections": [
    "UwRKaVgHWE2H"
   ],
   "provenance": []
  },
  "kernelspec": {
   "display_name": "Python 3 (ipykernel)",
   "language": "python",
   "name": "python3"
  },
  "language_info": {
   "codemirror_mode": {
    "name": "ipython",
    "version": 3
   },
   "file_extension": ".py",
   "mimetype": "text/x-python",
   "name": "python",
   "nbconvert_exporter": "python",
   "pygments_lexer": "ipython3",
   "version": "3.11.7"
  }
 },
 "nbformat": 4,
 "nbformat_minor": 4
}
