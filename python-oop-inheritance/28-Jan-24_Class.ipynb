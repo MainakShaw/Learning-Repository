{
 "cells": [
  {
   "cell_type": "code",
   "execution_count": 1,
   "id": "28a157be-a469-4e77-80e9-bf1e18f4a116",
   "metadata": {
    "tags": []
   },
   "outputs": [],
   "source": [
    "#A class has 2 properties:-\n",
    "# 1)Attributes/data members\n",
    "# 2)Methods/Functions"
   ]
  },
  {
   "cell_type": "code",
   "execution_count": 6,
   "id": "88a68f34-da70-4f4b-b175-675b593b5e4b",
   "metadata": {
    "tags": []
   },
   "outputs": [],
   "source": [
    "class Person:\n",
    "    def __init__(self,name,age,address,mobile):\n",
    "        self.name=name\n",
    "        self.age=age\n",
    "        self.address=address\n",
    "        self.mobile=mobile\n",
    "    def show_info(self):\n",
    "        print(\"Name: \",self.name)\n",
    "        print(\"Age: \",self.age)\n",
    "        print(\"Address: \",self.address)\n",
    "        print(\"Mobile: \",self.mobile)"
   ]
  },
  {
   "cell_type": "code",
   "execution_count": 7,
   "id": "e7604cd0-8e71-43f1-9634-cab92a562917",
   "metadata": {
    "tags": []
   },
   "outputs": [],
   "source": [
    "class Student(Person):\n",
    "    pass"
   ]
  },
  {
   "cell_type": "code",
   "execution_count": 8,
   "id": "9feee82d-d628-48ee-ba7a-8b9a73727687",
   "metadata": {
    "tags": []
   },
   "outputs": [
    {
     "name": "stdout",
     "output_type": "stream",
     "text": [
      "Name:  Name1\n",
      "Age:  1\n",
      "Address:  XYZ\n",
      "Mobile:  12345\n"
     ]
    }
   ],
   "source": [
    "s1=Student(\"Name1\",1,\"XYZ\",12345)\n",
    "s1.show_info()"
   ]
  },
  {
   "cell_type": "code",
   "execution_count": 16,
   "id": "9513e658-1544-4f93-bba1-9b6043778616",
   "metadata": {
    "tags": []
   },
   "outputs": [
    {
     "name": "stdout",
     "output_type": "stream",
     "text": [
      "Name:  Name1\n",
      "Age:  1\n",
      "Address:  XYZ\n",
      "Mobile:  12345\n"
     ]
    }
   ],
   "source": [
    "class Student(Person):\n",
    "    def __init__(self,name,age,address,mobile,rn):\n",
    "        self.name=name\n",
    "        self.age=age\n",
    "        self.address=address\n",
    "        self.mobile=mobile\n",
    "        self.rn=rn\n",
    "s1=Student(\"Name1\",1,\"XYZ\",12345,12)\n",
    "s1.show_info()    "
   ]
  },
  {
   "cell_type": "code",
   "execution_count": 12,
   "id": "d2c1ce70-638d-45e4-8f20-94da5f94538f",
   "metadata": {
    "tags": []
   },
   "outputs": [],
   "source": [
    "#Constructor class of Parent CLass overridden"
   ]
  },
  {
   "cell_type": "code",
   "execution_count": 17,
   "id": "b791d907-a130-4cc0-a5f4-34314139fdc4",
   "metadata": {
    "tags": []
   },
   "outputs": [
    {
     "name": "stdout",
     "output_type": "stream",
     "text": [
      "Name:  Name1\n",
      "Age:  1\n",
      "Address:  XYZ\n"
     ]
    },
    {
     "ename": "AttributeError",
     "evalue": "'Student' object has no attribute 'mobile'",
     "output_type": "error",
     "traceback": [
      "\u001b[1;31m---------------------------------------------------------------------------\u001b[0m",
      "\u001b[1;31mAttributeError\u001b[0m                            Traceback (most recent call last)",
      "Cell \u001b[1;32mIn[17], line 19\u001b[0m\n\u001b[0;32m     17\u001b[0m         \u001b[38;5;28mself\u001b[39m\u001b[38;5;241m.\u001b[39mrn\u001b[38;5;241m=\u001b[39mrn\n\u001b[0;32m     18\u001b[0m s1\u001b[38;5;241m=\u001b[39mStudent(\u001b[38;5;124m\"\u001b[39m\u001b[38;5;124mName1\u001b[39m\u001b[38;5;124m\"\u001b[39m,\u001b[38;5;241m1\u001b[39m,\u001b[38;5;124m\"\u001b[39m\u001b[38;5;124mXYZ\u001b[39m\u001b[38;5;124m\"\u001b[39m,\u001b[38;5;241m12\u001b[39m)\n\u001b[1;32m---> 19\u001b[0m s1\u001b[38;5;241m.\u001b[39mshow_info()\n",
      "Cell \u001b[1;32mIn[17], line 11\u001b[0m, in \u001b[0;36mPerson.show_info\u001b[1;34m(self)\u001b[0m\n\u001b[0;32m      9\u001b[0m \u001b[38;5;28mprint\u001b[39m(\u001b[38;5;124m\"\u001b[39m\u001b[38;5;124mAge: \u001b[39m\u001b[38;5;124m\"\u001b[39m,\u001b[38;5;28mself\u001b[39m\u001b[38;5;241m.\u001b[39mage)\n\u001b[0;32m     10\u001b[0m \u001b[38;5;28mprint\u001b[39m(\u001b[38;5;124m\"\u001b[39m\u001b[38;5;124mAddress: \u001b[39m\u001b[38;5;124m\"\u001b[39m,\u001b[38;5;28mself\u001b[39m\u001b[38;5;241m.\u001b[39maddress)\n\u001b[1;32m---> 11\u001b[0m \u001b[38;5;28mprint\u001b[39m(\u001b[38;5;124m\"\u001b[39m\u001b[38;5;124mMobile: \u001b[39m\u001b[38;5;124m\"\u001b[39m,\u001b[38;5;28mself\u001b[39m\u001b[38;5;241m.\u001b[39mmobile)\n",
      "\u001b[1;31mAttributeError\u001b[0m: 'Student' object has no attribute 'mobile'"
     ]
    }
   ],
   "source": [
    "class Person:\n",
    "    def __init__(self,name,age,address,mobile):\n",
    "        self.name=name\n",
    "        self.age=age\n",
    "        self.address=address\n",
    "        self.mobile=mobile\n",
    "    def show_info(self):\n",
    "        print(\"Name: \",self.name)\n",
    "        print(\"Age: \",self.age)\n",
    "        print(\"Address: \",self.address)\n",
    "        print(\"Mobile: \",self.mobile)\n",
    "class Student(Person):\n",
    "    def __init__(self,name,age,address,rn):\n",
    "        self.name=name\n",
    "        self.age=age\n",
    "        self.address=address\n",
    "        self.rn=rn\n",
    "s1=Student(\"Name1\",1,\"XYZ\",12)\n",
    "s1.show_info()    "
   ]
  },
  {
   "cell_type": "code",
   "execution_count": 18,
   "id": "c101cf27-94f2-4e22-a806-0cb5789dca03",
   "metadata": {
    "tags": []
   },
   "outputs": [],
   "source": [
    "# parent init != child init\n",
    "# parent show_info == child show_info"
   ]
  },
  {
   "cell_type": "code",
   "execution_count": 20,
   "id": "db707e62-c030-4dfe-ae6f-779c5d60fe93",
   "metadata": {
    "tags": []
   },
   "outputs": [
    {
     "name": "stdout",
     "output_type": "stream",
     "text": [
      "Name:  Name1\n",
      "Age:  23\n",
      "Address:  XYZ\n",
      "Mobile:  12345\n",
      "Roll No. : 10\n"
     ]
    }
   ],
   "source": [
    "class Person:\n",
    "    def __init__(self,name,age,address,mobile):\n",
    "        self.name=name\n",
    "        self.age=age\n",
    "        self.address=address\n",
    "        self.mobile=mobile\n",
    "    def show_info(self):\n",
    "        print(\"Name: \",self.name)\n",
    "        print(\"Age: \",self.age)\n",
    "        print(\"Address: \",self.address)\n",
    "        print(\"Mobile: \",self.mobile)\n",
    "class Student(Person):\n",
    "    def __init__(self,name,age,address,mobile,rn):\n",
    "        Person.__init__(self,name,age,address,mobile)\n",
    "        self.rn=rn\n",
    "    def show_info(self):\n",
    "        Person.show_info(self)\n",
    "        print(\"Roll No. :\",self.rn)\n",
    "s1=Student(\"Name1\",23,\"XYZ\",12345,10)\n",
    "s1.show_info()    "
   ]
  },
  {
   "cell_type": "code",
   "execution_count": 21,
   "id": "2ca5f932-caf2-4f56-ba37-4b1fa1d692f4",
   "metadata": {
    "tags": []
   },
   "outputs": [
    {
     "name": "stdout",
     "output_type": "stream",
     "text": [
      "Name:  Name1\n",
      "Age:  23\n",
      "Address:  XYZ\n",
      "Mobile:  12345\n",
      "Roll No. : 10\n"
     ]
    }
   ],
   "source": [
    "#super() method\n",
    "class Person:\n",
    "    def __init__(self,name,age,address,mobile):\n",
    "        self.name=name\n",
    "        self.age=age\n",
    "        self.address=address\n",
    "        self.mobile=mobile\n",
    "    def show_info(self):\n",
    "        print(\"Name: \",self.name)\n",
    "        print(\"Age: \",self.age)\n",
    "        print(\"Address: \",self.address)\n",
    "        print(\"Mobile: \",self.mobile)\n",
    "class Student(Person):\n",
    "    def __init__(self,name,age,address,mobile,rn):\n",
    "        super().__init__(name,age,address,mobile)\n",
    "        self.rn=rn\n",
    "    def show_info(self):\n",
    "        Person.show_info(self)\n",
    "        print(\"Roll No. :\",self.rn)\n",
    "s1=Student(\"Name1\",23,\"XYZ\",12345,10)\n",
    "s1.show_info()    "
   ]
  },
  {
   "cell_type": "code",
   "execution_count": 24,
   "id": "a3f31898-3a02-422e-bb51-6427d304036b",
   "metadata": {
    "tags": []
   },
   "outputs": [],
   "source": [
    "#Abstraction was done\n",
    "#Hiding complex implementation details and just providing teh functionality of input and output"
   ]
  },
  {
   "cell_type": "markdown",
   "id": "8e85b4ca-28b7-4bb1-a764-7e3914d2a301",
   "metadata": {
    "tags": []
   },
   "source": [
    "## Abstract Class"
   ]
  },
  {
   "cell_type": "code",
   "execution_count": 27,
   "id": "0d2d66df-7d33-4da0-ba41-09dc99d9e30d",
   "metadata": {
    "tags": []
   },
   "outputs": [],
   "source": [
    "#Abstract class important as a blueprint for most basic barebones classes\n",
    "#it necessitates the implementation of its attributes and methods within the subclasses "
   ]
  },
  {
   "cell_type": "code",
   "execution_count": 31,
   "id": "2c73ea3a-bab2-4dee-bc26-6d9694fee2ee",
   "metadata": {
    "tags": []
   },
   "outputs": [
    {
     "name": "stdout",
     "output_type": "stream",
     "text": [
      "BMW\n",
      "Tata\n"
     ]
    }
   ],
   "source": [
    "from abc import ABC,abstractmethod\n",
    "#abc-module\n",
    "#ABC-Abstract Base Class\n",
    "#abstractmethod-decorator\n",
    "class Car(ABC): #we want Car to be bluprint for other classes\n",
    "    def show_brand(self):\n",
    "        print(self.brand)\n",
    "        \n",
    "class BMW(Car):\n",
    "    brand=\"BMW\"\n",
    "    pass\n",
    "class Tata(Car):\n",
    "    brand=\"Tata\"\n",
    "    pass\n",
    "\n",
    "ob1=BMW()\n",
    "ob2=Tata()\n",
    "ob1.show_brand()\n",
    "ob2.show_brand()"
   ]
  },
  {
   "cell_type": "code",
   "execution_count": 32,
   "id": "7ea9f996-396d-49ad-9eee-563881ffd0a4",
   "metadata": {
    "tags": []
   },
   "outputs": [],
   "source": [
    "class Audi(Car):\n",
    "    pass"
   ]
  },
  {
   "cell_type": "code",
   "execution_count": 33,
   "id": "1f89f0bf-5016-453e-ae5e-95eae03e99ce",
   "metadata": {
    "tags": []
   },
   "outputs": [
    {
     "ename": "AttributeError",
     "evalue": "'Audi' object has no attribute 'brand'",
     "output_type": "error",
     "traceback": [
      "\u001b[1;31m---------------------------------------------------------------------------\u001b[0m",
      "\u001b[1;31mAttributeError\u001b[0m                            Traceback (most recent call last)",
      "Cell \u001b[1;32mIn[33], line 2\u001b[0m\n\u001b[0;32m      1\u001b[0m ob3\u001b[38;5;241m=\u001b[39mAudi()\n\u001b[1;32m----> 2\u001b[0m ob3\u001b[38;5;241m.\u001b[39mshow_brand()\n",
      "Cell \u001b[1;32mIn[31], line 7\u001b[0m, in \u001b[0;36mCar.show_brand\u001b[1;34m(self)\u001b[0m\n\u001b[0;32m      6\u001b[0m \u001b[38;5;28;01mdef\u001b[39;00m \u001b[38;5;21mshow_brand\u001b[39m(\u001b[38;5;28mself\u001b[39m):\n\u001b[1;32m----> 7\u001b[0m     \u001b[38;5;28mprint\u001b[39m(\u001b[38;5;28mself\u001b[39m\u001b[38;5;241m.\u001b[39mbrand)\n",
      "\u001b[1;31mAttributeError\u001b[0m: 'Audi' object has no attribute 'brand'"
     ]
    }
   ],
   "source": [
    "ob3=Audi()\n",
    "ob3.show_brand()"
   ]
  },
  {
   "cell_type": "code",
   "execution_count": 34,
   "id": "b5ae7531-a25a-4053-890a-30191fcdf5e5",
   "metadata": {
    "tags": []
   },
   "outputs": [],
   "source": [
    "# no restriction was put on any subclass to force them to implement the methdd show_brand()"
   ]
  },
  {
   "cell_type": "code",
   "execution_count": 35,
   "id": "ca24bafe-d149-4c21-9f53-f56ee1f8c9b6",
   "metadata": {
    "tags": []
   },
   "outputs": [
    {
     "ename": "TypeError",
     "evalue": "Can't instantiate abstract class BMW with abstract method show_brand",
     "output_type": "error",
     "traceback": [
      "\u001b[1;31m---------------------------------------------------------------------------\u001b[0m",
      "\u001b[1;31mTypeError\u001b[0m                                 Traceback (most recent call last)",
      "Cell \u001b[1;32mIn[35], line 13\u001b[0m\n\u001b[0;32m     10\u001b[0m     brand\u001b[38;5;241m=\u001b[39m\u001b[38;5;124m\"\u001b[39m\u001b[38;5;124mTata\u001b[39m\u001b[38;5;124m\"\u001b[39m\n\u001b[0;32m     11\u001b[0m     \u001b[38;5;28;01mpass\u001b[39;00m\n\u001b[1;32m---> 13\u001b[0m ob1\u001b[38;5;241m=\u001b[39mBMW()\n\u001b[0;32m     14\u001b[0m ob2\u001b[38;5;241m=\u001b[39mTata()\n\u001b[0;32m     15\u001b[0m ob1\u001b[38;5;241m.\u001b[39mshow_brand()\n",
      "\u001b[1;31mTypeError\u001b[0m: Can't instantiate abstract class BMW with abstract method show_brand"
     ]
    }
   ],
   "source": [
    "class Car(ABC): \n",
    "    @abstractmethod\n",
    "    def show_brand(self):\n",
    "        print(self.brand)\n",
    "        \n",
    "class BMW(Car):\n",
    "    brand=\"BMW\"\n",
    "    pass\n",
    "class Tata(Car):\n",
    "    brand=\"Tata\"\n",
    "    pass\n",
    "\n",
    "ob1=BMW()\n",
    "ob2=Tata()\n",
    "ob1.show_brand()\n",
    "ob2.show_brand()"
   ]
  },
  {
   "cell_type": "code",
   "execution_count": 38,
   "id": "6f87df6f-0805-4ce0-8c6c-dcffe534bee3",
   "metadata": {
    "tags": []
   },
   "outputs": [
    {
     "name": "stdout",
     "output_type": "stream",
     "text": [
      "BMW\n",
      "Tata\n"
     ]
    }
   ],
   "source": [
    "class Car(ABC): \n",
    "    @abstractmethod\n",
    "    def show_brand(self):\n",
    "        pass\n",
    "        \n",
    "class BMW(Car):\n",
    "    brand=\"BMW\"\n",
    "    def show_brand(self):\n",
    "        print(self.brand)\n",
    "class Tata(Car):\n",
    "    brand=\"Tata\"\n",
    "    def show_brand(self):\n",
    "        print(self.brand)\n",
    "\n",
    "ob1=BMW()\n",
    "ob2=Tata()\n",
    "ob1.show_brand()\n",
    "ob2.show_brand()"
   ]
  }
 ],
 "metadata": {
  "kernelspec": {
   "display_name": "Python 3 (ipykernel)",
   "language": "python",
   "name": "python3"
  },
  "language_info": {
   "codemirror_mode": {
    "name": "ipython",
    "version": 3
   },
   "file_extension": ".py",
   "mimetype": "text/x-python",
   "name": "python",
   "nbconvert_exporter": "python",
   "pygments_lexer": "ipython3",
   "version": "3.11.7"
  }
 },
 "nbformat": 4,
 "nbformat_minor": 5
}
