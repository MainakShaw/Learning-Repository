{
 "cells": [
  {
   "cell_type": "code",
   "execution_count": 1,
   "id": "eaffc6f6-dbb6-4ce8-b44a-e4ef79af18d0",
   "metadata": {
    "tags": []
   },
   "outputs": [],
   "source": [
    "## Fuction (continued)"
   ]
  },
  {
   "cell_type": "markdown",
   "id": "0adff063-5e12-433d-aff9-1b76ad6d021d",
   "metadata": {},
   "source": [
    "## Arbitrary arguments/variable no. of inputs"
   ]
  },
  {
   "cell_type": "code",
   "execution_count": 11,
   "id": "f8018f59-2fc2-4c91-80c9-63922ca9290c",
   "metadata": {
    "tags": []
   },
   "outputs": [],
   "source": [
    "def func(*args): # only single list item taking in as argument\n",
    "    for arg in args:\n",
    "        print(\"Name=\",arg)"
   ]
  },
  {
   "cell_type": "code",
   "execution_count": 8,
   "id": "7f0a1968-0e7c-48a5-9faf-464e6d98e206",
   "metadata": {
    "tags": []
   },
   "outputs": [
    {
     "name": "stdin",
     "output_type": "stream",
     "text": [
      "Enter names:  n1 n2 n3 n4\n"
     ]
    },
    {
     "name": "stdout",
     "output_type": "stream",
     "text": [
      "Name= ['n1', 'n2', 'n3', 'n4']\n"
     ]
    }
   ],
   "source": [
    "func(input(\"Enter names: \").split())"
   ]
  },
  {
   "cell_type": "code",
   "execution_count": 12,
   "id": "36304a49-f855-4cac-8bf6-22c2127f3767",
   "metadata": {
    "tags": []
   },
   "outputs": [
    {
     "name": "stdin",
     "output_type": "stream",
     "text": [
      "Enter names:  n1 n2 n3 n4\n"
     ]
    },
    {
     "name": "stdout",
     "output_type": "stream",
     "text": [
      "Name= n1\n",
      "Name= n2\n",
      "Name= n3\n",
      "Name= n4\n"
     ]
    }
   ],
   "source": [
    "def func(*args): # only single list item taking in as argument\n",
    "    for arg in args:\n",
    "        for n in arg: # open the list up further\n",
    "            print(\"Name=\",n)\n",
    "func(input(\"Enter names: \").split())"
   ]
  },
  {
   "cell_type": "code",
   "execution_count": 13,
   "id": "3821ed8d-a41c-4db4-99c9-7e53e7c2ca06",
   "metadata": {
    "tags": []
   },
   "outputs": [
    {
     "name": "stdout",
     "output_type": "stream",
     "text": [
      "148\n"
     ]
    }
   ],
   "source": [
    "def add(*args):\n",
    "    add=0\n",
    "    for arg in args:\n",
    "        add+=arg\n",
    "    return add\n",
    "print(add(3,45,100))"
   ]
  },
  {
   "cell_type": "code",
   "execution_count": 14,
   "id": "934ef6ca-2a86-4e1c-933a-4fcbb4a35373",
   "metadata": {
    "tags": []
   },
   "outputs": [],
   "source": [
    "# 1. predefioned function\n",
    "# 2. class function\n",
    "# 3. self-created functions"
   ]
  },
  {
   "cell_type": "markdown",
   "id": "28096431-48de-4bd7-8d50-6333929d2d3d",
   "metadata": {
    "tags": []
   },
   "source": [
    "## Keyword Arguments"
   ]
  },
  {
   "cell_type": "code",
   "execution_count": 18,
   "id": "b6de9f32-2f1d-46f2-afaf-ba1ad6d4963d",
   "metadata": {
    "tags": []
   },
   "outputs": [
    {
     "name": "stdout",
     "output_type": "stream",
     "text": [
      "Mainak Shaw\n"
     ]
    }
   ],
   "source": [
    "def print_name(fname,lname):\n",
    "    print(fname,lname)\n",
    "    \n",
    "print_name(lname=\"Shaw\",fname=\"Mainak\")"
   ]
  },
  {
   "cell_type": "markdown",
   "id": "284a111c-5eac-4799-8bb6-65766488f994",
   "metadata": {},
   "source": [
    "## Default parameter value"
   ]
  },
  {
   "cell_type": "code",
   "execution_count": 19,
   "id": "6534fa55-6de1-4ada-ab46-0cf49b11b558",
   "metadata": {
    "tags": []
   },
   "outputs": [
    {
     "name": "stdout",
     "output_type": "stream",
     "text": [
      "Name = USA\n",
      "Name = Sweden\n",
      "Name = India\n"
     ]
    }
   ],
   "source": [
    "def country(country_name=\"India\"):\n",
    "    print(\"Name =\",country_name)\n",
    "country(\"USA\")\n",
    "country(\"Sweden\")\n",
    "country()"
   ]
  },
  {
   "cell_type": "code",
   "execution_count": 20,
   "id": "8ffac987-960c-4232-b706-74f872cf3500",
   "metadata": {
    "tags": []
   },
   "outputs": [
    {
     "name": "stdout",
     "output_type": "stream",
     "text": [
      "Country Name = USA\n",
      "Capital Name= Delhi\n",
      "Country Name = Sweden\n",
      "Capital Name= Delhi\n",
      "Country Name = India\n",
      "Capital Name= Delhi\n"
     ]
    }
   ],
   "source": [
    "def country(country_name=\"India\",capital_name=\"Delhi\"):\n",
    "    print(\"Country Name =\",country_name)\n",
    "    print(\"Capital Name=\",capital_name)\n",
    "country(\"USA\")\n",
    "country(\"Sweden\")\n",
    "country()"
   ]
  },
  {
   "cell_type": "code",
   "execution_count": 21,
   "id": "50e6e655-a354-4988-81db-4c3cd1ee576b",
   "metadata": {
    "tags": []
   },
   "outputs": [
    {
     "ename": "SyntaxError",
     "evalue": "non-default argument follows default argument (3069630158.py, line 1)",
     "output_type": "error",
     "traceback": [
      "\u001b[1;36m  Cell \u001b[1;32mIn[21], line 1\u001b[1;36m\u001b[0m\n\u001b[1;33m    def country(country_name=\"India\",capital_name):\u001b[0m\n\u001b[1;37m                                     ^\u001b[0m\n\u001b[1;31mSyntaxError\u001b[0m\u001b[1;31m:\u001b[0m non-default argument follows default argument\n"
     ]
    }
   ],
   "source": [
    "def country(country_name=\"India\",capital_name):\n",
    "    print(\"Country Name =\",country_name)\n",
    "    print(\"Capital Name=\",capital_name)"
   ]
  },
  {
   "cell_type": "code",
   "execution_count": 1,
   "id": "8e273f1e-918e-49bc-9557-c67056f2757a",
   "metadata": {},
   "outputs": [],
   "source": [
    "# non-default value parameters need to have all default value parameters trailing after it"
   ]
  },
  {
   "cell_type": "code",
   "execution_count": 22,
   "id": "aae60673-1496-42da-92de-2292679cb39b",
   "metadata": {
    "tags": []
   },
   "outputs": [],
   "source": [
    "def country(capital_name,country_name=\"India\"):\n",
    "    print(\"Country Name =\",country_name)\n",
    "    print(\"Capital Name=\",capital_name)"
   ]
  },
  {
   "cell_type": "code",
   "execution_count": 23,
   "id": "08ed78ac-ec50-4620-955a-68cdc7443fd2",
   "metadata": {
    "tags": []
   },
   "outputs": [
    {
     "name": "stdout",
     "output_type": "stream",
     "text": [
      "Country Name = India\n",
      "Capital Name= Chennai\n"
     ]
    }
   ],
   "source": [
    "country(\"Chennai\")"
   ]
  },
  {
   "cell_type": "code",
   "execution_count": 25,
   "id": "96bdeab4-97e4-4b0c-a49a-37dce37e97a5",
   "metadata": {
    "tags": []
   },
   "outputs": [
    {
     "name": "stdout",
     "output_type": "stream",
     "text": [
      "1 2\n",
      "3 4\n",
      "4 5\n",
      "5 6\n"
     ]
    }
   ],
   "source": [
    "def print_dict(Dict):\n",
    "    for k,v in Dict.items():\n",
    "        print(k,v)\n",
    "print_dict({1:2,3:4,4:5,5:6})"
   ]
  },
  {
   "cell_type": "code",
   "execution_count": null,
   "id": "98a921be-3d88-4462-8525-2634d59f5a25",
   "metadata": {},
   "outputs": [],
   "source": [
    "# function can take any datatypes as inputs"
   ]
  },
  {
   "cell_type": "code",
   "execution_count": null,
   "id": "985e5609-1187-4032-9b1e-9e5c6cfa9d53",
   "metadata": {},
   "outputs": [],
   "source": [
    "# returning values from functions"
   ]
  },
  {
   "cell_type": "code",
   "execution_count": 28,
   "id": "820d3eb2-96f5-474f-a941-eb921a49088b",
   "metadata": {
    "tags": []
   },
   "outputs": [
    {
     "name": "stdout",
     "output_type": "stream",
     "text": [
      "Area = 6\n",
      "Perimeter = 10\n"
     ]
    }
   ],
   "source": [
    "def fun(l,b):\n",
    "    return (l*b,2*(l+b))\n",
    "print(\"Area =\",fun(2,3)[0])\n",
    "print(\"Perimeter =\",fun(2,3)[1])"
   ]
  },
  {
   "cell_type": "code",
   "execution_count": null,
   "id": "578db9cf-3389-4cbf-9a64-dd3487232ca8",
   "metadata": {},
   "outputs": [],
   "source": [
    "#You can pass multiple values in the return statement as well."
   ]
  },
  {
   "cell_type": "code",
   "execution_count": 29,
   "id": "70a1f2da-13b0-4178-898c-a1da84d4c919",
   "metadata": {
    "tags": []
   },
   "outputs": [
    {
     "name": "stdout",
     "output_type": "stream",
     "text": [
      "Area = 6\n",
      "Perimeter = 10\n"
     ]
    }
   ],
   "source": [
    "def fun(l,b):\n",
    "    return l*b,2*(l+b)\n",
    "area,perimeter=fun(2,3)\n",
    "print(\"Area =\",area)\n",
    "print(\"Perimeter =\",perimeter)"
   ]
  }
 ],
 "metadata": {
  "kernelspec": {
   "display_name": "Python 3 (ipykernel)",
   "language": "python",
   "name": "python3"
  },
  "language_info": {
   "codemirror_mode": {
    "name": "ipython",
    "version": 3
   },
   "file_extension": ".py",
   "mimetype": "text/x-python",
   "name": "python",
   "nbconvert_exporter": "python",
   "pygments_lexer": "ipython3",
   "version": "3.11.7"
  }
 },
 "nbformat": 4,
 "nbformat_minor": 5
}
