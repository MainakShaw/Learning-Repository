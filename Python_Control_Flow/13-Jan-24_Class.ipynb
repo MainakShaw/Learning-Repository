{
 "cells": [
  {
   "cell_type": "code",
   "execution_count": 2,
   "id": "792952ec-fe8e-4c62-8016-18d578fdd27e",
   "metadata": {
    "tags": []
   },
   "outputs": [
    {
     "name": "stdout",
     "output_type": "stream",
     "text": [
      "a is equal to b\n"
     ]
    }
   ],
   "source": [
    "a=10\n",
    "b=20\n",
    "\n",
    "assert a==a\n",
    "print(\"a is equal to b\")"
   ]
  },
  {
   "cell_type": "code",
   "execution_count": 3,
   "id": "5b52f39b-91f2-45cc-a8bb-7ce77ed667d4",
   "metadata": {
    "tags": []
   },
   "outputs": [
    {
     "ename": "AssertionError",
     "evalue": "",
     "output_type": "error",
     "traceback": [
      "\u001b[1;31m---------------------------------------------------------------------------\u001b[0m",
      "\u001b[1;31mAssertionError\u001b[0m                            Traceback (most recent call last)",
      "Cell \u001b[1;32mIn[3], line 4\u001b[0m\n\u001b[0;32m      1\u001b[0m a\u001b[38;5;241m=\u001b[39m\u001b[38;5;241m10\u001b[39m\n\u001b[0;32m      2\u001b[0m b\u001b[38;5;241m=\u001b[39m\u001b[38;5;241m20\u001b[39m\n\u001b[1;32m----> 4\u001b[0m \u001b[38;5;28;01massert\u001b[39;00m a\u001b[38;5;241m==\u001b[39mb\n\u001b[0;32m      5\u001b[0m \u001b[38;5;28mprint\u001b[39m(\u001b[38;5;124m\"\u001b[39m\u001b[38;5;124ma is equal to b\u001b[39m\u001b[38;5;124m\"\u001b[39m)\n",
      "\u001b[1;31mAssertionError\u001b[0m: "
     ]
    }
   ],
   "source": [
    "a=10\n",
    "b=20\n",
    "\n",
    "assert a==b\n",
    "print(\"a is equal to b\")"
   ]
  },
  {
   "cell_type": "code",
   "execution_count": null,
   "id": "65a1df57-8518-4e57-a730-c9f10c95fb71",
   "metadata": {},
   "outputs": [],
   "source": [
    "#assert keyword will stop a program and throwe rror if condition doesnt work"
   ]
  },
  {
   "cell_type": "code",
   "execution_count": 5,
   "id": "412fe556-26de-4e88-ab34-4fc40fab5504",
   "metadata": {
    "tags": []
   },
   "outputs": [
    {
     "name": "stdout",
     "output_type": "stream",
     "text": [
      "My name is Sameer\n",
      "My name is Sameer\n"
     ]
    }
   ],
   "source": [
    "#f-strings(String Formatting)\n",
    "name=\"Sameer\"\n",
    "print(\"My name is\",name)\n",
    "print(f\"My name is {name}\")"
   ]
  },
  {
   "cell_type": "code",
   "execution_count": null,
   "id": "baeb1efb-d53a-441a-846f-244eea9603e9",
   "metadata": {},
   "outputs": [],
   "source": [
    "#f-strings allow variable value inside a string"
   ]
  },
  {
   "cell_type": "code",
   "execution_count": 9,
   "id": "339f26f6-d767-4449-96bd-8b60e45a88f6",
   "metadata": {
    "tags": []
   },
   "outputs": [
    {
     "name": "stdout",
     "output_type": "stream",
     "text": [
      "My name is Mainak. My country is India.\n"
     ]
    }
   ],
   "source": [
    "name=\"Mainak\"\n",
    "country=\"India\"\n",
    "print(\"My name is {}. My country is {}.\".format(name,country))"
   ]
  },
  {
   "cell_type": "code",
   "execution_count": 11,
   "id": "a2cc9451-c0ee-4be4-a4d0-7730b8402ffe",
   "metadata": {
    "tags": []
   },
   "outputs": [
    {
     "name": "stdout",
     "output_type": "stream",
     "text": [
      "dict_keys(['k1', 'k2', 'k3'])\n",
      "dict_values(['v1', 'v2', 'v3'])\n",
      "dict_items([('k1', 'v1'), ('k2', 'v2'), ('k3', 'v3')])\n"
     ]
    }
   ],
   "source": [
    "##.keys(),.values(),.items()\n",
    "dict1={\"k1\":\"v1\",\"k2\":\"v2\",\"k3\":\"v3\"}\n",
    "print(dict1.keys())\n",
    "print(dict1.values())\n",
    "print(dict1.items())"
   ]
  },
  {
   "cell_type": "code",
   "execution_count": null,
   "id": "c7b819c9-cb3c-4094-9cfa-07c172e0a13f",
   "metadata": {},
   "outputs": [],
   "source": [
    "#traversing over list,tuple,set,dict string using for loop(on iterables)"
   ]
  },
  {
   "cell_type": "code",
   "execution_count": 12,
   "id": "4888cb8d-8cdc-4379-906a-970b0be55dc5",
   "metadata": {
    "tags": []
   },
   "outputs": [
    {
     "name": "stdout",
     "output_type": "stream",
     "text": [
      "12\n",
      "34\n",
      "45\n",
      "56\n",
      "67\n",
      "78\n",
      "89\n",
      "90\n"
     ]
    }
   ],
   "source": [
    "list1=[12,34,45,56,67,78,89,90]\n",
    "for i in list1:\n",
    "    print(i)"
   ]
  },
  {
   "cell_type": "code",
   "execution_count": 19,
   "id": "e471ca61-1fee-4e3e-adaa-60a95931a6d4",
   "metadata": {
    "tags": []
   },
   "outputs": [
    {
     "name": "stdout",
     "output_type": "stream",
     "text": [
      "12\n",
      "34\n",
      "45\n",
      "56\n",
      "67\n",
      "78\n",
      "89\n",
      "90\n"
     ]
    }
   ],
   "source": [
    "tuple1=(12,34,45,56,67,78,89,90)\n",
    "for i in tuple1:\n",
    "    print(i)"
   ]
  },
  {
   "cell_type": "code",
   "execution_count": 20,
   "id": "9a8ec337-5b9c-4091-abe8-bb93e8b4c347",
   "metadata": {
    "tags": []
   },
   "outputs": [
    {
     "name": "stdout",
     "output_type": "stream",
     "text": [
      "34\n",
      "12\n",
      "45\n",
      "78\n",
      "23\n",
      "56\n",
      "89\n",
      "90\n"
     ]
    }
   ],
   "source": [
    "set1={12,23,34,45,56,45,34,12,78,89,90,89}\n",
    "for i in set1:\n",
    "    print(i)"
   ]
  },
  {
   "cell_type": "code",
   "execution_count": 21,
   "id": "4f9e97e1-630c-4055-b3b4-076f586bb415",
   "metadata": {
    "tags": []
   },
   "outputs": [
    {
     "name": "stdout",
     "output_type": "stream",
     "text": [
      "1\n",
      "2\n",
      "3\n",
      "4\n",
      "5\n",
      "\n",
      "12\n",
      "34\n",
      "45\n",
      "56\n",
      "67\n",
      "\n",
      "1:12\n",
      "2:34\n",
      "3:45\n",
      "4:56\n",
      "5:67\n"
     ]
    }
   ],
   "source": [
    "dict1={1:12,2:34,3:45,4:56,5:67}\n",
    "for k in dict1.keys():\n",
    "    print(k)\n",
    "print()\n",
    "for k in dict1.values():\n",
    "    print(k)\n",
    "print()\n",
    "for k,v in dict1.items():\n",
    "    print(f\"{k}:{v}\")"
   ]
  },
  {
   "cell_type": "code",
   "execution_count": 23,
   "id": "3690ff82-77d1-4ce1-95c1-fd8553342251",
   "metadata": {
    "tags": []
   },
   "outputs": [
    {
     "name": "stdout",
     "output_type": "stream",
     "text": [
      "M\n",
      "a\n",
      "i\n",
      "n\n",
      "a\n",
      "k\n"
     ]
    }
   ],
   "source": [
    "str1=\"Mainak\"\n",
    "for c in str1:\n",
    "    print(c)"
   ]
  },
  {
   "cell_type": "code",
   "execution_count": 25,
   "id": "a2e14bb2-1807-46bc-8d4a-5a802562e0b0",
   "metadata": {
    "tags": []
   },
   "outputs": [
    {
     "name": "stdout",
     "output_type": "stream",
     "text": [
      "0\n",
      "1\n",
      "2\n",
      "3\n",
      "4\n",
      "5\n"
     ]
    }
   ],
   "source": [
    "#break statement\n",
    "for i in range(10):\n",
    "    print(i)\n",
    "    if(i==5):break"
   ]
  },
  {
   "cell_type": "code",
   "execution_count": 26,
   "id": "34bb618a-8abc-4e1d-b4f1-2493006c6730",
   "metadata": {
    "tags": []
   },
   "outputs": [],
   "source": [
    "#break starement used to break out of the closest loop block within which the break statement is present"
   ]
  },
  {
   "cell_type": "code",
   "execution_count": 28,
   "id": "ef2edd88-2489-4abb-b214-5c89b0112029",
   "metadata": {
    "tags": []
   },
   "outputs": [
    {
     "name": "stdout",
     "output_type": "stream",
     "text": [
      "0\n",
      "1\n",
      "2\n",
      "3\n",
      "4\n",
      "6\n",
      "7\n",
      "9\n"
     ]
    }
   ],
   "source": [
    "#continue statement\n",
    "for i in range(10):\n",
    "    if(i==5 or i==8):continue\n",
    "    print(i)"
   ]
  },
  {
   "cell_type": "code",
   "execution_count": 31,
   "id": "71d3fbc2-ec1c-4d1e-af97-7e37489c56bc",
   "metadata": {
    "tags": []
   },
   "outputs": [
    {
     "data": {
      "text/plain": [
       "[2, 5, 8, 11, 14, 17, 20, 23, 26, 29]"
      ]
     },
     "execution_count": 31,
     "metadata": {},
     "output_type": "execute_result"
    }
   ],
   "source": [
    "#range() function\n",
    "list(range(2,30,3))"
   ]
  }
 ],
 "metadata": {
  "kernelspec": {
   "display_name": "Python 3 (ipykernel)",
   "language": "python",
   "name": "python3"
  },
  "language_info": {
   "codemirror_mode": {
    "name": "ipython",
    "version": 3
   },
   "file_extension": ".py",
   "mimetype": "text/x-python",
   "name": "python",
   "nbconvert_exporter": "python",
   "pygments_lexer": "ipython3",
   "version": "3.11.7"
  }
 },
 "nbformat": 4,
 "nbformat_minor": 5
}
