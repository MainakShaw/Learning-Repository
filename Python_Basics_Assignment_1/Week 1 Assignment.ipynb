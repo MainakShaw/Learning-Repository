{
 "cells": [
  {
   "cell_type": "markdown",
   "id": "27220d0a",
   "metadata": {},
   "source": [
    "## Assignment 1"
   ]
  },
  {
   "cell_type": "markdown",
   "id": "a899e94c",
   "metadata": {},
   "source": [
    "Q1. Write a Python program that asks the user to enter their name and prints a greeting that says \"Hello, [name]!\"?"
   ]
  },
  {
   "cell_type": "code",
   "execution_count": 3,
   "id": "ff93f823",
   "metadata": {},
   "outputs": [
    {
     "name": "stdout",
     "output_type": "stream",
     "text": [
      "Enter your username: Mainak Shaw\n",
      "Hello, Mainak Shaw!\n"
     ]
    }
   ],
   "source": [
    "name=input(\"Enter your username: \");\n",
    "print(\"Hello, \",name,\"!\",sep=\"\");"
   ]
  },
  {
   "cell_type": "markdown",
   "id": "9ca8e576",
   "metadata": {},
   "source": [
    "Q2. Write a Python program that asks the user to enter their age and prints a message that says \"You are [age] years old\"?"
   ]
  },
  {
   "cell_type": "code",
   "execution_count": 4,
   "id": "3afe2345",
   "metadata": {},
   "outputs": [
    {
     "name": "stdout",
     "output_type": "stream",
     "text": [
      "Enter your age: 23\n",
      "You are 23 years old.\n"
     ]
    }
   ],
   "source": [
    "age=int(input(\"Enter your age: \"));\n",
    "print(\"You are\",age,\"years old.\");"
   ]
  },
  {
   "cell_type": "markdown",
   "id": "b7840d14",
   "metadata": {},
   "source": [
    "Q3. Write a Python program that asks the user to enter two numbers, calculates their sum, and prints the result?"
   ]
  },
  {
   "cell_type": "code",
   "execution_count": 5,
   "id": "e0943d77",
   "metadata": {},
   "outputs": [
    {
     "name": "stdout",
     "output_type": "stream",
     "text": [
      "Enter the first number: 23\n",
      "Enter the second number: -13\n",
      "Sum of 23 and -13 = 10 .\n"
     ]
    }
   ],
   "source": [
    "a=int(input(\"Enter the first number: \"));\n",
    "b=int(input(\"Enter the second number: \"));\n",
    "print(\"Sum of\",a,\"and\",b,\"=\",(a+b),\".\");"
   ]
  },
  {
   "cell_type": "markdown",
   "id": "d08b3c4e",
   "metadata": {},
   "source": [
    "Q4. Write a Python program that asks the user to enter a sentence and prints the sentence with every word capitalized?"
   ]
  },
  {
   "cell_type": "code",
   "execution_count": 7,
   "id": "cee72b13",
   "metadata": {},
   "outputs": [
    {
     "name": "stdout",
     "output_type": "stream",
     "text": [
      "Enter a sentence: Wishing you all a Merry Christmas!\n",
      "\n",
      "Printing the sentence after all words are capitalized:-\n",
      "WISHING YOU ALL A MERRY CHRISTMAS!\n"
     ]
    }
   ],
   "source": [
    "str=input(\"Enter a sentence: \");\n",
    "print(\"\\nPrinting the sentence after all words are capitalized:-\");\n",
    "print(str.upper());"
   ]
  },
  {
   "cell_type": "markdown",
   "id": "6859dd52",
   "metadata": {},
   "source": [
    "Q5. Write a Python program that asks the user to enter a\n",
    "string and checks whether the string is a palindrome or\n",
    "not?"
   ]
  },
  {
   "cell_type": "code",
   "execution_count": 14,
   "id": "17d74965",
   "metadata": {},
   "outputs": [
    {
     "name": "stdout",
     "output_type": "stream",
     "text": [
      "Enter a String: MADAM\n",
      "MADAM is a Palindrome.\n"
     ]
    }
   ],
   "source": [
    "str=input(\"Enter a String: \");\n",
    "rev_str=str[::-1];\n",
    "if(str == rev_str):\n",
    "    print(str,\"is a Palindrome.\");\n",
    "else:\n",
    "    print(str,\"is not a Palindrome.\");"
   ]
  },
  {
   "cell_type": "markdown",
   "id": "522ed146",
   "metadata": {},
   "source": [
    "Q6. Write a Python program that asks the user to enter a\n",
    "temperature in Celsius and converts it to Fahrenheit?"
   ]
  },
  {
   "cell_type": "code",
   "execution_count": 19,
   "id": "767ac3ba",
   "metadata": {},
   "outputs": [
    {
     "name": "stdout",
     "output_type": "stream",
     "text": [
      "Enter the temperature in Celcius(°C): 100\n",
      "Equivalent temperature in Fahernheit(°F): 212.0 °F.\n"
     ]
    }
   ],
   "source": [
    "c_temp=float(input(\"Enter the temperature in Celcius(°C): \"));\n",
    "f_temp=(9*c_temp/5)+32;\n",
    "print(\"Equivalent temperature in Fahernheit(°F):\",f_temp,\"°F.\");"
   ]
  }
 ],
 "metadata": {
  "kernelspec": {
   "display_name": "Python 3 (ipykernel)",
   "language": "python",
   "name": "python3"
  },
  "language_info": {
   "codemirror_mode": {
    "name": "ipython",
    "version": 3
   },
   "file_extension": ".py",
   "mimetype": "text/x-python",
   "name": "python",
   "nbconvert_exporter": "python",
   "pygments_lexer": "ipython3",
   "version": "3.11.7"
  }
 },
 "nbformat": 4,
 "nbformat_minor": 5
}
