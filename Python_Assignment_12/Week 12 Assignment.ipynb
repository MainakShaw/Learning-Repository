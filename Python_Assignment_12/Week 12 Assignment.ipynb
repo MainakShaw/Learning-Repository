{
 "cells": [
  {
   "cell_type": "markdown",
   "id": "897e4ba6-1ce0-4ba0-8518-a4d36a874e25",
   "metadata": {},
   "source": [
    "## Week 12 Assignment"
   ]
  },
  {
   "cell_type": "markdown",
   "id": "5404c0cf-abb6-4ce6-8472-8e6019c2ea8f",
   "metadata": {},
   "source": [
    "<b>Bank Marketing</b>\n",
    "\n",
    "In this assignment, you will work with the Bank Marketing dataset to predict whether or not a customer will subscribe to a term deposit. You will use decision trees, random forests, and XGBoost to build classification models and evaluate their performance.\n",
    "\n",
    "Instructions:\n",
    "\n",
    "1. Use bank.csv dataset\n",
    "\n",
    "2. Load the dataset into a Jupyter notebook or another Python environment of your choice.\n",
    "            \n",
    "3. Preprocess the dataset by encoding categorical features and handling missing values, if any. Use the following steps:\n",
    "        \n",
    "    a. Convert the categorical features to numerical using one-hot encoding or label encoding, depending on the nature of the feature.\n",
    "\n",
    "    b. Handle missing values in the dataset. You can either drop the rows with missing values or impute them using techniques like mean or median imputation.\n",
    "\n",
    "4. Split the dataset into training and testing sets using a 70/30 split.\n",
    "\n",
    "5. Build a decision tree classifier using scikit-learn's DecisionTreeClassifier and train it on the training set.\n",
    "\n",
    "6. Evaluate the performance of the decision tree classifier on the testing set using accuracy, precision, recall, and F1-score.\n",
    "\n",
    "7. Build a random forest classifier using scikit-learn's RandomForestClassifier and train it on the training set.\n",
    "\n",
    "8. Evaluate the performance of the tuned random forest classifier on the testing set using accuracy, precision, recall, and F1-score.\n",
    "\n",
    "9. Build an XGBoost classifier using the xgboost library and train it on the training set.\n",
    "            \n",
    "10. Evaluate the performance of the tuned XGBoost classifier on the testing set using accuracy, precision, recall, and F1-score.\n",
    "\n",
    "11. Create a visualization of all the three algorithms accuracy with respect to their accuracy, precision, recall, and F1-score.\n",
    "\n",
    "Deliverables:\n",
    "\n",
    "Your deliverables for this assignment should include:\n",
    "\n",
    "1. A Jupyter notebook or another Python script with your code.\n",
    "\n",
    "2. A report summarizing your results, including the performance of the decision tree, random forest, and XGBoost classifiers, as well as a comparison of their performance.\n",
    "\n",
    "3. A description of your preprocessing steps and how they impacted the performance of the classifiers.\n",
    "                \n",
    "DataSet - https://drive.google.com/file/d/1XkoLTkJMy2pheCzkDEio03FrWaYvHw5l/view?usp=sharing"
   ]
  },
  {
   "cell_type": "code",
   "execution_count": 56,
   "id": "594bb0f4-96a5-45cc-ab16-65c9ad3ca292",
   "metadata": {},
   "outputs": [],
   "source": [
    "import numpy as np\n",
    "import pandas as pd\n",
    "import matplotlib.pyplot as plt\n",
    "import seaborn as sns\n",
    "from sklearn.preprocessing import OneHotEncoder\n",
    "from sklearn.preprocessing import StandardScaler\n",
    "from sklearn.model_selection import train_test_split\n",
    "from sklearn.tree import DecisionTreeClassifier\n",
    "from sklearn.ensemble import RandomForestClassifier\n",
    "from xgboost import XGBClassifier\n",
    "from sklearn.metrics import accuracy_score,precision_score,recall_score,f1_score"
   ]
  },
  {
   "cell_type": "code",
   "execution_count": 2,
   "id": "d408ba79-457a-4d76-a277-fd21d9814c54",
   "metadata": {},
   "outputs": [
    {
     "data": {
      "text/html": [
       "<div>\n",
       "<style scoped>\n",
       "    .dataframe tbody tr th:only-of-type {\n",
       "        vertical-align: middle;\n",
       "    }\n",
       "\n",
       "    .dataframe tbody tr th {\n",
       "        vertical-align: top;\n",
       "    }\n",
       "\n",
       "    .dataframe thead th {\n",
       "        text-align: right;\n",
       "    }\n",
       "</style>\n",
       "<table border=\"1\" class=\"dataframe\">\n",
       "  <thead>\n",
       "    <tr style=\"text-align: right;\">\n",
       "      <th></th>\n",
       "      <th>age</th>\n",
       "      <th>job</th>\n",
       "      <th>marital</th>\n",
       "      <th>education</th>\n",
       "      <th>default</th>\n",
       "      <th>balance</th>\n",
       "      <th>housing</th>\n",
       "      <th>loan</th>\n",
       "      <th>contact</th>\n",
       "      <th>day</th>\n",
       "      <th>month</th>\n",
       "      <th>duration</th>\n",
       "      <th>campaign</th>\n",
       "      <th>pdays</th>\n",
       "      <th>previous</th>\n",
       "      <th>poutcome</th>\n",
       "      <th>y</th>\n",
       "    </tr>\n",
       "  </thead>\n",
       "  <tbody>\n",
       "    <tr>\n",
       "      <th>0</th>\n",
       "      <td>30</td>\n",
       "      <td>unemployed</td>\n",
       "      <td>married</td>\n",
       "      <td>primary</td>\n",
       "      <td>no</td>\n",
       "      <td>1787</td>\n",
       "      <td>no</td>\n",
       "      <td>no</td>\n",
       "      <td>cellular</td>\n",
       "      <td>19</td>\n",
       "      <td>oct</td>\n",
       "      <td>79</td>\n",
       "      <td>1</td>\n",
       "      <td>-1</td>\n",
       "      <td>0</td>\n",
       "      <td>unknown</td>\n",
       "      <td>no</td>\n",
       "    </tr>\n",
       "    <tr>\n",
       "      <th>1</th>\n",
       "      <td>33</td>\n",
       "      <td>services</td>\n",
       "      <td>married</td>\n",
       "      <td>secondary</td>\n",
       "      <td>no</td>\n",
       "      <td>4789</td>\n",
       "      <td>yes</td>\n",
       "      <td>yes</td>\n",
       "      <td>cellular</td>\n",
       "      <td>11</td>\n",
       "      <td>may</td>\n",
       "      <td>220</td>\n",
       "      <td>1</td>\n",
       "      <td>339</td>\n",
       "      <td>4</td>\n",
       "      <td>failure</td>\n",
       "      <td>no</td>\n",
       "    </tr>\n",
       "    <tr>\n",
       "      <th>2</th>\n",
       "      <td>35</td>\n",
       "      <td>management</td>\n",
       "      <td>single</td>\n",
       "      <td>tertiary</td>\n",
       "      <td>no</td>\n",
       "      <td>1350</td>\n",
       "      <td>yes</td>\n",
       "      <td>no</td>\n",
       "      <td>cellular</td>\n",
       "      <td>16</td>\n",
       "      <td>apr</td>\n",
       "      <td>185</td>\n",
       "      <td>1</td>\n",
       "      <td>330</td>\n",
       "      <td>1</td>\n",
       "      <td>failure</td>\n",
       "      <td>no</td>\n",
       "    </tr>\n",
       "    <tr>\n",
       "      <th>3</th>\n",
       "      <td>30</td>\n",
       "      <td>management</td>\n",
       "      <td>married</td>\n",
       "      <td>tertiary</td>\n",
       "      <td>no</td>\n",
       "      <td>1476</td>\n",
       "      <td>yes</td>\n",
       "      <td>yes</td>\n",
       "      <td>unknown</td>\n",
       "      <td>3</td>\n",
       "      <td>jun</td>\n",
       "      <td>199</td>\n",
       "      <td>4</td>\n",
       "      <td>-1</td>\n",
       "      <td>0</td>\n",
       "      <td>unknown</td>\n",
       "      <td>no</td>\n",
       "    </tr>\n",
       "    <tr>\n",
       "      <th>4</th>\n",
       "      <td>59</td>\n",
       "      <td>blue-collar</td>\n",
       "      <td>married</td>\n",
       "      <td>secondary</td>\n",
       "      <td>no</td>\n",
       "      <td>0</td>\n",
       "      <td>yes</td>\n",
       "      <td>no</td>\n",
       "      <td>unknown</td>\n",
       "      <td>5</td>\n",
       "      <td>may</td>\n",
       "      <td>226</td>\n",
       "      <td>1</td>\n",
       "      <td>-1</td>\n",
       "      <td>0</td>\n",
       "      <td>unknown</td>\n",
       "      <td>no</td>\n",
       "    </tr>\n",
       "    <tr>\n",
       "      <th>...</th>\n",
       "      <td>...</td>\n",
       "      <td>...</td>\n",
       "      <td>...</td>\n",
       "      <td>...</td>\n",
       "      <td>...</td>\n",
       "      <td>...</td>\n",
       "      <td>...</td>\n",
       "      <td>...</td>\n",
       "      <td>...</td>\n",
       "      <td>...</td>\n",
       "      <td>...</td>\n",
       "      <td>...</td>\n",
       "      <td>...</td>\n",
       "      <td>...</td>\n",
       "      <td>...</td>\n",
       "      <td>...</td>\n",
       "      <td>...</td>\n",
       "    </tr>\n",
       "    <tr>\n",
       "      <th>4516</th>\n",
       "      <td>33</td>\n",
       "      <td>services</td>\n",
       "      <td>married</td>\n",
       "      <td>secondary</td>\n",
       "      <td>no</td>\n",
       "      <td>-333</td>\n",
       "      <td>yes</td>\n",
       "      <td>no</td>\n",
       "      <td>cellular</td>\n",
       "      <td>30</td>\n",
       "      <td>jul</td>\n",
       "      <td>329</td>\n",
       "      <td>5</td>\n",
       "      <td>-1</td>\n",
       "      <td>0</td>\n",
       "      <td>unknown</td>\n",
       "      <td>no</td>\n",
       "    </tr>\n",
       "    <tr>\n",
       "      <th>4517</th>\n",
       "      <td>57</td>\n",
       "      <td>self-employed</td>\n",
       "      <td>married</td>\n",
       "      <td>tertiary</td>\n",
       "      <td>yes</td>\n",
       "      <td>-3313</td>\n",
       "      <td>yes</td>\n",
       "      <td>yes</td>\n",
       "      <td>unknown</td>\n",
       "      <td>9</td>\n",
       "      <td>may</td>\n",
       "      <td>153</td>\n",
       "      <td>1</td>\n",
       "      <td>-1</td>\n",
       "      <td>0</td>\n",
       "      <td>unknown</td>\n",
       "      <td>no</td>\n",
       "    </tr>\n",
       "    <tr>\n",
       "      <th>4518</th>\n",
       "      <td>57</td>\n",
       "      <td>technician</td>\n",
       "      <td>married</td>\n",
       "      <td>secondary</td>\n",
       "      <td>no</td>\n",
       "      <td>295</td>\n",
       "      <td>no</td>\n",
       "      <td>no</td>\n",
       "      <td>cellular</td>\n",
       "      <td>19</td>\n",
       "      <td>aug</td>\n",
       "      <td>151</td>\n",
       "      <td>11</td>\n",
       "      <td>-1</td>\n",
       "      <td>0</td>\n",
       "      <td>unknown</td>\n",
       "      <td>no</td>\n",
       "    </tr>\n",
       "    <tr>\n",
       "      <th>4519</th>\n",
       "      <td>28</td>\n",
       "      <td>blue-collar</td>\n",
       "      <td>married</td>\n",
       "      <td>secondary</td>\n",
       "      <td>no</td>\n",
       "      <td>1137</td>\n",
       "      <td>no</td>\n",
       "      <td>no</td>\n",
       "      <td>cellular</td>\n",
       "      <td>6</td>\n",
       "      <td>feb</td>\n",
       "      <td>129</td>\n",
       "      <td>4</td>\n",
       "      <td>211</td>\n",
       "      <td>3</td>\n",
       "      <td>other</td>\n",
       "      <td>no</td>\n",
       "    </tr>\n",
       "    <tr>\n",
       "      <th>4520</th>\n",
       "      <td>44</td>\n",
       "      <td>entrepreneur</td>\n",
       "      <td>single</td>\n",
       "      <td>tertiary</td>\n",
       "      <td>no</td>\n",
       "      <td>1136</td>\n",
       "      <td>yes</td>\n",
       "      <td>yes</td>\n",
       "      <td>cellular</td>\n",
       "      <td>3</td>\n",
       "      <td>apr</td>\n",
       "      <td>345</td>\n",
       "      <td>2</td>\n",
       "      <td>249</td>\n",
       "      <td>7</td>\n",
       "      <td>other</td>\n",
       "      <td>no</td>\n",
       "    </tr>\n",
       "  </tbody>\n",
       "</table>\n",
       "<p>4521 rows × 17 columns</p>\n",
       "</div>"
      ],
      "text/plain": [
       "      age            job  marital  education default  balance housing loan  \\\n",
       "0      30     unemployed  married    primary      no     1787      no   no   \n",
       "1      33       services  married  secondary      no     4789     yes  yes   \n",
       "2      35     management   single   tertiary      no     1350     yes   no   \n",
       "3      30     management  married   tertiary      no     1476     yes  yes   \n",
       "4      59    blue-collar  married  secondary      no        0     yes   no   \n",
       "...   ...            ...      ...        ...     ...      ...     ...  ...   \n",
       "4516   33       services  married  secondary      no     -333     yes   no   \n",
       "4517   57  self-employed  married   tertiary     yes    -3313     yes  yes   \n",
       "4518   57     technician  married  secondary      no      295      no   no   \n",
       "4519   28    blue-collar  married  secondary      no     1137      no   no   \n",
       "4520   44   entrepreneur   single   tertiary      no     1136     yes  yes   \n",
       "\n",
       "       contact  day month  duration  campaign  pdays  previous poutcome   y  \n",
       "0     cellular   19   oct        79         1     -1         0  unknown  no  \n",
       "1     cellular   11   may       220         1    339         4  failure  no  \n",
       "2     cellular   16   apr       185         1    330         1  failure  no  \n",
       "3      unknown    3   jun       199         4     -1         0  unknown  no  \n",
       "4      unknown    5   may       226         1     -1         0  unknown  no  \n",
       "...        ...  ...   ...       ...       ...    ...       ...      ...  ..  \n",
       "4516  cellular   30   jul       329         5     -1         0  unknown  no  \n",
       "4517   unknown    9   may       153         1     -1         0  unknown  no  \n",
       "4518  cellular   19   aug       151        11     -1         0  unknown  no  \n",
       "4519  cellular    6   feb       129         4    211         3    other  no  \n",
       "4520  cellular    3   apr       345         2    249         7    other  no  \n",
       "\n",
       "[4521 rows x 17 columns]"
      ]
     },
     "execution_count": 2,
     "metadata": {},
     "output_type": "execute_result"
    }
   ],
   "source": [
    "bank_data = pd.read_csv(\"bank.csv\")\n",
    "bank_data"
   ]
  },
  {
   "cell_type": "code",
   "execution_count": 3,
   "id": "cdc5d8bd-515c-45e9-8fad-f37cb88ba808",
   "metadata": {},
   "outputs": [
    {
     "name": "stdout",
     "output_type": "stream",
     "text": [
      "<class 'pandas.core.frame.DataFrame'>\n",
      "RangeIndex: 4521 entries, 0 to 4520\n",
      "Data columns (total 17 columns):\n",
      " #   Column     Non-Null Count  Dtype \n",
      "---  ------     --------------  ----- \n",
      " 0   age        4521 non-null   int64 \n",
      " 1   job        4521 non-null   object\n",
      " 2   marital    4521 non-null   object\n",
      " 3   education  4521 non-null   object\n",
      " 4   default    4521 non-null   object\n",
      " 5   balance    4521 non-null   int64 \n",
      " 6   housing    4521 non-null   object\n",
      " 7   loan       4521 non-null   object\n",
      " 8   contact    4521 non-null   object\n",
      " 9   day        4521 non-null   int64 \n",
      " 10  month      4521 non-null   object\n",
      " 11  duration   4521 non-null   int64 \n",
      " 12  campaign   4521 non-null   int64 \n",
      " 13  pdays      4521 non-null   int64 \n",
      " 14  previous   4521 non-null   int64 \n",
      " 15  poutcome   4521 non-null   object\n",
      " 16  y          4521 non-null   object\n",
      "dtypes: int64(7), object(10)\n",
      "memory usage: 600.6+ KB\n"
     ]
    }
   ],
   "source": [
    "bank_data.info()"
   ]
  },
  {
   "cell_type": "code",
   "execution_count": 4,
   "id": "26311d60-4c08-4636-91d7-9a70c64279e2",
   "metadata": {},
   "outputs": [
    {
     "data": {
      "text/plain": [
       "age          0\n",
       "job          0\n",
       "marital      0\n",
       "education    0\n",
       "default      0\n",
       "balance      0\n",
       "housing      0\n",
       "loan         0\n",
       "contact      0\n",
       "day          0\n",
       "month        0\n",
       "duration     0\n",
       "campaign     0\n",
       "pdays        0\n",
       "previous     0\n",
       "poutcome     0\n",
       "y            0\n",
       "dtype: int64"
      ]
     },
     "execution_count": 4,
     "metadata": {},
     "output_type": "execute_result"
    }
   ],
   "source": [
    "bank_data.isnull().sum()"
   ]
  },
  {
   "cell_type": "markdown",
   "id": "373a3044-0ad3-4ea0-a7af-8113b04e3209",
   "metadata": {},
   "source": [
    "No null values present in dataset."
   ]
  },
  {
   "cell_type": "code",
   "execution_count": 5,
   "id": "0162681d-c491-43ed-bf62-1783f7e5be9c",
   "metadata": {},
   "outputs": [],
   "source": [
    "#Separating the features and the target\n",
    "X=bank_data.drop(\"y\",axis=1)\n",
    "y=bank_data[\"y\"]"
   ]
  },
  {
   "cell_type": "code",
   "execution_count": 6,
   "id": "26c6f0d3-fbc2-43dd-96a4-daeec373b72a",
   "metadata": {},
   "outputs": [
    {
     "data": {
      "text/html": [
       "<div>\n",
       "<style scoped>\n",
       "    .dataframe tbody tr th:only-of-type {\n",
       "        vertical-align: middle;\n",
       "    }\n",
       "\n",
       "    .dataframe tbody tr th {\n",
       "        vertical-align: top;\n",
       "    }\n",
       "\n",
       "    .dataframe thead th {\n",
       "        text-align: right;\n",
       "    }\n",
       "</style>\n",
       "<table border=\"1\" class=\"dataframe\">\n",
       "  <thead>\n",
       "    <tr style=\"text-align: right;\">\n",
       "      <th></th>\n",
       "      <th>age</th>\n",
       "      <th>job</th>\n",
       "      <th>marital</th>\n",
       "      <th>education</th>\n",
       "      <th>default</th>\n",
       "      <th>balance</th>\n",
       "      <th>housing</th>\n",
       "      <th>loan</th>\n",
       "      <th>contact</th>\n",
       "      <th>day</th>\n",
       "      <th>month</th>\n",
       "      <th>duration</th>\n",
       "      <th>campaign</th>\n",
       "      <th>pdays</th>\n",
       "      <th>previous</th>\n",
       "      <th>poutcome</th>\n",
       "    </tr>\n",
       "  </thead>\n",
       "  <tbody>\n",
       "    <tr>\n",
       "      <th>0</th>\n",
       "      <td>30</td>\n",
       "      <td>unemployed</td>\n",
       "      <td>married</td>\n",
       "      <td>primary</td>\n",
       "      <td>no</td>\n",
       "      <td>1787</td>\n",
       "      <td>no</td>\n",
       "      <td>no</td>\n",
       "      <td>cellular</td>\n",
       "      <td>19</td>\n",
       "      <td>oct</td>\n",
       "      <td>79</td>\n",
       "      <td>1</td>\n",
       "      <td>-1</td>\n",
       "      <td>0</td>\n",
       "      <td>unknown</td>\n",
       "    </tr>\n",
       "    <tr>\n",
       "      <th>1</th>\n",
       "      <td>33</td>\n",
       "      <td>services</td>\n",
       "      <td>married</td>\n",
       "      <td>secondary</td>\n",
       "      <td>no</td>\n",
       "      <td>4789</td>\n",
       "      <td>yes</td>\n",
       "      <td>yes</td>\n",
       "      <td>cellular</td>\n",
       "      <td>11</td>\n",
       "      <td>may</td>\n",
       "      <td>220</td>\n",
       "      <td>1</td>\n",
       "      <td>339</td>\n",
       "      <td>4</td>\n",
       "      <td>failure</td>\n",
       "    </tr>\n",
       "    <tr>\n",
       "      <th>2</th>\n",
       "      <td>35</td>\n",
       "      <td>management</td>\n",
       "      <td>single</td>\n",
       "      <td>tertiary</td>\n",
       "      <td>no</td>\n",
       "      <td>1350</td>\n",
       "      <td>yes</td>\n",
       "      <td>no</td>\n",
       "      <td>cellular</td>\n",
       "      <td>16</td>\n",
       "      <td>apr</td>\n",
       "      <td>185</td>\n",
       "      <td>1</td>\n",
       "      <td>330</td>\n",
       "      <td>1</td>\n",
       "      <td>failure</td>\n",
       "    </tr>\n",
       "    <tr>\n",
       "      <th>3</th>\n",
       "      <td>30</td>\n",
       "      <td>management</td>\n",
       "      <td>married</td>\n",
       "      <td>tertiary</td>\n",
       "      <td>no</td>\n",
       "      <td>1476</td>\n",
       "      <td>yes</td>\n",
       "      <td>yes</td>\n",
       "      <td>unknown</td>\n",
       "      <td>3</td>\n",
       "      <td>jun</td>\n",
       "      <td>199</td>\n",
       "      <td>4</td>\n",
       "      <td>-1</td>\n",
       "      <td>0</td>\n",
       "      <td>unknown</td>\n",
       "    </tr>\n",
       "    <tr>\n",
       "      <th>4</th>\n",
       "      <td>59</td>\n",
       "      <td>blue-collar</td>\n",
       "      <td>married</td>\n",
       "      <td>secondary</td>\n",
       "      <td>no</td>\n",
       "      <td>0</td>\n",
       "      <td>yes</td>\n",
       "      <td>no</td>\n",
       "      <td>unknown</td>\n",
       "      <td>5</td>\n",
       "      <td>may</td>\n",
       "      <td>226</td>\n",
       "      <td>1</td>\n",
       "      <td>-1</td>\n",
       "      <td>0</td>\n",
       "      <td>unknown</td>\n",
       "    </tr>\n",
       "    <tr>\n",
       "      <th>...</th>\n",
       "      <td>...</td>\n",
       "      <td>...</td>\n",
       "      <td>...</td>\n",
       "      <td>...</td>\n",
       "      <td>...</td>\n",
       "      <td>...</td>\n",
       "      <td>...</td>\n",
       "      <td>...</td>\n",
       "      <td>...</td>\n",
       "      <td>...</td>\n",
       "      <td>...</td>\n",
       "      <td>...</td>\n",
       "      <td>...</td>\n",
       "      <td>...</td>\n",
       "      <td>...</td>\n",
       "      <td>...</td>\n",
       "    </tr>\n",
       "    <tr>\n",
       "      <th>4516</th>\n",
       "      <td>33</td>\n",
       "      <td>services</td>\n",
       "      <td>married</td>\n",
       "      <td>secondary</td>\n",
       "      <td>no</td>\n",
       "      <td>-333</td>\n",
       "      <td>yes</td>\n",
       "      <td>no</td>\n",
       "      <td>cellular</td>\n",
       "      <td>30</td>\n",
       "      <td>jul</td>\n",
       "      <td>329</td>\n",
       "      <td>5</td>\n",
       "      <td>-1</td>\n",
       "      <td>0</td>\n",
       "      <td>unknown</td>\n",
       "    </tr>\n",
       "    <tr>\n",
       "      <th>4517</th>\n",
       "      <td>57</td>\n",
       "      <td>self-employed</td>\n",
       "      <td>married</td>\n",
       "      <td>tertiary</td>\n",
       "      <td>yes</td>\n",
       "      <td>-3313</td>\n",
       "      <td>yes</td>\n",
       "      <td>yes</td>\n",
       "      <td>unknown</td>\n",
       "      <td>9</td>\n",
       "      <td>may</td>\n",
       "      <td>153</td>\n",
       "      <td>1</td>\n",
       "      <td>-1</td>\n",
       "      <td>0</td>\n",
       "      <td>unknown</td>\n",
       "    </tr>\n",
       "    <tr>\n",
       "      <th>4518</th>\n",
       "      <td>57</td>\n",
       "      <td>technician</td>\n",
       "      <td>married</td>\n",
       "      <td>secondary</td>\n",
       "      <td>no</td>\n",
       "      <td>295</td>\n",
       "      <td>no</td>\n",
       "      <td>no</td>\n",
       "      <td>cellular</td>\n",
       "      <td>19</td>\n",
       "      <td>aug</td>\n",
       "      <td>151</td>\n",
       "      <td>11</td>\n",
       "      <td>-1</td>\n",
       "      <td>0</td>\n",
       "      <td>unknown</td>\n",
       "    </tr>\n",
       "    <tr>\n",
       "      <th>4519</th>\n",
       "      <td>28</td>\n",
       "      <td>blue-collar</td>\n",
       "      <td>married</td>\n",
       "      <td>secondary</td>\n",
       "      <td>no</td>\n",
       "      <td>1137</td>\n",
       "      <td>no</td>\n",
       "      <td>no</td>\n",
       "      <td>cellular</td>\n",
       "      <td>6</td>\n",
       "      <td>feb</td>\n",
       "      <td>129</td>\n",
       "      <td>4</td>\n",
       "      <td>211</td>\n",
       "      <td>3</td>\n",
       "      <td>other</td>\n",
       "    </tr>\n",
       "    <tr>\n",
       "      <th>4520</th>\n",
       "      <td>44</td>\n",
       "      <td>entrepreneur</td>\n",
       "      <td>single</td>\n",
       "      <td>tertiary</td>\n",
       "      <td>no</td>\n",
       "      <td>1136</td>\n",
       "      <td>yes</td>\n",
       "      <td>yes</td>\n",
       "      <td>cellular</td>\n",
       "      <td>3</td>\n",
       "      <td>apr</td>\n",
       "      <td>345</td>\n",
       "      <td>2</td>\n",
       "      <td>249</td>\n",
       "      <td>7</td>\n",
       "      <td>other</td>\n",
       "    </tr>\n",
       "  </tbody>\n",
       "</table>\n",
       "<p>4521 rows × 16 columns</p>\n",
       "</div>"
      ],
      "text/plain": [
       "      age            job  marital  education default  balance housing loan  \\\n",
       "0      30     unemployed  married    primary      no     1787      no   no   \n",
       "1      33       services  married  secondary      no     4789     yes  yes   \n",
       "2      35     management   single   tertiary      no     1350     yes   no   \n",
       "3      30     management  married   tertiary      no     1476     yes  yes   \n",
       "4      59    blue-collar  married  secondary      no        0     yes   no   \n",
       "...   ...            ...      ...        ...     ...      ...     ...  ...   \n",
       "4516   33       services  married  secondary      no     -333     yes   no   \n",
       "4517   57  self-employed  married   tertiary     yes    -3313     yes  yes   \n",
       "4518   57     technician  married  secondary      no      295      no   no   \n",
       "4519   28    blue-collar  married  secondary      no     1137      no   no   \n",
       "4520   44   entrepreneur   single   tertiary      no     1136     yes  yes   \n",
       "\n",
       "       contact  day month  duration  campaign  pdays  previous poutcome  \n",
       "0     cellular   19   oct        79         1     -1         0  unknown  \n",
       "1     cellular   11   may       220         1    339         4  failure  \n",
       "2     cellular   16   apr       185         1    330         1  failure  \n",
       "3      unknown    3   jun       199         4     -1         0  unknown  \n",
       "4      unknown    5   may       226         1     -1         0  unknown  \n",
       "...        ...  ...   ...       ...       ...    ...       ...      ...  \n",
       "4516  cellular   30   jul       329         5     -1         0  unknown  \n",
       "4517   unknown    9   may       153         1     -1         0  unknown  \n",
       "4518  cellular   19   aug       151        11     -1         0  unknown  \n",
       "4519  cellular    6   feb       129         4    211         3    other  \n",
       "4520  cellular    3   apr       345         2    249         7    other  \n",
       "\n",
       "[4521 rows x 16 columns]"
      ]
     },
     "execution_count": 6,
     "metadata": {},
     "output_type": "execute_result"
    }
   ],
   "source": [
    "X"
   ]
  },
  {
   "cell_type": "code",
   "execution_count": 7,
   "id": "ef85b1a4-e958-442d-ae1b-38a84c7ef6f6",
   "metadata": {},
   "outputs": [
    {
     "data": {
      "text/plain": [
       "0       no\n",
       "1       no\n",
       "2       no\n",
       "3       no\n",
       "4       no\n",
       "        ..\n",
       "4516    no\n",
       "4517    no\n",
       "4518    no\n",
       "4519    no\n",
       "4520    no\n",
       "Name: y, Length: 4521, dtype: object"
      ]
     },
     "execution_count": 7,
     "metadata": {},
     "output_type": "execute_result"
    }
   ],
   "source": [
    "y"
   ]
  },
  {
   "cell_type": "code",
   "execution_count": 8,
   "id": "701bae02-ceeb-40dd-953a-4c5370984444",
   "metadata": {},
   "outputs": [],
   "source": [
    "#Getting the categorical column names\n",
    "categorical_columns = X.select_dtypes(include=[\"object\"]).columns"
   ]
  },
  {
   "cell_type": "code",
   "execution_count": 9,
   "id": "b5c11a09-6994-487b-81ec-426d4bfe550d",
   "metadata": {},
   "outputs": [],
   "source": [
    "#Encoding all the categorical variables"
   ]
  },
  {
   "cell_type": "code",
   "execution_count": 10,
   "id": "7326830c-1862-474d-88ed-75d7268565a6",
   "metadata": {},
   "outputs": [
    {
     "data": {
      "text/html": [
       "<div>\n",
       "<style scoped>\n",
       "    .dataframe tbody tr th:only-of-type {\n",
       "        vertical-align: middle;\n",
       "    }\n",
       "\n",
       "    .dataframe tbody tr th {\n",
       "        vertical-align: top;\n",
       "    }\n",
       "\n",
       "    .dataframe thead th {\n",
       "        text-align: right;\n",
       "    }\n",
       "</style>\n",
       "<table border=\"1\" class=\"dataframe\">\n",
       "  <thead>\n",
       "    <tr style=\"text-align: right;\">\n",
       "      <th></th>\n",
       "      <th>age</th>\n",
       "      <th>balance</th>\n",
       "      <th>day</th>\n",
       "      <th>duration</th>\n",
       "      <th>campaign</th>\n",
       "      <th>pdays</th>\n",
       "      <th>previous</th>\n",
       "      <th>job_admin.</th>\n",
       "      <th>job_blue-collar</th>\n",
       "      <th>job_entrepreneur</th>\n",
       "      <th>...</th>\n",
       "      <th>month_jun</th>\n",
       "      <th>month_mar</th>\n",
       "      <th>month_may</th>\n",
       "      <th>month_nov</th>\n",
       "      <th>month_oct</th>\n",
       "      <th>month_sep</th>\n",
       "      <th>poutcome_failure</th>\n",
       "      <th>poutcome_other</th>\n",
       "      <th>poutcome_success</th>\n",
       "      <th>poutcome_unknown</th>\n",
       "    </tr>\n",
       "  </thead>\n",
       "  <tbody>\n",
       "    <tr>\n",
       "      <th>0</th>\n",
       "      <td>30</td>\n",
       "      <td>1787</td>\n",
       "      <td>19</td>\n",
       "      <td>79</td>\n",
       "      <td>1</td>\n",
       "      <td>-1</td>\n",
       "      <td>0</td>\n",
       "      <td>0.0</td>\n",
       "      <td>0.0</td>\n",
       "      <td>0.0</td>\n",
       "      <td>...</td>\n",
       "      <td>0.0</td>\n",
       "      <td>0.0</td>\n",
       "      <td>0.0</td>\n",
       "      <td>0.0</td>\n",
       "      <td>1.0</td>\n",
       "      <td>0.0</td>\n",
       "      <td>0.0</td>\n",
       "      <td>0.0</td>\n",
       "      <td>0.0</td>\n",
       "      <td>1.0</td>\n",
       "    </tr>\n",
       "    <tr>\n",
       "      <th>1</th>\n",
       "      <td>33</td>\n",
       "      <td>4789</td>\n",
       "      <td>11</td>\n",
       "      <td>220</td>\n",
       "      <td>1</td>\n",
       "      <td>339</td>\n",
       "      <td>4</td>\n",
       "      <td>0.0</td>\n",
       "      <td>0.0</td>\n",
       "      <td>0.0</td>\n",
       "      <td>...</td>\n",
       "      <td>0.0</td>\n",
       "      <td>0.0</td>\n",
       "      <td>1.0</td>\n",
       "      <td>0.0</td>\n",
       "      <td>0.0</td>\n",
       "      <td>0.0</td>\n",
       "      <td>1.0</td>\n",
       "      <td>0.0</td>\n",
       "      <td>0.0</td>\n",
       "      <td>0.0</td>\n",
       "    </tr>\n",
       "    <tr>\n",
       "      <th>2</th>\n",
       "      <td>35</td>\n",
       "      <td>1350</td>\n",
       "      <td>16</td>\n",
       "      <td>185</td>\n",
       "      <td>1</td>\n",
       "      <td>330</td>\n",
       "      <td>1</td>\n",
       "      <td>0.0</td>\n",
       "      <td>0.0</td>\n",
       "      <td>0.0</td>\n",
       "      <td>...</td>\n",
       "      <td>0.0</td>\n",
       "      <td>0.0</td>\n",
       "      <td>0.0</td>\n",
       "      <td>0.0</td>\n",
       "      <td>0.0</td>\n",
       "      <td>0.0</td>\n",
       "      <td>1.0</td>\n",
       "      <td>0.0</td>\n",
       "      <td>0.0</td>\n",
       "      <td>0.0</td>\n",
       "    </tr>\n",
       "    <tr>\n",
       "      <th>3</th>\n",
       "      <td>30</td>\n",
       "      <td>1476</td>\n",
       "      <td>3</td>\n",
       "      <td>199</td>\n",
       "      <td>4</td>\n",
       "      <td>-1</td>\n",
       "      <td>0</td>\n",
       "      <td>0.0</td>\n",
       "      <td>0.0</td>\n",
       "      <td>0.0</td>\n",
       "      <td>...</td>\n",
       "      <td>1.0</td>\n",
       "      <td>0.0</td>\n",
       "      <td>0.0</td>\n",
       "      <td>0.0</td>\n",
       "      <td>0.0</td>\n",
       "      <td>0.0</td>\n",
       "      <td>0.0</td>\n",
       "      <td>0.0</td>\n",
       "      <td>0.0</td>\n",
       "      <td>1.0</td>\n",
       "    </tr>\n",
       "    <tr>\n",
       "      <th>4</th>\n",
       "      <td>59</td>\n",
       "      <td>0</td>\n",
       "      <td>5</td>\n",
       "      <td>226</td>\n",
       "      <td>1</td>\n",
       "      <td>-1</td>\n",
       "      <td>0</td>\n",
       "      <td>0.0</td>\n",
       "      <td>1.0</td>\n",
       "      <td>0.0</td>\n",
       "      <td>...</td>\n",
       "      <td>0.0</td>\n",
       "      <td>0.0</td>\n",
       "      <td>1.0</td>\n",
       "      <td>0.0</td>\n",
       "      <td>0.0</td>\n",
       "      <td>0.0</td>\n",
       "      <td>0.0</td>\n",
       "      <td>0.0</td>\n",
       "      <td>0.0</td>\n",
       "      <td>1.0</td>\n",
       "    </tr>\n",
       "  </tbody>\n",
       "</table>\n",
       "<p>5 rows × 51 columns</p>\n",
       "</div>"
      ],
      "text/plain": [
       "   age  balance  day  duration  campaign  pdays  previous  job_admin.  \\\n",
       "0   30     1787   19        79         1     -1         0         0.0   \n",
       "1   33     4789   11       220         1    339         4         0.0   \n",
       "2   35     1350   16       185         1    330         1         0.0   \n",
       "3   30     1476    3       199         4     -1         0         0.0   \n",
       "4   59        0    5       226         1     -1         0         0.0   \n",
       "\n",
       "   job_blue-collar  job_entrepreneur  ...  month_jun  month_mar  month_may  \\\n",
       "0              0.0               0.0  ...        0.0        0.0        0.0   \n",
       "1              0.0               0.0  ...        0.0        0.0        1.0   \n",
       "2              0.0               0.0  ...        0.0        0.0        0.0   \n",
       "3              0.0               0.0  ...        1.0        0.0        0.0   \n",
       "4              1.0               0.0  ...        0.0        0.0        1.0   \n",
       "\n",
       "   month_nov  month_oct  month_sep  poutcome_failure  poutcome_other  \\\n",
       "0        0.0        1.0        0.0               0.0             0.0   \n",
       "1        0.0        0.0        0.0               1.0             0.0   \n",
       "2        0.0        0.0        0.0               1.0             0.0   \n",
       "3        0.0        0.0        0.0               0.0             0.0   \n",
       "4        0.0        0.0        0.0               0.0             0.0   \n",
       "\n",
       "   poutcome_success  poutcome_unknown  \n",
       "0               0.0               1.0  \n",
       "1               0.0               0.0  \n",
       "2               0.0               0.0  \n",
       "3               0.0               1.0  \n",
       "4               0.0               1.0  \n",
       "\n",
       "[5 rows x 51 columns]"
      ]
     },
     "execution_count": 10,
     "metadata": {},
     "output_type": "execute_result"
    }
   ],
   "source": [
    "ohe = OneHotEncoder()\n",
    "ohe_columns = ohe.fit_transform(X[categorical_columns])\n",
    "X[ohe.get_feature_names_out(categorical_columns)] = ohe_columns.toarray()\n",
    "X.drop(categorical_columns,inplace=True,axis=1)\n",
    "X.head()"
   ]
  },
  {
   "cell_type": "code",
   "execution_count": 11,
   "id": "f58ace52-a3c9-4252-8e55-55c0c983e500",
   "metadata": {},
   "outputs": [],
   "source": [
    "#Scaling all the features\n",
    "scaler = StandardScaler()\n",
    "scaled_data_array=scaler.fit_transform(X)\n",
    "X_transformed = pd.DataFrame(scaled_data_array,columns=X.columns)"
   ]
  },
  {
   "cell_type": "code",
   "execution_count": 12,
   "id": "7024ac75-fca3-4dc7-be00-d90f77b4a041",
   "metadata": {},
   "outputs": [
    {
     "data": {
      "text/html": [
       "<div>\n",
       "<style scoped>\n",
       "    .dataframe tbody tr th:only-of-type {\n",
       "        vertical-align: middle;\n",
       "    }\n",
       "\n",
       "    .dataframe tbody tr th {\n",
       "        vertical-align: top;\n",
       "    }\n",
       "\n",
       "    .dataframe thead th {\n",
       "        text-align: right;\n",
       "    }\n",
       "</style>\n",
       "<table border=\"1\" class=\"dataframe\">\n",
       "  <thead>\n",
       "    <tr style=\"text-align: right;\">\n",
       "      <th></th>\n",
       "      <th>age</th>\n",
       "      <th>balance</th>\n",
       "      <th>day</th>\n",
       "      <th>duration</th>\n",
       "      <th>campaign</th>\n",
       "      <th>pdays</th>\n",
       "      <th>previous</th>\n",
       "      <th>job_admin.</th>\n",
       "      <th>job_blue-collar</th>\n",
       "      <th>job_entrepreneur</th>\n",
       "      <th>...</th>\n",
       "      <th>month_jun</th>\n",
       "      <th>month_mar</th>\n",
       "      <th>month_may</th>\n",
       "      <th>month_nov</th>\n",
       "      <th>month_oct</th>\n",
       "      <th>month_sep</th>\n",
       "      <th>poutcome_failure</th>\n",
       "      <th>poutcome_other</th>\n",
       "      <th>poutcome_success</th>\n",
       "      <th>poutcome_unknown</th>\n",
       "    </tr>\n",
       "  </thead>\n",
       "  <tbody>\n",
       "    <tr>\n",
       "      <th>0</th>\n",
       "      <td>-1.056270</td>\n",
       "      <td>0.121072</td>\n",
       "      <td>0.374052</td>\n",
       "      <td>-0.711861</td>\n",
       "      <td>-0.576829</td>\n",
       "      <td>-0.407218</td>\n",
       "      <td>-0.320413</td>\n",
       "      <td>-0.343844</td>\n",
       "      <td>-0.514408</td>\n",
       "      <td>-0.196454</td>\n",
       "      <td>...</td>\n",
       "      <td>-0.364805</td>\n",
       "      <td>-0.104676</td>\n",
       "      <td>-0.669064</td>\n",
       "      <td>-0.306828</td>\n",
       "      <td>7.450671</td>\n",
       "      <td>-0.107869</td>\n",
       "      <td>-0.348652</td>\n",
       "      <td>-0.213447</td>\n",
       "      <td>-0.171381</td>\n",
       "      <td>0.469300</td>\n",
       "    </tr>\n",
       "    <tr>\n",
       "      <th>1</th>\n",
       "      <td>-0.772583</td>\n",
       "      <td>1.118644</td>\n",
       "      <td>-0.596026</td>\n",
       "      <td>-0.169194</td>\n",
       "      <td>-0.576829</td>\n",
       "      <td>2.989044</td>\n",
       "      <td>2.041734</td>\n",
       "      <td>-0.343844</td>\n",
       "      <td>-0.514408</td>\n",
       "      <td>-0.196454</td>\n",
       "      <td>...</td>\n",
       "      <td>-0.364805</td>\n",
       "      <td>-0.104676</td>\n",
       "      <td>1.494626</td>\n",
       "      <td>-0.306828</td>\n",
       "      <td>-0.134216</td>\n",
       "      <td>-0.107869</td>\n",
       "      <td>2.868193</td>\n",
       "      <td>-0.213447</td>\n",
       "      <td>-0.171381</td>\n",
       "      <td>-2.130831</td>\n",
       "    </tr>\n",
       "    <tr>\n",
       "      <th>2</th>\n",
       "      <td>-0.583458</td>\n",
       "      <td>-0.024144</td>\n",
       "      <td>0.010273</td>\n",
       "      <td>-0.303898</td>\n",
       "      <td>-0.576829</td>\n",
       "      <td>2.899143</td>\n",
       "      <td>0.270124</td>\n",
       "      <td>-0.343844</td>\n",
       "      <td>-0.514408</td>\n",
       "      <td>-0.196454</td>\n",
       "      <td>...</td>\n",
       "      <td>-0.364805</td>\n",
       "      <td>-0.104676</td>\n",
       "      <td>-0.669064</td>\n",
       "      <td>-0.306828</td>\n",
       "      <td>-0.134216</td>\n",
       "      <td>-0.107869</td>\n",
       "      <td>2.868193</td>\n",
       "      <td>-0.213447</td>\n",
       "      <td>-0.171381</td>\n",
       "      <td>-2.130831</td>\n",
       "    </tr>\n",
       "    <tr>\n",
       "      <th>3</th>\n",
       "      <td>-1.056270</td>\n",
       "      <td>0.017726</td>\n",
       "      <td>-1.566105</td>\n",
       "      <td>-0.250017</td>\n",
       "      <td>0.387967</td>\n",
       "      <td>-0.407218</td>\n",
       "      <td>-0.320413</td>\n",
       "      <td>-0.343844</td>\n",
       "      <td>-0.514408</td>\n",
       "      <td>-0.196454</td>\n",
       "      <td>...</td>\n",
       "      <td>2.741190</td>\n",
       "      <td>-0.104676</td>\n",
       "      <td>-0.669064</td>\n",
       "      <td>-0.306828</td>\n",
       "      <td>-0.134216</td>\n",
       "      <td>-0.107869</td>\n",
       "      <td>-0.348652</td>\n",
       "      <td>-0.213447</td>\n",
       "      <td>-0.171381</td>\n",
       "      <td>0.469300</td>\n",
       "    </tr>\n",
       "    <tr>\n",
       "      <th>4</th>\n",
       "      <td>1.686036</td>\n",
       "      <td>-0.472753</td>\n",
       "      <td>-1.323585</td>\n",
       "      <td>-0.146102</td>\n",
       "      <td>-0.576829</td>\n",
       "      <td>-0.407218</td>\n",
       "      <td>-0.320413</td>\n",
       "      <td>-0.343844</td>\n",
       "      <td>1.943983</td>\n",
       "      <td>-0.196454</td>\n",
       "      <td>...</td>\n",
       "      <td>-0.364805</td>\n",
       "      <td>-0.104676</td>\n",
       "      <td>1.494626</td>\n",
       "      <td>-0.306828</td>\n",
       "      <td>-0.134216</td>\n",
       "      <td>-0.107869</td>\n",
       "      <td>-0.348652</td>\n",
       "      <td>-0.213447</td>\n",
       "      <td>-0.171381</td>\n",
       "      <td>0.469300</td>\n",
       "    </tr>\n",
       "    <tr>\n",
       "      <th>...</th>\n",
       "      <td>...</td>\n",
       "      <td>...</td>\n",
       "      <td>...</td>\n",
       "      <td>...</td>\n",
       "      <td>...</td>\n",
       "      <td>...</td>\n",
       "      <td>...</td>\n",
       "      <td>...</td>\n",
       "      <td>...</td>\n",
       "      <td>...</td>\n",
       "      <td>...</td>\n",
       "      <td>...</td>\n",
       "      <td>...</td>\n",
       "      <td>...</td>\n",
       "      <td>...</td>\n",
       "      <td>...</td>\n",
       "      <td>...</td>\n",
       "      <td>...</td>\n",
       "      <td>...</td>\n",
       "      <td>...</td>\n",
       "      <td>...</td>\n",
       "    </tr>\n",
       "    <tr>\n",
       "      <th>4516</th>\n",
       "      <td>-0.772583</td>\n",
       "      <td>-0.583410</td>\n",
       "      <td>1.707910</td>\n",
       "      <td>0.250315</td>\n",
       "      <td>0.709566</td>\n",
       "      <td>-0.407218</td>\n",
       "      <td>-0.320413</td>\n",
       "      <td>-0.343844</td>\n",
       "      <td>-0.514408</td>\n",
       "      <td>-0.196454</td>\n",
       "      <td>...</td>\n",
       "      <td>-0.364805</td>\n",
       "      <td>-0.104676</td>\n",
       "      <td>-0.669064</td>\n",
       "      <td>-0.306828</td>\n",
       "      <td>-0.134216</td>\n",
       "      <td>-0.107869</td>\n",
       "      <td>-0.348652</td>\n",
       "      <td>-0.213447</td>\n",
       "      <td>-0.171381</td>\n",
       "      <td>0.469300</td>\n",
       "    </tr>\n",
       "    <tr>\n",
       "      <th>4517</th>\n",
       "      <td>1.496912</td>\n",
       "      <td>-1.573671</td>\n",
       "      <td>-0.838546</td>\n",
       "      <td>-0.427057</td>\n",
       "      <td>-0.576829</td>\n",
       "      <td>-0.407218</td>\n",
       "      <td>-0.320413</td>\n",
       "      <td>-0.343844</td>\n",
       "      <td>-0.514408</td>\n",
       "      <td>-0.196454</td>\n",
       "      <td>...</td>\n",
       "      <td>-0.364805</td>\n",
       "      <td>-0.104676</td>\n",
       "      <td>1.494626</td>\n",
       "      <td>-0.306828</td>\n",
       "      <td>-0.134216</td>\n",
       "      <td>-0.107869</td>\n",
       "      <td>-0.348652</td>\n",
       "      <td>-0.213447</td>\n",
       "      <td>-0.171381</td>\n",
       "      <td>0.469300</td>\n",
       "    </tr>\n",
       "    <tr>\n",
       "      <th>4518</th>\n",
       "      <td>1.496912</td>\n",
       "      <td>-0.374724</td>\n",
       "      <td>0.374052</td>\n",
       "      <td>-0.434754</td>\n",
       "      <td>2.639160</td>\n",
       "      <td>-0.407218</td>\n",
       "      <td>-0.320413</td>\n",
       "      <td>-0.343844</td>\n",
       "      <td>-0.514408</td>\n",
       "      <td>-0.196454</td>\n",
       "      <td>...</td>\n",
       "      <td>-0.364805</td>\n",
       "      <td>-0.104676</td>\n",
       "      <td>-0.669064</td>\n",
       "      <td>-0.306828</td>\n",
       "      <td>-0.134216</td>\n",
       "      <td>-0.107869</td>\n",
       "      <td>-0.348652</td>\n",
       "      <td>-0.213447</td>\n",
       "      <td>-0.171381</td>\n",
       "      <td>0.469300</td>\n",
       "    </tr>\n",
       "    <tr>\n",
       "      <th>4519</th>\n",
       "      <td>-1.245394</td>\n",
       "      <td>-0.094925</td>\n",
       "      <td>-1.202326</td>\n",
       "      <td>-0.519426</td>\n",
       "      <td>0.387967</td>\n",
       "      <td>1.710451</td>\n",
       "      <td>1.451197</td>\n",
       "      <td>-0.343844</td>\n",
       "      <td>1.943983</td>\n",
       "      <td>-0.196454</td>\n",
       "      <td>...</td>\n",
       "      <td>-0.364805</td>\n",
       "      <td>-0.104676</td>\n",
       "      <td>-0.669064</td>\n",
       "      <td>-0.306828</td>\n",
       "      <td>-0.134216</td>\n",
       "      <td>-0.107869</td>\n",
       "      <td>-0.348652</td>\n",
       "      <td>4.685001</td>\n",
       "      <td>-0.171381</td>\n",
       "      <td>-2.130831</td>\n",
       "    </tr>\n",
       "    <tr>\n",
       "      <th>4520</th>\n",
       "      <td>0.267602</td>\n",
       "      <td>-0.095257</td>\n",
       "      <td>-1.566105</td>\n",
       "      <td>0.311894</td>\n",
       "      <td>-0.255231</td>\n",
       "      <td>2.090033</td>\n",
       "      <td>3.813344</td>\n",
       "      <td>-0.343844</td>\n",
       "      <td>-0.514408</td>\n",
       "      <td>5.090257</td>\n",
       "      <td>...</td>\n",
       "      <td>-0.364805</td>\n",
       "      <td>-0.104676</td>\n",
       "      <td>-0.669064</td>\n",
       "      <td>-0.306828</td>\n",
       "      <td>-0.134216</td>\n",
       "      <td>-0.107869</td>\n",
       "      <td>-0.348652</td>\n",
       "      <td>4.685001</td>\n",
       "      <td>-0.171381</td>\n",
       "      <td>-2.130831</td>\n",
       "    </tr>\n",
       "  </tbody>\n",
       "</table>\n",
       "<p>4521 rows × 51 columns</p>\n",
       "</div>"
      ],
      "text/plain": [
       "           age   balance       day  duration  campaign     pdays  previous  \\\n",
       "0    -1.056270  0.121072  0.374052 -0.711861 -0.576829 -0.407218 -0.320413   \n",
       "1    -0.772583  1.118644 -0.596026 -0.169194 -0.576829  2.989044  2.041734   \n",
       "2    -0.583458 -0.024144  0.010273 -0.303898 -0.576829  2.899143  0.270124   \n",
       "3    -1.056270  0.017726 -1.566105 -0.250017  0.387967 -0.407218 -0.320413   \n",
       "4     1.686036 -0.472753 -1.323585 -0.146102 -0.576829 -0.407218 -0.320413   \n",
       "...        ...       ...       ...       ...       ...       ...       ...   \n",
       "4516 -0.772583 -0.583410  1.707910  0.250315  0.709566 -0.407218 -0.320413   \n",
       "4517  1.496912 -1.573671 -0.838546 -0.427057 -0.576829 -0.407218 -0.320413   \n",
       "4518  1.496912 -0.374724  0.374052 -0.434754  2.639160 -0.407218 -0.320413   \n",
       "4519 -1.245394 -0.094925 -1.202326 -0.519426  0.387967  1.710451  1.451197   \n",
       "4520  0.267602 -0.095257 -1.566105  0.311894 -0.255231  2.090033  3.813344   \n",
       "\n",
       "      job_admin.  job_blue-collar  job_entrepreneur  ...  month_jun  \\\n",
       "0      -0.343844        -0.514408         -0.196454  ...  -0.364805   \n",
       "1      -0.343844        -0.514408         -0.196454  ...  -0.364805   \n",
       "2      -0.343844        -0.514408         -0.196454  ...  -0.364805   \n",
       "3      -0.343844        -0.514408         -0.196454  ...   2.741190   \n",
       "4      -0.343844         1.943983         -0.196454  ...  -0.364805   \n",
       "...          ...              ...               ...  ...        ...   \n",
       "4516   -0.343844        -0.514408         -0.196454  ...  -0.364805   \n",
       "4517   -0.343844        -0.514408         -0.196454  ...  -0.364805   \n",
       "4518   -0.343844        -0.514408         -0.196454  ...  -0.364805   \n",
       "4519   -0.343844         1.943983         -0.196454  ...  -0.364805   \n",
       "4520   -0.343844        -0.514408          5.090257  ...  -0.364805   \n",
       "\n",
       "      month_mar  month_may  month_nov  month_oct  month_sep  poutcome_failure  \\\n",
       "0     -0.104676  -0.669064  -0.306828   7.450671  -0.107869         -0.348652   \n",
       "1     -0.104676   1.494626  -0.306828  -0.134216  -0.107869          2.868193   \n",
       "2     -0.104676  -0.669064  -0.306828  -0.134216  -0.107869          2.868193   \n",
       "3     -0.104676  -0.669064  -0.306828  -0.134216  -0.107869         -0.348652   \n",
       "4     -0.104676   1.494626  -0.306828  -0.134216  -0.107869         -0.348652   \n",
       "...         ...        ...        ...        ...        ...               ...   \n",
       "4516  -0.104676  -0.669064  -0.306828  -0.134216  -0.107869         -0.348652   \n",
       "4517  -0.104676   1.494626  -0.306828  -0.134216  -0.107869         -0.348652   \n",
       "4518  -0.104676  -0.669064  -0.306828  -0.134216  -0.107869         -0.348652   \n",
       "4519  -0.104676  -0.669064  -0.306828  -0.134216  -0.107869         -0.348652   \n",
       "4520  -0.104676  -0.669064  -0.306828  -0.134216  -0.107869         -0.348652   \n",
       "\n",
       "      poutcome_other  poutcome_success  poutcome_unknown  \n",
       "0          -0.213447         -0.171381          0.469300  \n",
       "1          -0.213447         -0.171381         -2.130831  \n",
       "2          -0.213447         -0.171381         -2.130831  \n",
       "3          -0.213447         -0.171381          0.469300  \n",
       "4          -0.213447         -0.171381          0.469300  \n",
       "...              ...               ...               ...  \n",
       "4516       -0.213447         -0.171381          0.469300  \n",
       "4517       -0.213447         -0.171381          0.469300  \n",
       "4518       -0.213447         -0.171381          0.469300  \n",
       "4519        4.685001         -0.171381         -2.130831  \n",
       "4520        4.685001         -0.171381         -2.130831  \n",
       "\n",
       "[4521 rows x 51 columns]"
      ]
     },
     "execution_count": 12,
     "metadata": {},
     "output_type": "execute_result"
    }
   ],
   "source": [
    "X_transformed"
   ]
  },
  {
   "cell_type": "code",
   "execution_count": 13,
   "id": "6872619d-af10-4308-b2f3-d227c229cffc",
   "metadata": {},
   "outputs": [
    {
     "data": {
      "text/plain": [
       "0       0\n",
       "1       0\n",
       "2       0\n",
       "3       0\n",
       "4       0\n",
       "       ..\n",
       "4516    0\n",
       "4517    0\n",
       "4518    0\n",
       "4519    0\n",
       "4520    0\n",
       "Name: y, Length: 4521, dtype: int64"
      ]
     },
     "execution_count": 13,
     "metadata": {},
     "output_type": "execute_result"
    }
   ],
   "source": [
    "#Transforming the target column from categorical to numerical\n",
    "map_dict = {\"no\":0,\"yes\":1}\n",
    "y=y.map(map_dict)\n",
    "y"
   ]
  },
  {
   "cell_type": "code",
   "execution_count": 14,
   "id": "bf7d636d-f7eb-4e3b-bccb-80a768a6e847",
   "metadata": {},
   "outputs": [],
   "source": [
    "#Train Test Split at 70/30\n",
    "xtrain, xtest, ytrain, ytest = train_test_split(X_transformed, y, test_size=0.3)"
   ]
  },
  {
   "cell_type": "code",
   "execution_count": 15,
   "id": "ec46df00-fa3a-48e2-9d91-221a8348eaa9",
   "metadata": {},
   "outputs": [
    {
     "data": {
      "text/plain": [
       "((3164, 51), (1357, 51))"
      ]
     },
     "execution_count": 15,
     "metadata": {},
     "output_type": "execute_result"
    }
   ],
   "source": [
    "xtrain.shape, xtest.shape"
   ]
  },
  {
   "cell_type": "code",
   "execution_count": 16,
   "id": "9f3fc20e-d8f1-4db0-b864-f03ac8833bcb",
   "metadata": {},
   "outputs": [
    {
     "data": {
      "text/plain": [
       "((3164,), (1357,))"
      ]
     },
     "execution_count": 16,
     "metadata": {},
     "output_type": "execute_result"
    }
   ],
   "source": [
    "ytrain.shape, ytest.shape"
   ]
  },
  {
   "cell_type": "code",
   "execution_count": 17,
   "id": "d5d883fb-c64b-4a20-ad12-da230a4f229c",
   "metadata": {},
   "outputs": [],
   "source": [
    "dict_scores = { \n",
    "                \"Decision Tree Classifier\":{\n",
    "                    \"Accuracy Score\":None,\n",
    "                    \"Precision Score\":{0:None,1:None},\n",
    "                    \"Recall Score\":{0:None,1:None},\n",
    "                    \"F1 Score\":{0:None,1:None}\n",
    "                },\n",
    "                \"Random Forest Classifier\":{\n",
    "                    \"Accuracy Score\":None,\n",
    "                    \"Precision Score\":{0:None,1:None},\n",
    "                    \"Recall Score\":{0:None,1:None},\n",
    "                    \"F1 Score\":{0:None,1:None}\n",
    "                },\n",
    "                \"XGBoost\":{\n",
    "                    \"Accuracy Score\":None,\n",
    "                    \"Precision Score\":{0:None,1:None},\n",
    "                    \"Recall Score\":{0:None,1:None},\n",
    "                    \"F1 Score\":{0:None,1:None}\n",
    "                }\n",
    "            }"
   ]
  },
  {
   "cell_type": "code",
   "execution_count": 18,
   "id": "69611380-0aeb-403b-a438-a03deb7021c0",
   "metadata": {},
   "outputs": [],
   "source": [
    "#Decision Tree Classifier"
   ]
  },
  {
   "cell_type": "code",
   "execution_count": 19,
   "id": "2505a268-4b49-4d8f-abf0-f22f5c3fea4c",
   "metadata": {},
   "outputs": [],
   "source": [
    "DTC = DecisionTreeClassifier(criterion=\"entropy\")\n",
    "DTC.fit(xtrain,ytrain)\n",
    "ypred = DTC.predict(xtest)"
   ]
  },
  {
   "cell_type": "code",
   "execution_count": 20,
   "id": "3442c116-7e8a-4283-9364-48701a1a5bcb",
   "metadata": {},
   "outputs": [
    {
     "data": {
      "text/plain": [
       "0.8651436993367723"
      ]
     },
     "execution_count": 20,
     "metadata": {},
     "output_type": "execute_result"
    }
   ],
   "source": [
    "dict_scores[\"Decision Tree Classifier\"][\"Accuracy Score\"]=accuracy_score(y_true=ytest,y_pred=ypred)\n",
    "accuracy_score(y_true=ytest,y_pred=ypred)"
   ]
  },
  {
   "cell_type": "code",
   "execution_count": 21,
   "id": "2397c726-0502-4a11-a80e-accb3fe9c47c",
   "metadata": {},
   "outputs": [
    {
     "data": {
      "text/plain": [
       "(0.9254868755292125, 0.4602272727272727)"
      ]
     },
     "execution_count": 21,
     "metadata": {},
     "output_type": "execute_result"
    }
   ],
   "source": [
    "dict_scores[\"Decision Tree Classifier\"][\"Precision Score\"][0]=precision_score(y_true=ytest,y_pred=ypred,pos_label=0)\n",
    "dict_scores[\"Decision Tree Classifier\"][\"Precision Score\"][1]=precision_score(y_true=ytest,y_pred=ypred,pos_label=1)\n",
    "precision_score(y_true=ytest,y_pred=ypred,pos_label=0),precision_score(y_true=ytest,y_pred=ypred,pos_label=1)"
   ]
  },
  {
   "cell_type": "code",
   "execution_count": 22,
   "id": "c5164d83-7b18-4567-b445-b3cb8b6a4c7f",
   "metadata": {},
   "outputs": [
    {
     "data": {
      "text/plain": [
       "(0.92003367003367, 0.47928994082840237)"
      ]
     },
     "execution_count": 22,
     "metadata": {},
     "output_type": "execute_result"
    }
   ],
   "source": [
    "dict_scores[\"Decision Tree Classifier\"][\"Recall Score\"][0]=recall_score(y_true=ytest,y_pred=ypred,pos_label=0)\n",
    "dict_scores[\"Decision Tree Classifier\"][\"Recall Score\"][1]=recall_score(y_true=ytest,y_pred=ypred,pos_label=1)\n",
    "recall_score(y_true=ytest,y_pred=ypred,pos_label=0),recall_score(y_true=ytest,y_pred=ypred,pos_label=1)"
   ]
  },
  {
   "cell_type": "code",
   "execution_count": 23,
   "id": "cbae204f-f0bf-4aac-9d2b-27cd1852f51e",
   "metadata": {},
   "outputs": [
    {
     "data": {
      "text/plain": [
       "(0.9227522161249472, 0.46956521739130436)"
      ]
     },
     "execution_count": 23,
     "metadata": {},
     "output_type": "execute_result"
    }
   ],
   "source": [
    "dict_scores[\"Decision Tree Classifier\"][\"F1 Score\"][0]=f1_score(y_true=ytest,y_pred=ypred,pos_label=0)\n",
    "dict_scores[\"Decision Tree Classifier\"][\"F1 Score\"][1]=f1_score(y_true=ytest,y_pred=ypred,pos_label=1)\n",
    "f1_score(y_true=ytest,y_pred=ypred,pos_label=0),f1_score(y_true=ytest,y_pred=ypred,pos_label=1)"
   ]
  },
  {
   "cell_type": "code",
   "execution_count": 24,
   "id": "266006ab-e990-4409-82a4-49ceb0fb7053",
   "metadata": {},
   "outputs": [],
   "source": [
    "#Random Forest Classifier"
   ]
  },
  {
   "cell_type": "code",
   "execution_count": 25,
   "id": "790043d7-dcdf-42a0-bc22-b47720419a34",
   "metadata": {},
   "outputs": [],
   "source": [
    "RFC = RandomForestClassifier(n_estimators=100)\n",
    "RFC.fit(xtrain, ytrain)\n",
    "ypred = RFC.predict(xtest)"
   ]
  },
  {
   "cell_type": "code",
   "execution_count": 26,
   "id": "9feaec7c-dd47-4a3c-91ad-3127bf76e6c2",
   "metadata": {},
   "outputs": [
    {
     "data": {
      "text/plain": [
       "0.8931466470154753"
      ]
     },
     "execution_count": 26,
     "metadata": {},
     "output_type": "execute_result"
    }
   ],
   "source": [
    "dict_scores[\"Random Forest Classifier\"][\"Accuracy Score\"]=accuracy_score(y_true=ytest,y_pred=ypred)\n",
    "accuracy_score(y_true=ytest,y_pred=ypred)"
   ]
  },
  {
   "cell_type": "code",
   "execution_count": 27,
   "id": "73338e5f-164e-4fba-bda3-5873356c5961",
   "metadata": {},
   "outputs": [
    {
     "data": {
      "text/plain": [
       "(0.9033255993812839, 0.6875)"
      ]
     },
     "execution_count": 27,
     "metadata": {},
     "output_type": "execute_result"
    }
   ],
   "source": [
    "dict_scores[\"Random Forest Classifier\"][\"Precision Score\"][0]=precision_score(y_true=ytest,y_pred=ypred,pos_label=0)\n",
    "dict_scores[\"Random Forest Classifier\"][\"Precision Score\"][1]=precision_score(y_true=ytest,y_pred=ypred,pos_label=1)\n",
    "precision_score(y_true=ytest,y_pred=ypred,pos_label=0),precision_score(y_true=ytest,y_pred=ypred,pos_label=1)"
   ]
  },
  {
   "cell_type": "code",
   "execution_count": 28,
   "id": "cff84be3-5af1-488f-84e6-d8a973dcb239",
   "metadata": {},
   "outputs": [
    {
     "data": {
      "text/plain": [
       "(0.9831649831649831, 0.2603550295857988)"
      ]
     },
     "execution_count": 28,
     "metadata": {},
     "output_type": "execute_result"
    }
   ],
   "source": [
    "dict_scores[\"Random Forest Classifier\"][\"Recall Score\"][0]=recall_score(y_true=ytest,y_pred=ypred,pos_label=0)\n",
    "dict_scores[\"Random Forest Classifier\"][\"Recall Score\"][1]=recall_score(y_true=ytest,y_pred=ypred,pos_label=1)\n",
    "recall_score(y_true=ytest,y_pred=ypred,pos_label=0),recall_score(y_true=ytest,y_pred=ypred,pos_label=1)"
   ]
  },
  {
   "cell_type": "code",
   "execution_count": 29,
   "id": "9558d446-0560-43b0-b615-de667001b84b",
   "metadata": {},
   "outputs": [
    {
     "data": {
      "text/plain": [
       "(0.9415558242644095, 0.37768240343347637)"
      ]
     },
     "execution_count": 29,
     "metadata": {},
     "output_type": "execute_result"
    }
   ],
   "source": [
    "dict_scores[\"Random Forest Classifier\"][\"F1 Score\"][0]=f1_score(y_true=ytest,y_pred=ypred,pos_label=0)\n",
    "dict_scores[\"Random Forest Classifier\"][\"F1 Score\"][1]=f1_score(y_true=ytest,y_pred=ypred,pos_label=1)\n",
    "f1_score(y_true=ytest,y_pred=ypred,pos_label=0),f1_score(y_true=ytest,y_pred=ypred,pos_label=1)"
   ]
  },
  {
   "cell_type": "code",
   "execution_count": 30,
   "id": "0d6e5b5e-e5ce-4131-ae1c-fa118c49247b",
   "metadata": {},
   "outputs": [],
   "source": [
    "#XGBoost"
   ]
  },
  {
   "cell_type": "code",
   "execution_count": 31,
   "id": "d2cb886e-6bc2-494e-bee4-5f3495e5806b",
   "metadata": {},
   "outputs": [],
   "source": [
    "xgb = XGBClassifier()\n",
    "xgb.fit(xtrain, ytrain)\n",
    "ypred = xgb.predict(xtest)"
   ]
  },
  {
   "cell_type": "code",
   "execution_count": 32,
   "id": "537e8ad3-3fa7-4a46-9628-97f51dc271ae",
   "metadata": {},
   "outputs": [
    {
     "data": {
      "text/plain": [
       "0.8975681650700074"
      ]
     },
     "execution_count": 32,
     "metadata": {},
     "output_type": "execute_result"
    }
   ],
   "source": [
    "dict_scores[\"XGBoost\"][\"Accuracy Score\"]=accuracy_score(y_true=ytest,y_pred=ypred)\n",
    "accuracy_score(y_true=ytest,y_pred=ypred)"
   ]
  },
  {
   "cell_type": "code",
   "execution_count": 33,
   "id": "72ae7984-201b-4082-9758-fe9d70e40ba8",
   "metadata": {},
   "outputs": [
    {
     "data": {
      "text/plain": [
       "(0.9226430298146656, 0.6293103448275862)"
      ]
     },
     "execution_count": 33,
     "metadata": {},
     "output_type": "execute_result"
    }
   ],
   "source": [
    "dict_scores[\"XGBoost\"][\"Precision Score\"][0]=precision_score(y_true=ytest,y_pred=ypred,pos_label=0)\n",
    "dict_scores[\"XGBoost\"][\"Precision Score\"][1]=precision_score(y_true=ytest,y_pred=ypred,pos_label=1)\n",
    "precision_score(y_true=ytest,y_pred=ypred,pos_label=0),precision_score(y_true=ytest,y_pred=ypred,pos_label=1)"
   ]
  },
  {
   "cell_type": "code",
   "execution_count": 34,
   "id": "a331182d-2c1a-4829-bc77-515b38074e32",
   "metadata": {},
   "outputs": [
    {
     "data": {
      "text/plain": [
       "(0.9638047138047138, 0.4319526627218935)"
      ]
     },
     "execution_count": 34,
     "metadata": {},
     "output_type": "execute_result"
    }
   ],
   "source": [
    "dict_scores[\"XGBoost\"][\"Recall Score\"][0]=recall_score(y_true=ytest,y_pred=ypred,pos_label=0)\n",
    "dict_scores[\"XGBoost\"][\"Recall Score\"][1]=recall_score(y_true=ytest,y_pred=ypred,pos_label=1)\n",
    "recall_score(y_true=ytest,y_pred=ypred,pos_label=0),recall_score(y_true=ytest,y_pred=ypred,pos_label=1)"
   ]
  },
  {
   "cell_type": "code",
   "execution_count": 35,
   "id": "31ea3ae6-b3e9-4d4e-bc24-66aed3654b33",
   "metadata": {},
   "outputs": [
    {
     "data": {
      "text/plain": [
       "(0.9427748044462742, 0.512280701754386)"
      ]
     },
     "execution_count": 35,
     "metadata": {},
     "output_type": "execute_result"
    }
   ],
   "source": [
    "dict_scores[\"XGBoost\"][\"F1 Score\"][0]=f1_score(y_true=ytest,y_pred=ypred,pos_label=0)\n",
    "dict_scores[\"XGBoost\"][\"F1 Score\"][1]=f1_score(y_true=ytest,y_pred=ypred,pos_label=1)\n",
    "f1_score(y_true=ytest,y_pred=ypred,pos_label=0),f1_score(y_true=ytest,y_pred=ypred,pos_label=1)"
   ]
  },
  {
   "cell_type": "code",
   "execution_count": 37,
   "id": "1b28bd28-2561-4632-96c6-62f39b0cf481",
   "metadata": {},
   "outputs": [
    {
     "data": {
      "text/plain": [
       "{'Decision Tree Classifier': {'Accuracy Score': 0.8651436993367723,\n",
       "  'Precision Score': {0: 0.9254868755292125, 1: 0.4602272727272727},\n",
       "  'Recall Score': {0: 0.92003367003367, 1: 0.47928994082840237},\n",
       "  'F1 Score': {0: 0.9227522161249472, 1: 0.46956521739130436}},\n",
       " 'Random Forest Classifier': {'Accuracy Score': 0.8931466470154753,\n",
       "  'Precision Score': {0: 0.9033255993812839, 1: 0.6875},\n",
       "  'Recall Score': {0: 0.9831649831649831, 1: 0.2603550295857988},\n",
       "  'F1 Score': {0: 0.9415558242644095, 1: 0.37768240343347637}},\n",
       " 'XGBoost': {'Accuracy Score': 0.8975681650700074,\n",
       "  'Precision Score': {0: 0.9226430298146656, 1: 0.6293103448275862},\n",
       "  'Recall Score': {0: 0.9638047138047138, 1: 0.4319526627218935},\n",
       "  'F1 Score': {0: 0.9427748044462742, 1: 0.512280701754386}}}"
      ]
     },
     "execution_count": 37,
     "metadata": {},
     "output_type": "execute_result"
    }
   ],
   "source": [
    "dict_scores"
   ]
  },
  {
   "cell_type": "code",
   "execution_count": 73,
   "id": "15b96420-f611-4aa0-8748-7fa38f77b484",
   "metadata": {},
   "outputs": [],
   "source": [
    "#Data is unbalanced"
   ]
  },
  {
   "cell_type": "code",
   "execution_count": 36,
   "id": "2a5838e5-fbe5-4919-85a5-b1825f34aaf0",
   "metadata": {},
   "outputs": [
    {
     "data": {
      "text/plain": [
       "y\n",
       "0    4000\n",
       "1     521\n",
       "Name: count, dtype: int64"
      ]
     },
     "execution_count": 36,
     "metadata": {},
     "output_type": "execute_result"
    }
   ],
   "source": [
    "y.value_counts()"
   ]
  },
  {
   "cell_type": "code",
   "execution_count": 69,
   "id": "098fc49d-fa43-4ef9-9c04-7111a52537fc",
   "metadata": {},
   "outputs": [
    {
     "data": {
      "image/png": "[encoded data removed]",
      "text/plain": [
       "<Figure size 640x480 with 1 Axes>"
      ]
     },
     "metadata": {},
     "output_type": "display_data"
    }
   ],
   "source": [
    "labels=list(dict_scores.keys())\n",
    "values=[dict_scores[x][\"Accuracy Score\"] for x in dict_scores.keys()]\n",
    "ax=sns.barplot(x=labels,y=values,hue=labels)\n",
    "for i in ax.containers:\n",
    "    ax.bar_label(i,)\n",
    "plt.xticks(rotation=45)\n",
    "plt.ylabel(\"Scores\")\n",
    "plt.xlabel(\"Models\")\n",
    "plt.title(\"Accuracy Score comparisons of all Models\")\n",
    "plt.show()"
   ]
  },
  {
   "cell_type": "code",
   "execution_count": 70,
   "id": "6c5b1c95-7385-47f3-a552-c1335be23db5",
   "metadata": {},
   "outputs": [
    {
     "data": {
      "image/png": "[encoded data removed]",
      "text/plain": [
       "<Figure size 640x480 with 1 Axes>"
      ]
     },
     "metadata": {},
     "output_type": "display_data"
    }
   ],
   "source": [
    "labels=list(dict_scores.keys())\n",
    "values=[dict_scores[x][\"Precision Score\"][0] for x in dict_scores.keys()]\n",
    "ax=sns.barplot(x=labels,y=values,hue=labels)\n",
    "for i in ax.containers:\n",
    "    ax.bar_label(i,)\n",
    "plt.xticks(rotation=45)\n",
    "plt.ylabel(\"Scores\")\n",
    "plt.xlabel(\"Models\")\n",
    "plt.title(\"Precision Score comparisons of all Models when pos_label = 0/'no'\")\n",
    "plt.show()"
   ]
  },
  {
   "cell_type": "code",
   "execution_count": 71,
   "id": "0f8b2246-b96d-4a87-99a2-d3928c202cf5",
   "metadata": {},
   "outputs": [
    {
     "data": {
      "image/png": "[encoded data removed]",
      "text/plain": [
       "<Figure size 640x480 with 1 Axes>"
      ]
     },
     "metadata": {},
     "output_type": "display_data"
    }
   ],
   "source": [
    "labels=list(dict_scores.keys())\n",
    "values=[dict_scores[x][\"Precision Score\"][1] for x in dict_scores.keys()]\n",
    "ax=sns.barplot(x=labels,y=values,hue=labels)\n",
    "for i in ax.containers:\n",
    "    ax.bar_label(i,)\n",
    "plt.xticks(rotation=45)\n",
    "plt.ylabel(\"Scores\")\n",
    "plt.xlabel(\"Models\")\n",
    "plt.title(\"Precision Score comparisons of all Models when pos_label = 1/'yes'\")\n",
    "plt.show()"
   ]
  },
  {
   "cell_type": "code",
   "execution_count": 74,
   "id": "bab36b8b-0e11-4d3c-9269-74a44d840de1",
   "metadata": {},
   "outputs": [
    {
     "data": {
      "image/png": "[encoded data removed]",
      "text/plain": [
       "<Figure size 640x480 with 1 Axes>"
      ]
     },
     "metadata": {},
     "output_type": "display_data"
    }
   ],
   "source": [
    "labels=list(dict_scores.keys())\n",
    "values=[dict_scores[x][\"Recall Score\"][0] for x in dict_scores.keys()]\n",
    "ax=sns.barplot(x=labels,y=values,hue=labels)\n",
    "for i in ax.containers:\n",
    "    ax.bar_label(i,)\n",
    "plt.xticks(rotation=45)\n",
    "plt.ylabel(\"Scores\")\n",
    "plt.xlabel(\"Models\")\n",
    "plt.title(\"Recall Score comparisons of all Models when pos_label = 0/'no'\")\n",
    "plt.show()"
   ]
  },
  {
   "cell_type": "code",
   "execution_count": 75,
   "id": "718e18ba-be3b-4fff-902d-f17c282383cc",
   "metadata": {},
   "outputs": [
    {
     "data": {
      "image/png": "[encoded data removed]",
      "text/plain": [
       "<Figure size 640x480 with 1 Axes>"
      ]
     },
     "metadata": {},
     "output_type": "display_data"
    }
   ],
   "source": [
    "labels=list(dict_scores.keys())\n",
    "values=[dict_scores[x][\"Recall Score\"][1] for x in dict_scores.keys()]\n",
    "ax=sns.barplot(x=labels,y=values,hue=labels)\n",
    "for i in ax.containers:\n",
    "    ax.bar_label(i,)\n",
    "plt.xticks(rotation=45)\n",
    "plt.ylabel(\"Scores\")\n",
    "plt.xlabel(\"Models\")\n",
    "plt.title(\"Recall Score comparisons of all Models when pos_label = 1/'yes'\")\n",
    "plt.show()"
   ]
  },
  {
   "cell_type": "code",
   "execution_count": 76,
   "id": "df007237-1094-4d31-a421-55ba319363b2",
   "metadata": {},
   "outputs": [
    {
     "data": {
      "image/png": "[encoded data removed]",
      "text/plain": [
       "<Figure size 640x480 with 1 Axes>"
      ]
     },
     "metadata": {},
     "output_type": "display_data"
    }
   ],
   "source": [
    "labels=list(dict_scores.keys())\n",
    "values=[dict_scores[x][\"F1 Score\"][0] for x in dict_scores.keys()]\n",
    "ax=sns.barplot(x=labels,y=values,hue=labels)\n",
    "for i in ax.containers:\n",
    "    ax.bar_label(i,)\n",
    "plt.xticks(rotation=45)\n",
    "plt.ylabel(\"Scores\")\n",
    "plt.xlabel(\"Models\")\n",
    "plt.title(\"F1 Score comparisons of all Models when pos_label = 0/'no'\")\n",
    "plt.show()"
   ]
  },
  {
   "cell_type": "code",
   "execution_count": 77,
   "id": "9b261c48-1611-4d32-95bb-956625f82960",
   "metadata": {},
   "outputs": [
    {
     "data": {
      "image/png": "[encoded data removed]",
      "text/plain": [
       "<Figure size 640x480 with 1 Axes>"
      ]
     },
     "metadata": {},
     "output_type": "display_data"
    }
   ],
   "source": [
    "labels=list(dict_scores.keys())\n",
    "values=[dict_scores[x][\"F1 Score\"][1] for x in dict_scores.keys()]\n",
    "ax=sns.barplot(x=labels,y=values,hue=labels)\n",
    "for i in ax.containers:\n",
    "    ax.bar_label(i,)\n",
    "plt.xticks(rotation=45)\n",
    "plt.ylabel(\"Scores\")\n",
    "plt.xlabel(\"Models\")\n",
    "plt.title(\"F1 Score comparisons of all Models when pos_label = 1/'yes'\")\n",
    "plt.show()"
   ]
  },
  {
   "cell_type": "markdown",
   "id": "c66b7149-50b0-4935-b464-ef102a305ffb",
   "metadata": {},
   "source": [
    "1. The dataset is heavily unbalanced with most data point values for the target column being 0/'no' compared to 1/'yes'.\n",
    "\n",
    "2. The scores for the metrics precision,recall and f1 score are much higher when pos_label is 0 than when pos_label is 1.\n",
    "\n",
    "3. The model scores are pretty close for all the metrics tested when pos_label is 0.\n",
    "\n",
    "4. Regardless of whichever model is used, it will be much better at accurately determining when the customer will not subscribe to a term deposit.\n",
    "\n",
    "5. If it predicts 'no'/0 for a particular input, then that input to the model should be further checked manually, instead of directly assigning it a 'yes'/1."
   ]
  }
 ],
 "metadata": {
  "kernelspec": {
   "display_name": "Python 3 (ipykernel)",
   "language": "python",
   "name": "python3"
  },
  "language_info": {
   "codemirror_mode": {
    "name": "ipython",
    "version": 3
   },
   "file_extension": ".py",
   "mimetype": "text/x-python",
   "name": "python",
   "nbconvert_exporter": "python",
   "pygments_lexer": "ipython3",
   "version": "3.11.7"
  }
 },
 "nbformat": 4,
 "nbformat_minor": 5
}
