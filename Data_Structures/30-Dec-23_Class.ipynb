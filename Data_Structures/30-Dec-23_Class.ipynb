{
 "cells": [
  {
   "cell_type": "code",
   "execution_count": 2,
   "id": "db9d8769-bc81-496f-afa4-d12c9e640356",
   "metadata": {
    "tags": []
   },
   "outputs": [
    {
     "name": "stdout",
     "output_type": "stream",
     "text": [
      "True\n",
      "False\n"
     ]
    }
   ],
   "source": [
    "str1=\"My country is India.\"\n",
    "print(str1.endswith(\"India.\"))\n",
    "print(str1.endswith(\"Brazil.\"))"
   ]
  },
  {
   "cell_type": "code",
   "execution_count": 3,
   "id": "22e45350-c35d-487d-8d1c-1d1785183a51",
   "metadata": {
    "tags": []
   },
   "outputs": [
    {
     "name": "stdout",
     "output_type": "stream",
     "text": [
      "My country is Brazil.\n"
     ]
    }
   ],
   "source": [
    "print(str1.replace(\"India\",\"Brazil\"))"
   ]
  },
  {
   "cell_type": "code",
   "execution_count": 4,
   "id": "8b81549c-57f8-4e92-a437-12b7235656a1",
   "metadata": {
    "tags": []
   },
   "outputs": [
    {
     "name": "stdout",
     "output_type": "stream",
     "text": [
      "['My', 'country', 'is', 'India.']\n"
     ]
    }
   ],
   "source": [
    "print(str1.split(\" \"))"
   ]
  },
  {
   "cell_type": "code",
   "execution_count": 7,
   "id": "b0a027fe-ec82-452f-bddb-825b41f6d44f",
   "metadata": {
    "tags": []
   },
   "outputs": [
    {
     "name": "stdout",
     "output_type": "stream",
     "text": [
      "['Apple', 'Banana', 'Cherry', 'Watermelon', 'Orange']\n",
      "['Apple,Banana,Cherry,Watermelon,Orange']\n",
      "<class 'list'>\n"
     ]
    }
   ],
   "source": [
    "str1=\"Apple,Banana,Cherry,Watermelon,Orange\"\n",
    "print(str1.split(\",\"))\n",
    "print(str1.split(\" \"))\n",
    "print(type(str1.split(\",\")))"
   ]
  },
  {
   "cell_type": "markdown",
   "id": "64b72bed-229a-4983-87b2-806cf9593576",
   "metadata": {
    "tags": []
   },
   "source": [
    "## Arrays"
   ]
  },
  {
   "cell_type": "code",
   "execution_count": 12,
   "id": "37c57013-34dc-401a-9c76-07243a1f52e6",
   "metadata": {
    "tags": []
   },
   "outputs": [
    {
     "name": "stdout",
     "output_type": "stream",
     "text": [
      "[1 2 3 4 5] <class 'numpy.ndarray'>\n"
     ]
    }
   ],
   "source": [
    "import numpy as np\n",
    "arr=np.array([1,2,3,4,5])\n",
    "print(arr,type(arr))"
   ]
  },
  {
   "cell_type": "code",
   "execution_count": 14,
   "id": "942b8f30-1915-4abf-b0a0-10830cbd1576",
   "metadata": {
    "tags": []
   },
   "outputs": [
    {
     "name": "stdout",
     "output_type": "stream",
     "text": [
      "1 2 3 4 5\n"
     ]
    }
   ],
   "source": [
    "n1,n2,n3,n4,n5=1,2,3,4,5\n",
    "print(n1,n2,n3,n4,n5) \n",
    "#Arrays allowus to store multiplevalues in the same variable"
   ]
  },
  {
   "cell_type": "code",
   "execution_count": 16,
   "id": "403f2dad-3837-48a4-8ef8-20ad4e9f55cb",
   "metadata": {
    "tags": []
   },
   "outputs": [
    {
     "name": "stdout",
     "output_type": "stream",
     "text": [
      "1 2 3 4 5\n"
     ]
    }
   ],
   "source": [
    "print(arr[0],arr[1],arr[2],arr[3],arr[4])"
   ]
  },
  {
   "cell_type": "code",
   "execution_count": 1,
   "id": "69405dad-c47e-48fb-8c07-17945333943b",
   "metadata": {
    "tags": []
   },
   "outputs": [],
   "source": [
    "#Arrays are homogeneous datatypes unlike List -only Same datatypes allowed in one array\n",
    "#Lists are heterogeneous datatypes - multiple different datatypes allowed in same list\n",
    "#Arrays provide a huge performance advantage compared to lists when we have to manipulate large amounts of numeric data"
   ]
  },
  {
   "cell_type": "markdown",
   "id": "2bede8e8-c20d-4ef8-b447-3572bf9682d2",
   "metadata": {},
   "source": [
    "## Lists"
   ]
  },
  {
   "cell_type": "code",
   "execution_count": 25,
   "id": "61331d33-8974-47b7-8df9-ef6a503287b4",
   "metadata": {
    "tags": []
   },
   "outputs": [
    {
     "name": "stdout",
     "output_type": "stream",
     "text": [
      "['apple', 'orange', 'banana', 12, 13, 14]\n"
     ]
    }
   ],
   "source": [
    "#Lists are ordered,changeble/mutable and allows duplicates.\n",
    "list1=[\"apple\",\"orange\",\"banana\",12,13,14]\n",
    "print(list1)"
   ]
  },
  {
   "cell_type": "code",
   "execution_count": 21,
   "id": "7f339d4f-3a43-43af-bc31-606bf9dc1bf2",
   "metadata": {
    "tags": []
   },
   "outputs": [
    {
     "name": "stdout",
     "output_type": "stream",
     "text": [
      "apple\n",
      "orange\n",
      "banana\n",
      "12\n",
      "13\n",
      "14\n"
     ]
    }
   ],
   "source": [
    "print(list1[0])\n",
    "print(list1[1])\n",
    "print(list1[2])\n",
    "print(list1[3])\n",
    "print(list1[4])\n",
    "print(list1[5])"
   ]
  },
  {
   "cell_type": "code",
   "execution_count": 23,
   "id": "fe52ebe8-022e-4cdd-88be-46ea4de3248f",
   "metadata": {
    "tags": []
   },
   "outputs": [
    {
     "name": "stdout",
     "output_type": "stream",
     "text": [
      "['apple', 'cherry', 'banana', 12, 13, 14]\n"
     ]
    }
   ],
   "source": [
    "list1[1]=\"cherry\"\n",
    "print(list1)"
   ]
  },
  {
   "cell_type": "code",
   "execution_count": 28,
   "id": "82879da4-a248-409d-a6d8-feddfb173f54",
   "metadata": {
    "tags": []
   },
   "outputs": [
    {
     "ename": "TypeError",
     "evalue": "'str' object does not support item assignment",
     "output_type": "error",
     "traceback": [
      "\u001b[1;31m---------------------------------------------------------------------------\u001b[0m",
      "\u001b[1;31mTypeError\u001b[0m                                 Traceback (most recent call last)",
      "Cell \u001b[1;32mIn[28], line 2\u001b[0m\n\u001b[0;32m      1\u001b[0m str1\u001b[38;5;241m=\u001b[39m\u001b[38;5;124m\"\u001b[39m\u001b[38;5;124mMainak\u001b[39m\u001b[38;5;124m\"\u001b[39m\n\u001b[1;32m----> 2\u001b[0m str1[\u001b[38;5;241m0\u001b[39m]\u001b[38;5;241m=\u001b[39m\u001b[38;5;124m'\u001b[39m\u001b[38;5;124mf\u001b[39m\u001b[38;5;124m'\u001b[39m\n",
      "\u001b[1;31mTypeError\u001b[0m: 'str' object does not support item assignment"
     ]
    }
   ],
   "source": [
    "str1=\"Mainak\"\n",
    "str1[0]='f' # Strings are not mutable"
   ]
  },
  {
   "cell_type": "code",
   "execution_count": 30,
   "id": "abdcea8f-dc21-4970-a3f6-64647e62b095",
   "metadata": {
    "tags": []
   },
   "outputs": [
    {
     "name": "stdout",
     "output_type": "stream",
     "text": [
      "fainak\n"
     ]
    }
   ],
   "source": [
    "##Variable overriding\n",
    "str1=str1.replace(\"M\",\"f\")\n",
    "print(str1)"
   ]
  },
  {
   "cell_type": "code",
   "execution_count": null,
   "id": "d95b1f12-ed31-4066-9903-36202e7d2499",
   "metadata": {},
   "outputs": [],
   "source": [
    "#Lists are mutable"
   ]
  },
  {
   "cell_type": "code",
   "execution_count": 36,
   "id": "1819eebe-e190-4914-8e3d-c32a556c1409",
   "metadata": {
    "tags": []
   },
   "outputs": [
    {
     "name": "stdout",
     "output_type": "stream",
     "text": [
      "6\n",
      "8\n"
     ]
    }
   ],
   "source": [
    "print(len(list1))\n",
    "list1=[\"apple\",\"orange\",\"banana\",12,13,14,56,45]\n",
    "print(len(list1))"
   ]
  },
  {
   "cell_type": "code",
   "execution_count": 37,
   "id": "9614bbc2-aef0-40f7-ab58-5d4bb97462a5",
   "metadata": {
    "tags": []
   },
   "outputs": [
    {
     "name": "stdout",
     "output_type": "stream",
     "text": [
      "Help on class list in module builtins:\n",
      "\n",
      "class list(object)\n",
      " |  list(iterable=(), /)\n",
      " |  \n",
      " |  Built-in mutable sequence.\n",
      " |  \n",
      " |  If no argument is given, the constructor creates a new empty list.\n",
      " |  The argument must be an iterable if specified.\n",
      " |  \n",
      " |  Methods defined here:\n",
      " |  \n",
      " |  __add__(self, value, /)\n",
      " |      Return self+value.\n",
      " |  \n",
      " |  __contains__(self, key, /)\n",
      " |      Return key in self.\n",
      " |  \n",
      " |  __delitem__(self, key, /)\n",
      " |      Delete self[key].\n",
      " |  \n",
      " |  __eq__(self, value, /)\n",
      " |      Return self==value.\n",
      " |  \n",
      " |  __ge__(self, value, /)\n",
      " |      Return self>=value.\n",
      " |  \n",
      " |  __getattribute__(self, name, /)\n",
      " |      Return getattr(self, name).\n",
      " |  \n",
      " |  __getitem__(...)\n",
      " |      x.__getitem__(y) <==> x[y]\n",
      " |  \n",
      " |  __gt__(self, value, /)\n",
      " |      Return self>value.\n",
      " |  \n",
      " |  __iadd__(self, value, /)\n",
      " |      Implement self+=value.\n",
      " |  \n",
      " |  __imul__(self, value, /)\n",
      " |      Implement self*=value.\n",
      " |  \n",
      " |  __init__(self, /, *args, **kwargs)\n",
      " |      Initialize self.  See help(type(self)) for accurate signature.\n",
      " |  \n",
      " |  __iter__(self, /)\n",
      " |      Implement iter(self).\n",
      " |  \n",
      " |  __le__(self, value, /)\n",
      " |      Return self<=value.\n",
      " |  \n",
      " |  __len__(self, /)\n",
      " |      Return len(self).\n",
      " |  \n",
      " |  __lt__(self, value, /)\n",
      " |      Return self<value.\n",
      " |  \n",
      " |  __mul__(self, value, /)\n",
      " |      Return self*value.\n",
      " |  \n",
      " |  __ne__(self, value, /)\n",
      " |      Return self!=value.\n",
      " |  \n",
      " |  __repr__(self, /)\n",
      " |      Return repr(self).\n",
      " |  \n",
      " |  __reversed__(self, /)\n",
      " |      Return a reverse iterator over the list.\n",
      " |  \n",
      " |  __rmul__(self, value, /)\n",
      " |      Return value*self.\n",
      " |  \n",
      " |  __setitem__(self, key, value, /)\n",
      " |      Set self[key] to value.\n",
      " |  \n",
      " |  __sizeof__(self, /)\n",
      " |      Return the size of the list in memory, in bytes.\n",
      " |  \n",
      " |  append(self, object, /)\n",
      " |      Append object to the end of the list.\n",
      " |  \n",
      " |  clear(self, /)\n",
      " |      Remove all items from list.\n",
      " |  \n",
      " |  copy(self, /)\n",
      " |      Return a shallow copy of the list.\n",
      " |  \n",
      " |  count(self, value, /)\n",
      " |      Return number of occurrences of value.\n",
      " |  \n",
      " |  extend(self, iterable, /)\n",
      " |      Extend list by appending elements from the iterable.\n",
      " |  \n",
      " |  index(self, value, start=0, stop=9223372036854775807, /)\n",
      " |      Return first index of value.\n",
      " |      \n",
      " |      Raises ValueError if the value is not present.\n",
      " |  \n",
      " |  insert(self, index, object, /)\n",
      " |      Insert object before index.\n",
      " |  \n",
      " |  pop(self, index=-1, /)\n",
      " |      Remove and return item at index (default last).\n",
      " |      \n",
      " |      Raises IndexError if list is empty or index is out of range.\n",
      " |  \n",
      " |  remove(self, value, /)\n",
      " |      Remove first occurrence of value.\n",
      " |      \n",
      " |      Raises ValueError if the value is not present.\n",
      " |  \n",
      " |  reverse(self, /)\n",
      " |      Reverse *IN PLACE*.\n",
      " |  \n",
      " |  sort(self, /, *, key=None, reverse=False)\n",
      " |      Sort the list in ascending order and return None.\n",
      " |      \n",
      " |      The sort is in-place (i.e. the list itself is modified) and stable (i.e. the\n",
      " |      order of two equal elements is maintained).\n",
      " |      \n",
      " |      If a key function is given, apply it once to each list item and sort them,\n",
      " |      ascending or descending, according to their function values.\n",
      " |      \n",
      " |      The reverse flag can be set to sort in descending order.\n",
      " |  \n",
      " |  ----------------------------------------------------------------------\n",
      " |  Class methods defined here:\n",
      " |  \n",
      " |  __class_getitem__(...) from builtins.type\n",
      " |      See PEP 585\n",
      " |  \n",
      " |  ----------------------------------------------------------------------\n",
      " |  Static methods defined here:\n",
      " |  \n",
      " |  __new__(*args, **kwargs) from builtins.type\n",
      " |      Create and return a new object.  See help(type) for accurate signature.\n",
      " |  \n",
      " |  ----------------------------------------------------------------------\n",
      " |  Data and other attributes defined here:\n",
      " |  \n",
      " |  __hash__ = None\n",
      "\n"
     ]
    }
   ],
   "source": [
    "help(type(list1))"
   ]
  },
  {
   "cell_type": "code",
   "execution_count": 38,
   "id": "10d0d3c7-26f3-407b-bcca-44f1bf8c8b1d",
   "metadata": {
    "tags": []
   },
   "outputs": [
    {
     "data": {
      "text/plain": [
       "['__add__',\n",
       " '__class__',\n",
       " '__class_getitem__',\n",
       " '__contains__',\n",
       " '__delattr__',\n",
       " '__delitem__',\n",
       " '__dir__',\n",
       " '__doc__',\n",
       " '__eq__',\n",
       " '__format__',\n",
       " '__ge__',\n",
       " '__getattribute__',\n",
       " '__getitem__',\n",
       " '__getstate__',\n",
       " '__gt__',\n",
       " '__hash__',\n",
       " '__iadd__',\n",
       " '__imul__',\n",
       " '__init__',\n",
       " '__init_subclass__',\n",
       " '__iter__',\n",
       " '__le__',\n",
       " '__len__',\n",
       " '__lt__',\n",
       " '__mul__',\n",
       " '__ne__',\n",
       " '__new__',\n",
       " '__reduce__',\n",
       " '__reduce_ex__',\n",
       " '__repr__',\n",
       " '__reversed__',\n",
       " '__rmul__',\n",
       " '__setattr__',\n",
       " '__setitem__',\n",
       " '__sizeof__',\n",
       " '__str__',\n",
       " '__subclasshook__',\n",
       " 'append',\n",
       " 'clear',\n",
       " 'copy',\n",
       " 'count',\n",
       " 'extend',\n",
       " 'index',\n",
       " 'insert',\n",
       " 'pop',\n",
       " 'remove',\n",
       " 'reverse',\n",
       " 'sort']"
      ]
     },
     "execution_count": 38,
     "metadata": {},
     "output_type": "execute_result"
    }
   ],
   "source": [
    "dir(type(list1))"
   ]
  },
  {
   "cell_type": "code",
   "execution_count": 45,
   "id": "d02557ae-27c3-4e4a-b6d9-42c0e334bb78",
   "metadata": {
    "tags": []
   },
   "outputs": [
    {
     "name": "stdout",
     "output_type": "stream",
     "text": [
      "[-67, 0, 2, 45, 66, 478]\n",
      "[478, 66, 45, 2, 0, -67]\n"
     ]
    }
   ],
   "source": [
    "list1=[45,-67,66,0,478,2]\n",
    "list1.sort()\n",
    "print(list1)\n",
    "list1.sort(reverse=True)\n",
    "print(list1)"
   ]
  },
  {
   "cell_type": "code",
   "execution_count": 41,
   "id": "fc601f9d-aa5c-4c01-aead-f6f699267538",
   "metadata": {
    "tags": []
   },
   "outputs": [
    {
     "name": "stdout",
     "output_type": "stream",
     "text": [
      "[-67, 0, 2, 45, 66, 478, 90]\n"
     ]
    }
   ],
   "source": [
    "list1.append(90)\n",
    "print(list1)"
   ]
  },
  {
   "cell_type": "code",
   "execution_count": 43,
   "id": "adfbfdc3-c18a-4cd5-b201-7622532e4c5d",
   "metadata": {
    "tags": []
   },
   "outputs": [
    {
     "name": "stdout",
     "output_type": "stream",
     "text": [
      "[45, -67, 66, 0, 478, 2, 45, -67, 66, 0, 478, 2]\n"
     ]
    }
   ],
   "source": [
    "list1=[45,-67,66,0,478,2]\n",
    "list1.extend([45,-67,66,0,478,2])\n",
    "print(list1)"
   ]
  },
  {
   "cell_type": "code",
   "execution_count": 47,
   "id": "4e400a31-c37f-4a70-939f-e81d75342138",
   "metadata": {
    "tags": []
   },
   "outputs": [
    {
     "name": "stdout",
     "output_type": "stream",
     "text": [
      "[45, -67, 66, 0, 478, 2, [45, -67, 66, 0, 478, 2]]\n"
     ]
    }
   ],
   "source": [
    "list1=[45,-67,66,0,478,2]\n",
    "list1.append([45,-67,66,0,478,2])\n",
    "print(list1)"
   ]
  },
  {
   "cell_type": "code",
   "execution_count": 49,
   "id": "d7c3640c-e8ee-4baf-b37c-86ac26ffccf1",
   "metadata": {
    "tags": []
   },
   "outputs": [
    {
     "ename": "TypeError",
     "evalue": "'<' not supported between instances of 'list' and 'int'",
     "output_type": "error",
     "traceback": [
      "\u001b[1;31m---------------------------------------------------------------------------\u001b[0m",
      "\u001b[1;31mTypeError\u001b[0m                                 Traceback (most recent call last)",
      "Cell \u001b[1;32mIn[49], line 1\u001b[0m\n\u001b[1;32m----> 1\u001b[0m list1\u001b[38;5;241m.\u001b[39msort()\n",
      "\u001b[1;31mTypeError\u001b[0m: '<' not supported between instances of 'list' and 'int'"
     ]
    }
   ],
   "source": [
    "list1.sort() #sort() only works on lists containing values of only 1 datatype"
   ]
  },
  {
   "cell_type": "code",
   "execution_count": 59,
   "id": "53d7ac59-34e3-4759-8dd9-c0cb15fb90fb",
   "metadata": {
    "tags": []
   },
   "outputs": [],
   "source": [
    "#Lists allow slicing"
   ]
  },
  {
   "cell_type": "code",
   "execution_count": 60,
   "id": "ee00f2b7-c04e-4c29-b774-88e5491d58fd",
   "metadata": {
    "tags": []
   },
   "outputs": [
    {
     "name": "stdout",
     "output_type": "stream",
     "text": [
      "[66, 478]\n"
     ]
    }
   ],
   "source": [
    "list1=[45,-67,66,0,478,2]\n",
    "print(list1[2:6:2])"
   ]
  },
  {
   "cell_type": "code",
   "execution_count": null,
   "id": "34be3360-67cc-458c-b95f-29b6cc0eca5c",
   "metadata": {},
   "outputs": [],
   "source": [
    "#list repition"
   ]
  },
  {
   "cell_type": "code",
   "execution_count": 69,
   "id": "639da630-69ff-4aca-b13f-a6679f400907",
   "metadata": {
    "tags": []
   },
   "outputs": [
    {
     "name": "stdout",
     "output_type": "stream",
     "text": [
      "[45, -67, 66, 0, 478, 2]\n",
      "[45, -67, 66, 0, 478, 2, 45, -67, 66, 0, 478, 2, 45, -67, 66, 0, 478, 2]\n"
     ]
    }
   ],
   "source": [
    "list1=[45,-67,66,0,478,2]\n",
    "print(list1)\n",
    "print(list1*3)"
   ]
  },
  {
   "cell_type": "code",
   "execution_count": null,
   "id": "f68b3871-4e39-44d3-bf90-5c19be2ba53b",
   "metadata": {},
   "outputs": [],
   "source": [
    "#list contatenation"
   ]
  },
  {
   "cell_type": "code",
   "execution_count": 70,
   "id": "59f789b7-67b3-46c5-8c3d-c04f32b7909c",
   "metadata": {
    "tags": []
   },
   "outputs": [
    {
     "name": "stdout",
     "output_type": "stream",
     "text": [
      "[45, -67, 66, 0, 478, 2, 45, -67, 66, 0, 478, 2]\n"
     ]
    }
   ],
   "source": [
    "print(list1+list1)"
   ]
  },
  {
   "cell_type": "code",
   "execution_count": null,
   "id": "7853ec3c-ba91-4344-821f-29a12fb7d022",
   "metadata": {},
   "outputs": [],
   "source": []
  },
  {
   "cell_type": "markdown",
   "id": "d852b9d5-c610-4dcd-8116-1154de2b8710",
   "metadata": {
    "tags": []
   },
   "source": [
    "## Tuples"
   ]
  },
  {
   "cell_type": "code",
   "execution_count": 51,
   "id": "ba903ebb-45b2-447e-8743-06316edbdde8",
   "metadata": {
    "tags": []
   },
   "outputs": [
    {
     "name": "stdout",
     "output_type": "stream",
     "text": [
      "('apple', 'orange', 'banana')\n"
     ]
    }
   ],
   "source": [
    "tuple1=(\"apple\",\"orange\",\"banana\")\n",
    "print(tuple1)"
   ]
  },
  {
   "cell_type": "code",
   "execution_count": 52,
   "id": "66a82c6e-9de0-4a84-89e9-4299f41e7e8b",
   "metadata": {
    "tags": []
   },
   "outputs": [],
   "source": [
    "#Tuples are ordered and immutable/unchangeable."
   ]
  },
  {
   "cell_type": "code",
   "execution_count": 54,
   "id": "9632f0be-3972-4f77-ac0c-0661f6ba3921",
   "metadata": {
    "tags": []
   },
   "outputs": [
    {
     "name": "stdout",
     "output_type": "stream",
     "text": [
      "apple\n",
      "orange\n",
      "banana\n"
     ]
    }
   ],
   "source": [
    "print(tuple1[0])\n",
    "print(tuple1[1])\n",
    "print(tuple1[2])"
   ]
  },
  {
   "cell_type": "code",
   "execution_count": 55,
   "id": "38c4e9de-875d-4b71-8af7-37d0c9dc9538",
   "metadata": {
    "tags": []
   },
   "outputs": [
    {
     "ename": "TypeError",
     "evalue": "'tuple' object does not support item assignment",
     "output_type": "error",
     "traceback": [
      "\u001b[1;31m---------------------------------------------------------------------------\u001b[0m",
      "\u001b[1;31mTypeError\u001b[0m                                 Traceback (most recent call last)",
      "Cell \u001b[1;32mIn[55], line 1\u001b[0m\n\u001b[1;32m----> 1\u001b[0m tuple1[\u001b[38;5;241m0\u001b[39m]\u001b[38;5;241m=\u001b[39m\u001b[38;5;124m\"\u001b[39m\u001b[38;5;124mcherry\u001b[39m\u001b[38;5;124m\"\u001b[39m\n",
      "\u001b[1;31mTypeError\u001b[0m: 'tuple' object does not support item assignment"
     ]
    }
   ],
   "source": [
    "tuple1[0]=\"cherry\""
   ]
  },
  {
   "cell_type": "code",
   "execution_count": 57,
   "id": "65817edb-5d9f-44c0-b5f2-b01194b12b09",
   "metadata": {
    "tags": []
   },
   "outputs": [
    {
     "name": "stdout",
     "output_type": "stream",
     "text": [
      "2\n"
     ]
    }
   ],
   "source": [
    "tuple1=(\"apple\",\"orange\",\"banana\",\"apple\",\"orange\",\"banana\")\n",
    "print(tuple1.count(\"apple\"))"
   ]
  },
  {
   "cell_type": "code",
   "execution_count": 58,
   "id": "3241fb38-1626-4998-a57f-32af058f72ce",
   "metadata": {
    "tags": []
   },
   "outputs": [
    {
     "name": "stdout",
     "output_type": "stream",
     "text": [
      "1\n"
     ]
    }
   ],
   "source": [
    "print(tuple1.index(\"orange\"))"
   ]
  },
  {
   "cell_type": "code",
   "execution_count": 63,
   "id": "46d479aa-49e0-4120-9d7c-fec6dec1cee1",
   "metadata": {
    "tags": []
   },
   "outputs": [
    {
     "name": "stdout",
     "output_type": "stream",
     "text": [
      "('orange', 'banana', 'apple', 'orange')\n"
     ]
    }
   ],
   "source": [
    "#Tuples allow slicing\n",
    "print(tuple1[1:5:1])"
   ]
  },
  {
   "cell_type": "code",
   "execution_count": 67,
   "id": "410ccba4-c08a-4170-9f69-3e8486a350a8",
   "metadata": {
    "tags": []
   },
   "outputs": [
    {
     "name": "stdout",
     "output_type": "stream",
     "text": [
      "12 <class 'int'>\n"
     ]
    }
   ],
   "source": [
    "tuple1=(12) # not correct way of creating tuple\n",
    "print(tuple1,type(tuple1))"
   ]
  },
  {
   "cell_type": "code",
   "execution_count": 65,
   "id": "2b67965c-d5aa-4279-be61-9a8cbdc57a4e",
   "metadata": {
    "tags": []
   },
   "outputs": [
    {
     "name": "stdout",
     "output_type": "stream",
     "text": [
      "(12,) <class 'tuple'>\n"
     ]
    }
   ],
   "source": [
    "tuple1=(12,)\n",
    "print(tuple1,type(tuple1))"
   ]
  },
  {
   "cell_type": "code",
   "execution_count": 68,
   "id": "63a558a1-c68d-4e28-9459-0097a3209051",
   "metadata": {
    "tags": []
   },
   "outputs": [
    {
     "name": "stdout",
     "output_type": "stream",
     "text": [
      "([1, 4, 3, 4],)\n"
     ]
    }
   ],
   "source": [
    "#If tuple contains a list you can change the values in the list\n",
    "tuple1=([1,2,3,4],)\n",
    "tuple1[0][1]=4\n",
    "print(tuple1)"
   ]
  },
  {
   "cell_type": "markdown",
   "id": "c849d751-a978-4f51-b373-447ecf83f98f",
   "metadata": {},
   "source": [
    "## Set"
   ]
  },
  {
   "cell_type": "code",
   "execution_count": 72,
   "id": "3bda7dd1-b78a-480c-96f8-b35159f430b7",
   "metadata": {
    "tags": []
   },
   "outputs": [
    {
     "name": "stdout",
     "output_type": "stream",
     "text": [
      "{2, 3, 4, 5}\n"
     ]
    }
   ],
   "source": [
    "#unordered\n",
    "#duplicates not allowed\n",
    "set1={3,2,4,5}\n",
    "print(set1)"
   ]
  },
  {
   "cell_type": "code",
   "execution_count": 73,
   "id": "396c12c0-0a98-4718-ad36-4186b08a5c63",
   "metadata": {
    "tags": []
   },
   "outputs": [
    {
     "name": "stdout",
     "output_type": "stream",
     "text": [
      "{2, 3, 100, 4, 5}\n",
      "{2, 3, 4, 5}\n"
     ]
    }
   ],
   "source": [
    "set1.add(100)\n",
    "print(set1)\n",
    "set1.remove(100)\n",
    "print(set1)"
   ]
  },
  {
   "cell_type": "code",
   "execution_count": 75,
   "id": "1facd05c-c8ef-474d-98e3-f45f24541567",
   "metadata": {
    "tags": []
   },
   "outputs": [
    {
     "name": "stdout",
     "output_type": "stream",
     "text": [
      "(1, 2, 3) <class 'tuple'>\n",
      "{1, 2, 3} <class 'set'>\n",
      "{4, 5, 6} <class 'set'>\n",
      "[4, 5, 6] <class 'list'>\n",
      "[8, 9, 7] <class 'list'>\n",
      "(8, 9, 7) <class 'tuple'>\n"
     ]
    }
   ],
   "source": [
    "#Tuple<->List<->Set conversions are possible\n",
    "list1=[1,2,3]\n",
    "tuple1=(4,5,6)\n",
    "set1={7,8,9}\n",
    "\n",
    "print(tuple(list1),type(tuple(list1)))\n",
    "print(set(list1),type(set(list1)))\n",
    "print(set(tuple1),type(set(tuple1)))\n",
    "print(list(tuple1),type(list(tuple1)))\n",
    "print(list(set1),type(list(set1)))\n",
    "print(tuple(set1),type(tuple(set1)))"
   ]
  }
 ],
 "metadata": {
  "kernelspec": {
   "display_name": "Python 3 (ipykernel)",
   "language": "python",
   "name": "python3"
  },
  "language_info": {
   "codemirror_mode": {
    "name": "ipython",
    "version": 3
   },
   "file_extension": ".py",
   "mimetype": "text/x-python",
   "name": "python",
   "nbconvert_exporter": "python",
   "pygments_lexer": "ipython3",
   "version": "3.11.7"
  }
 },
 "nbformat": 4,
 "nbformat_minor": 5
}
