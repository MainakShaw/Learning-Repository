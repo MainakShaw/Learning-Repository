{
 "cells": [
  {
   "cell_type": "code",
   "execution_count": 29,
   "id": "f37bba5e-eab9-47bc-8251-82fa3da6a9ea",
   "metadata": {
    "tags": []
   },
   "outputs": [],
   "source": [
    "class Student: #class names will follow rules for variable names\n",
    "#class namme first letter capital-convention\n",
    "    schoolname=\"XYZ school\"\n",
    "    def __init__(self,set_name,rn,address,age,mob_no):\n",
    "        self.set_name,self.rn,self.address,self.age,self.mob_no=set_name,rn,address,age,mob_no\n",
    "    #Instance methods\n",
    "    def show_info(self):\n",
    "        print(\"\\nName: \",self.set_name)\n",
    "        print(\"Roll No.: \",self.rn)\n",
    "        print(\"Address: \",self.address)\n",
    "        print(\"Age: \",self.age,\" years\")\n",
    "        print(\"Mobile number: \",self.mob_no,\"\\n\")"
   ]
  },
  {
   "cell_type": "code",
   "execution_count": 30,
   "id": "16265f5c-a69e-44d9-987d-6bea6f2ff361",
   "metadata": {
    "tags": []
   },
   "outputs": [
    {
     "name": "stdout",
     "output_type": "stream",
     "text": [
      "Mainak Shaw\n",
      "Mumbai,India\n",
      "\n",
      "Name:  Mainak Shaw\n",
      "Roll No.:  23\n",
      "Address:  Kolkata,India\n",
      "Age:  25  years\n",
      "Mobile number:  1234567890 \n",
      "\n",
      "\n",
      "Name:  Vibhor Vats\n",
      "Roll No.:  35\n",
      "Address:  Mumbai,India\n",
      "Age:  36  years\n",
      "Mobile number:  9876543210 \n",
      "\n"
     ]
    }
   ],
   "source": [
    "s1=Student(\"Mainak Shaw\",23,\"Kolkata,India\",25,1234567890)\n",
    "s2=Student(\"Vibhor Vats\",35,\"Mumbai,India\",36,9876543210)\n",
    "print(s1.set_name)\n",
    "print(s2.address)\n",
    "\n",
    "s1.show_info()\n",
    "s2.show_info()"
   ]
  },
  {
   "cell_type": "code",
   "execution_count": 31,
   "id": "f2d24b47-41cc-4e34-9374-f7a6385a0fd3",
   "metadata": {
    "tags": []
   },
   "outputs": [],
   "source": [
    "del s1.age #you can delete age of any attribute"
   ]
  },
  {
   "cell_type": "code",
   "execution_count": 32,
   "id": "21d4483a-9c13-4fce-8da5-0d56dfdeb2de",
   "metadata": {
    "tags": []
   },
   "outputs": [
    {
     "name": "stdout",
     "output_type": "stream",
     "text": [
      "\n",
      "Name:  Mainak Shaw\n",
      "Roll No.:  23\n",
      "Address:  Kolkata,India\n"
     ]
    },
    {
     "ename": "AttributeError",
     "evalue": "'Student' object has no attribute 'age'",
     "output_type": "error",
     "traceback": [
      "\u001b[1;31m---------------------------------------------------------------------------\u001b[0m",
      "\u001b[1;31mAttributeError\u001b[0m                            Traceback (most recent call last)",
      "Cell \u001b[1;32mIn[32], line 1\u001b[0m\n\u001b[1;32m----> 1\u001b[0m s1\u001b[38;5;241m.\u001b[39mshow_info()\n",
      "Cell \u001b[1;32mIn[29], line 11\u001b[0m, in \u001b[0;36mStudent.show_info\u001b[1;34m(self)\u001b[0m\n\u001b[0;32m      9\u001b[0m \u001b[38;5;28mprint\u001b[39m(\u001b[38;5;124m\"\u001b[39m\u001b[38;5;124mRoll No.: \u001b[39m\u001b[38;5;124m\"\u001b[39m,\u001b[38;5;28mself\u001b[39m\u001b[38;5;241m.\u001b[39mrn)\n\u001b[0;32m     10\u001b[0m \u001b[38;5;28mprint\u001b[39m(\u001b[38;5;124m\"\u001b[39m\u001b[38;5;124mAddress: \u001b[39m\u001b[38;5;124m\"\u001b[39m,\u001b[38;5;28mself\u001b[39m\u001b[38;5;241m.\u001b[39maddress)\n\u001b[1;32m---> 11\u001b[0m \u001b[38;5;28mprint\u001b[39m(\u001b[38;5;124m\"\u001b[39m\u001b[38;5;124mAge: \u001b[39m\u001b[38;5;124m\"\u001b[39m,\u001b[38;5;28mself\u001b[39m\u001b[38;5;241m.\u001b[39mage,\u001b[38;5;124m\"\u001b[39m\u001b[38;5;124m years\u001b[39m\u001b[38;5;124m\"\u001b[39m)\n\u001b[0;32m     12\u001b[0m \u001b[38;5;28mprint\u001b[39m(\u001b[38;5;124m\"\u001b[39m\u001b[38;5;124mMobile number: \u001b[39m\u001b[38;5;124m\"\u001b[39m,\u001b[38;5;28mself\u001b[39m\u001b[38;5;241m.\u001b[39mmob_no,\u001b[38;5;124m\"\u001b[39m\u001b[38;5;130;01m\\n\u001b[39;00m\u001b[38;5;124m\"\u001b[39m)\n",
      "\u001b[1;31mAttributeError\u001b[0m: 'Student' object has no attribute 'age'"
     ]
    }
   ],
   "source": [
    "s1.show_info() #so show_info doesnt work"
   ]
  },
  {
   "cell_type": "code",
   "execution_count": 33,
   "id": "754cb4ab-abd8-40bb-9265-99cbf8db988a",
   "metadata": {
    "tags": []
   },
   "outputs": [
    {
     "ename": "AttributeError",
     "evalue": "'Student' object has no attribute 'age'",
     "output_type": "error",
     "traceback": [
      "\u001b[1;31m---------------------------------------------------------------------------\u001b[0m",
      "\u001b[1;31mAttributeError\u001b[0m                            Traceback (most recent call last)",
      "Cell \u001b[1;32mIn[33], line 1\u001b[0m\n\u001b[1;32m----> 1\u001b[0m s1\u001b[38;5;241m.\u001b[39mage\n",
      "\u001b[1;31mAttributeError\u001b[0m: 'Student' object has no attribute 'age'"
     ]
    }
   ],
   "source": [
    "s1.age"
   ]
  },
  {
   "cell_type": "code",
   "execution_count": null,
   "id": "007af90c-9c49-43e1-9ef3-29a77fa5578e",
   "metadata": {},
   "outputs": [],
   "source": [
    "# s1=Student(...inputs)\n",
    "#__init__() function constructor function will be called when objects are created"
   ]
  },
  {
   "cell_type": "code",
   "execution_count": 20,
   "id": "e5372aab-935e-41ec-908a-e3f95d0eab13",
   "metadata": {
    "tags": []
   },
   "outputs": [],
   "source": [
    "#self is an empty object when the constructor is called, and the attributes passed get stored in that empty object \n",
    "#and then the object is returned automatically"
   ]
  },
  {
   "cell_type": "code",
   "execution_count": 10,
   "id": "9710f2f7-f4b8-4cfe-98d4-7ebe95c12f3e",
   "metadata": {
    "tags": []
   },
   "outputs": [],
   "source": [
    "# self is a placeholder for class instance, at the end class isntance=self is doen automatically"
   ]
  },
  {
   "cell_type": "code",
   "execution_count": 21,
   "id": "d6605f97-d009-4892-a610-e463e6ac7395",
   "metadata": {
    "tags": []
   },
   "outputs": [],
   "source": [
    "#self should be the first parameter within any method defined within a class"
   ]
  },
  {
   "cell_type": "code",
   "execution_count": 25,
   "id": "0068c480-7b35-4814-a5ab-21e1f5e2f3e8",
   "metadata": {
    "tags": []
   },
   "outputs": [],
   "source": [
    "#self can be changed to some other name"
   ]
  },
  {
   "cell_type": "code",
   "execution_count": 34,
   "id": "116a292d-54ee-47cf-ab8c-dddbf396b112",
   "metadata": {
    "tags": []
   },
   "outputs": [],
   "source": [
    "#you can also delete entire objects\n",
    "#del s1"
   ]
  },
  {
   "cell_type": "code",
   "execution_count": 36,
   "id": "68c84eda-7292-45fd-b9cf-5490955e38cb",
   "metadata": {
    "tags": []
   },
   "outputs": [],
   "source": [
    "class Teacher:\n",
    "    pass #valid statement"
   ]
  },
  {
   "cell_type": "markdown",
   "id": "8d975fce-c8f4-4855-ab77-1e196ef468e2",
   "metadata": {},
   "source": [
    "## Inheritance"
   ]
  },
  {
   "cell_type": "code",
   "execution_count": 69,
   "id": "7dff3940-a637-4797-9e3a-fa5b26b463f5",
   "metadata": {
    "tags": []
   },
   "outputs": [],
   "source": [
    "class Parent:\n",
    "    def __init__(self,property1):\n",
    "        self.property1=property1\n",
    "    def show(self):\n",
    "        print(\"Parent Class :\",self.property1)"
   ]
  },
  {
   "cell_type": "code",
   "execution_count": 70,
   "id": "23dcadba-6b92-4104-a1b6-9c98d9c02b20",
   "metadata": {
    "tags": []
   },
   "outputs": [],
   "source": [
    "class Child(Parent):\n",
    "    def __init__(self,property1,property2):\n",
    "        super().__init__(property1)\n",
    "        self.property2=property2\n",
    "    def show(self):\n",
    "        super().show()\n",
    "        print(\"Child Class :\",self.property2)"
   ]
  },
  {
   "cell_type": "code",
   "execution_count": 71,
   "id": "9245a061-973c-426c-a57e-05f4076a08be",
   "metadata": {
    "tags": []
   },
   "outputs": [
    {
     "name": "stdout",
     "output_type": "stream",
     "text": [
      "Parent Class : P\n",
      "Child Class : C\n"
     ]
    }
   ],
   "source": [
    "child1=Child(\"P\",\"C\")\n",
    "child1.show()"
   ]
  },
  {
   "cell_type": "code",
   "execution_count": 73,
   "id": "f3d840cb-e5fd-4686-a39a-dd2a77650f41",
   "metadata": {
    "tags": []
   },
   "outputs": [],
   "source": [
    "class Parent:\n",
    "    def __init__(self,property):\n",
    "        self.property=property\n",
    "    def show(self):\n",
    "        print(\"Parent Class :\",self.property)"
   ]
  },
  {
   "cell_type": "code",
   "execution_count": 74,
   "id": "b8c34381-78f3-4f3d-b74e-045731591db8",
   "metadata": {
    "tags": []
   },
   "outputs": [],
   "source": [
    "class Child(Parent):\n",
    "    def __init__(self,property1,property2):\n",
    "        super().__init__(property1)\n",
    "        self.property=property2\n",
    "    def show(self):\n",
    "        super().show()\n",
    "        print(\"Child Class :\",self.property)"
   ]
  },
  {
   "cell_type": "code",
   "execution_count": 75,
   "id": "2cf595bf-ba1b-436c-8054-31a76020d3fa",
   "metadata": {
    "tags": []
   },
   "outputs": [
    {
     "name": "stdout",
     "output_type": "stream",
     "text": [
      "Parent Class : C\n",
      "Child Class : C\n"
     ]
    }
   ],
   "source": [
    "child1=Child(\"P\",\"C\")\n",
    "child1.show()"
   ]
  },
  {
   "cell_type": "code",
   "execution_count": 77,
   "id": "c839e13e-4192-45d4-a145-9bb948005364",
   "metadata": {
    "tags": []
   },
   "outputs": [],
   "source": [
    "class Parent:\n",
    "    def __init__(self,property):\n",
    "        self.property=property\n",
    "    def show(self):\n",
    "        print(\"Parent Class :\",self.property)"
   ]
  },
  {
   "cell_type": "code",
   "execution_count": 78,
   "id": "3607d3f2-cb22-4644-a5cb-d90e23b234ad",
   "metadata": {
    "tags": []
   },
   "outputs": [],
   "source": [
    "class Child(Parent):\n",
    "    def __init__(self,property1,property2):\n",
    "        self.property=property2\n",
    "        super().__init__(property1)\n",
    "    def show(self):\n",
    "        super().show()\n",
    "        print(\"Child Class :\",self.property)"
   ]
  },
  {
   "cell_type": "code",
   "execution_count": 79,
   "id": "4602645a-464f-4cbf-be90-675d973cff14",
   "metadata": {
    "tags": []
   },
   "outputs": [
    {
     "name": "stdout",
     "output_type": "stream",
     "text": [
      "Parent Class : P\n",
      "Child Class : P\n"
     ]
    }
   ],
   "source": [
    "child1=Child(\"P\",\"C\")\n",
    "child1.show()"
   ]
  },
  {
   "cell_type": "code",
   "execution_count": 3,
   "id": "6c74e1bd-968c-45dd-8a9d-ed4fad017c69",
   "metadata": {
    "tags": []
   },
   "outputs": [],
   "source": [
    "class Parent:\n",
    "    def __init__(self,property1):\n",
    "        self.property1=property1\n",
    "    def show(self):\n",
    "        print(\"Parent Class :\",self.property1)"
   ]
  },
  {
   "cell_type": "code",
   "execution_count": 4,
   "id": "b0217030-46fa-49de-abbe-c65bc2fa8e95",
   "metadata": {
    "tags": []
   },
   "outputs": [],
   "source": [
    "class Child(Parent):\n",
    "    def __init__(self,property1,property2):\n",
    "        Parent.__init__(self,property1)\n",
    "        self.property2=property2\n",
    "    def show(self):\n",
    "        Parent.show(self)\n",
    "        print(\"Child Class :\",self.property2)"
   ]
  },
  {
   "cell_type": "code",
   "execution_count": 108,
   "id": "791860af-09ee-4ab6-bcee-26f1f4191b31",
   "metadata": {
    "tags": []
   },
   "outputs": [
    {
     "name": "stdout",
     "output_type": "stream",
     "text": [
      "Parent Class : P\n",
      "Child Class : C\n"
     ]
    }
   ],
   "source": [
    "child1=Child(\"P\",\"C\")\n",
    "child1.show()"
   ]
  },
  {
   "cell_type": "code",
   "execution_count": 5,
   "id": "218d26ba-beeb-4855-acb7-a99e4e730506",
   "metadata": {
    "tags": []
   },
   "outputs": [
    {
     "data": {
      "text/plain": [
       "(__main__.Parent, object)"
      ]
     },
     "execution_count": 5,
     "metadata": {},
     "output_type": "execute_result"
    }
   ],
   "source": [
    "Parent.__mro__"
   ]
  },
  {
   "cell_type": "code",
   "execution_count": 6,
   "id": "ed3fee34-e5a0-4d90-a446-b8b88cfe549e",
   "metadata": {
    "tags": []
   },
   "outputs": [
    {
     "data": {
      "text/plain": [
       "(__main__.Child, __main__.Parent, object)"
      ]
     },
     "execution_count": 6,
     "metadata": {},
     "output_type": "execute_result"
    }
   ],
   "source": [
    "Child.__mro__"
   ]
  }
 ],
 "metadata": {
  "kernelspec": {
   "display_name": "Python 3 (ipykernel)",
   "language": "python",
   "name": "python3"
  },
  "language_info": {
   "codemirror_mode": {
    "name": "ipython",
    "version": 3
   },
   "file_extension": ".py",
   "mimetype": "text/x-python",
   "name": "python",
   "nbconvert_exporter": "python",
   "pygments_lexer": "ipython3",
   "version": "3.11.7"
  }
 },
 "nbformat": 4,
 "nbformat_minor": 5
}
