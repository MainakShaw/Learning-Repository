{
 "cells": [
  {
   "cell_type": "markdown",
   "id": "d2b6df2a-747a-4f3a-b6c7-742df9bfd192",
   "metadata": {
    "tags": []
   },
   "source": [
    "## Assignment 3"
   ]
  },
  {
   "cell_type": "markdown",
   "id": "b7231297-d833-4d65-86e4-7c0473e6f616",
   "metadata": {},
   "source": [
    "Q1. Write a Python program that takes two lists as input and returns a new list containing the common elements between the two input lists?"
   ]
  },
  {
   "cell_type": "code",
   "execution_count": 2,
   "id": "ae88ed1e-af95-4fc3-9073-77fc5c57656b",
   "metadata": {
    "tags": []
   },
   "outputs": [
    {
     "name": "stdin",
     "output_type": "stream",
     "text": [
      "Enter elements of the first list: 44 56 0 9 -88 67 34 2\n",
      "Enter elements of the second list: 5 6 89 -45 0 2 44 76 9\n"
     ]
    },
    {
     "name": "stdout",
     "output_type": "stream",
     "text": [
      "New List containing the common elements between the two input lists:-\n",
      " ['0', '9', '2', '44']\n"
     ]
    }
   ],
   "source": [
    "list1=input(\"Enter elements of the first list:\").split()\n",
    "list2=input(\"Enter elements of the second list:\").split()\n",
    "print(\"New List containing the common elements between the two input lists:-\\n\",list(set(list1).intersection(set(list2))))"
   ]
  },
  {
   "cell_type": "markdown",
   "id": "4f1ea427-60fc-4aaf-8155-3a8b0d30208e",
   "metadata": {},
   "source": [
    "Q2. Write a Python program that takes two strings as input and returns 'yes' if the\n",
    "first string is a substring of the second string and 'no' otherwise using comparison\n",
    "operators?"
   ]
  },
  {
   "cell_type": "code",
   "execution_count": 4,
   "id": "ace74175-ac61-4021-b214-43590c8a0c05",
   "metadata": {
    "tags": []
   },
   "outputs": [
    {
     "name": "stdin",
     "output_type": "stream",
     "text": [
      "Enter first string:  Mainak\n",
      "Enter second string:  Hello, my name is Mainak Shaw.\n"
     ]
    },
    {
     "name": "stdout",
     "output_type": "stream",
     "text": [
      "Yes\n"
     ]
    }
   ],
   "source": [
    "string1=input(\"Enter first string: \")\n",
    "string2=input(\"Enter second string: \")\n",
    "if string1 in string2:\n",
    "    print(\"Yes\")\n",
    "else:\n",
    "    print(\"No\")"
   ]
  },
  {
   "cell_type": "markdown",
   "id": "a8d59101-ac2f-4945-b59d-2fe40a43d8b1",
   "metadata": {},
   "source": [
    "Q3. Write a Python program that takes two lists as input and returns a new list\n",
    "containing only the unique elements from both input lists using comparison\n",
    "operators?"
   ]
  },
  {
   "cell_type": "code",
   "execution_count": 5,
   "id": "4724a406-059c-4f21-b0d0-b59286385f45",
   "metadata": {
    "tags": []
   },
   "outputs": [
    {
     "name": "stdin",
     "output_type": "stream",
     "text": [
      "Enter elements of the first list: 44 56 0 89 -7 6 -45 133\n",
      "Enter elements of the second list: 0 89 43 90 7 -45 2 56\n"
     ]
    },
    {
     "name": "stdout",
     "output_type": "stream",
     "text": [
      "New List containing the common elements between the two input lists:-\n",
      " ['2', '-7', '133', '90', '6', '43', '7', '44']\n"
     ]
    }
   ],
   "source": [
    "list1=input(\"Enter elements of the first list:\").split()\n",
    "list2=input(\"Enter elements of the second list:\").split()\n",
    "print(\"New List containing the common elements between the two input lists:-\\n\",list(set(list1).symmetric_difference(set(list2))))"
   ]
  },
  {
   "cell_type": "markdown",
   "id": "17e00d0c-9f1e-49e9-bd5f-170bab96c394",
   "metadata": {},
   "source": [
    "Q4. Write a Python program that takes a list of strings as input and returns the\n",
    "longest string in the list using comparison operators?"
   ]
  },
  {
   "cell_type": "code",
   "execution_count": 6,
   "id": "5b001e41-58f9-4a32-a901-f7346b3dc3aa",
   "metadata": {
    "tags": []
   },
   "outputs": [
    {
     "name": "stdin",
     "output_type": "stream",
     "text": [
      "Enter a list of strings:  Hello I am Mainak Shaw. I am a good boy.\n"
     ]
    },
    {
     "name": "stdout",
     "output_type": "stream",
     "text": [
      "\n",
      "The longest string is \"Mainak\" and it's length is 6\n"
     ]
    }
   ],
   "source": [
    "list_of_strings=input(\"Enter a list of strings: \").split()\n",
    "max_length=0\n",
    "max_length_string=\"\"\n",
    "for string in list_of_strings:\n",
    "    if(len(string)>max_length):\n",
    "        max_length=len(string)\n",
    "        max_length_string=string\n",
    "print(f\"\\nThe longest string is \\\"{max_length_string}\\\" and it's length is {max_length}\")"
   ]
  },
  {
   "cell_type": "markdown",
   "id": "86774d62-f71a-4494-9767-f298f04b4673",
   "metadata": {},
   "source": [
    "Q5. Write a Python program that takes a set of strings as input and returns a new\n",
    "set containing only the strings with length less than or equal to 5?"
   ]
  },
  {
   "cell_type": "code",
   "execution_count": 10,
   "id": "32206c68-0521-474e-80e6-70489294f885",
   "metadata": {
    "tags": []
   },
   "outputs": [
    {
     "name": "stdin",
     "output_type": "stream",
     "text": [
      "Enter a set of strings:  Hello, my name is Mainak Shaw. I am 23 years old.\n"
     ]
    },
    {
     "name": "stdout",
     "output_type": "stream",
     "text": [
      "{'my', 'I', 'am', 'old.', 'years', 'is', 'name', 'Shaw.', '23'}\n"
     ]
    }
   ],
   "source": [
    "set_of_strings=set(input(\"Enter a set of strings: \").split())\n",
    "new_set_of_strings=set(filter(lambda string: len(string)<=5,set_of_strings))\n",
    "print(new_set_of_strings)"
   ]
  },
  {
   "cell_type": "markdown",
   "id": "029b5ac3-9ab5-4c75-9b8f-1ccc5c6a5f79",
   "metadata": {},
   "source": [
    "Q6. Write a Python program that takes a set of numbers as input and returns a\n",
    "new set containing only the odd numbers in the original set?"
   ]
  },
  {
   "cell_type": "code",
   "execution_count": 11,
   "id": "f74c508c-7c69-4f2e-b934-5529653b4bba",
   "metadata": {
    "tags": []
   },
   "outputs": [
    {
     "name": "stdin",
     "output_type": "stream",
     "text": [
      "Enter a set of numbers:  34 55 67 100 54 33 13 0 56\n"
     ]
    },
    {
     "name": "stdout",
     "output_type": "stream",
     "text": [
      "Set of the odd numbers: {33, 67, 13, 55}\n"
     ]
    }
   ],
   "source": [
    "set_of_numbers=set(map(int,input(\"Enter a set of numbers: \").split()))\n",
    "set_of_odd_numbers=set(filter(lambda x:x%2!=0,set_of_numbers))\n",
    "print(f\"Set of the odd numbers: {set_of_odd_numbers}\")"
   ]
  },
  {
   "cell_type": "markdown",
   "id": "e01f5384-4ed7-4a78-9851-07351a87c8d6",
   "metadata": {},
   "source": [
    "Q7. Write a Python program that takes a dictionary as input and returns the key\n",
    "with the highest value?"
   ]
  },
  {
   "cell_type": "code",
   "execution_count": 35,
   "id": "13249a81-3f8d-43f1-8524-040f18ab74cf",
   "metadata": {
    "tags": []
   },
   "outputs": [
    {
     "name": "stdin",
     "output_type": "stream",
     "text": [
      "Enter the number of key-value of pairs you would enter:  5\n",
      "Enter the 1 key-value pair:  4 0\n",
      "Enter the 2 key-value pair:  -6 7\n",
      "Enter the 3 key-value pair:  34 9\n",
      "Enter the 4 key-value pair:  2 9\n",
      "Enter the 5 key-value pair:  66 -2\n"
     ]
    },
    {
     "name": "stdout",
     "output_type": "stream",
     "text": [
      "Key with the highest value is 34 and the highest value is 9.\n",
      "Key with the highest value is 2 and the highest value is 9.\n"
     ]
    }
   ],
   "source": [
    "length=int(input(\"Enter the number of key-value of pairs you would enter: \"))\n",
    "dictionary=dict(input(f\"Enter the {i+1} key-value pair: \").split() for i in range(length))\n",
    "max_value=max(dictionary.values())\n",
    "for key,value in (dictionary.items()):\n",
    "    if value==max_value:\n",
    "        print(f\"Key with the highest value is {key} and the highest value is {value}.\")"
   ]
  },
  {
   "cell_type": "markdown",
   "id": "6ca99f7a-74eb-4e6c-88f4-c65ac589dae0",
   "metadata": {
    "tags": []
   },
   "source": [
    "Q8. Write a Python program that takes two sets as input and returns a new set\n",
    "containing the elements that are only in one of the input sets using comparison\n",
    "operators?"
   ]
  },
  {
   "cell_type": "code",
   "execution_count": 34,
   "id": "a6beafc1-e56b-4c3c-a2ce-18c2c627c3de",
   "metadata": {
    "tags": []
   },
   "outputs": [
    {
     "name": "stdin",
     "output_type": "stream",
     "text": [
      "Enter first set:  23 11 9 0 45 66\n",
      "Enter second set:  34 66 9 87 -4 0\n"
     ]
    },
    {
     "name": "stdout",
     "output_type": "stream",
     "text": [
      "{'0', '9', '66', '11', '45', '23'} - {'9', '0', '34', '66', '-4', '87'} = {'45', '11', '23'}\n",
      "{'9', '0', '34', '66', '-4', '87'} - {'0', '9', '66', '11', '45', '23'} = {'-4', '87', '34'}\n"
     ]
    }
   ],
   "source": [
    "set1=set(input(\"Enter first set: \").split())\n",
    "set2=set(input(\"Enter second set: \").split())\n",
    "print(f\"{set1} - {set2} = {set1.difference(set2)}\")\n",
    "print(f\"{set2} - {set1} = {set2.difference(set1)}\")"
   ]
  },
  {
   "cell_type": "markdown",
   "id": "bb00ff87-b820-4a8b-9397-c80c75ea11a4",
   "metadata": {},
   "source": [
    "Q9. Write a Python program that takes a list of dictionaries as input and returns a\n",
    "new list containing only the dictionaries where the value of a specific key is equal\n",
    "to a certain value using comparison operators?"
   ]
  },
  {
   "cell_type": "code",
   "execution_count": 6,
   "id": "20301983-e3d4-42bb-be17-0e00359f62f3",
   "metadata": {
    "tags": []
   },
   "outputs": [
    {
     "name": "stdout",
     "output_type": "stream",
     "text": [
      "Enter the number of dictionaries you want to enter: 4\n",
      "Enter the number of key-value of pairs you would enter for Dictionary 1 : 4\n",
      "(Dictionary 1) Enter the key-value pair 1 : k1 v1\n",
      "(Dictionary 1) Enter the key-value pair 2 : k2 v1\n",
      "(Dictionary 1) Enter the key-value pair 3 : k3 v4\n",
      "(Dictionary 1) Enter the key-value pair 4 : k4 v2\n",
      "Enter the number of key-value of pairs you would enter for Dictionary 2 : 2\n",
      "(Dictionary 2) Enter the key-value pair 1 : k1 v4\n",
      "(Dictionary 2) Enter the key-value pair 2 : k2 v2\n",
      "Enter the number of key-value of pairs you would enter for Dictionary 3 : 3\n",
      "(Dictionary 3) Enter the key-value pair 1 : k1 v2\n",
      "(Dictionary 3) Enter the key-value pair 2 : k3 v1\n",
      "(Dictionary 3) Enter the key-value pair 3 : k2 v4\n",
      "Enter the number of key-value of pairs you would enter for Dictionary 4 : 2\n",
      "(Dictionary 4) Enter the key-value pair 1 : k1 v1\n",
      "(Dictionary 4) Enter the key-value pair 2 : k2 v1\n",
      "Enter the certain value: v1\n",
      "\n",
      "The resulting list of dictionaries is:-\n",
      " [{'k1': 'v1', 'k2': 'v1'}, {'k3': 'v1'}, {'k1': 'v1', 'k2': 'v1'}]\n"
     ]
    }
   ],
   "source": [
    "list_of_dictionaries=[]\n",
    "new_list_of_dictionaries=[]\n",
    "\n",
    "list_length=int(input(\"Enter the number of dictionaries you want to enter: \"))\n",
    "for i in range(list_length):\n",
    "    dict_length=int(input(f\"Enter the number of key-value of pairs you would enter for Dictionary {i+1} : \"))\n",
    "    dictionary=dict(input(f\"(Dictionary {i+1}) Enter the key-value pair {j+1} : \").split() for j in range(dict_length))\n",
    "    list_of_dictionaries.append(dictionary)\n",
    "    \n",
    "certain_value=input(\"Enter the certain value: \")\n",
    "\n",
    "for dictionary in list_of_dictionaries:\n",
    "    keys_temp_list=list(dictionary.keys())\n",
    "    for key in keys_temp_list:\n",
    "        if dictionary[key]!=certain_value:\n",
    "            del dictionary[key]\n",
    "    if len(dictionary)!=0:new_list_of_dictionaries.append(dictionary)\n",
    "print(\"\\nThe resulting list of dictionaries is:-\\n\",new_list_of_dictionaries)"
   ]
  },
  {
   "cell_type": "markdown",
   "id": "d790c409-9185-4ad0-acd0-7e3954fc6cea",
   "metadata": {},
   "source": [
    "Q10. Write a Python program that takes a dictionary of strings as input and\n",
    "returns a new dictionary containing only the key-value pairs where the value is a\n",
    "string with length greater than 5?"
   ]
  },
  {
   "cell_type": "code",
   "execution_count": 62,
   "id": "cb03878b-f419-47a4-9ee7-94fe7e8c43d0",
   "metadata": {
    "tags": []
   },
   "outputs": [
    {
     "name": "stdin",
     "output_type": "stream",
     "text": [
      "Enter the number of key-value of pairs you would enter:  5\n",
      "Enter the 1 key-value pair:  1 Tiger\n",
      "Enter the 2 key-value pair:  2 Hippopotamus\n",
      "Enter the 3 key-value pair:  3 Elephant\n",
      "Enter the 4 key-value pair:  4 Lion\n",
      "Enter the 5 key-value pair:  5 Human\n"
     ]
    },
    {
     "name": "stdout",
     "output_type": "stream",
     "text": [
      "\n",
      "Resulting dictionary:-\n",
      " {'2': 'Hippopotamus', '3': 'Elephant'}\n"
     ]
    }
   ],
   "source": [
    "length=int(input(\"Enter the number of key-value of pairs you would enter: \"))\n",
    "dictionary=dict(input(f\"Enter the {i+1} key-value pair: \").split() for i in range(length))\n",
    "new_dictionary=dict([(key,dictionary[key]) for key in dictionary if isinstance(dictionary[key],str) and len(dictionary[key])>5])\n",
    "print(\"\\nResulting dictionary:-\\n\",new_dictionary)"
   ]
  },
  {
   "cell_type": "markdown",
   "id": "63933bdc-924f-476d-bf47-bcb3c4832553",
   "metadata": {},
   "source": [
    "Q11. Write a Python program that takes an integer as input and outputs the sum\n",
    "of the first n natural numbers using a for loop?"
   ]
  },
  {
   "cell_type": "code",
   "execution_count": 4,
   "id": "3f8a3953-f644-4532-899e-f83a23b15b1c",
   "metadata": {
    "tags": []
   },
   "outputs": [
    {
     "name": "stdin",
     "output_type": "stream",
     "text": [
      "Enter an integer:  10\n"
     ]
    },
    {
     "name": "stdout",
     "output_type": "stream",
     "text": [
      "\n",
      "Sum of first 10 natural numbers = 55.\n"
     ]
    }
   ],
   "source": [
    "import functools\n",
    "n=int(input(\"Enter an integer: \"))\n",
    "sum=functools.reduce(lambda x,y:x+y,list(range(n+1)))\n",
    "print(f\"\\nSum of first {n} natural numbers = {sum}.\")"
   ]
  },
  {
   "cell_type": "markdown",
   "id": "82f31ed7-7638-4f29-aa89-34931ed74d65",
   "metadata": {
    "tags": []
   },
   "source": [
    "Q12. Write a Python program that takes a list of integers as input and outputs the\n",
    "second smallest integer in the list using a for loop?"
   ]
  },
  {
   "cell_type": "code",
   "execution_count": 76,
   "id": "069d628f-e6ca-4714-993d-22c3eac14b36",
   "metadata": {
    "tags": []
   },
   "outputs": [
    {
     "name": "stdin",
     "output_type": "stream",
     "text": [
      "Enter a list of numbers:  3 56 -9 0 344 1 20 -7\n"
     ]
    },
    {
     "name": "stdout",
     "output_type": "stream",
     "text": [
      "Second smallest element:  -7\n"
     ]
    }
   ],
   "source": [
    "integer_list=list(map(int,input(\"Enter a list of numbers: \").split()))\n",
    "integer_list.sort()\n",
    "print(\"Second smallest element: \",integer_list[1])"
   ]
  },
  {
   "cell_type": "markdown",
   "id": "4b2c4cce-00e4-46cc-82f2-f3f48e083994",
   "metadata": {},
   "source": [
    "Q13. Write a Python program that takes a list of strings as input and outputs the\n",
    "string with the most vowels using a for loop?"
   ]
  },
  {
   "cell_type": "code",
   "execution_count": 88,
   "id": "8c25c78d-0b7e-438f-b3a9-f09e081189fc",
   "metadata": {
    "tags": []
   },
   "outputs": [
    {
     "name": "stdin",
     "output_type": "stream",
     "text": [
      "Enter your list of strings:  ttd aexioA xxca bBAEEzIU cdo eee xuvEEII erodis\n"
     ]
    },
    {
     "name": "stdout",
     "output_type": "stream",
     "text": [
      "String with most vowels : aexioA\n",
      "String with most vowels : bBAEEzIU\n",
      "String with most vowels : xuvEEII\n"
     ]
    }
   ],
   "source": [
    "vowels=['A','E','I','O','U','a','e','i','o','u']\n",
    "def is_vowel(char):\n",
    "    if char in vowels:\n",
    "        return True\n",
    "    else:\n",
    "        return False\n",
    "def string_vowel_count(string):\n",
    "    count=0\n",
    "    for char in string:\n",
    "        if is_vowel(char):count+=1 \n",
    "    return count\n",
    "string_list=input(\"Enter your list of strings: \").split()\n",
    "string_vowel_count_list=list(map(string_vowel_count,string_list))\n",
    "search_start_index=0\n",
    "while True:\n",
    "    try:\n",
    "        search_start_index=string_vowel_count_list.index(max(string_vowel_count_list),search_start_index)+1\n",
    "        result=string_list[search_start_index-1]\n",
    "        print(f\"String with most vowels : {result}\")\n",
    "    except ValueError:\n",
    "        break"
   ]
  },
  {
   "cell_type": "markdown",
   "id": "c7d1c0fb-6e02-49a3-bf23-8de0202f7e53",
   "metadata": {},
   "source": [
    "Q14. Write a Python program that takes an integer as input and determines\n",
    "whether the number is an Armstrong number or not. An Armstrong number is a\n",
    "number that is equal to the sum of its own digits raised to the power of the\n",
    "number of digits. For example, 153 is an Armstrong number because 1^3 + 5^3 +\n",
    "3^3 = 153?"
   ]
  },
  {
   "cell_type": "code",
   "execution_count": 92,
   "id": "b73082ee-498e-4b9e-ae0e-91e4d6e7f565",
   "metadata": {
    "tags": []
   },
   "outputs": [
    {
     "name": "stdin",
     "output_type": "stream",
     "text": [
      "Enter a number:  1634\n"
     ]
    },
    {
     "name": "stdout",
     "output_type": "stream",
     "text": [
      "1634 is an Armstrong number.\n"
     ]
    }
   ],
   "source": [
    "number=int(input(\"Enter a number: \"))\n",
    "number_copy=number\n",
    "no_of_digits=len(str(number))\n",
    "sum=0\n",
    "while(number>0):\n",
    "    rem=number%10\n",
    "    sum=sum+(rem**no_of_digits)\n",
    "    number=number//10\n",
    "print(f\"{number_copy} is an Armstrong number.\") if number_copy==sum else print(f\"{number_copy} is not an Armstrong number.\")"
   ]
  },
  {
   "cell_type": "markdown",
   "id": "740e0b82-a228-4751-b1b5-f35d378853f4",
   "metadata": {
    "tags": []
   },
   "source": [
    "Q15. Write a program to print first n prime numbers till a given limit by user. Ex -\n",
    "If the user has given the input as 50 so you need to show prime numbers till 50?"
   ]
  },
  {
   "cell_type": "code",
   "execution_count": 30,
   "id": "27a86dbc-ead9-4174-a6f7-796d33fe11be",
   "metadata": {},
   "outputs": [
    {
     "name": "stdin",
     "output_type": "stream",
     "text": [
      "Enter the limit to be checked upto:  50\n"
     ]
    },
    {
     "name": "stdout",
     "output_type": "stream",
     "text": [
      "The List of prime numbers between 1 and 50:-\n",
      "2\n",
      "3\n",
      "5\n",
      "7\n",
      "11\n",
      "13\n",
      "17\n",
      "19\n",
      "23\n",
      "29\n",
      "31\n",
      "37\n",
      "41\n",
      "43\n",
      "47\n"
     ]
    }
   ],
   "source": [
    "limit=int(input(\"Enter the limit to be checked upto: \"))\n",
    "print(f\"The List of prime numbers between 1 and {limit}:-\")\n",
    "for i in range(2,limit):\n",
    "    is_prime=True\n",
    "    for j in range(2,int((i**(1/2))+1)):\n",
    "        if(i%j==0):\n",
    "            is_prime=False\n",
    "            break\n",
    "    if(is_prime):print(i)"
   ]
  }
 ],
 "metadata": {
  "kernelspec": {
   "display_name": "Python 3 (ipykernel)",
   "language": "python",
   "name": "python3"
  },
  "language_info": {
   "codemirror_mode": {
    "name": "ipython",
    "version": 3
   },
   "file_extension": ".py",
   "mimetype": "text/x-python",
   "name": "python",
   "nbconvert_exporter": "python",
   "pygments_lexer": "ipython3",
   "version": "3.11.7"
  },
  "toc-autonumbering": false,
  "toc-showcode": false,
  "toc-showmarkdowntxt": true
 },
 "nbformat": 4,
 "nbformat_minor": 5
}
