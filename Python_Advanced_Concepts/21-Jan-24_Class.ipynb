{
 "cells": [
  {
   "cell_type": "code",
   "execution_count": 2,
   "id": "ea27be9a-7e67-433c-8513-65d9ae2a498d",
   "metadata": {
    "tags": []
   },
   "outputs": [],
   "source": [
    "#pass statement\n",
    "def func():\n",
    "    pass # creates a empty useless line"
   ]
  },
  {
   "cell_type": "code",
   "execution_count": 4,
   "id": "288117bf-8630-4bdd-bf71-255b07d71e07",
   "metadata": {
    "tags": []
   },
   "outputs": [
    {
     "name": "stdout",
     "output_type": "stream",
     "text": [
      "Hello World!\n"
     ]
    },
    {
     "data": {
      "text/plain": [
       "'IndiaIndia'"
      ]
     },
     "execution_count": 4,
     "metadata": {},
     "output_type": "execute_result"
    }
   ],
   "source": [
    "def display():\n",
    "    print(\"Hello World!\")\n",
    "    return \"India\"\n",
    "display()*2"
   ]
  },
  {
   "cell_type": "code",
   "execution_count": 6,
   "id": "23216ff0-8456-4b93-b2fc-c485d9a81f5f",
   "metadata": {
    "tags": []
   },
   "outputs": [
    {
     "name": "stdout",
     "output_type": "stream",
     "text": [
      "Hello World!\n",
      "None\n"
     ]
    }
   ],
   "source": [
    "def display():\n",
    "    print(\"Hello World!\")\n",
    "print(display())"
   ]
  },
  {
   "cell_type": "code",
   "execution_count": 7,
   "id": "556c4734-4cb1-4e7d-90b7-89607b2d76ee",
   "metadata": {
    "tags": []
   },
   "outputs": [
    {
     "name": "stdout",
     "output_type": "stream",
     "text": [
      "Hello World!\n"
     ]
    },
    {
     "ename": "TypeError",
     "evalue": "unsupported operand type(s) for *: 'NoneType' and 'int'",
     "output_type": "error",
     "traceback": [
      "\u001b[1;31m---------------------------------------------------------------------------\u001b[0m",
      "\u001b[1;31mTypeError\u001b[0m                                 Traceback (most recent call last)",
      "Cell \u001b[1;32mIn[7], line 3\u001b[0m\n\u001b[0;32m      1\u001b[0m \u001b[38;5;28;01mdef\u001b[39;00m \u001b[38;5;21mdisplay\u001b[39m():\n\u001b[0;32m      2\u001b[0m     \u001b[38;5;28mprint\u001b[39m(\u001b[38;5;124m\"\u001b[39m\u001b[38;5;124mHello World!\u001b[39m\u001b[38;5;124m\"\u001b[39m)\n\u001b[1;32m----> 3\u001b[0m \u001b[38;5;28mprint\u001b[39m(display()\u001b[38;5;241m*\u001b[39m\u001b[38;5;241m2\u001b[39m)\n",
      "\u001b[1;31mTypeError\u001b[0m: unsupported operand type(s) for *: 'NoneType' and 'int'"
     ]
    }
   ],
   "source": [
    "def display():\n",
    "    print(\"Hello World!\")\n",
    "print(display()*2)"
   ]
  },
  {
   "cell_type": "code",
   "execution_count": 8,
   "id": "25527874-90c3-4f2d-bf46-e17ec26d65b9",
   "metadata": {
    "tags": []
   },
   "outputs": [
    {
     "name": "stdout",
     "output_type": "stream",
     "text": [
      "15\n"
     ]
    }
   ],
   "source": [
    "print(15)"
   ]
  },
  {
   "cell_type": "code",
   "execution_count": 9,
   "id": "fb6359aa-79a4-42bb-af62-2c5bc07e7db3",
   "metadata": {
    "tags": []
   },
   "outputs": [
    {
     "data": {
      "text/plain": [
       "15"
      ]
     },
     "execution_count": 9,
     "metadata": {},
     "output_type": "execute_result"
    }
   ],
   "source": [
    "15"
   ]
  },
  {
   "cell_type": "markdown",
   "id": "dae9460a-3e68-4381-abbe-f9c4809582e0",
   "metadata": {
    "tags": []
   },
   "source": [
    "## Variable length Keyword Arguments"
   ]
  },
  {
   "cell_type": "code",
   "execution_count": 15,
   "id": "b1d95f16-52a4-44a4-b93e-62833a3e6d97",
   "metadata": {
    "tags": []
   },
   "outputs": [
    {
     "name": "stdout",
     "output_type": "stream",
     "text": [
      "a 1\n",
      "b 2\n",
      "c 3\n",
      "d 4\n"
     ]
    }
   ],
   "source": [
    "def function(**kwargs):\n",
    "    for k,v in kwargs.items():\n",
    "        print(k,v)\n",
    "function(a=1,b=2,c=3,d=4)"
   ]
  },
  {
   "cell_type": "code",
   "execution_count": null,
   "id": "168d7cc1-f0c1-4b84-a787-f2afbef1f78f",
   "metadata": {},
   "outputs": [],
   "source": [
    "#variable length positional arguments = get converted to tuple\n",
    "#variable length keyword arguments = get converted to dictionary"
   ]
  },
  {
   "cell_type": "markdown",
   "id": "31ea986f-1987-472f-93c9-c59153753e80",
   "metadata": {},
   "source": [
    "## Lambda Functions"
   ]
  },
  {
   "cell_type": "code",
   "execution_count": 17,
   "id": "ad693ec3-89df-4a58-8127-24a66ae115f9",
   "metadata": {
    "tags": []
   },
   "outputs": [
    {
     "name": "stdout",
     "output_type": "stream",
     "text": [
      "25\n"
     ]
    }
   ],
   "source": [
    "def square(n):\n",
    "    return (n*n)\n",
    "print(square(5))"
   ]
  },
  {
   "cell_type": "code",
   "execution_count": 19,
   "id": "57c68228-ef4b-41d1-91f6-d607284378f0",
   "metadata": {
    "tags": []
   },
   "outputs": [
    {
     "name": "stdout",
     "output_type": "stream",
     "text": [
      "25\n"
     ]
    }
   ],
   "source": [
    "cal_square=lambda n:n*n\n",
    "print(cal_square(5))"
   ]
  },
  {
   "cell_type": "markdown",
   "id": "e46c762f-0884-4ba4-ba89-d456cb7d14f1",
   "metadata": {},
   "source": [
    "## Zip functions"
   ]
  },
  {
   "cell_type": "code",
   "execution_count": 21,
   "id": "f753f299-7422-44dd-b281-9285969df374",
   "metadata": {
    "tags": []
   },
   "outputs": [],
   "source": [
    "l1=[1,2,3]\n",
    "l2=['a','b','c']"
   ]
  },
  {
   "cell_type": "code",
   "execution_count": 23,
   "id": "29f13b16-d16b-442a-8319-3f7833d62177",
   "metadata": {
    "tags": []
   },
   "outputs": [
    {
     "name": "stdout",
     "output_type": "stream",
     "text": [
      "1 a\n",
      "2 b\n",
      "3 c\n"
     ]
    }
   ],
   "source": [
    "for i,j in zip(l1,l2):\n",
    "    print(i,j)"
   ]
  },
  {
   "cell_type": "code",
   "execution_count": 24,
   "id": "7620d418-d67e-43b8-8e4f-286e179cae61",
   "metadata": {
    "tags": []
   },
   "outputs": [
    {
     "name": "stdout",
     "output_type": "stream",
     "text": [
      "(1, 'a')\n",
      "(2, 'b')\n",
      "(3, 'c')\n"
     ]
    }
   ],
   "source": [
    "for elem in zip(l1,l2):\n",
    "    print(elem)"
   ]
  },
  {
   "cell_type": "code",
   "execution_count": 25,
   "id": "f7e2fb7a-af0f-4023-a39a-d65d597ffb40",
   "metadata": {
    "tags": []
   },
   "outputs": [
    {
     "name": "stdout",
     "output_type": "stream",
     "text": [
      "1 a 1\n",
      "2 b 2\n",
      "3 c 3\n"
     ]
    }
   ],
   "source": [
    "for i,j,k in zip(l1,l2,l1):\n",
    "    print(i,j,k)"
   ]
  },
  {
   "cell_type": "markdown",
   "id": "891a2c8a-8648-4f13-8e6c-153be9974c58",
   "metadata": {},
   "source": [
    "## Map function"
   ]
  },
  {
   "cell_type": "code",
   "execution_count": 28,
   "id": "eed4ddd2-d4b9-4077-b8b9-78ece25c51f6",
   "metadata": {
    "tags": []
   },
   "outputs": [
    {
     "name": "stdout",
     "output_type": "stream",
     "text": [
      "[1, 4, 9, 16, 25]\n"
     ]
    }
   ],
   "source": [
    "l1=[1,2,3,4,5]\n",
    "print(list(map(lambda x:x*x,l1))) #creating list of squares"
   ]
  },
  {
   "cell_type": "code",
   "execution_count": 29,
   "id": "acc4ddec-0187-4509-85af-146cace18a69",
   "metadata": {
    "tags": []
   },
   "outputs": [
    {
     "data": {
      "text/plain": [
       "map"
      ]
     },
     "execution_count": 29,
     "metadata": {},
     "output_type": "execute_result"
    }
   ],
   "source": [
    "type(map(lambda x:x*x,l1))"
   ]
  },
  {
   "cell_type": "markdown",
   "id": "7e444204-8e1f-4580-9530-ad3c4394d576",
   "metadata": {
    "tags": []
   },
   "source": [
    "## Classes and Objects"
   ]
  },
  {
   "cell_type": "code",
   "execution_count": 31,
   "id": "1dd3145b-075c-43c2-922f-1ad38169b3e2",
   "metadata": {
    "tags": []
   },
   "outputs": [],
   "source": [
    "#Class is the blueprint for objects"
   ]
  },
  {
   "cell_type": "code",
   "execution_count": 32,
   "id": "de176cf3-7f26-4f44-b91b-327d9e158d89",
   "metadata": {
    "tags": []
   },
   "outputs": [],
   "source": [
    "list1=[1,2,3]\n",
    "list2=[4,5,6,7]\n",
    "#created two instances of class \"List\" which are list1 and list2"
   ]
  },
  {
   "cell_type": "code",
   "execution_count": 33,
   "id": "0038a358-6aea-45c7-a223-ff5b26c12955",
   "metadata": {
    "tags": []
   },
   "outputs": [],
   "source": [
    "#Objects of the same class will have the same attributes and same methods"
   ]
  },
  {
   "cell_type": "code",
   "execution_count": 37,
   "id": "a321f2d8-635d-4d89-a872-2c6c69e23c75",
   "metadata": {
    "tags": []
   },
   "outputs": [
    {
     "name": "stdout",
     "output_type": "stream",
     "text": [
      "<class '__main__.Student'>\n",
      "XYZ\n"
     ]
    }
   ],
   "source": [
    "class Student:\n",
    "    name=\"XYZ\"\n",
    "S1=Student()\n",
    "print(type(S1))\n",
    "print(S1.name)"
   ]
  },
  {
   "cell_type": "code",
   "execution_count": 34,
   "id": "7988d0e0-16a5-4832-bf73-ee76d7067bd8",
   "metadata": {
    "tags": []
   },
   "outputs": [],
   "source": [
    "#Classes contain two types of members:\n",
    "#1) Data members\n",
    "#2) Methods"
   ]
  },
  {
   "cell_type": "code",
   "execution_count": 42,
   "id": "57d001d2-74fa-47ff-b279-a1273d1ab93d",
   "metadata": {
    "tags": []
   },
   "outputs": [
    {
     "name": "stdout",
     "output_type": "stream",
     "text": [
      "ABC\n",
      "Mainak\n"
     ]
    }
   ],
   "source": [
    "S1=Student()\n",
    "S2=Student()\n",
    "S1.name=\"ABC\"\n",
    "Student.name=\"Mainak\"\n",
    "print(S1.name)\n",
    "print(S2.name)"
   ]
  },
  {
   "cell_type": "markdown",
   "id": "bfce761a-7f2b-4b8d-bb3b-520e50d4f160",
   "metadata": {},
   "source": [
    "## __init__() function/Constructor Function"
   ]
  },
  {
   "cell_type": "code",
   "execution_count": 46,
   "id": "c04b2138-207c-483a-a538-b7fb5520a0c2",
   "metadata": {
    "tags": []
   },
   "outputs": [
    {
     "name": "stdout",
     "output_type": "stream",
     "text": [
      "XYZ Mainak 23 12\n"
     ]
    }
   ],
   "source": [
    "class Student:\n",
    "    schoolname='XYZ'\n",
    "    def __init__(self,name,roll,standard):\n",
    "        self.name=name\n",
    "        self.roll=roll\n",
    "        self.standard=standard\n",
    "S1=Student(\"Mainak\",23,12)\n",
    "print(S1.schoolname,S1.name,S1.roll,S1.standard)"
   ]
  }
 ],
 "metadata": {
  "kernelspec": {
   "display_name": "Python 3 (ipykernel)",
   "language": "python",
   "name": "python3"
  },
  "language_info": {
   "codemirror_mode": {
    "name": "ipython",
    "version": 3
   },
   "file_extension": ".py",
   "mimetype": "text/x-python",
   "name": "python",
   "nbconvert_exporter": "python",
   "pygments_lexer": "ipython3",
   "version": "3.11.7"
  }
 },
 "nbformat": 4,
 "nbformat_minor": 5
}
