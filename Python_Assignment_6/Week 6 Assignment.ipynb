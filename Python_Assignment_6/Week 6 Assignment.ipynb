{
 "cells": [
  {
   "cell_type": "markdown",
   "id": "c1771905-12de-475b-948e-67e3c8ff6f20",
   "metadata": {},
   "source": [
    "## Week 6 Assignment"
   ]
  },
  {
   "cell_type": "markdown",
   "id": "b6904d9f-6b46-484d-a787-23e3de0d3b8c",
   "metadata": {},
   "source": [
    "Problem Statement:\n",
    "    \n",
    "You are given a dataset containing information about the passengers of the Titanic. Your task is to perform exploratory data analysis (EDA) on the dataset using the following methods:\n",
    "    \n",
    "    ● Load the dataset(Titanic.csv) into a pandas dataframe and print the first 5 rows using the head() method.\n",
    "    ● Use the info() method to get information about the dataset. In particular, pay attention to the data types of each column and whether there are any missing values.\n",
    "    ● Use the describe() method to describe the dataset. Pay attention to the range of values for each numeric column and whether there are any outliers.\n",
    "    ● Use the groupby() method to group the data based on the Pclass column and calculate the mean fare for each class.\n",
    "    ● Use the value_counts() method to get the frequency count of the Embarked column.\n",
    "    ● Create a new column in the dataframe called AgeRange that categorises passengers into age ranges: \"Child\" for ages 0-12, \"Teen\" for ages 13-19, \"Adult\" for ages 20-59, and \"Senior\" for ages 60 and above.\n",
    "    ● Use the pivot_table() method to create a pivot table that shows the survival rate of passengers based on their sex, class, and age range.\n",
    "    ● Create a bar chart that shows the total number of passengers in each age range.\n",
    "    ● Create a scatter plot that shows the relationship between age and fare. Color the points based on whether the passenger survived or not.\n",
    "\n",
    "Submission:\n",
    "    \n",
    "Create a Jupyter notebook and include the code for each task along with comments explaining what each line of code does. You should also include the necessary imports at the beginning of the notebook.\n",
    "\n",
    "Use Following Data set -\n",
    "https://drive.google.com/file/d/1adqfsBEIj2FPpORWoPrzIvmX9j7y_O4m/view?usp=drive_link"
   ]
  },
  {
   "cell_type": "markdown",
   "id": "ba0b1a38-8d62-4cb5-8f6e-3c3dbf26bfd2",
   "metadata": {},
   "source": [
    "### Importing all the necessary modules: -"
   ]
  },
  {
   "cell_type": "code",
   "execution_count": 1,
   "id": "52fbe751-fc38-4b04-8a0d-e6dd8a7fbc61",
   "metadata": {
    "tags": []
   },
   "outputs": [],
   "source": [
    "import numpy as np\n",
    "import pandas as pd\n",
    "from matplotlib import style\n",
    "import matplotlib.pyplot as plt\n",
    "%matplotlib inline"
   ]
  },
  {
   "cell_type": "markdown",
   "id": "baf78784-315e-43c7-ad31-bba9ef4ce42e",
   "metadata": {},
   "source": [
    "### Loading the dataset(\"Titanic.csv\") into a Pandas Dataframe: -"
   ]
  },
  {
   "cell_type": "code",
   "execution_count": 2,
   "id": "40e1a7d4-dbab-4197-bf04-436923ae485f",
   "metadata": {
    "tags": []
   },
   "outputs": [],
   "source": [
    "titanic_data = pd.read_csv(\"Titanic.csv\")"
   ]
  },
  {
   "cell_type": "markdown",
   "id": "6bbba3da-6d14-4805-a6c1-7c12483b843e",
   "metadata": {
    "tags": []
   },
   "source": [
    "### Printing the top 5 rows of the dataset: -"
   ]
  },
  {
   "cell_type": "code",
   "execution_count": 3,
   "id": "af04e03b-83df-4463-9bdf-c9dccf3979c3",
   "metadata": {
    "tags": []
   },
   "outputs": [
    {
     "data": {
      "text/html": [
       "<div>\n",
       "<style scoped>\n",
       "    .dataframe tbody tr th:only-of-type {\n",
       "        vertical-align: middle;\n",
       "    }\n",
       "\n",
       "    .dataframe tbody tr th {\n",
       "        vertical-align: top;\n",
       "    }\n",
       "\n",
       "    .dataframe thead th {\n",
       "        text-align: right;\n",
       "    }\n",
       "</style>\n",
       "<table border=\"1\" class=\"dataframe\">\n",
       "  <thead>\n",
       "    <tr style=\"text-align: right;\">\n",
       "      <th></th>\n",
       "      <th>PassengerId</th>\n",
       "      <th>Survived</th>\n",
       "      <th>Pclass</th>\n",
       "      <th>Name</th>\n",
       "      <th>Sex</th>\n",
       "      <th>Age</th>\n",
       "      <th>SibSp</th>\n",
       "      <th>Parch</th>\n",
       "      <th>Ticket</th>\n",
       "      <th>Fare</th>\n",
       "      <th>Cabin</th>\n",
       "      <th>Embarked</th>\n",
       "    </tr>\n",
       "  </thead>\n",
       "  <tbody>\n",
       "    <tr>\n",
       "      <th>0</th>\n",
       "      <td>1</td>\n",
       "      <td>0</td>\n",
       "      <td>3</td>\n",
       "      <td>Braund, Mr. Owen Harris</td>\n",
       "      <td>male</td>\n",
       "      <td>22.0</td>\n",
       "      <td>1</td>\n",
       "      <td>0</td>\n",
       "      <td>A/5 21171</td>\n",
       "      <td>7.2500</td>\n",
       "      <td>NaN</td>\n",
       "      <td>S</td>\n",
       "    </tr>\n",
       "    <tr>\n",
       "      <th>1</th>\n",
       "      <td>2</td>\n",
       "      <td>1</td>\n",
       "      <td>1</td>\n",
       "      <td>Cumings, Mrs. John Bradley (Florence Briggs Th...</td>\n",
       "      <td>female</td>\n",
       "      <td>38.0</td>\n",
       "      <td>1</td>\n",
       "      <td>0</td>\n",
       "      <td>PC 17599</td>\n",
       "      <td>71.2833</td>\n",
       "      <td>C85</td>\n",
       "      <td>C</td>\n",
       "    </tr>\n",
       "    <tr>\n",
       "      <th>2</th>\n",
       "      <td>3</td>\n",
       "      <td>1</td>\n",
       "      <td>3</td>\n",
       "      <td>Heikkinen, Miss. Laina</td>\n",
       "      <td>female</td>\n",
       "      <td>26.0</td>\n",
       "      <td>0</td>\n",
       "      <td>0</td>\n",
       "      <td>STON/O2. 3101282</td>\n",
       "      <td>7.9250</td>\n",
       "      <td>NaN</td>\n",
       "      <td>S</td>\n",
       "    </tr>\n",
       "    <tr>\n",
       "      <th>3</th>\n",
       "      <td>4</td>\n",
       "      <td>1</td>\n",
       "      <td>1</td>\n",
       "      <td>Futrelle, Mrs. Jacques Heath (Lily May Peel)</td>\n",
       "      <td>female</td>\n",
       "      <td>35.0</td>\n",
       "      <td>1</td>\n",
       "      <td>0</td>\n",
       "      <td>113803</td>\n",
       "      <td>53.1000</td>\n",
       "      <td>C123</td>\n",
       "      <td>S</td>\n",
       "    </tr>\n",
       "    <tr>\n",
       "      <th>4</th>\n",
       "      <td>5</td>\n",
       "      <td>0</td>\n",
       "      <td>3</td>\n",
       "      <td>Allen, Mr. William Henry</td>\n",
       "      <td>male</td>\n",
       "      <td>35.0</td>\n",
       "      <td>0</td>\n",
       "      <td>0</td>\n",
       "      <td>373450</td>\n",
       "      <td>8.0500</td>\n",
       "      <td>NaN</td>\n",
       "      <td>S</td>\n",
       "    </tr>\n",
       "  </tbody>\n",
       "</table>\n",
       "</div>"
      ],
      "text/plain": [
       "   PassengerId  Survived  Pclass  \\\n",
       "0            1         0       3   \n",
       "1            2         1       1   \n",
       "2            3         1       3   \n",
       "3            4         1       1   \n",
       "4            5         0       3   \n",
       "\n",
       "                                                Name     Sex   Age  SibSp  \\\n",
       "0                            Braund, Mr. Owen Harris    male  22.0      1   \n",
       "1  Cumings, Mrs. John Bradley (Florence Briggs Th...  female  38.0      1   \n",
       "2                             Heikkinen, Miss. Laina  female  26.0      0   \n",
       "3       Futrelle, Mrs. Jacques Heath (Lily May Peel)  female  35.0      1   \n",
       "4                           Allen, Mr. William Henry    male  35.0      0   \n",
       "\n",
       "   Parch            Ticket     Fare Cabin Embarked  \n",
       "0      0         A/5 21171   7.2500   NaN        S  \n",
       "1      0          PC 17599  71.2833   C85        C  \n",
       "2      0  STON/O2. 3101282   7.9250   NaN        S  \n",
       "3      0            113803  53.1000  C123        S  \n",
       "4      0            373450   8.0500   NaN        S  "
      ]
     },
     "execution_count": 3,
     "metadata": {},
     "output_type": "execute_result"
    }
   ],
   "source": [
    "titanic_data.head()"
   ]
  },
  {
   "cell_type": "markdown",
   "id": "7056f6a4-17ad-4d99-b269-cf061d9178f3",
   "metadata": {
    "tags": []
   },
   "source": [
    "### Finding out the columns with null entries: -"
   ]
  },
  {
   "cell_type": "code",
   "execution_count": 4,
   "id": "2d70a5db-4d92-46af-a454-bfd8c97ea784",
   "metadata": {
    "tags": []
   },
   "outputs": [
    {
     "name": "stdout",
     "output_type": "stream",
     "text": [
      "<class 'pandas.core.frame.DataFrame'>\n",
      "RangeIndex: 891 entries, 0 to 890\n",
      "Data columns (total 12 columns):\n",
      " #   Column       Non-Null Count  Dtype  \n",
      "---  ------       --------------  -----  \n",
      " 0   PassengerId  891 non-null    int64  \n",
      " 1   Survived     891 non-null    int64  \n",
      " 2   Pclass       891 non-null    int64  \n",
      " 3   Name         891 non-null    object \n",
      " 4   Sex          891 non-null    object \n",
      " 5   Age          714 non-null    float64\n",
      " 6   SibSp        891 non-null    int64  \n",
      " 7   Parch        891 non-null    int64  \n",
      " 8   Ticket       891 non-null    object \n",
      " 9   Fare         891 non-null    float64\n",
      " 10  Cabin        204 non-null    object \n",
      " 11  Embarked     889 non-null    object \n",
      "dtypes: float64(2), int64(5), object(5)\n",
      "memory usage: 83.7+ KB\n"
     ]
    }
   ],
   "source": [
    "#info() method is useful for figuring out the no. of columns, the datatypes of those columns and the no. of non-null values in each of them.\n",
    "titanic_data.info()"
   ]
  },
  {
   "cell_type": "markdown",
   "id": "c79d9e2c-e8ce-4a3b-a364-771ea1b1f06c",
   "metadata": {},
   "source": [
    "Columns \"Age\",\"Cabin\" & \"Embarked\" have null values in them.\n",
    "1. Null values in \"Age\" column = 891 - 714 = 177\n",
    "2. Null values in \"Cabin\" column = 891 - 204 = 687\n",
    "3. Null values in \"Embarked\" column = 891 - 889 = 2"
   ]
  },
  {
   "cell_type": "code",
   "execution_count": 5,
   "id": "359c9ab9-7024-4f67-be74-39c120f4fff3",
   "metadata": {
    "tags": []
   },
   "outputs": [
    {
     "data": {
      "text/plain": [
       "PassengerId      0\n",
       "Survived         0\n",
       "Pclass           0\n",
       "Name             0\n",
       "Sex              0\n",
       "Age            177\n",
       "SibSp            0\n",
       "Parch            0\n",
       "Ticket           0\n",
       "Fare             0\n",
       "Cabin          687\n",
       "Embarked         2\n",
       "dtype: int64"
      ]
     },
     "execution_count": 5,
     "metadata": {},
     "output_type": "execute_result"
    }
   ],
   "source": [
    "#We could have also used the isnull() function to get each columns where null values exist\n",
    "#Then we use the sum() function on it to get the count of null values in each and every column\n",
    "titanic_data.isnull().sum()"
   ]
  },
  {
   "cell_type": "markdown",
   "id": "b37da46b-bdf1-455b-9e47-cb9be0ce1bb0",
   "metadata": {
    "tags": []
   },
   "source": [
    "### Using the describe() function to find out the range of each column and to find out which columns contain outliers: -"
   ]
  },
  {
   "cell_type": "code",
   "execution_count": 6,
   "id": "347f5109-f30b-4c91-832d-9620ff2efd21",
   "metadata": {
    "tags": []
   },
   "outputs": [
    {
     "data": {
      "text/html": [
       "<div>\n",
       "<style scoped>\n",
       "    .dataframe tbody tr th:only-of-type {\n",
       "        vertical-align: middle;\n",
       "    }\n",
       "\n",
       "    .dataframe tbody tr th {\n",
       "        vertical-align: top;\n",
       "    }\n",
       "\n",
       "    .dataframe thead th {\n",
       "        text-align: right;\n",
       "    }\n",
       "</style>\n",
       "<table border=\"1\" class=\"dataframe\">\n",
       "  <thead>\n",
       "    <tr style=\"text-align: right;\">\n",
       "      <th></th>\n",
       "      <th>PassengerId</th>\n",
       "      <th>Survived</th>\n",
       "      <th>Pclass</th>\n",
       "      <th>Age</th>\n",
       "      <th>SibSp</th>\n",
       "      <th>Parch</th>\n",
       "      <th>Fare</th>\n",
       "    </tr>\n",
       "  </thead>\n",
       "  <tbody>\n",
       "    <tr>\n",
       "      <th>count</th>\n",
       "      <td>891.000000</td>\n",
       "      <td>891.000000</td>\n",
       "      <td>891.000000</td>\n",
       "      <td>714.000000</td>\n",
       "      <td>891.000000</td>\n",
       "      <td>891.000000</td>\n",
       "      <td>891.000000</td>\n",
       "    </tr>\n",
       "    <tr>\n",
       "      <th>mean</th>\n",
       "      <td>446.000000</td>\n",
       "      <td>0.383838</td>\n",
       "      <td>2.308642</td>\n",
       "      <td>29.699118</td>\n",
       "      <td>0.523008</td>\n",
       "      <td>0.381594</td>\n",
       "      <td>32.204208</td>\n",
       "    </tr>\n",
       "    <tr>\n",
       "      <th>std</th>\n",
       "      <td>257.353842</td>\n",
       "      <td>0.486592</td>\n",
       "      <td>0.836071</td>\n",
       "      <td>14.526497</td>\n",
       "      <td>1.102743</td>\n",
       "      <td>0.806057</td>\n",
       "      <td>49.693429</td>\n",
       "    </tr>\n",
       "    <tr>\n",
       "      <th>min</th>\n",
       "      <td>1.000000</td>\n",
       "      <td>0.000000</td>\n",
       "      <td>1.000000</td>\n",
       "      <td>0.420000</td>\n",
       "      <td>0.000000</td>\n",
       "      <td>0.000000</td>\n",
       "      <td>0.000000</td>\n",
       "    </tr>\n",
       "    <tr>\n",
       "      <th>25%</th>\n",
       "      <td>223.500000</td>\n",
       "      <td>0.000000</td>\n",
       "      <td>2.000000</td>\n",
       "      <td>20.125000</td>\n",
       "      <td>0.000000</td>\n",
       "      <td>0.000000</td>\n",
       "      <td>7.910400</td>\n",
       "    </tr>\n",
       "    <tr>\n",
       "      <th>50%</th>\n",
       "      <td>446.000000</td>\n",
       "      <td>0.000000</td>\n",
       "      <td>3.000000</td>\n",
       "      <td>28.000000</td>\n",
       "      <td>0.000000</td>\n",
       "      <td>0.000000</td>\n",
       "      <td>14.454200</td>\n",
       "    </tr>\n",
       "    <tr>\n",
       "      <th>75%</th>\n",
       "      <td>668.500000</td>\n",
       "      <td>1.000000</td>\n",
       "      <td>3.000000</td>\n",
       "      <td>38.000000</td>\n",
       "      <td>1.000000</td>\n",
       "      <td>0.000000</td>\n",
       "      <td>31.000000</td>\n",
       "    </tr>\n",
       "    <tr>\n",
       "      <th>max</th>\n",
       "      <td>891.000000</td>\n",
       "      <td>1.000000</td>\n",
       "      <td>3.000000</td>\n",
       "      <td>80.000000</td>\n",
       "      <td>8.000000</td>\n",
       "      <td>6.000000</td>\n",
       "      <td>512.329200</td>\n",
       "    </tr>\n",
       "  </tbody>\n",
       "</table>\n",
       "</div>"
      ],
      "text/plain": [
       "       PassengerId    Survived      Pclass         Age       SibSp  \\\n",
       "count   891.000000  891.000000  891.000000  714.000000  891.000000   \n",
       "mean    446.000000    0.383838    2.308642   29.699118    0.523008   \n",
       "std     257.353842    0.486592    0.836071   14.526497    1.102743   \n",
       "min       1.000000    0.000000    1.000000    0.420000    0.000000   \n",
       "25%     223.500000    0.000000    2.000000   20.125000    0.000000   \n",
       "50%     446.000000    0.000000    3.000000   28.000000    0.000000   \n",
       "75%     668.500000    1.000000    3.000000   38.000000    1.000000   \n",
       "max     891.000000    1.000000    3.000000   80.000000    8.000000   \n",
       "\n",
       "            Parch        Fare  \n",
       "count  891.000000  891.000000  \n",
       "mean     0.381594   32.204208  \n",
       "std      0.806057   49.693429  \n",
       "min      0.000000    0.000000  \n",
       "25%      0.000000    7.910400  \n",
       "50%      0.000000   14.454200  \n",
       "75%      0.000000   31.000000  \n",
       "max      6.000000  512.329200  "
      ]
     },
     "execution_count": 6,
     "metadata": {},
     "output_type": "execute_result"
    }
   ],
   "source": [
    "#describe() function helps us the get the count, mean, std, min, max and the quartiles of columns with numerical values for a dataframe\n",
    "titanic_data.describe()"
   ]
  },
  {
   "cell_type": "markdown",
   "id": "c9c68349-bed7-4d88-9b2d-f2ad96ae7fa0",
   "metadata": {
    "tags": []
   },
   "source": [
    "Looking at the relevant values in the output of the describe() function, we can say that columns [<span style=\"color:#f03329\">\"Age\",\"SibSp\",\"Parch\",\"Fare\"</span>] have outliers in them."
   ]
  },
  {
   "cell_type": "code",
   "execution_count": 7,
   "id": "42b9cb33-017f-4217-8fd4-24e19b2ba0e5",
   "metadata": {
    "tags": []
   },
   "outputs": [
    {
     "data": {
      "image/png": "[encoded data removed]",
      "text/plain": [
       "<Figure size 1500x1000 with 1 Axes>"
      ]
     },
     "metadata": {},
     "output_type": "display_data"
    }
   ],
   "source": [
    "#We can also use the box and whiskers plot to visualize which of the columns have outliers more clearly.\n",
    "plt.figure(figsize = (15,10), dpi = 100)\n",
    "plt.style.use(\"fivethirtyeight\")\n",
    "plt.boxplot([titanic_data[\"PassengerId\"],\n",
    "            titanic_data[\"Survived\"],\n",
    "            titanic_data[\"Pclass\"],\n",
    "            titanic_data[\"Age\"].dropna(),\n",
    "            titanic_data[\"SibSp\"],\n",
    "            titanic_data[\"Parch\"],\n",
    "            titanic_data[\"Fare\"]],patch_artist=True,labels=[\"PassengerId\",\"Survived\",\"Pclass\",\"Age\",\"SibSp\",\"Parch\",\"Fare\"])\n",
    "plt.xlabel(\"Columns with Numeric Data\")\n",
    "plt.ylabel(\"Range of Data\")\n",
    "plt.title(\"Range of data in each column along with outliers: -\")\n",
    "plt.show()"
   ]
  },
  {
   "cell_type": "markdown",
   "id": "f4003d3c-8472-4a3c-b4b9-6099ab4f72c0",
   "metadata": {},
   "source": [
    "### Using the groupby() method to group the data based on the \"Pclass\" column and calculate the mean fare for each unique class value in \"Pclass\" column: -"
   ]
  },
  {
   "cell_type": "code",
   "execution_count": 8,
   "id": "1111e6a9-6e9b-4951-a3ea-db2dc26c7ed2",
   "metadata": {
    "tags": []
   },
   "outputs": [
    {
     "data": {
      "text/html": [
       "<div>\n",
       "<style scoped>\n",
       "    .dataframe tbody tr th:only-of-type {\n",
       "        vertical-align: middle;\n",
       "    }\n",
       "\n",
       "    .dataframe tbody tr th {\n",
       "        vertical-align: top;\n",
       "    }\n",
       "\n",
       "    .dataframe thead th {\n",
       "        text-align: right;\n",
       "    }\n",
       "</style>\n",
       "<table border=\"1\" class=\"dataframe\">\n",
       "  <thead>\n",
       "    <tr style=\"text-align: right;\">\n",
       "      <th></th>\n",
       "      <th>PassengerId</th>\n",
       "      <th>Survived</th>\n",
       "      <th>Age</th>\n",
       "      <th>SibSp</th>\n",
       "      <th>Parch</th>\n",
       "      <th>Fare</th>\n",
       "    </tr>\n",
       "    <tr>\n",
       "      <th>Pclass</th>\n",
       "      <th></th>\n",
       "      <th></th>\n",
       "      <th></th>\n",
       "      <th></th>\n",
       "      <th></th>\n",
       "      <th></th>\n",
       "    </tr>\n",
       "  </thead>\n",
       "  <tbody>\n",
       "    <tr>\n",
       "      <th>1</th>\n",
       "      <td>461.597222</td>\n",
       "      <td>0.629630</td>\n",
       "      <td>38.233441</td>\n",
       "      <td>0.416667</td>\n",
       "      <td>0.356481</td>\n",
       "      <td>84.154687</td>\n",
       "    </tr>\n",
       "    <tr>\n",
       "      <th>2</th>\n",
       "      <td>445.956522</td>\n",
       "      <td>0.472826</td>\n",
       "      <td>29.877630</td>\n",
       "      <td>0.402174</td>\n",
       "      <td>0.380435</td>\n",
       "      <td>20.662183</td>\n",
       "    </tr>\n",
       "    <tr>\n",
       "      <th>3</th>\n",
       "      <td>439.154786</td>\n",
       "      <td>0.242363</td>\n",
       "      <td>25.140620</td>\n",
       "      <td>0.615071</td>\n",
       "      <td>0.393075</td>\n",
       "      <td>13.675550</td>\n",
       "    </tr>\n",
       "  </tbody>\n",
       "</table>\n",
       "</div>"
      ],
      "text/plain": [
       "        PassengerId  Survived        Age     SibSp     Parch       Fare\n",
       "Pclass                                                                 \n",
       "1        461.597222  0.629630  38.233441  0.416667  0.356481  84.154687\n",
       "2        445.956522  0.472826  29.877630  0.402174  0.380435  20.662183\n",
       "3        439.154786  0.242363  25.140620  0.615071  0.393075  13.675550"
      ]
     },
     "execution_count": 8,
     "metadata": {},
     "output_type": "execute_result"
    }
   ],
   "source": [
    "#groupby() function helps us to group the data in the dataframe based on the individual unique values in a particular column\n",
    "#That column is \"Pclass\" in our case.\n",
    "#Then we do the mean of all the columns with numerical values for each group, using the mean() function\n",
    "#The numeric_only=True keyword argument is necessary to pass otherwise it will raise an error\n",
    "#because we also have non-numeric columns in our dataframe\n",
    "titanic_data.groupby(\"Pclass\").mean(numeric_only=True)"
   ]
  },
  {
   "cell_type": "markdown",
   "id": "9cf6271f-a6b1-427d-83a0-04481aad74e9",
   "metadata": {},
   "source": [
    "### Using the value_counts() method to get the frequency count of the Embarked column: -"
   ]
  },
  {
   "cell_type": "code",
   "execution_count": 9,
   "id": "8219c762-931f-45c1-86d1-51573ba108be",
   "metadata": {
    "tags": []
   },
   "outputs": [
    {
     "data": {
      "text/plain": [
       "Embarked\n",
       "S    644\n",
       "C    168\n",
       "Q     77\n",
       "Name: count, dtype: int64"
      ]
     },
     "execution_count": 9,
     "metadata": {},
     "output_type": "execute_result"
    }
   ],
   "source": [
    "#value_counts() function helps us count the no. of times each unique value for a particular column appears throughout all the entries in a dataframe\n",
    "#That particular column in our case is the \"Embarked\" column\n",
    "titanic_data[\"Embarked\"].value_counts()"
   ]
  },
  {
   "cell_type": "code",
   "execution_count": 10,
   "id": "cc8211ef-faa3-4959-8d94-7260a86a6f39",
   "metadata": {
    "tags": []
   },
   "outputs": [
    {
     "data": {
      "text/plain": [
       "Embarked\n",
       "S      644\n",
       "C      168\n",
       "Q       77\n",
       "NaN      2\n",
       "Name: count, dtype: int64"
      ]
     },
     "execution_count": 10,
     "metadata": {},
     "output_type": "execute_result"
    }
   ],
   "source": [
    "#The value_counts() function by default excludes the count value for which Null entries for a column.\n",
    "#We can pass the dropna = False keyword argument as well, the get the count of entries where the \"Embarked\" column values were null.\n",
    "titanic_data[\"Embarked\"].value_counts(dropna=False)"
   ]
  },
  {
   "cell_type": "markdown",
   "id": "b9db0fc7-7bd9-4cf3-adc9-fea7fb91f041",
   "metadata": {},
   "source": [
    "### Creating a new column in the dataframe called AgeRange that categorises passengers into age ranges: \"Child\" for ages 0-12, \"Teen\" for ages 13-19, \"Adult\" for ages 20-59, and \"Senior\" for ages 60 and above: -"
   ]
  },
  {
   "cell_type": "code",
   "execution_count": 11,
   "id": "4132331c-9b94-4bae-8a6f-b4b1d0486252",
   "metadata": {
    "tags": []
   },
   "outputs": [
    {
     "data": {
      "text/plain": [
       "0      Adult\n",
       "1      Adult\n",
       "2      Adult\n",
       "3      Adult\n",
       "4      Adult\n",
       "       ...  \n",
       "886    Adult\n",
       "887     Teen\n",
       "888      NaN\n",
       "889    Adult\n",
       "890    Adult\n",
       "Name: AgeRange, Length: 891, dtype: category\n",
       "Categories (4, object): ['Child' < 'Teen' < 'Adult' < 'Senior']"
      ]
     },
     "execution_count": 11,
     "metadata": {},
     "output_type": "execute_result"
    }
   ],
   "source": [
    "#Creating a list(labels) which stores the names for all the different categories\n",
    "labels = [\"Child\",\"Teen\",\"Adult\",\"Senior\"]\n",
    "#creating category bins with range of each bin provided in tuples\n",
    "#max(titanic_data[\"Age\"]) returns the maximum value present in the \"Age\" column\n",
    "#used to create upper bound of the \"Senior\" category\n",
    "bins = pd.IntervalIndex.from_tuples([(0, 12), (13, 19), (20, 59),(60,max(titanic_data[\"Age\"]))])\n",
    "#Creating a new column in the dataframe called \"AgeRange\"\n",
    "#All the entries in that column will be assigned by the cut() function, based on the category bins on the \"Age\" column\n",
    "#include_lowest = True ensures that the category bins are inclusive of the values on their lower bound\n",
    "titanic_data[\"AgeRange\"] = pd.cut(titanic_data[\"Age\"], bins = bins, include_lowest = True)\n",
    "#titanic_data[\"AgeRange\"].cat.rename_categories(labels) allows us to rename the categories from the numeric ranges to the equivalent labels\n",
    "titanic_data[\"AgeRange\"] = titanic_data[\"AgeRange\"].cat.rename_categories(labels)\n",
    "#Displaying the \"AgeRange\" column\n",
    "titanic_data[\"AgeRange\"]"
   ]
  },
  {
   "cell_type": "code",
   "execution_count": 12,
   "id": "f6ca5dee-f4e4-4085-b2e7-a9b83af50f5a",
   "metadata": {
    "tags": []
   },
   "outputs": [
    {
     "data": {
      "text/html": [
       "<div>\n",
       "<style scoped>\n",
       "    .dataframe tbody tr th:only-of-type {\n",
       "        vertical-align: middle;\n",
       "    }\n",
       "\n",
       "    .dataframe tbody tr th {\n",
       "        vertical-align: top;\n",
       "    }\n",
       "\n",
       "    .dataframe thead th {\n",
       "        text-align: right;\n",
       "    }\n",
       "</style>\n",
       "<table border=\"1\" class=\"dataframe\">\n",
       "  <thead>\n",
       "    <tr style=\"text-align: right;\">\n",
       "      <th></th>\n",
       "      <th>PassengerId</th>\n",
       "      <th>Survived</th>\n",
       "      <th>Pclass</th>\n",
       "      <th>Name</th>\n",
       "      <th>Sex</th>\n",
       "      <th>Age</th>\n",
       "      <th>SibSp</th>\n",
       "      <th>Parch</th>\n",
       "      <th>Ticket</th>\n",
       "      <th>Fare</th>\n",
       "      <th>Cabin</th>\n",
       "      <th>Embarked</th>\n",
       "      <th>AgeRange</th>\n",
       "    </tr>\n",
       "  </thead>\n",
       "  <tbody>\n",
       "    <tr>\n",
       "      <th>0</th>\n",
       "      <td>1</td>\n",
       "      <td>0</td>\n",
       "      <td>3</td>\n",
       "      <td>Braund, Mr. Owen Harris</td>\n",
       "      <td>male</td>\n",
       "      <td>22.0</td>\n",
       "      <td>1</td>\n",
       "      <td>0</td>\n",
       "      <td>A/5 21171</td>\n",
       "      <td>7.2500</td>\n",
       "      <td>NaN</td>\n",
       "      <td>S</td>\n",
       "      <td>Adult</td>\n",
       "    </tr>\n",
       "    <tr>\n",
       "      <th>1</th>\n",
       "      <td>2</td>\n",
       "      <td>1</td>\n",
       "      <td>1</td>\n",
       "      <td>Cumings, Mrs. John Bradley (Florence Briggs Th...</td>\n",
       "      <td>female</td>\n",
       "      <td>38.0</td>\n",
       "      <td>1</td>\n",
       "      <td>0</td>\n",
       "      <td>PC 17599</td>\n",
       "      <td>71.2833</td>\n",
       "      <td>C85</td>\n",
       "      <td>C</td>\n",
       "      <td>Adult</td>\n",
       "    </tr>\n",
       "    <tr>\n",
       "      <th>2</th>\n",
       "      <td>3</td>\n",
       "      <td>1</td>\n",
       "      <td>3</td>\n",
       "      <td>Heikkinen, Miss. Laina</td>\n",
       "      <td>female</td>\n",
       "      <td>26.0</td>\n",
       "      <td>0</td>\n",
       "      <td>0</td>\n",
       "      <td>STON/O2. 3101282</td>\n",
       "      <td>7.9250</td>\n",
       "      <td>NaN</td>\n",
       "      <td>S</td>\n",
       "      <td>Adult</td>\n",
       "    </tr>\n",
       "    <tr>\n",
       "      <th>3</th>\n",
       "      <td>4</td>\n",
       "      <td>1</td>\n",
       "      <td>1</td>\n",
       "      <td>Futrelle, Mrs. Jacques Heath (Lily May Peel)</td>\n",
       "      <td>female</td>\n",
       "      <td>35.0</td>\n",
       "      <td>1</td>\n",
       "      <td>0</td>\n",
       "      <td>113803</td>\n",
       "      <td>53.1000</td>\n",
       "      <td>C123</td>\n",
       "      <td>S</td>\n",
       "      <td>Adult</td>\n",
       "    </tr>\n",
       "    <tr>\n",
       "      <th>4</th>\n",
       "      <td>5</td>\n",
       "      <td>0</td>\n",
       "      <td>3</td>\n",
       "      <td>Allen, Mr. William Henry</td>\n",
       "      <td>male</td>\n",
       "      <td>35.0</td>\n",
       "      <td>0</td>\n",
       "      <td>0</td>\n",
       "      <td>373450</td>\n",
       "      <td>8.0500</td>\n",
       "      <td>NaN</td>\n",
       "      <td>S</td>\n",
       "      <td>Adult</td>\n",
       "    </tr>\n",
       "  </tbody>\n",
       "</table>\n",
       "</div>"
      ],
      "text/plain": [
       "   PassengerId  Survived  Pclass  \\\n",
       "0            1         0       3   \n",
       "1            2         1       1   \n",
       "2            3         1       3   \n",
       "3            4         1       1   \n",
       "4            5         0       3   \n",
       "\n",
       "                                                Name     Sex   Age  SibSp  \\\n",
       "0                            Braund, Mr. Owen Harris    male  22.0      1   \n",
       "1  Cumings, Mrs. John Bradley (Florence Briggs Th...  female  38.0      1   \n",
       "2                             Heikkinen, Miss. Laina  female  26.0      0   \n",
       "3       Futrelle, Mrs. Jacques Heath (Lily May Peel)  female  35.0      1   \n",
       "4                           Allen, Mr. William Henry    male  35.0      0   \n",
       "\n",
       "   Parch            Ticket     Fare Cabin Embarked AgeRange  \n",
       "0      0         A/5 21171   7.2500   NaN        S    Adult  \n",
       "1      0          PC 17599  71.2833   C85        C    Adult  \n",
       "2      0  STON/O2. 3101282   7.9250   NaN        S    Adult  \n",
       "3      0            113803  53.1000  C123        S    Adult  \n",
       "4      0            373450   8.0500   NaN        S    Adult  "
      ]
     },
     "execution_count": 12,
     "metadata": {},
     "output_type": "execute_result"
    }
   ],
   "source": [
    "#Printing the top 5 entries of the dataframe to check whether the \"AgeRange\" column was properly added\n",
    "titanic_data.head()"
   ]
  },
  {
   "cell_type": "markdown",
   "id": "e096f40d-41eb-4523-a9e1-78bb8e66dbd1",
   "metadata": {},
   "source": [
    "### Using the pivot_table() method to create a pivot table that shows the survival rate of passengers based on their sex, class, and age range: -"
   ]
  },
  {
   "cell_type": "markdown",
   "id": "56e3b614-3b9d-46ea-8644-bb06b0b7449c",
   "metadata": {
    "tags": []
   },
   "source": [
    "#### Based on Sex/Gender: -"
   ]
  },
  {
   "cell_type": "code",
   "execution_count": 24,
   "id": "e0c5d4ee-7053-4518-944b-9d54ddd77b4b",
   "metadata": {
    "tags": []
   },
   "outputs": [
    {
     "data": {
      "text/html": [
       "<div>\n",
       "<style scoped>\n",
       "    .dataframe tbody tr th:only-of-type {\n",
       "        vertical-align: middle;\n",
       "    }\n",
       "\n",
       "    .dataframe tbody tr th {\n",
       "        vertical-align: top;\n",
       "    }\n",
       "\n",
       "    .dataframe thead tr th {\n",
       "        text-align: left;\n",
       "    }\n",
       "\n",
       "    .dataframe thead tr:last-of-type th {\n",
       "        text-align: right;\n",
       "    }\n",
       "</style>\n",
       "<table border=\"1\" class=\"dataframe\">\n",
       "  <thead>\n",
       "    <tr>\n",
       "      <th></th>\n",
       "      <th colspan=\"2\" halign=\"left\">Count</th>\n",
       "    </tr>\n",
       "    <tr>\n",
       "      <th>Survived</th>\n",
       "      <th>0</th>\n",
       "      <th>1</th>\n",
       "    </tr>\n",
       "    <tr>\n",
       "      <th>Sex</th>\n",
       "      <th></th>\n",
       "      <th></th>\n",
       "    </tr>\n",
       "  </thead>\n",
       "  <tbody>\n",
       "    <tr>\n",
       "      <th>female</th>\n",
       "      <td>81</td>\n",
       "      <td>233</td>\n",
       "    </tr>\n",
       "    <tr>\n",
       "      <th>male</th>\n",
       "      <td>468</td>\n",
       "      <td>109</td>\n",
       "    </tr>\n",
       "  </tbody>\n",
       "</table>\n",
       "</div>"
      ],
      "text/plain": [
       "         Count     \n",
       "Survived     0    1\n",
       "Sex                \n",
       "female      81  233\n",
       "male       468  109"
      ]
     },
     "execution_count": 24,
     "metadata": {},
     "output_type": "execute_result"
    }
   ],
   "source": [
    "#Copying the values of the \"Survived\" and \"Sex\" columns from the (titanic_data) dataframe into a new dataframe named (gender_specific_survival)\n",
    "gender_specific_survival = titanic_data[[\"Survived\",\"Sex\"]].copy()\n",
    "#Adding a new column called \"Count\" to gender_specific_survival where the values for all the entries in the dataframe will be initially 1 \n",
    "gender_specific_survival[\"Count\"] = np.ones(gender_specific_survival.shape[0],dtype=int)\n",
    "#Creating a new dataframe called (gss_pivot_table) using the pivot_table() function\n",
    "#It divides the \"Count\" column into different groups based on the the unique values of the \"Sex\" and \"Survived\" columns\n",
    "#The unique values of the \"Sex\" column become the index values of the resulting dataframe\n",
    "#The unique values of the \"Survived\" column become the columns of the resulting dataframe\n",
    "#The aggfunc = count keyword argument applies the count() aggregate function over all the groups created\n",
    "#and stores the result as entries in the cells of gss_pivot_table\n",
    "gss_pivot_table = gender_specific_survival.pivot_table(index = \"Sex\", columns = \"Survived\", aggfunc = \"count\")\n",
    "#displaying the gss_pivot_table\n",
    "gss_pivot_table"
   ]
  },
  {
   "cell_type": "code",
   "execution_count": 14,
   "id": "1ef274a3-722d-4cf3-b291-45cc7ac0377f",
   "metadata": {
    "tags": []
   },
   "outputs": [
    {
     "data": {
      "text/html": [
       "<div>\n",
       "<style scoped>\n",
       "    .dataframe tbody tr th:only-of-type {\n",
       "        vertical-align: middle;\n",
       "    }\n",
       "\n",
       "    .dataframe tbody tr th {\n",
       "        vertical-align: top;\n",
       "    }\n",
       "\n",
       "    .dataframe thead tr th {\n",
       "        text-align: left;\n",
       "    }\n",
       "\n",
       "    .dataframe thead tr:last-of-type th {\n",
       "        text-align: right;\n",
       "    }\n",
       "</style>\n",
       "<table border=\"1\" class=\"dataframe\">\n",
       "  <thead>\n",
       "    <tr>\n",
       "      <th></th>\n",
       "      <th colspan=\"2\" halign=\"left\">Count</th>\n",
       "      <th colspan=\"2\" halign=\"left\">Percent(%)</th>\n",
       "    </tr>\n",
       "    <tr>\n",
       "      <th>Survived</th>\n",
       "      <th>0</th>\n",
       "      <th>1</th>\n",
       "      <th>0</th>\n",
       "      <th>1</th>\n",
       "    </tr>\n",
       "    <tr>\n",
       "      <th>Sex</th>\n",
       "      <th></th>\n",
       "      <th></th>\n",
       "      <th></th>\n",
       "      <th></th>\n",
       "    </tr>\n",
       "  </thead>\n",
       "  <tbody>\n",
       "    <tr>\n",
       "      <th>female</th>\n",
       "      <td>81</td>\n",
       "      <td>233</td>\n",
       "      <td>25.796178</td>\n",
       "      <td>74.203822</td>\n",
       "    </tr>\n",
       "    <tr>\n",
       "      <th>male</th>\n",
       "      <td>468</td>\n",
       "      <td>109</td>\n",
       "      <td>81.109185</td>\n",
       "      <td>18.890815</td>\n",
       "    </tr>\n",
       "  </tbody>\n",
       "</table>\n",
       "</div>"
      ],
      "text/plain": [
       "         Count      Percent(%)           \n",
       "Survived     0    1          0          1\n",
       "Sex                                      \n",
       "female      81  233  25.796178  74.203822\n",
       "male       468  109  81.109185  18.890815"
      ]
     },
     "execution_count": 14,
     "metadata": {},
     "output_type": "execute_result"
    }
   ],
   "source": [
    "#Creating two numpy arrays full of zeros with lengths equal to the no. of rows in gss_pivot_table and datatype of each array is float\n",
    "percent_dead_arr = np.zeros(gss_pivot_table.shape[0],dtype = \"float\")\n",
    "percent_alive_arr = np.zeros(gss_pivot_table.shape[0],dtype = \"float\")\n",
    "\n",
    "i = 0 #creating a variable i with initial value set to 0\n",
    "#running a loop through all the rows in gss_pivot_table\n",
    "for index,row in gss_pivot_table.iterrows():\n",
    "    #Storing the dead and alive percentage values of passengers out of all passengers in each index category of gss_pivot_table\n",
    "    #in the respective positions of the percent_dead_arr and percent_alive_arr arrays\n",
    "    percent_dead_arr[i] = (row[(\"Count\",0)] / (row[(\"Count\",0)] + row[(\"Count\",1)])) * 100\n",
    "    percent_alive_arr[i] = (row[(\"Count\",1)] / (row[(\"Count\",0)] + row[(\"Count\",1)])) * 100\n",
    "    i += 1#incrementing the loop variable\n",
    "#Trying to insert two new MultiIndex columns within the gss_pivot_table as (\"Percent(%)\",0) and (\"Percent(%)\",1)\n",
    "#The columns will be inserted at the righthand side of the gss_pivot_table \n",
    "#and the values will be arrays percent_dead_arr and percent_alive_arr respectively\n",
    "#we do this using the insert() function\n",
    "try:\n",
    "    gss_pivot_table.insert(gss_pivot_table.shape[1],(\"Percent(%)\",0),percent_dead_arr)\n",
    "    gss_pivot_table.insert(gss_pivot_table.shape[1],(\"Percent(%)\",1),percent_alive_arr)\n",
    "except ValueError:\n",
    "    #This part of the code was put in a try catch block because trying to recreate columns with the same names will result in a ValueError\n",
    "    #We ignore this so that the code can excute without problems\n",
    "    pass\n",
    "gss_pivot_table"
   ]
  },
  {
   "cell_type": "markdown",
   "id": "1ac1e79a-cfb7-479b-8597-39d8ac514790",
   "metadata": {},
   "source": [
    "1. The female survival rate was about 74% while the male survival rate was about 19%.\n",
    "2. A lot more women survived than men, a lot more men died than women."
   ]
  },
  {
   "cell_type": "markdown",
   "id": "8063663b-7fce-4aca-ae99-6f557fcaf47c",
   "metadata": {
    "tags": []
   },
   "source": [
    "#### Based on Class: -"
   ]
  },
  {
   "cell_type": "code",
   "execution_count": 15,
   "id": "bded0573-24a9-425e-9868-30184c5495bf",
   "metadata": {
    "tags": []
   },
   "outputs": [
    {
     "data": {
      "text/html": [
       "<div>\n",
       "<style scoped>\n",
       "    .dataframe tbody tr th:only-of-type {\n",
       "        vertical-align: middle;\n",
       "    }\n",
       "\n",
       "    .dataframe tbody tr th {\n",
       "        vertical-align: top;\n",
       "    }\n",
       "\n",
       "    .dataframe thead tr th {\n",
       "        text-align: left;\n",
       "    }\n",
       "\n",
       "    .dataframe thead tr:last-of-type th {\n",
       "        text-align: right;\n",
       "    }\n",
       "</style>\n",
       "<table border=\"1\" class=\"dataframe\">\n",
       "  <thead>\n",
       "    <tr>\n",
       "      <th></th>\n",
       "      <th colspan=\"2\" halign=\"left\">Count</th>\n",
       "    </tr>\n",
       "    <tr>\n",
       "      <th>Survived</th>\n",
       "      <th>0</th>\n",
       "      <th>1</th>\n",
       "    </tr>\n",
       "    <tr>\n",
       "      <th>Pclass</th>\n",
       "      <th></th>\n",
       "      <th></th>\n",
       "    </tr>\n",
       "  </thead>\n",
       "  <tbody>\n",
       "    <tr>\n",
       "      <th>1</th>\n",
       "      <td>80</td>\n",
       "      <td>136</td>\n",
       "    </tr>\n",
       "    <tr>\n",
       "      <th>2</th>\n",
       "      <td>97</td>\n",
       "      <td>87</td>\n",
       "    </tr>\n",
       "    <tr>\n",
       "      <th>3</th>\n",
       "      <td>372</td>\n",
       "      <td>119</td>\n",
       "    </tr>\n",
       "  </tbody>\n",
       "</table>\n",
       "</div>"
      ],
      "text/plain": [
       "         Count     \n",
       "Survived     0    1\n",
       "Pclass             \n",
       "1           80  136\n",
       "2           97   87\n",
       "3          372  119"
      ]
     },
     "execution_count": 15,
     "metadata": {},
     "output_type": "execute_result"
    }
   ],
   "source": [
    "#Same as above but using dataframes class_specific_survival and css_pivot_table instead\n",
    "class_specific_survival = titanic_data[[\"Survived\",\"Pclass\"]].copy()\n",
    "class_specific_survival[\"Count\"] = np.ones(class_specific_survival.shape[0],dtype=int)\n",
    "css_pivot_table = class_specific_survival.pivot_table(index = \"Pclass\", columns = \"Survived\", aggfunc = \"count\")\n",
    "css_pivot_table"
   ]
  },
  {
   "cell_type": "code",
   "execution_count": 16,
   "id": "8a223e95-72fb-4c24-b1a9-c91e98a34c90",
   "metadata": {
    "tags": []
   },
   "outputs": [
    {
     "data": {
      "text/html": [
       "<div>\n",
       "<style scoped>\n",
       "    .dataframe tbody tr th:only-of-type {\n",
       "        vertical-align: middle;\n",
       "    }\n",
       "\n",
       "    .dataframe tbody tr th {\n",
       "        vertical-align: top;\n",
       "    }\n",
       "\n",
       "    .dataframe thead tr th {\n",
       "        text-align: left;\n",
       "    }\n",
       "\n",
       "    .dataframe thead tr:last-of-type th {\n",
       "        text-align: right;\n",
       "    }\n",
       "</style>\n",
       "<table border=\"1\" class=\"dataframe\">\n",
       "  <thead>\n",
       "    <tr>\n",
       "      <th></th>\n",
       "      <th colspan=\"2\" halign=\"left\">Count</th>\n",
       "      <th colspan=\"2\" halign=\"left\">Percent(%)</th>\n",
       "    </tr>\n",
       "    <tr>\n",
       "      <th>Survived</th>\n",
       "      <th>0</th>\n",
       "      <th>1</th>\n",
       "      <th>0</th>\n",
       "      <th>1</th>\n",
       "    </tr>\n",
       "    <tr>\n",
       "      <th>Pclass</th>\n",
       "      <th></th>\n",
       "      <th></th>\n",
       "      <th></th>\n",
       "      <th></th>\n",
       "    </tr>\n",
       "  </thead>\n",
       "  <tbody>\n",
       "    <tr>\n",
       "      <th>1</th>\n",
       "      <td>80</td>\n",
       "      <td>136</td>\n",
       "      <td>37.037037</td>\n",
       "      <td>62.962963</td>\n",
       "    </tr>\n",
       "    <tr>\n",
       "      <th>2</th>\n",
       "      <td>97</td>\n",
       "      <td>87</td>\n",
       "      <td>52.717391</td>\n",
       "      <td>47.282609</td>\n",
       "    </tr>\n",
       "    <tr>\n",
       "      <th>3</th>\n",
       "      <td>372</td>\n",
       "      <td>119</td>\n",
       "      <td>75.763747</td>\n",
       "      <td>24.236253</td>\n",
       "    </tr>\n",
       "  </tbody>\n",
       "</table>\n",
       "</div>"
      ],
      "text/plain": [
       "         Count      Percent(%)           \n",
       "Survived     0    1          0          1\n",
       "Pclass                                   \n",
       "1           80  136  37.037037  62.962963\n",
       "2           97   87  52.717391  47.282609\n",
       "3          372  119  75.763747  24.236253"
      ]
     },
     "execution_count": 16,
     "metadata": {},
     "output_type": "execute_result"
    }
   ],
   "source": [
    "#Same as above but using dataframes class_specific_survival and css_pivot_table instead\n",
    "percent_dead_arr = np.zeros(css_pivot_table.shape[0],dtype = \"float\")\n",
    "percent_alive_arr = np.zeros(css_pivot_table.shape[0],dtype = \"float\")\n",
    "\n",
    "i = 0\n",
    "for index,row in css_pivot_table.iterrows():\n",
    "    percent_dead_arr[i] = (row[(\"Count\",0)] / (row[(\"Count\",0)] + row[(\"Count\",1)])) * 100\n",
    "    percent_alive_arr[i] = (row[(\"Count\",1)] / (row[(\"Count\",0)] + row[(\"Count\",1)])) * 100\n",
    "    i += 1\n",
    "try:\n",
    "    css_pivot_table.insert(css_pivot_table.shape[1],(\"Percent(%)\",0),percent_dead_arr)\n",
    "    css_pivot_table.insert(css_pivot_table.shape[1],(\"Percent(%)\",1),percent_alive_arr)\n",
    "except ValueError:\n",
    "    pass\n",
    "css_pivot_table"
   ]
  },
  {
   "cell_type": "markdown",
   "id": "56ca5564-ed13-445f-acd5-9a3df62b6a76",
   "metadata": {},
   "source": [
    "1. The passengers with Pclass = 1 had the highest survival rate(around 63 %).\n",
    "2. For the passengers with Pclass = 2 the survival rate(around 53 %) was almost nearabout the same as their mortality rate(47 %).\n",
    "3. The passengers with Pclass = 3 had the lowest survival rate(only about 24 % of them survived)."
   ]
  },
  {
   "cell_type": "markdown",
   "id": "9b8c782a-fc1c-4d04-8ac7-ebab0c8a69d6",
   "metadata": {},
   "source": [
    "#### Based on Age Range: -"
   ]
  },
  {
   "cell_type": "code",
   "execution_count": 17,
   "id": "4fd793ae-0581-437d-91e5-7354e20e5ed9",
   "metadata": {
    "tags": []
   },
   "outputs": [
    {
     "data": {
      "text/html": [
       "<div>\n",
       "<style scoped>\n",
       "    .dataframe tbody tr th:only-of-type {\n",
       "        vertical-align: middle;\n",
       "    }\n",
       "\n",
       "    .dataframe tbody tr th {\n",
       "        vertical-align: top;\n",
       "    }\n",
       "\n",
       "    .dataframe thead tr th {\n",
       "        text-align: left;\n",
       "    }\n",
       "\n",
       "    .dataframe thead tr:last-of-type th {\n",
       "        text-align: right;\n",
       "    }\n",
       "</style>\n",
       "<table border=\"1\" class=\"dataframe\">\n",
       "  <thead>\n",
       "    <tr>\n",
       "      <th></th>\n",
       "      <th colspan=\"2\" halign=\"left\">Count</th>\n",
       "    </tr>\n",
       "    <tr>\n",
       "      <th>Survived</th>\n",
       "      <th>0</th>\n",
       "      <th>1</th>\n",
       "    </tr>\n",
       "    <tr>\n",
       "      <th>AgeRange</th>\n",
       "      <th></th>\n",
       "      <th></th>\n",
       "    </tr>\n",
       "  </thead>\n",
       "  <tbody>\n",
       "    <tr>\n",
       "      <th>Child</th>\n",
       "      <td>29</td>\n",
       "      <td>40</td>\n",
       "    </tr>\n",
       "    <tr>\n",
       "      <th>Teen</th>\n",
       "      <td>56</td>\n",
       "      <td>37</td>\n",
       "    </tr>\n",
       "    <tr>\n",
       "      <th>Adult</th>\n",
       "      <td>308</td>\n",
       "      <td>201</td>\n",
       "    </tr>\n",
       "    <tr>\n",
       "      <th>Senior</th>\n",
       "      <td>17</td>\n",
       "      <td>5</td>\n",
       "    </tr>\n",
       "  </tbody>\n",
       "</table>\n",
       "</div>"
      ],
      "text/plain": [
       "         Count     \n",
       "Survived     0    1\n",
       "AgeRange           \n",
       "Child       29   40\n",
       "Teen        56   37\n",
       "Adult      308  201\n",
       "Senior      17    5"
      ]
     },
     "execution_count": 17,
     "metadata": {},
     "output_type": "execute_result"
    }
   ],
   "source": [
    "#Same as above but using dataframes agerange_specific_survival and arss_pivot_table instead\n",
    "age_range_specific_survival = titanic_data[[\"Survived\",\"AgeRange\"]].copy()\n",
    "age_range_specific_survival[\"Count\"] = np.ones(age_range_specific_survival.shape[0],dtype=int)\n",
    "arss_pivot_table = age_range_specific_survival.pivot_table(index = \"AgeRange\", columns = \"Survived\", aggfunc = \"count\")\n",
    "arss_pivot_table"
   ]
  },
  {
   "cell_type": "code",
   "execution_count": 18,
   "id": "9a2532cb-987f-4288-bd04-e98ec833cf0d",
   "metadata": {
    "tags": []
   },
   "outputs": [
    {
     "data": {
      "text/html": [
       "<div>\n",
       "<style scoped>\n",
       "    .dataframe tbody tr th:only-of-type {\n",
       "        vertical-align: middle;\n",
       "    }\n",
       "\n",
       "    .dataframe tbody tr th {\n",
       "        vertical-align: top;\n",
       "    }\n",
       "\n",
       "    .dataframe thead tr th {\n",
       "        text-align: left;\n",
       "    }\n",
       "\n",
       "    .dataframe thead tr:last-of-type th {\n",
       "        text-align: right;\n",
       "    }\n",
       "</style>\n",
       "<table border=\"1\" class=\"dataframe\">\n",
       "  <thead>\n",
       "    <tr>\n",
       "      <th></th>\n",
       "      <th colspan=\"2\" halign=\"left\">Count</th>\n",
       "      <th colspan=\"2\" halign=\"left\">Percent(%)</th>\n",
       "    </tr>\n",
       "    <tr>\n",
       "      <th>Survived</th>\n",
       "      <th>0</th>\n",
       "      <th>1</th>\n",
       "      <th>0</th>\n",
       "      <th>1</th>\n",
       "    </tr>\n",
       "    <tr>\n",
       "      <th>AgeRange</th>\n",
       "      <th></th>\n",
       "      <th></th>\n",
       "      <th></th>\n",
       "      <th></th>\n",
       "    </tr>\n",
       "  </thead>\n",
       "  <tbody>\n",
       "    <tr>\n",
       "      <th>Child</th>\n",
       "      <td>29</td>\n",
       "      <td>40</td>\n",
       "      <td>42.028986</td>\n",
       "      <td>57.971014</td>\n",
       "    </tr>\n",
       "    <tr>\n",
       "      <th>Teen</th>\n",
       "      <td>56</td>\n",
       "      <td>37</td>\n",
       "      <td>60.215054</td>\n",
       "      <td>39.784946</td>\n",
       "    </tr>\n",
       "    <tr>\n",
       "      <th>Adult</th>\n",
       "      <td>308</td>\n",
       "      <td>201</td>\n",
       "      <td>60.510806</td>\n",
       "      <td>39.489194</td>\n",
       "    </tr>\n",
       "    <tr>\n",
       "      <th>Senior</th>\n",
       "      <td>17</td>\n",
       "      <td>5</td>\n",
       "      <td>77.272727</td>\n",
       "      <td>22.727273</td>\n",
       "    </tr>\n",
       "  </tbody>\n",
       "</table>\n",
       "</div>"
      ],
      "text/plain": [
       "         Count      Percent(%)           \n",
       "Survived     0    1          0          1\n",
       "AgeRange                                 \n",
       "Child       29   40  42.028986  57.971014\n",
       "Teen        56   37  60.215054  39.784946\n",
       "Adult      308  201  60.510806  39.489194\n",
       "Senior      17    5  77.272727  22.727273"
      ]
     },
     "execution_count": 18,
     "metadata": {},
     "output_type": "execute_result"
    }
   ],
   "source": [
    "#Same as above but using dataframes agerange_specific_survival and arss_pivot_table instead\n",
    "percent_dead_arr = np.zeros(arss_pivot_table.shape[0],dtype = \"float\")\n",
    "percent_alive_arr = np.zeros(arss_pivot_table.shape[0],dtype = \"float\")\n",
    "\n",
    "i = 0\n",
    "for index,row in arss_pivot_table.iterrows():\n",
    "    percent_dead_arr[i] = (row[(\"Count\",0)] / (row[(\"Count\",0)] + row[(\"Count\",1)])) * 100\n",
    "    percent_alive_arr[i] = (row[(\"Count\",1)] / (row[(\"Count\",0)] + row[(\"Count\",1)])) * 100\n",
    "    i += 1\n",
    "try:\n",
    "    arss_pivot_table.insert(arss_pivot_table.shape[1],(\"Percent(%)\",0),percent_dead_arr)\n",
    "    arss_pivot_table.insert(arss_pivot_table.shape[1],(\"Percent(%)\",1),percent_alive_arr)\n",
    "except ValueError:\n",
    "    pass\n",
    "arss_pivot_table"
   ]
  },
  {
   "cell_type": "markdown",
   "id": "0f2ec906-35b9-4652-8db0-4328f3ac8dec",
   "metadata": {},
   "source": [
    "1. The Child age group had the highest survival rate(around 58%).\n",
    "2. The survival and mortality rates for both Teen and Adult age groups are near about the same as each other, despite the total number of passengers in the Adult age group vastly outnumbering the ones in the Teen age group.\n",
    "3. The passengers under the Senior age group had the lowest survival rate(around 23%) while also being the age group with the lowest number of passengers onboard."
   ]
  },
  {
   "cell_type": "markdown",
   "id": "75811ea5-9acc-40a6-af7e-a35938e00163",
   "metadata": {},
   "source": [
    "### Creating a bar chart that shows the total number of passengers in each age range: -"
   ]
  },
  {
   "cell_type": "code",
   "execution_count": 19,
   "id": "6d18d7cb-dfd5-4c78-a0bb-e132c95cb59a",
   "metadata": {
    "tags": []
   },
   "outputs": [
    {
     "data": {
      "text/plain": [
       "AgeRange\n",
       "Adult     509\n",
       "Teen       93\n",
       "Child      69\n",
       "Senior     22\n",
       "Name: count, dtype: int64"
      ]
     },
     "execution_count": 19,
     "metadata": {},
     "output_type": "execute_result"
    }
   ],
   "source": [
    "#titanic_age_range_categories stores the number of passengers per category in \"AgeRange\" by using the valuecounts() function\n",
    "titanic_age_range_categories = titanic_data[\"AgeRange\"].value_counts()\n",
    "#displaying the titanic_age_range_categories Series\n",
    "titanic_age_range_categories"
   ]
  },
  {
   "cell_type": "code",
   "execution_count": 20,
   "id": "8a91fb18-ad8b-4727-a50b-6835a505cd2f",
   "metadata": {
    "tags": []
   },
   "outputs": [
    {
     "data": {
      "image/png": "[encoded data removed]",
      "text/plain": [
       "<Figure size 640x480 with 1 Axes>"
      ]
     },
     "metadata": {},
     "output_type": "display_data"
    }
   ],
   "source": [
    "#plotting a bar plot with the indexes on the x-axis and the values on the y-axis of the titanic_age_range_categories dataframe\n",
    "plt.bar(titanic_age_range_categories.index,titanic_age_range_categories.values)\n",
    "#Setting the x-axis label\n",
    "plt.xlabel(\"Age Range Categories: -\")\n",
    "#Setting the y-axis label\n",
    "plt.ylabel(\"No. of Passengers: -\")\n",
    "#Setting the title of the graph\n",
    "plt.title(\"No. of Passengers in each Age Range category: -\")\n",
    "#Displaying the plot\n",
    "plt.show()"
   ]
  },
  {
   "cell_type": "markdown",
   "id": "cccf63ba-a924-4b6e-96f9-b2341efcb675",
   "metadata": {},
   "source": [
    "### Creating a scatter plot that shows the relationship between age and fare and coloring the points based on whether the passenger survived or not: -"
   ]
  },
  {
   "cell_type": "code",
   "execution_count": 21,
   "id": "1013a301-e9ef-411f-a341-f4dc609102c6",
   "metadata": {
    "tags": []
   },
   "outputs": [],
   "source": [
    "#Creating 2 separate dicts for dead and alive values with keys \"Age\" and \"Fare\" for both of them.\n",
    "#The values are empty lists initially\n",
    "dict_alive_values = {\"Age\":[],\"Fare\":[]}\n",
    "dict_dead_values = {\"Age\":[],\"Fare\":[]}\n",
    "#Storing the \"Age\", \"Fare\" & \"Survived\" column of the titanic_data dataframe into a new dataframe called age_fare_relation_table\n",
    "age_fare_relation_table = titanic_data[[\"Age\",\"Fare\",\"Survived\"]]\n",
    "#Running a loop over all the rows in all the rows in age_fare_relation_table\n",
    "for index,row in age_fare_relation_table.iterrows():\n",
    "    #If the \"Survived\" column value of a row is 0, append the \"Age\" and \"Fare\" column values of that row into the appropriate lists of dict_dead_values\n",
    "    if row[\"Survived\"] == 0:\n",
    "        dict_dead_values[\"Age\"].append(row[\"Age\"])\n",
    "        dict_dead_values[\"Fare\"].append(row[\"Fare\"])\n",
    "        #If the \"Survived\" column value of a row is 1, append the \"Age\" and \"Fare\" column values of that row into the appropriate lists of dict_alive_values\n",
    "    elif row[\"Survived\"] == 1:\n",
    "        dict_alive_values[\"Age\"].append(row[\"Age\"])\n",
    "        dict_alive_values[\"Fare\"].append(row[\"Fare\"])"
   ]
  },
  {
   "cell_type": "code",
   "execution_count": 22,
   "id": "60a55eed-fed1-48a4-aebc-82165b427de9",
   "metadata": {
    "tags": []
   },
   "outputs": [
    {
     "data": {
      "image/png": "[encoded data removed]",
      "text/plain": [
       "<Figure size 1800x1000 with 2 Axes>"
      ]
     },
     "metadata": {},
     "output_type": "display_data"
    }
   ],
   "source": [
    "#Creating a figure containing 2 axes using subplots function\n",
    "fig,(ax1,ax2) = plt.subplots(1,2,figsize = (18,10))\n",
    "#using the \"dark_background\" style for the plot\n",
    "plt.style.use(\"bmh\")\n",
    "\n",
    "#Adjusting the gaps between the 2 plots and the gaps between the plots and the figure\n",
    "plt.subplots_adjust(wspace = 0.1,hspace = 0.1)\n",
    "plt.tight_layout(pad = 3)\n",
    "\n",
    "#plotting dict_alive_values after dict_dead_values so the data points for the people alive appear in the foreground\n",
    "ax1.scatter(dict_dead_values[\"Age\"],dict_dead_values[\"Fare\"],color=\"red\",label=\"Status : Dead\")\n",
    "ax1.scatter(dict_alive_values[\"Age\"],dict_alive_values[\"Fare\"],color=\"green\",label=\"Status : Alive\")\n",
    "\n",
    "#plotting dict_dead_values after dict_alive_values so the data points for the dead people appear in the foreground\n",
    "ax2.scatter(dict_alive_values[\"Age\"],dict_alive_values[\"Fare\"],color=\"green\",label=\"Status : Alive\")\n",
    "ax2.scatter(dict_dead_values[\"Age\"],dict_dead_values[\"Fare\"],color=\"red\",label=\"Status : Dead\")\n",
    "\n",
    "#Setting up the various x-axis labels and y-axis labels along with the legends and the title\n",
    "ax1.set_xlabel(\"Age of Passengers\",fontdict={\"family\":\"serif\",\"size\":15})\n",
    "ax1.set_ylabel(\"Fare paid by Passengers\",fontdict={\"family\":\"serif\",\"size\":15})\n",
    "ax2.set_xlabel(\"Age of Passengers\",fontdict={\"family\":\"serif\",\"size\":15})\n",
    "ax2.set_ylabel(\"Fare paid by Passengers\",fontdict={\"family\":\"serif\",\"size\":15})\n",
    "ax1.legend()\n",
    "ax2.legend()\n",
    "fig.suptitle(\"Age v/s Fare\",fontdict={\"family\":\"serif\",\"size\":40,\"weight\":\"bold\"})\n",
    "\n",
    "#displaying the plot\n",
    "plt.show()"
   ]
  },
  {
   "cell_type": "markdown",
   "id": "e7e1f138-72e4-4d4e-be8c-6ae7934d82e4",
   "metadata": {},
   "source": [
    "1. The fare paid seems to have remained somewhat constant regardless of the passengers age\n",
    "2. However, as the fare value increases, there seems to be more passengers who survived compared to passengers who died."
   ]
  }
 ],
 "metadata": {
  "kernelspec": {
   "display_name": "Python 3 (ipykernel)",
   "language": "python",
   "name": "python3"
  },
  "language_info": {
   "codemirror_mode": {
    "name": "ipython",
    "version": 3
   },
   "file_extension": ".py",
   "mimetype": "text/x-python",
   "name": "python",
   "nbconvert_exporter": "python",
   "pygments_lexer": "ipython3",
   "version": "3.11.7"
  }
 },
 "nbformat": 4,
 "nbformat_minor": 5
}
