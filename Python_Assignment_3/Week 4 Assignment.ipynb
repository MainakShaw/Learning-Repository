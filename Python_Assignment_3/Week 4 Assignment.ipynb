{
 "cells": [
  {
   "cell_type": "markdown",
   "id": "d6ce5515-c451-4ba2-becb-9be61bd33761",
   "metadata": {},
   "source": [
    "## Assignment 4"
   ]
  },
  {
   "cell_type": "markdown",
   "id": "503e0314-07e8-42bc-9689-203121815f82",
   "metadata": {},
   "source": [
    "Q1. Write a Python function that takes a list of temperatures in Fahrenheit\n",
    "as input and outputs a new list with the temperatures converted to Celsius?"
   ]
  },
  {
   "cell_type": "code",
   "execution_count": 6,
   "id": "4f66685d-a82d-4aa9-99e6-d9535d1e1aaf",
   "metadata": {
    "tags": []
   },
   "outputs": [
    {
     "name": "stdin",
     "output_type": "stream",
     "text": [
      "Enter all the temperatures in Celcius(°C):  100 23.5 37 90 0 234\n"
     ]
    },
    {
     "name": "stdout",
     "output_type": "stream",
     "text": [
      "The temperatures in Fahrenheit(°F):  [212.0, 74.3, 98.6, 194.0, 32.0, 453.2]\n"
     ]
    }
   ],
   "source": [
    "celcius_list=[float(x) for x in input(\"Enter all the temperatures in Celcius(°C): \").split()]\n",
    "fahrenheit_list=list(map(lambda c:(9*c/5)+32,celcius_list))\n",
    "print(\"The temperatures in Fahrenheit(°F): \",fahrenheit_list)"
   ]
  },
  {
   "cell_type": "markdown",
   "id": "2036501a-1f33-4868-ba1b-2d2d5857057e",
   "metadata": {},
   "source": [
    "Q2. Write a Python function that takes a list of book titles and their\n",
    "respective authors as input and outputs a new dictionary with the authors\n",
    "as keys and the book titles as values?"
   ]
  },
  {
   "cell_type": "code",
   "execution_count": 11,
   "id": "c52cca99-cd25-4dc7-8458-04860c0503e4",
   "metadata": {
    "tags": []
   },
   "outputs": [
    {
     "name": "stdin",
     "output_type": "stream",
     "text": [
      "Enter the book titles:  Adventures of Tom Sawyer,Alice in Wonderland,Agni Veena,Ancient Mariner\n",
      "Enter the respective author names:  Mark Twain,Lewis Carrol,Kazi Nasrul Islam,Coleridge\n"
     ]
    },
    {
     "name": "stdout",
     "output_type": "stream",
     "text": [
      "{'Mark Twain': 'Adventures of Tom Sawyer', 'Lewis Carrol': 'Alice in Wonderland', 'Kazi Nasrul Islam': 'Agni Veena', 'Coleridge': 'Ancient Mariner'}\n"
     ]
    }
   ],
   "source": [
    "book_list=input(\"Enter the book titles: \").split(\",\")\n",
    "author_list=input(\"Enter the respective author names: \").split(\",\")\n",
    "assert len(book_list)==len(author_list)\n",
    "result_dict=dict()\n",
    "for i in range(len(book_list)):\n",
    "    result_dict[author_list[i]]=book_list[i]\n",
    "print(result_dict)"
   ]
  },
  {
   "cell_type": "markdown",
   "id": "20a9ac56-f579-4e9d-99a0-12f009d2b4c2",
   "metadata": {
    "tags": []
   },
   "source": [
    "Q3. Write a Python function that takes a list of grocery items and their\n",
    "respective prices as input and outputs the total cost of the grocery bill?"
   ]
  },
  {
   "cell_type": "code",
   "execution_count": 17,
   "id": "01dfd477-6979-4ff3-9e0f-4b91a24bf125",
   "metadata": {
    "tags": []
   },
   "outputs": [
    {
     "name": "stdin",
     "output_type": "stream",
     "text": [
      "Enter the number of grocery items:  5\n",
      "Enter the grocery item and respective value:  Onion 10.5\n",
      "Enter the grocery item and respective value:  Potato 20.25\n",
      "Enter the grocery item and respective value:  Brinjal 30.5\n",
      "Enter the grocery item and respective value:  Cabbage 40.25\n",
      "Enter the grocery item and respective value:  Carrot 50.5\n"
     ]
    },
    {
     "name": "stdout",
     "output_type": "stream",
     "text": [
      "Total grocery bill: ₹  152.0\n"
     ]
    }
   ],
   "source": [
    "n=int(input(\"Enter the number of grocery items: \"))\n",
    "grocery_dict=dict([input(\"Enter the grocery item and respective value: \").split() for _ in range(n)])\n",
    "sum=0.0\n",
    "for key,value in grocery_dict.items():\n",
    "    grocery_dict[key]=float(value)\n",
    "    sum=sum+float(grocery_dict[key])\n",
    "print(\"Total grocery bill: ₹ \",sum)"
   ]
  },
  {
   "cell_type": "markdown",
   "id": "f14d1d7b-6a56-46e9-88cd-cef83a7fa4a2",
   "metadata": {},
   "source": [
    "Q4. Write a Python function that takes a list of movie titles and their\n",
    "respective ratings as input and outputs a new list with the movies sorted in\n",
    "descending order based on their ratings?"
   ]
  },
  {
   "cell_type": "code",
   "execution_count": 25,
   "id": "451c204c-3552-43f6-afaa-a328a7465054",
   "metadata": {
    "tags": []
   },
   "outputs": [
    {
     "name": "stdin",
     "output_type": "stream",
     "text": [
      "Enter the number of movies:  5\n",
      "Enter a movie name and it's rating:  Sam Bahadur,7\n",
      "Enter a movie name and it's rating:  Bahubali,7\n",
      "Enter a movie name and it's rating:  Interstellar,9\n",
      "Enter a movie name and it's rating:  Phir Hera Pheri,8\n",
      "Enter a movie name and it's rating:  Death Note,2\n"
     ]
    },
    {
     "name": "stdout",
     "output_type": "stream",
     "text": [
      "Movies sorted in descending order based on ratings:-\n",
      " [['Interstellar', 9], ['Phir Hera Pheri', 8], ['Sam Bahadur', 7], ['Bahubali', 7], ['Death Note', 2]]\n"
     ]
    }
   ],
   "source": [
    "n=int(input(\"Enter the number of movies: \"))\n",
    "movies_ratings_list=[]\n",
    "for i in range(n):\n",
    "    movie,rating=input(\"Enter a movie name and it's rating: \").split(\",\")\n",
    "    movies_ratings_list.append([movie,int(rating)])\n",
    "movies_ratings_list.sort(key=lambda movie_rating:movie_rating[1],reverse=True)\n",
    "print(\"Movies sorted in descending order based on ratings:-\\n\",movies_ratings_list)"
   ]
  },
  {
   "cell_type": "markdown",
   "id": "ed4fa02b-c23d-40b2-8898-5537bbee8194",
   "metadata": {},
   "source": [
    "Q5. Write a Python function that takes a list of student names and their\n",
    "respective grades as input and outputs a new dictionary with the student\n",
    "names as keys and their average grade as values?"
   ]
  },
  {
   "cell_type": "code",
   "execution_count": 11,
   "id": "bb7f4d9b-a399-4826-8ba7-e9577412f3d6",
   "metadata": {},
   "outputs": [
    {
     "name": "stdin",
     "output_type": "stream",
     "text": [
      "Enter the student names:  Mark,Zack,Bill,Steve,Elon\n",
      "Enter the respective grades in multiple subjects for student Mark:  50,60,50,60\n",
      "Enter the respective grades in multiple subjects for student Zack:  12,12,12,12\n",
      "Enter the respective grades in multiple subjects for student Bill:  90,89,89,90\n",
      "Enter the respective grades in multiple subjects for student Steve:  45,56,67,78\n",
      "Enter the respective grades in multiple subjects for student Elon:  23,24,25,26\n"
     ]
    },
    {
     "name": "stdout",
     "output_type": "stream",
     "text": [
      "Resulting Dictionary:- {'Mark': 55.0, 'Zack': 12.0, 'Bill': 89.5, 'Steve': 61.5, 'Elon': 24.5}\n"
     ]
    }
   ],
   "source": [
    "from functools import reduce\n",
    "students_list=input(\"Enter the student names: \").split(\",\")\n",
    "grades_lists_list=[list(map(int,input(f\"Enter the respective grades in multiple subjects for student {student}: \").split(\",\"))) for student in students_list]\n",
    "avg_grades_list=[(reduce(lambda x,y:x+y,grades_list))/len(grades_list) for grades_list in grades_lists_list]\n",
    "students_avg_grades_dict=dict(zip(students_list,avg_grades_list))\n",
    "print(\"Resulting Dictionary:-\",students_avg_grades_dict)"
   ]
  },
  {
   "cell_type": "markdown",
   "id": "a18ff442-4593-46e7-b8e9-fa1bf6431872",
   "metadata": {},
   "source": [
    "Q6. Inventory Management: Create a class called \"Inventory\" that has\n",
    "attributes such as item name, quantity, price, etc. You can then create\n",
    "objects of this class for each item in your inventory and use its methods to\n",
    "update the inventory as items are sold or restocked?"
   ]
  },
  {
   "cell_type": "code",
   "execution_count": 22,
   "id": "4d1d3548-9016-4ef0-ad26-9aaad040df49",
   "metadata": {
    "tags": []
   },
   "outputs": [
    {
     "name": "stdout",
     "output_type": "stream",
     "text": [
      "INVENTORY:-\n",
      "---------------\n",
      "Name:Rice\n",
      "Quantity:5.5 kgs\n",
      "Price per unit: ₹ 20.0 per kg\n",
      "Total Price: ₹ 110.0\n",
      "INVENTORY:-\n",
      "---------------\n",
      "Name:Atta\n",
      "Quantity:10.75 kgs\n",
      "Price per unit: ₹ 36.0 per kg\n",
      "Total Price: ₹ 387.0\n",
      "\n",
      "After Inventory updates:-\n",
      "\n",
      "INVENTORY:-\n",
      "---------------\n",
      "Name:Rice\n",
      "Quantity:4.0 kgs\n",
      "Price per unit: ₹ 20.0 per kg\n",
      "Total Price: ₹ 80.0\n",
      "INVENTORY:-\n",
      "---------------\n",
      "Name:Atta\n",
      "Quantity:12.75 kgs\n",
      "Price per unit: ₹ 36.0 per kg\n",
      "Total Price: ₹ 459.0\n"
     ]
    }
   ],
   "source": [
    "class Inventory:\n",
    "    def __init__(self,name,quantity,price_per_unit,unit_name):\n",
    "        self.name=name\n",
    "        self.quantity=quantity\n",
    "        self.price_per_unit=price_per_unit\n",
    "        self.total_price=quantity*price_per_unit\n",
    "        self.unit_name=unit_name\n",
    "    def update_inv_on_sale(self,quantity_sold):\n",
    "        self.quantity-=quantity_sold\n",
    "        self.total_price-=(quantity_sold*self.price_per_unit)\n",
    "    def update_inv_on_restock(self,quantity_restocked):\n",
    "        self.quantity+=quantity_restocked\n",
    "        self.total_price+=(quantity_restocked*self.price_per_unit)\n",
    "    def __str__(self):\n",
    "        return (f\"INVENTORY:-\\n{'-'*15}\\nName:{self.name}\\nQuantity:{self.quantity} {self.unit_name}s\\nPrice per unit: ₹ {self.price_per_unit} per {self.unit_name}\\nTotal Price: ₹ {self.total_price}\")\n",
    "if __name__==\"__main__\":\n",
    "    rice_inv=Inventory(\"Rice\",5.5,20.0,\"kg\") \n",
    "    atta_inv=Inventory(\"Atta\",10.75,36.0,\"kg\")\n",
    "    print(str(rice_inv))\n",
    "    print(str(atta_inv))\n",
    "    rice_inv.update_inv_on_sale(1.5)\n",
    "    atta_inv.update_inv_on_restock(2.0)\n",
    "    print(\"\\nAfter Inventory updates:-\\n\")\n",
    "    print(str(rice_inv))\n",
    "    print(str(atta_inv))"
   ]
  },
  {
   "cell_type": "markdown",
   "id": "cece521e-e643-4b13-87f0-82f467c29016",
   "metadata": {},
   "source": [
    "Q7. Employee Management: Create a class called \"Employee\" that has\n",
    "attributes such as name, age, salary, etc. You can then create objects of\n",
    "this class for each employee in your organization and use its methods to\n",
    "manage employee data, such as updating salaries or tracking employee\n",
    "attendance?"
   ]
  },
  {
   "cell_type": "code",
   "execution_count": 4,
   "id": "df2d92f6-1b07-4549-b777-753113931a27",
   "metadata": {},
   "outputs": [
    {
     "name": "stdout",
     "output_type": "stream",
     "text": [
      "Employee:-\n",
      "Name: Dheeraj\n",
      "Age: 35\n",
      "Role: Applications engineer\n",
      "Salary: ₹ 15.0 LPA\n",
      "Working Days attended so far: 206 days \n",
      "\n",
      "Employee:-\n",
      "Name: Mira\n",
      "Age: 28\n",
      "Role: Computer programmer\n",
      "Salary: ₹ 20.5 LPA\n",
      "Working Days attended so far: 360 days \n",
      "\n",
      "Employee:-\n",
      "Name: Rishi\n",
      "Age: 40\n",
      "Role: Data Scientist\n",
      "Salary: ₹ 37.0 LPA\n",
      "Working Days attended so far: 466 days \n",
      "\n"
     ]
    }
   ],
   "source": [
    "class Employee:\n",
    "    def __init__(self,name,age,role,salary):\n",
    "        self.name=name\n",
    "        self.age=age\n",
    "        self.role=role\n",
    "        self.salary=salary\n",
    "        self.attendance=0\n",
    "    def increment_salary(self,increment_amount):\n",
    "        self.salary+=increment_amount\n",
    "    def decrement_salary(self,decrement_amount):\n",
    "        self.salary-=decrement_amount\n",
    "    def increment_days_attended(self,no_of_days):\n",
    "        self.attendance+=no_of_days\n",
    "    def __str__(self):\n",
    "        return f\"Employee:-\\nName: {self.name}\\nAge: {self.age}\\nRole: {self.role}\\nSalary: ₹ {self.salary} LPA\\nWorking Days attended so far: {self.attendance} days\"\n",
    "        \n",
    "if __name__==\"__main__\":\n",
    "    employee1=Employee(\"Dheeraj\",35,\"Applications engineer\",15.0)\n",
    "    employee2=Employee(\"Mira\",28,\"Computer programmer\",20.5)\n",
    "    employee3=Employee(\"Rishi\",40,\"Data Scientist\",35.0)\n",
    "    employee1.increment_days_attended(206)\n",
    "    employee2.increment_days_attended(360)\n",
    "    employee3.increment_days_attended(466)\n",
    "    employee3.increment_salary(2.0)\n",
    "    print(str(employee1),\"\\n\")\n",
    "    print(str(employee2),\"\\n\")\n",
    "    print(str(employee3),\"\\n\")"
   ]
  },
  {
   "cell_type": "markdown",
   "id": "0a1ff6af-2761-4641-8aaf-b8a554bfdd97",
   "metadata": {},
   "source": [
    "Q8. Banking: Create a class called \"Account\" that has attributes such as\n",
    "account number, balance, and interest rate. You can then create objects of\n",
    "this class for each customer's account and use its methods to handle\n",
    "transactions, such as deposits, withdrawals, and interest calculations?"
   ]
  },
  {
   "cell_type": "code",
   "execution_count": 9,
   "id": "b80ac7ad-2e45-49fb-bdc0-5011611f145e",
   "metadata": {},
   "outputs": [
    {
     "name": "stdout",
     "output_type": "stream",
     "text": [
      "\n",
      "Bank Account:-\n",
      "Name: Mainak\n",
      "Account Number: 001123451231234567\n",
      "Balance: ₹ 30000.0\n",
      "Interest Rate: 9.0 %\n",
      "Time: 2 years\n",
      "Current SI: ₹ 54.0\n",
      "\n",
      "Bank Account:-\n",
      "Name: Mainak\n",
      "Account Number: 001123451231234567\n",
      "Balance: ₹ 40500.0\n",
      "Interest Rate: 9.0 %\n",
      "Time: 2 years\n",
      "Current SI: ₹ 72.9\n",
      "\n",
      "Bank Account:-\n",
      "Name: Mainak\n",
      "Account Number: 001123451231234567\n",
      "Balance: ₹ 39599.25\n",
      "Interest Rate: 9.0 %\n",
      "Time: 2 years\n",
      "Current SI: ₹ 71.27865\n",
      "\n",
      "Bank Account:-\n",
      "Name: Mainak\n",
      "Account Number: 001123451231234567\n",
      "Balance: ₹ 39670.52865\n",
      "Interest Rate: 9.0 %\n",
      "Time: 2 years\n"
     ]
    }
   ],
   "source": [
    "class Account:\n",
    "    def __init__(self,name,account_number,balance,interest_rate,time):\n",
    "        self.name=name\n",
    "        self.account_number=account_number\n",
    "        self.balance=balance\n",
    "        self.interest_rate=interest_rate\n",
    "        self.time=time\n",
    "    def deposit(self,deposit_amount):\n",
    "        self.balance+=deposit_amount\n",
    "    def withdraw(self,withdraw_amount):\n",
    "        self.balance-=withdraw_amount\n",
    "    def calculate_interest(self):\n",
    "        return (self.balance*self.interest_rate*self.time)/100\n",
    "    def update_balance_with_interest(self):\n",
    "        self.balance+=self.calculate_interest()\n",
    "    def __str__(self):\n",
    "        return f\"\\nBank Account:-\\nName: {self.name}\\nAccount Number: {self.account_number}\\nBalance: ₹ {self.balance}\\nInterest Rate: {self.interest_rate*100} %\\nTime: {self.time} years\"\n",
    "if __name__==\"__main__\":\n",
    "    account1=Account(\"Mainak\",\"001123451231234567\",30000.0,0.09,2)\n",
    "    print(str(account1))\n",
    "    print(\"Current SI: ₹\",account1.calculate_interest())\n",
    "    account1.deposit(10500.0)\n",
    "    print(str(account1))\n",
    "    print(\"Current SI: ₹\",account1.calculate_interest())\n",
    "    account1.withdraw(900.75)\n",
    "    print(str(account1))\n",
    "    print(\"Current SI: ₹\",account1.calculate_interest())\n",
    "    account1.update_balance_with_interest()\n",
    "    print(str(account1))\n",
    "    "
   ]
  },
  {
   "cell_type": "markdown",
   "id": "d4483923-2fc0-40f8-95fc-2f544f20f380",
   "metadata": {},
   "source": [
    "Q9. Medical Records Management: Create a class called \"Patient\" that has\n",
    "attributes such as name, age, medical history, etc. You can then create\n",
    "objects of this class for each patient and use its methods to manage patient\n",
    "data, such as scheduling appointments or updating medical records?"
   ]
  },
  {
   "cell_type": "code",
   "execution_count": 48,
   "id": "61190700-b840-4df1-ba89-a6ca753356c9",
   "metadata": {},
   "outputs": [
    {
     "name": "stdin",
     "output_type": "stream",
     "text": [
      "Enter your Name:  Mainak Shaw\n",
      "Enter your Date of Birth:  13/10/2001\n",
      "Enter your gender:  Male\n",
      "Are you pregnant or trying to get pregnant?(Yes / No / N/A):  N/A\n",
      "Are you taking oral contraceptives?(Yes / No / N/A):  N/A\n",
      "Are you taking any medication?(Yes / No):  Yes\n",
      "Please name all your medications(comma-seperated):  Galantamine for Alzheimer’s, Budesonide for Asthma\n",
      "Do you use any tobacco?(Yes / No):  No\n",
      "Do you use any controlled substances?(Yes / No):  Yes\n",
      "Please explain what type of substances do you take, how long and how often you have been taking them:  Opiods for 6 months\n",
      "Do you have any allergies?(Yes / No):  Yes\n",
      "Please explain what you are allergic to and what the allergic reaction is like:  Skin Rashes during the Winter\n",
      "List any diseases/serious illnesses you have or ever had:  Alzheimer’s Disease,Asthma,Hay Fever\n",
      "Enter the number of surgeries you have underwent:  1\n",
      "List your surgeries in order(Date,Reason,Hospital):  05/07/2018,Total hip arthroplasty,Middlelake Hospital\n",
      "Enter the number of any other hospitalizations you have undergone:  2\n",
      "List your hospitalizatiions in order(Date,Reason,Hospital):  23/08/2021,Fall incident requiring stitches in right arm,General Park Hospital\n",
      "List your hospitalizatiions in order(Date,Reason,Hospital):  10/06/2018,Hip surgery complications,Middlelake Hospital\n"
     ]
    },
    {
     "name": "stdout",
     "output_type": "stream",
     "text": [
      "\n",
      "PATIENT INFO:-\n",
      "\n",
      "Firstname: Mainak\n",
      "Lastname: Shaw\n",
      "Date of Birth: 13/10/2001\n",
      "Gender: Male\n",
      "Are you pregnant or trying to get pregnant?: N/A\n",
      "Are you taking oral contraceptives?: N/A\n",
      "Are you taking any medication?: Yes\n",
      "Please name all your medications:- \n",
      "Galantamine for Alzheimer’s, Budesonide for Asthma\n",
      "Do you use any tobacco?: No\n",
      "Do you use any controlled substances?: Yes\n",
      "Please explain what type of substances do you take, how long and how often you have been taking them:- \n",
      "Opiods for 6 months\n",
      "Do you have any allergies?: Yes\n",
      "Please explain what you are allergic to and what the allergic reaction is like:- \n",
      "Skin Rashes during the Winter\n",
      "\n",
      "List any diseases/serious illnesses you have or ever had:- \n",
      "['Alzheimer’s Disease', 'Asthma', 'Hay Fever']\n",
      "\n",
      "List your surgeries in order(Date,Reason,Hospital):-\n",
      "\n",
      "| Date:05/07/2018 | Reason:Total hip arthroplasty | Hospital:Middlelake Hospital |\n",
      "\n",
      "\n",
      "List any other hospitalizations in order(Date,Reason,Hospital):-\n",
      "\n",
      "| Date:23/08/2021 | Reason:Fall incident requiring stitches in right arm | Hospital:General Park Hospital |\n",
      "| Date:10/06/2018 | Reason:Hip surgery complications | Hospital:Middlelake Hospital |\n",
      "\n",
      "\n"
     ]
    }
   ],
   "source": [
    "class Patient:\n",
    "    def __init__(self):\n",
    "        self.patient_info=dict()\n",
    "        self.patient_info[\"firstname\"],self.patient_info[\"lastname\"]=input(\"Enter your Name: \").split()\n",
    "        self.patient_info[\"date of birth\"]=input(\"Enter your Date of Birth: \")\n",
    "        self.patient_info[\"gender\"]=input(\"Enter your gender: \")\n",
    "        self.patient_info[\"pregnancy status\"]=input(\"Are you pregnant or trying to get pregnant?(Yes / No / N/A): \")\n",
    "        self.patient_info[\"oral contraceptives status\"]=input(\"Are you taking oral contraceptives?(Yes / No / N/A): \")\n",
    "        \n",
    "        temp_list1=[\"medication status\",\"tobacco status\",\"controlled substances status\",\"allergies status\"]\n",
    "        temp_list2=[\"Are you taking any medication?\",\"Do you use any tobacco?\",\"Do you use any controlled substances?\",\"Do you have any allergies?\"]\n",
    "        temp_list3=[\"Please name all your medications(comma-seperated): \",\"Please explain how long and how often you have been using them: \",\"Please explain what type of substances do you take, how long and how often you have been taking them: \",\"Please explain what you are allergic to and what the allergic reaction is like: \"]\n",
    "        temp_list4=[\"current medications\",\"tobacco usage\",\"controlled substances usage\",\"allergies list\"]\n",
    "        for index,temp in enumerate(temp_list1):\n",
    "            self.patient_info[f\"{temp}\"]=input(f\"{temp_list2[index]}(Yes / No): \")\n",
    "            if self.patient_info[f\"{temp}\"].upper() in [\"Y\",\"YES\",\"TRUE\",\"POSITIVE\"]:\n",
    "                self.patient_info[f\"{temp_list4[index]}\"]=input(temp_list3[index])\n",
    "            else:\n",
    "                self.patient_info[f\"{temp_list4[index]}\"]=None\n",
    "        \n",
    "        self.patient_info[\"diseases\"]=input(\"List any diseases/serious illnesses you have or ever had: \").split(\",\")\n",
    "        self.no_of_surgeries=int(input(\"Enter the number of surgeries you have underwent: \"))\n",
    "        self.patient_info[\"surgeries\"]=[input(\"List your surgeries in order(Date,Reason,Hospital): \").split(\",\") for i in range(self.no_of_surgeries)]\n",
    "        self.no_of_hospitalizations=int(input(\"Enter the number of any other hospitalizations you have undergone: \"))\n",
    "        self.patient_info[\"hospitalizations\"]=[input(\"List your hospitalizatiions in order(Date,Reason,Hospital): \").split(\",\") for i in range(self.no_of_hospitalizations)]\n",
    "        self.patient_info[\"appointments\"]=None\n",
    "\n",
    "    def schedule_appointments(self):\n",
    "        no_of_appointments=int(input(\"Enter the number of appointments you want to schedule:\"))\n",
    "        self.patient_info[\"appointments\"]=[input(\"List all appointments you want to schedule in order(Date,Time,Doctor Name,Location): \").split(\",\") for i in range(no_of_appointments)]\n",
    "        \n",
    "    def __str__(self):\n",
    "        string=(\"\\nPATIENT INFO:-\\n\")\n",
    "        string+=(f\"\\nFirstname: {self.patient_info['firstname']}\")\n",
    "        string+=(f\"\\nLastname: {self.patient_info['lastname']}\")\n",
    "        string+=(f\"\\nDate of Birth: {self.patient_info['date of birth']}\")\n",
    "        string+=(f\"\\nGender: {self.patient_info['gender']}\")\n",
    "        string+=(f\"\\nAre you pregnant or trying to get pregnant?: {self.patient_info['pregnancy status']}\")\n",
    "        string+=(f\"\\nAre you taking oral contraceptives?: {self.patient_info['oral contraceptives status']}\")\n",
    "        string+=(f\"\\nAre you taking any medication?: {self.patient_info['medication status']}\")\n",
    "        if self.patient_info['current medications'] != None:\n",
    "            string+=(f\"\\nPlease name all your medications:- \\n{self.patient_info['current medications']}\")\n",
    "        string+=(f\"\\nDo you use any tobacco?: {self.patient_info['tobacco status']}\")\n",
    "        if self.patient_info['tobacco usage'] != None:\n",
    "            string+=(f\"\\nPlease explain how long and how often you have been using them:- \\n{self.patient_info['tobacco usage']}\")\n",
    "        string+=(f\"\\nDo you use any controlled substances?: {self.patient_info['controlled substances status']}\")\n",
    "        if self.patient_info['controlled substances usage'] != None:\n",
    "            string+=(f\"\\nPlease explain what type of substances do you take, how long and how often you have been taking them:- \\n{self.patient_info['controlled substances usage']}\")\n",
    "        string+=(f\"\\nDo you have any allergies?: {self.patient_info['allergies status']}\")\n",
    "        if self.patient_info['allergies list'] != None:\n",
    "            string+=(f\"\\nPlease explain what you are allergic to and what the allergic reaction is like:- \\n{self.patient_info['allergies list']}\")\n",
    "        string+=(f\"\\n\\nList any diseases/serious illnesses you have or ever had:- \\n{self.patient_info['diseases']}\")\n",
    "        string+=(f\"\\n\\nList your surgeries in order(Date,Reason,Hospital):-\\n\\n\")\n",
    "        for surgery in self.patient_info['surgeries']:\n",
    "            string+=(f\"| Date:{surgery[0]} | Reason:{surgery[1]} | Hospital:{surgery[2]} |\\n\")\n",
    "        string+=(f\"\\n\\nList any other hospitalizations in order(Date,Reason,Hospital):-\\n\\n\")\n",
    "        for hospitalization in self.patient_info['hospitalizations']:\n",
    "            string+=(f\"| Date:{hospitalization[0]} | Reason:{hospitalization[1]} | Hospital:{hospitalization[2]} |\\n\")\n",
    "        if self.patient_info[\"appointments\"] != None:\n",
    "            string+=(f\"\\n\\nList of any appointments in order(Date,Time,Doctor Name,Location):-\\n\\n\")\n",
    "            for appointment in self.patient_info[\"appointments\"]:\n",
    "                string+=(f\"| Date: {self.patient_info['appointments'][0]} | Time: {self.patient_info['appointments'][1]} | Doctor Name: {self.patient_info['appointments'][2]} | Hospital: {self.patient_info['appointments'][3]} |\\n\")\n",
    "        return string+\"\\n\"\n",
    "        \n",
    "if __name__==\"__main__\":        \n",
    "    obj=Patient()\n",
    "    print(str(obj))"
   ]
  },
  {
   "cell_type": "markdown",
   "id": "4b723e80-38e2-4c9e-a818-869dc2cb3cb7",
   "metadata": {},
   "source": [
    "Q10. Online Ordering: Create a class called \"Order\" that has attributes\n",
    "such as customer name, order details, total amount, etc. You can then\n",
    "create objects of this class for each order placed on your online store and\n",
    "use its methods to process the order, such as calculating the total amount,\n",
    "generating a receipt, and updating inventory levels?"
   ]
  },
  {
   "cell_type": "code",
   "execution_count": 42,
   "id": "6525d83f-aaba-4445-aae9-0fcb9c29db5c",
   "metadata": {},
   "outputs": [
    {
     "name": "stdout",
     "output_type": "stream",
     "text": [
      "List of items present in stock:-\n",
      "\n",
      "(1) INVENTORY:-\n",
      "---------------\n",
      "Name:Rice\n",
      "Quantity:5.5 kgs\n",
      "Price per unit: ₹ 20.0 per kg\n",
      "Total Price: ₹ 110.0\n",
      "(2) INVENTORY:-\n",
      "---------------\n",
      "Name:Atta\n",
      "Quantity:10.75 kgs\n",
      "Price per unit: ₹ 36.0 per kg\n",
      "Total Price: ₹ 387.0\n",
      "(3) INVENTORY:-\n",
      "---------------\n",
      "Name:Colgate\n",
      "Quantity:20 packets\n",
      "Price per unit: ₹ 30.0 per packet\n",
      "Total Price: ₹ 600.0\n"
     ]
    },
    {
     "name": "stdin",
     "output_type": "stream",
     "text": [
      "\n",
      "Enter the corresponding indexes for the items from the above list which you would like to buy:  1 3\n",
      "Enter the quantity of Rice you want to buy:  5\n",
      "Enter the quantity of Colgate you want to buy:  15\n"
     ]
    },
    {
     "name": "stdout",
     "output_type": "stream",
     "text": [
      "\n",
      "ORDER RECEIPT:-\n",
      "--------------------\n",
      "\n",
      "Customer Name: Harpreet\n",
      "\n",
      "Ordered Items List:-\n",
      "\n",
      "| Item: Rice | Units bought: 5.0 kgs | Per unit cost: ₹ 20.0 per kg | Total cost: ₹ 100.0 |\n",
      "| Item: Colgate | Units bought: 15.0 packets | Per unit cost: ₹ 30.0 per packet | Total cost: ₹ 450.0 |\n",
      "\n",
      "Total cost of all items:- ₹  550.0\n",
      "\n",
      "All Inventory stocks:-\n",
      "\n",
      "INVENTORY:-\n",
      "---------------\n",
      "Name:Rice\n",
      "Quantity:0.5 kgs\n",
      "Price per unit: ₹ 20.0 per kg\n",
      "Total Price: ₹ 10.0\n",
      "INVENTORY:-\n",
      "---------------\n",
      "Name:Atta\n",
      "Quantity:10.75 kgs\n",
      "Price per unit: ₹ 36.0 per kg\n",
      "Total Price: ₹ 387.0\n",
      "INVENTORY:-\n",
      "---------------\n",
      "Name:Colgate\n",
      "Quantity:5.0 packets\n",
      "Price per unit: ₹ 30.0 per packet\n",
      "Total Price: ₹ 150.0\n"
     ]
    }
   ],
   "source": [
    "class Order:\n",
    "    \n",
    "    total_inventory_list=[]\n",
    "    \n",
    "    def __init__(self,customer_name,order_details=[]):\n",
    "        self.customer_name=customer_name\n",
    "        self.total_amount=0.0\n",
    "        self.order_details=order_details\n",
    "        \n",
    "    @classmethod\n",
    "    def update_total_inventory_list(cls,*args):\n",
    "        for arg in args:\n",
    "            cls.total_inventory_list.append(Inventory(arg[0],arg[1],arg[2],arg[3])) # From 'Inventory' Class defined in Question 6\n",
    "    \n",
    "    @classmethod\n",
    "    def display_total_inventory_list(cls):\n",
    "        print(\"\\nAll Inventory stocks:-\\n\")\n",
    "        for inv in cls.total_inventory_list:\n",
    "            print(f\"{str(inv)}\")\n",
    "            \n",
    "    def take_order(self):\n",
    "        print(\"List of items present in stock:-\\n\")\n",
    "        for index,inv in enumerate(self.total_inventory_list):\n",
    "            print(f\"({index+1}) {str(inv)}\")\n",
    "        list_item_choices=map(int,input(\"\\nEnter the corresponding indexes for the items from the above list which you would like to buy: \").split())\n",
    "        for index in list_item_choices:\n",
    "            temp_list=[]\n",
    "            temp_quantity_choice=float(input(f\"Enter the quantity of {Order.total_inventory_list[index-1].name} you want to buy: \"))\n",
    "            temp_list.append(index-1)\n",
    "            temp_list.append(temp_quantity_choice)\n",
    "            self.order_details.append(temp_list)  \n",
    "            \n",
    "    def calculate_total_amount(self):\n",
    "        for detail in self.order_details:\n",
    "            previous_total_price=Order.total_inventory_list[detail[0]].total_price\n",
    "            Order.total_inventory_list[detail[0]].update_inv_on_sale(detail[1])\n",
    "            current_total_price=Order.total_inventory_list[detail[0]].total_price\n",
    "            detail.append(previous_total_price-current_total_price)\n",
    "            self.total_amount+=(previous_total_price-current_total_price)\n",
    "            \n",
    "    def generate_receipt(self):\n",
    "        print(\"\\nORDER RECEIPT:-\")\n",
    "        print(\"-\"*20)\n",
    "        print(f\"\\nCustomer Name: {self.customer_name}\\n\")\n",
    "        print(\"Ordered Items List:-\\n\")\n",
    "        for detail in self.order_details:\n",
    "            print(f\"| Item: {Order.total_inventory_list[detail[0]].name} | Units bought: {detail[1]} {Order.total_inventory_list[detail[0]].unit_name}s | Per unit cost: ₹ {Order.total_inventory_list[detail[0]].price_per_unit} per {Order.total_inventory_list[detail[0]].unit_name} | Total cost: ₹ {detail[2]} |\")\n",
    "        print(\"\\nTotal cost of all items:- ₹ \",self.total_amount)\n",
    "        \n",
    "if __name__==\"__main__\":\n",
    "    Order.update_total_inventory_list([\"Rice\",5.5,20.0,\"kg\"],[\"Atta\",10.75,36.0,\"kg\"],[\"Colgate\",20,30.0,\"packet\"])\n",
    "    order1=Order(\"Harpreet\")\n",
    "    order1.take_order()\n",
    "    order1.calculate_total_amount()\n",
    "    order1.generate_receipt()\n",
    "    Order.display_total_inventory_list()"
   ]
  }
 ],
 "metadata": {
  "kernelspec": {
   "display_name": "Python 3 (ipykernel)",
   "language": "python",
   "name": "python3"
  },
  "language_info": {
   "codemirror_mode": {
    "name": "ipython",
    "version": 3
   },
   "file_extension": ".py",
   "mimetype": "text/x-python",
   "name": "python",
   "nbconvert_exporter": "python",
   "pygments_lexer": "ipython3",
   "version": "3.11.7"
  }
 },
 "nbformat": 4,
 "nbformat_minor": 5
}
